{
 "cells": [
  {
   "cell_type": "markdown",
   "metadata": {
    "id": "nQ-kEd2Sp2mp"
   },
   "source": [
    "In this notebook, I will explore how to make the model more resilient to attacks."
   ]
  },
  {
   "cell_type": "markdown",
   "metadata": {
    "id": "O27Em1THlTpP"
   },
   "source": [
    "**Task: Adversarial attacks on the model, implementation of\n",
    "defensive mechanisms**\n",
    "1. Modify the model or the training dataset to make it\n",
    "more resistant to attacks (for example, by using adversarial\n",
    "training, normalizing the input data, or using dropout).\n",
    "2. Test the protected model on the same adversarial\n",
    "examples."
   ]
  },
  {
   "cell_type": "code",
   "execution_count": null,
   "metadata": {
    "colab": {
     "base_uri": "https://localhost:8080/"
    },
    "collapsed": true,
    "id": "BT-QDbSpHLew",
    "outputId": "aaeed030-0558-40f6-c674-d392f3fb086a"
   },
   "outputs": [
    {
     "name": "stdout",
     "output_type": "stream",
     "text": [
      "Collecting ultralytics\n",
      "  Downloading ultralytics-8.3.174-py3-none-any.whl.metadata (37 kB)\n",
      "Collecting adversarial-robustness-toolbox\n",
      "  Downloading adversarial_robustness_toolbox-1.20.1-py3-none-any.whl.metadata (10 kB)\n",
      "Requirement already satisfied: numpy>=1.23.0 in /usr/local/lib/python3.11/dist-packages (from ultralytics) (2.0.2)\n",
      "Requirement already satisfied: matplotlib>=3.3.0 in /usr/local/lib/python3.11/dist-packages (from ultralytics) (3.10.0)\n",
      "Requirement already satisfied: opencv-python>=4.6.0 in /usr/local/lib/python3.11/dist-packages (from ultralytics) (4.12.0.88)\n",
      "Requirement already satisfied: pillow>=7.1.2 in /usr/local/lib/python3.11/dist-packages (from ultralytics) (11.3.0)\n",
      "Requirement already satisfied: pyyaml>=5.3.1 in /usr/local/lib/python3.11/dist-packages (from ultralytics) (6.0.2)\n",
      "Requirement already satisfied: requests>=2.23.0 in /usr/local/lib/python3.11/dist-packages (from ultralytics) (2.32.3)\n",
      "Requirement already satisfied: scipy>=1.4.1 in /usr/local/lib/python3.11/dist-packages (from ultralytics) (1.16.0)\n",
      "Requirement already satisfied: torch>=1.8.0 in /usr/local/lib/python3.11/dist-packages (from ultralytics) (2.6.0+cu124)\n",
      "Requirement already satisfied: torchvision>=0.9.0 in /usr/local/lib/python3.11/dist-packages (from ultralytics) (0.21.0+cu124)\n",
      "Requirement already satisfied: tqdm>=4.64.0 in /usr/local/lib/python3.11/dist-packages (from ultralytics) (4.67.1)\n",
      "Requirement already satisfied: psutil in /usr/local/lib/python3.11/dist-packages (from ultralytics) (5.9.5)\n",
      "Requirement already satisfied: py-cpuinfo in /usr/local/lib/python3.11/dist-packages (from ultralytics) (9.0.0)\n",
      "Requirement already satisfied: pandas>=1.1.4 in /usr/local/lib/python3.11/dist-packages (from ultralytics) (2.2.2)\n",
      "Collecting ultralytics-thop>=2.0.0 (from ultralytics)\n",
      "  Downloading ultralytics_thop-2.0.15-py3-none-any.whl.metadata (14 kB)\n",
      "Requirement already satisfied: scikit-learn>=0.22.2 in /usr/local/lib/python3.11/dist-packages (from adversarial-robustness-toolbox) (1.6.1)\n",
      "Requirement already satisfied: six in /usr/local/lib/python3.11/dist-packages (from adversarial-robustness-toolbox) (1.17.0)\n",
      "Requirement already satisfied: setuptools in /usr/local/lib/python3.11/dist-packages (from adversarial-robustness-toolbox) (75.2.0)\n",
      "Requirement already satisfied: contourpy>=1.0.1 in /usr/local/lib/python3.11/dist-packages (from matplotlib>=3.3.0->ultralytics) (1.3.2)\n",
      "Requirement already satisfied: cycler>=0.10 in /usr/local/lib/python3.11/dist-packages (from matplotlib>=3.3.0->ultralytics) (0.12.1)\n",
      "Requirement already satisfied: fonttools>=4.22.0 in /usr/local/lib/python3.11/dist-packages (from matplotlib>=3.3.0->ultralytics) (4.59.0)\n",
      "Requirement already satisfied: kiwisolver>=1.3.1 in /usr/local/lib/python3.11/dist-packages (from matplotlib>=3.3.0->ultralytics) (1.4.8)\n",
      "Requirement already satisfied: packaging>=20.0 in /usr/local/lib/python3.11/dist-packages (from matplotlib>=3.3.0->ultralytics) (25.0)\n",
      "Requirement already satisfied: pyparsing>=2.3.1 in /usr/local/lib/python3.11/dist-packages (from matplotlib>=3.3.0->ultralytics) (3.2.3)\n",
      "Requirement already satisfied: python-dateutil>=2.7 in /usr/local/lib/python3.11/dist-packages (from matplotlib>=3.3.0->ultralytics) (2.9.0.post0)\n",
      "Requirement already satisfied: pytz>=2020.1 in /usr/local/lib/python3.11/dist-packages (from pandas>=1.1.4->ultralytics) (2025.2)\n",
      "Requirement already satisfied: tzdata>=2022.7 in /usr/local/lib/python3.11/dist-packages (from pandas>=1.1.4->ultralytics) (2025.2)\n",
      "Requirement already satisfied: charset-normalizer<4,>=2 in /usr/local/lib/python3.11/dist-packages (from requests>=2.23.0->ultralytics) (3.4.2)\n",
      "Requirement already satisfied: idna<4,>=2.5 in /usr/local/lib/python3.11/dist-packages (from requests>=2.23.0->ultralytics) (3.10)\n",
      "Requirement already satisfied: urllib3<3,>=1.21.1 in /usr/local/lib/python3.11/dist-packages (from requests>=2.23.0->ultralytics) (2.5.0)\n",
      "Requirement already satisfied: certifi>=2017.4.17 in /usr/local/lib/python3.11/dist-packages (from requests>=2.23.0->ultralytics) (2025.7.14)\n",
      "Requirement already satisfied: joblib>=1.2.0 in /usr/local/lib/python3.11/dist-packages (from scikit-learn>=0.22.2->adversarial-robustness-toolbox) (1.5.1)\n",
      "Requirement already satisfied: threadpoolctl>=3.1.0 in /usr/local/lib/python3.11/dist-packages (from scikit-learn>=0.22.2->adversarial-robustness-toolbox) (3.6.0)\n",
      "Requirement already satisfied: filelock in /usr/local/lib/python3.11/dist-packages (from torch>=1.8.0->ultralytics) (3.18.0)\n",
      "Requirement already satisfied: typing-extensions>=4.10.0 in /usr/local/lib/python3.11/dist-packages (from torch>=1.8.0->ultralytics) (4.14.1)\n",
      "Requirement already satisfied: networkx in /usr/local/lib/python3.11/dist-packages (from torch>=1.8.0->ultralytics) (3.5)\n",
      "Requirement already satisfied: jinja2 in /usr/local/lib/python3.11/dist-packages (from torch>=1.8.0->ultralytics) (3.1.6)\n",
      "Requirement already satisfied: fsspec in /usr/local/lib/python3.11/dist-packages (from torch>=1.8.0->ultralytics) (2025.3.0)\n",
      "Collecting nvidia-cuda-nvrtc-cu12==12.4.127 (from torch>=1.8.0->ultralytics)\n",
      "  Downloading nvidia_cuda_nvrtc_cu12-12.4.127-py3-none-manylinux2014_x86_64.whl.metadata (1.5 kB)\n",
      "Collecting nvidia-cuda-runtime-cu12==12.4.127 (from torch>=1.8.0->ultralytics)\n",
      "  Downloading nvidia_cuda_runtime_cu12-12.4.127-py3-none-manylinux2014_x86_64.whl.metadata (1.5 kB)\n",
      "Collecting nvidia-cuda-cupti-cu12==12.4.127 (from torch>=1.8.0->ultralytics)\n",
      "  Downloading nvidia_cuda_cupti_cu12-12.4.127-py3-none-manylinux2014_x86_64.whl.metadata (1.6 kB)\n",
      "Collecting nvidia-cudnn-cu12==9.1.0.70 (from torch>=1.8.0->ultralytics)\n",
      "  Downloading nvidia_cudnn_cu12-9.1.0.70-py3-none-manylinux2014_x86_64.whl.metadata (1.6 kB)\n",
      "Collecting nvidia-cublas-cu12==12.4.5.8 (from torch>=1.8.0->ultralytics)\n",
      "  Downloading nvidia_cublas_cu12-12.4.5.8-py3-none-manylinux2014_x86_64.whl.metadata (1.5 kB)\n",
      "Collecting nvidia-cufft-cu12==11.2.1.3 (from torch>=1.8.0->ultralytics)\n",
      "  Downloading nvidia_cufft_cu12-11.2.1.3-py3-none-manylinux2014_x86_64.whl.metadata (1.5 kB)\n",
      "Collecting nvidia-curand-cu12==10.3.5.147 (from torch>=1.8.0->ultralytics)\n",
      "  Downloading nvidia_curand_cu12-10.3.5.147-py3-none-manylinux2014_x86_64.whl.metadata (1.5 kB)\n",
      "Collecting nvidia-cusolver-cu12==11.6.1.9 (from torch>=1.8.0->ultralytics)\n",
      "  Downloading nvidia_cusolver_cu12-11.6.1.9-py3-none-manylinux2014_x86_64.whl.metadata (1.6 kB)\n",
      "Collecting nvidia-cusparse-cu12==12.3.1.170 (from torch>=1.8.0->ultralytics)\n",
      "  Downloading nvidia_cusparse_cu12-12.3.1.170-py3-none-manylinux2014_x86_64.whl.metadata (1.6 kB)\n",
      "Requirement already satisfied: nvidia-cusparselt-cu12==0.6.2 in /usr/local/lib/python3.11/dist-packages (from torch>=1.8.0->ultralytics) (0.6.2)\n",
      "Requirement already satisfied: nvidia-nccl-cu12==2.21.5 in /usr/local/lib/python3.11/dist-packages (from torch>=1.8.0->ultralytics) (2.21.5)\n",
      "Requirement already satisfied: nvidia-nvtx-cu12==12.4.127 in /usr/local/lib/python3.11/dist-packages (from torch>=1.8.0->ultralytics) (12.4.127)\n",
      "Collecting nvidia-nvjitlink-cu12==12.4.127 (from torch>=1.8.0->ultralytics)\n",
      "  Downloading nvidia_nvjitlink_cu12-12.4.127-py3-none-manylinux2014_x86_64.whl.metadata (1.5 kB)\n",
      "Requirement already satisfied: triton==3.2.0 in /usr/local/lib/python3.11/dist-packages (from torch>=1.8.0->ultralytics) (3.2.0)\n",
      "Requirement already satisfied: sympy==1.13.1 in /usr/local/lib/python3.11/dist-packages (from torch>=1.8.0->ultralytics) (1.13.1)\n",
      "Requirement already satisfied: mpmath<1.4,>=1.1.0 in /usr/local/lib/python3.11/dist-packages (from sympy==1.13.1->torch>=1.8.0->ultralytics) (1.3.0)\n",
      "Requirement already satisfied: MarkupSafe>=2.0 in /usr/local/lib/python3.11/dist-packages (from jinja2->torch>=1.8.0->ultralytics) (3.0.2)\n",
      "Downloading ultralytics-8.3.174-py3-none-any.whl (1.0 MB)\n",
      "\u001b[2K   \u001b[90m━━━━━━━━━━━━━━━━━━━━━━━━━━━━━━━━━━━━━━━━\u001b[0m \u001b[32m1.0/1.0 MB\u001b[0m \u001b[31m32.1 MB/s\u001b[0m eta \u001b[36m0:00:00\u001b[0m\n",
      "\u001b[?25hDownloading adversarial_robustness_toolbox-1.20.1-py3-none-any.whl (1.1 MB)\n",
      "\u001b[2K   \u001b[90m━━━━━━━━━━━━━━━━━━━━━━━━━━━━━━━━━━━━━━━━\u001b[0m \u001b[32m1.1/1.1 MB\u001b[0m \u001b[31m57.8 MB/s\u001b[0m eta \u001b[36m0:00:00\u001b[0m\n",
      "\u001b[?25hDownloading nvidia_cublas_cu12-12.4.5.8-py3-none-manylinux2014_x86_64.whl (363.4 MB)\n",
      "\u001b[2K   \u001b[90m━━━━━━━━━━━━━━━━━━━━━━━━━━━━━━━━━━━━━━━━\u001b[0m \u001b[32m363.4/363.4 MB\u001b[0m \u001b[31m3.4 MB/s\u001b[0m eta \u001b[36m0:00:00\u001b[0m\n",
      "\u001b[?25hDownloading nvidia_cuda_cupti_cu12-12.4.127-py3-none-manylinux2014_x86_64.whl (13.8 MB)\n",
      "\u001b[2K   \u001b[90m━━━━━━━━━━━━━━━━━━━━━━━━━━━━━━━━━━━━━━━━\u001b[0m \u001b[32m13.8/13.8 MB\u001b[0m \u001b[31m31.2 MB/s\u001b[0m eta \u001b[36m0:00:00\u001b[0m\n",
      "\u001b[?25hDownloading nvidia_cuda_nvrtc_cu12-12.4.127-py3-none-manylinux2014_x86_64.whl (24.6 MB)\n",
      "\u001b[2K   \u001b[90m━━━━━━━━━━━━━━━━━━━━━━━━━━━━━━━━━━━━━━━━\u001b[0m \u001b[32m24.6/24.6 MB\u001b[0m \u001b[31m22.6 MB/s\u001b[0m eta \u001b[36m0:00:00\u001b[0m\n",
      "\u001b[?25hDownloading nvidia_cuda_runtime_cu12-12.4.127-py3-none-manylinux2014_x86_64.whl (883 kB)\n",
      "\u001b[2K   \u001b[90m━━━━━━━━━━━━━━━━━━━━━━━━━━━━━━━━━━━━━━━━\u001b[0m \u001b[32m883.7/883.7 kB\u001b[0m \u001b[31m50.9 MB/s\u001b[0m eta \u001b[36m0:00:00\u001b[0m\n",
      "\u001b[?25hDownloading nvidia_cudnn_cu12-9.1.0.70-py3-none-manylinux2014_x86_64.whl (664.8 MB)\n",
      "\u001b[2K   \u001b[90m━━━━━━━━━━━━━━━━━━━━━━━━━━━━━━━━━━━━━━━━\u001b[0m \u001b[32m664.8/664.8 MB\u001b[0m \u001b[31m2.8 MB/s\u001b[0m eta \u001b[36m0:00:00\u001b[0m\n",
      "\u001b[?25hDownloading nvidia_cufft_cu12-11.2.1.3-py3-none-manylinux2014_x86_64.whl (211.5 MB)\n",
      "\u001b[2K   \u001b[90m━━━━━━━━━━━━━━━━━━━━━━━━━━━━━━━━━━━━━━━━\u001b[0m \u001b[32m211.5/211.5 MB\u001b[0m \u001b[31m6.4 MB/s\u001b[0m eta \u001b[36m0:00:00\u001b[0m\n",
      "\u001b[?25hDownloading nvidia_curand_cu12-10.3.5.147-py3-none-manylinux2014_x86_64.whl (56.3 MB)\n",
      "\u001b[2K   \u001b[90m━━━━━━━━━━━━━━━━━━━━━━━━━━━━━━━━━━━━━━━━\u001b[0m \u001b[32m56.3/56.3 MB\u001b[0m \u001b[31m13.0 MB/s\u001b[0m eta \u001b[36m0:00:00\u001b[0m\n",
      "\u001b[?25hDownloading nvidia_cusolver_cu12-11.6.1.9-py3-none-manylinux2014_x86_64.whl (127.9 MB)\n",
      "\u001b[2K   \u001b[90m━━━━━━━━━━━━━━━━━━━━━━━━━━━━━━━━━━━━━━━━\u001b[0m \u001b[32m127.9/127.9 MB\u001b[0m \u001b[31m7.4 MB/s\u001b[0m eta \u001b[36m0:00:00\u001b[0m\n",
      "\u001b[?25hDownloading nvidia_cusparse_cu12-12.3.1.170-py3-none-manylinux2014_x86_64.whl (207.5 MB)\n",
      "\u001b[2K   \u001b[90m━━━━━━━━━━━━━━━━━━━━━━━━━━━━━━━━━━━━━━━━\u001b[0m \u001b[32m207.5/207.5 MB\u001b[0m \u001b[31m5.3 MB/s\u001b[0m eta \u001b[36m0:00:00\u001b[0m\n",
      "\u001b[?25hDownloading nvidia_nvjitlink_cu12-12.4.127-py3-none-manylinux2014_x86_64.whl (21.1 MB)\n",
      "\u001b[2K   \u001b[90m━━━━━━━━━━━━━━━━━━━━━━━━━━━━━━━━━━━━━━━━\u001b[0m \u001b[32m21.1/21.1 MB\u001b[0m \u001b[31m87.0 MB/s\u001b[0m eta \u001b[36m0:00:00\u001b[0m\n",
      "\u001b[?25hDownloading ultralytics_thop-2.0.15-py3-none-any.whl (28 kB)\n",
      "Installing collected packages: nvidia-nvjitlink-cu12, nvidia-curand-cu12, nvidia-cufft-cu12, nvidia-cuda-runtime-cu12, nvidia-cuda-nvrtc-cu12, nvidia-cuda-cupti-cu12, nvidia-cublas-cu12, nvidia-cusparse-cu12, nvidia-cudnn-cu12, nvidia-cusolver-cu12, adversarial-robustness-toolbox, ultralytics-thop, ultralytics\n",
      "  Attempting uninstall: nvidia-nvjitlink-cu12\n",
      "    Found existing installation: nvidia-nvjitlink-cu12 12.5.82\n",
      "    Uninstalling nvidia-nvjitlink-cu12-12.5.82:\n",
      "      Successfully uninstalled nvidia-nvjitlink-cu12-12.5.82\n",
      "  Attempting uninstall: nvidia-curand-cu12\n",
      "    Found existing installation: nvidia-curand-cu12 10.3.6.82\n",
      "    Uninstalling nvidia-curand-cu12-10.3.6.82:\n",
      "      Successfully uninstalled nvidia-curand-cu12-10.3.6.82\n",
      "  Attempting uninstall: nvidia-cufft-cu12\n",
      "    Found existing installation: nvidia-cufft-cu12 11.2.3.61\n",
      "    Uninstalling nvidia-cufft-cu12-11.2.3.61:\n",
      "      Successfully uninstalled nvidia-cufft-cu12-11.2.3.61\n",
      "  Attempting uninstall: nvidia-cuda-runtime-cu12\n",
      "    Found existing installation: nvidia-cuda-runtime-cu12 12.5.82\n",
      "    Uninstalling nvidia-cuda-runtime-cu12-12.5.82:\n",
      "      Successfully uninstalled nvidia-cuda-runtime-cu12-12.5.82\n",
      "  Attempting uninstall: nvidia-cuda-nvrtc-cu12\n",
      "    Found existing installation: nvidia-cuda-nvrtc-cu12 12.5.82\n",
      "    Uninstalling nvidia-cuda-nvrtc-cu12-12.5.82:\n",
      "      Successfully uninstalled nvidia-cuda-nvrtc-cu12-12.5.82\n",
      "  Attempting uninstall: nvidia-cuda-cupti-cu12\n",
      "    Found existing installation: nvidia-cuda-cupti-cu12 12.5.82\n",
      "    Uninstalling nvidia-cuda-cupti-cu12-12.5.82:\n",
      "      Successfully uninstalled nvidia-cuda-cupti-cu12-12.5.82\n",
      "  Attempting uninstall: nvidia-cublas-cu12\n",
      "    Found existing installation: nvidia-cublas-cu12 12.5.3.2\n",
      "    Uninstalling nvidia-cublas-cu12-12.5.3.2:\n",
      "      Successfully uninstalled nvidia-cublas-cu12-12.5.3.2\n",
      "  Attempting uninstall: nvidia-cusparse-cu12\n",
      "    Found existing installation: nvidia-cusparse-cu12 12.5.1.3\n",
      "    Uninstalling nvidia-cusparse-cu12-12.5.1.3:\n",
      "      Successfully uninstalled nvidia-cusparse-cu12-12.5.1.3\n",
      "  Attempting uninstall: nvidia-cudnn-cu12\n",
      "    Found existing installation: nvidia-cudnn-cu12 9.3.0.75\n",
      "    Uninstalling nvidia-cudnn-cu12-9.3.0.75:\n",
      "      Successfully uninstalled nvidia-cudnn-cu12-9.3.0.75\n",
      "  Attempting uninstall: nvidia-cusolver-cu12\n",
      "    Found existing installation: nvidia-cusolver-cu12 11.6.3.83\n",
      "    Uninstalling nvidia-cusolver-cu12-11.6.3.83:\n",
      "      Successfully uninstalled nvidia-cusolver-cu12-11.6.3.83\n",
      "Successfully installed adversarial-robustness-toolbox-1.20.1 nvidia-cublas-cu12-12.4.5.8 nvidia-cuda-cupti-cu12-12.4.127 nvidia-cuda-nvrtc-cu12-12.4.127 nvidia-cuda-runtime-cu12-12.4.127 nvidia-cudnn-cu12-9.1.0.70 nvidia-cufft-cu12-11.2.1.3 nvidia-curand-cu12-10.3.5.147 nvidia-cusolver-cu12-11.6.1.9 nvidia-cusparse-cu12-12.3.1.170 nvidia-nvjitlink-cu12-12.4.127 ultralytics-8.3.174 ultralytics-thop-2.0.15\n"
     ]
    }
   ],
   "source": [
    "pip install ultralytics adversarial-robustness-toolbox"
   ]
  },
  {
   "cell_type": "code",
   "execution_count": null,
   "metadata": {
    "id": "kvBs0-5NHRUS"
   },
   "outputs": [],
   "source": [
    "import torch\n",
    "import torch.nn as nn\n",
    "import torch.optim as optim\n",
    "from torchvision import transforms\n",
    "from torchvision.datasets import SVHN\n",
    "from torchvision.models import resnet18\n",
    "from torch.utils.data import DataLoader\n",
    "\n",
    "import numpy as np\n",
    "from tqdm import tqdm\n",
    "from art.estimators.classification import PyTorchClassifier\n",
    "from art.attacks.evasion import FastGradientMethod, ProjectedGradientDescent\n",
    "import torch.nn.functional as F\n",
    "from torch.utils.data import Subset\n",
    "import random"
   ]
  },
  {
   "cell_type": "markdown",
   "metadata": {
    "id": "xLQn_GJLIhE6"
   },
   "source": [
    "Load data:"
   ]
  },
  {
   "cell_type": "code",
   "execution_count": null,
   "metadata": {
    "colab": {
     "base_uri": "https://localhost:8080/"
    },
    "id": "G_qh0JfzIb3S",
    "outputId": "e86f6bdb-6fb4-4ac8-e727-15b2e97653a0"
   },
   "outputs": [
    {
     "name": "stderr",
     "output_type": "stream",
     "text": [
      "100%|██████████| 182M/182M [00:06<00:00, 26.6MB/s]\n",
      "100%|██████████| 64.3M/64.3M [00:04<00:00, 14.0MB/s]\n"
     ]
    }
   ],
   "source": [
    "device = torch.device(\"cuda\" if torch.cuda.is_available() else \"cpu\")\n",
    "\n",
    "transform = transforms.Compose([\n",
    "    transforms.ToTensor()\n",
    "])\n",
    "\n",
    "train_dataset = SVHN(root=\"./data\", split='train', download=True, transform=transform)\n",
    "test_dataset = SVHN(root=\"./data\", split='test', download=True, transform=transform)\n",
    "\n",
    "train_loader = DataLoader(train_dataset, batch_size=256, shuffle=True)\n",
    "test_loader = DataLoader(test_dataset, batch_size=256, shuffle=False)\n",
    "\n",
    "# Подготовка данных для ART\n",
    "X_test = torch.stack([img for img, _ in test_dataset]).numpy()\n",
    "y_test = np.array([label for _, label in test_dataset])\n",
    "y_test[y_test == 10] = 0"
   ]
  },
  {
   "cell_type": "markdown",
   "metadata": {
    "id": "CesZOKaPIkDt"
   },
   "source": [
    "Creating models and an ART classifier. I use Resnet18, also YOLO can be usable here too if you add an adapter described in a previous notebook - `Create_adversarial_clean.ipynb`."
   ]
  },
  {
   "cell_type": "code",
   "execution_count": null,
   "metadata": {
    "id": "RoDl-KH-Io19"
   },
   "outputs": [],
   "source": [
    "model = resnet18(weights=None)\n",
    "model.conv1 = nn.Conv2d(3, 64, kernel_size=3, stride=1, padding=1, bias=False)\n",
    "model.maxpool = nn.Identity()\n",
    "model.fc = nn.Linear(model.fc.in_features, 10)\n",
    "model = model.to(device)\n",
    "\n",
    "criterion = nn.CrossEntropyLoss()\n",
    "optimizer = optim.Adam(model.parameters(), lr=1e-3)\n",
    "\n",
    "classifier = PyTorchClassifier(\n",
    "    model=model,\n",
    "    loss=criterion,\n",
    "    optimizer=optimizer,\n",
    "    input_shape=(3, 32, 32),\n",
    "    nb_classes=10,\n",
    "    clip_values=(0.0, 1.0),\n",
    "    device_type=\"gpu\" if torch.cuda.is_available() else \"cpu\"\n",
    ")\n"
   ]
  },
  {
   "cell_type": "markdown",
   "metadata": {
    "id": "Gmq2RzHOIyNl"
   },
   "source": [
    "Training a model with adversarial training (FGSM):"
   ]
  },
  {
   "cell_type": "code",
   "execution_count": null,
   "metadata": {
    "colab": {
     "base_uri": "https://localhost:8080/"
    },
    "collapsed": true,
    "id": "8iO5ME6bIu4f",
    "outputId": "3f106878-5c95-4d32-e2fd-5755e6078ab2"
   },
   "outputs": [
    {
     "name": "stdout",
     "output_type": "stream",
     "text": [
      "\n",
      "Epoch 1/5\n"
     ]
    },
    {
     "name": "stderr",
     "output_type": "stream",
     "text": []
    },
    {
     "name": "stdout",
     "output_type": "stream",
     "text": [
      "Epoch 1 complete — Avg loss: 1.0136\n",
      "\n",
      "Epoch 2/5\n"
     ]
    },
    {
     "name": "stderr",
     "output_type": "stream",
     "text": []
    },
    {
     "name": "stdout",
     "output_type": "stream",
     "text": [
      "Epoch 2 complete — Avg loss: 0.6646\n",
      "\n",
      "Epoch 3/5\n"
     ]
    },
    {
     "name": "stderr",
     "output_type": "stream",
     "text": []
    },
    {
     "name": "stdout",
     "output_type": "stream",
     "text": [
      "Epoch 3 complete — Avg loss: 0.4617\n",
      "\n",
      "Epoch 4/5\n"
     ]
    },
    {
     "name": "stderr",
     "output_type": "stream",
     "text": []
    },
    {
     "name": "stdout",
     "output_type": "stream",
     "text": [
      "Epoch 4 complete — Avg loss: 0.3210\n",
      "\n",
      "Epoch 5/5\n"
     ]
    },
    {
     "name": "stderr",
     "output_type": "stream",
     "text": [
      "                                                                                   "
     ]
    },
    {
     "name": "stdout",
     "output_type": "stream",
     "text": [
      "Epoch 5 complete — Avg loss: 0.1866\n"
     ]
    },
    {
     "name": "stderr",
     "output_type": "stream",
     "text": [
      "\r"
     ]
    }
   ],
   "source": [
    "adv_trainer = FastGradientMethod(estimator=classifier, eps=0.03)\n",
    "\n",
    "epochs = 5\n",
    "for epoch in range(epochs):\n",
    "    model.train()\n",
    "    total_loss = 0\n",
    "    print(f\"\\nEpoch {epoch + 1}/{epochs}\")\n",
    "    progress_bar = tqdm(train_loader, desc=\"Adversarial Training\", leave=False)\n",
    "\n",
    "    for images, labels in progress_bar:\n",
    "        images, labels = images.to(device), labels.to(device)\n",
    "\n",
    "        # Сгенерировать adversarial примеры (на CPU)\n",
    "        model.eval()\n",
    "        adv_images = adv_trainer.generate(x=images.detach().cpu().numpy())\n",
    "        adv_images = torch.tensor(adv_images).to(device).float()\n",
    "        model.train()\n",
    "\n",
    "        # Объединяем clean + adversarial\n",
    "        mixed_images = torch.cat([images, adv_images])\n",
    "        mixed_labels = torch.cat([labels, labels])\n",
    "\n",
    "        optimizer.zero_grad()\n",
    "        output = model(mixed_images)\n",
    "        loss = criterion(output, mixed_labels)\n",
    "        loss.backward()\n",
    "        optimizer.step()\n",
    "\n",
    "        total_loss += loss.item()\n",
    "        progress_bar.set_postfix(loss=loss.item())\n",
    "\n",
    "    print(f\"Epoch {epoch + 1} complete — Avg loss: {total_loss / len(train_loader):.4f}\")\n"
   ]
  },
  {
   "cell_type": "markdown",
   "metadata": {
    "id": "ubp1B7N_Zu1B"
   },
   "source": [
    "Conducting an attack and checking accuracy:"
   ]
  },
  {
   "cell_type": "code",
   "execution_count": null,
   "metadata": {
    "colab": {
     "base_uri": "https://localhost:8080/",
     "height": 90,
     "referenced_widgets": [
      "c78fced1fd2d41c78e5b91f0575a9973",
      "a34854ed7459419699d26b6f91863e97",
      "9912ec21b8514090ac21c4843d41f0d5",
      "3159a2bede2945c9a2012ef9b0455b44",
      "04f62da4843a450694f5fa1d44c5706c",
      "567876cf9381401085b6d38b772a9df1",
      "b255da6989734fb8ae8ab14e4010b8c2",
      "705887b7df154701a78cf5018433810c",
      "f36679ef3e5e4440b9f52c109fa44a96",
      "d9fd4dc261e947e0a210b9eb73c31b02",
      "927bda4866af42c0824ad659f9b87c51"
     ]
    },
    "id": "NdZjTwwfZvhA",
    "outputId": "c56ec35c-d8ed-430d-f78b-cfabe51d1933"
   },
   "outputs": [
    {
     "name": "stdout",
     "output_type": "stream",
     "text": [
      "\n",
      "🎯 Accuracy on clean test set: 95.18%\n",
      "⚠️ Accuracy under FGSM attack: 93.37%\n"
     ]
    },
    {
     "data": {
      "application/vnd.jupyter.widget-view+json": {
       "model_id": "c78fced1fd2d41c78e5b91f0575a9973",
       "version_major": 2,
       "version_minor": 0
      },
      "text/plain": [
       "PGD - Batches:   0%|          | 0/814 [00:00<?, ?it/s]"
      ]
     },
     "metadata": {},
     "output_type": "display_data"
    },
    {
     "name": "stdout",
     "output_type": "stream",
     "text": [
      "🔥 Accuracy under PGD attack: 6.59%\n"
     ]
    }
   ],
   "source": [
    "# 1. Переоборачиваем модель после adversarial training\n",
    "classifier = PyTorchClassifier(\n",
    "    model=model,\n",
    "    loss=criterion,\n",
    "    optimizer=optimizer,\n",
    "    input_shape=(3, 32, 32),\n",
    "    nb_classes=10,\n",
    "    clip_values=(0.0, 1.0),\n",
    "    device_type=\"gpu\" if torch.cuda.is_available() else \"cpu\"\n",
    ")\n",
    "\n",
    "X_test_np = X_test.astype(np.float32)\n",
    "y_test_np = y_test.astype(np.int64)\n",
    "\n",
    "preds_clean = classifier.predict(X_test_np)\n",
    "acc_clean = np.mean(np.argmax(preds_clean, axis=1) == y_test_np)\n",
    "print(f\"\\n🎯 Accuracy on clean test set: {acc_clean * 100:.2f}%\")\n",
    "\n",
    "# 4. FGSM атака\n",
    "fgsm_attack = FastGradientMethod(estimator=classifier, eps=0.03)\n",
    "X_test_adv_fgsm = fgsm_attack.generate(x=X_test_np)\n",
    "\n",
    "preds_fgsm = classifier.predict(X_test_adv_fgsm)\n",
    "acc_fgsm = np.mean(np.argmax(preds_fgsm, axis=1) == y_test_np)\n",
    "print(f\"⚠️ Accuracy under FGSM attack: {acc_fgsm * 100:.2f}%\")\n",
    "\n",
    "# 5. PGD атака\n",
    "pgd_attack = ProjectedGradientDescent(estimator=classifier, eps=0.03, eps_step=0.005, max_iter=40)\n",
    "X_test_adv_pgd = pgd_attack.generate(x=X_test_np)\n",
    "\n",
    "preds_pgd = classifier.predict(X_test_adv_pgd)\n",
    "acc_pgd = np.mean(np.argmax(preds_pgd, axis=1) == y_test_np)\n",
    "print(f\"🔥 Accuracy under PGD attack: {acc_pgd * 100:.2f}%\")\n"
   ]
  },
  {
   "cell_type": "markdown",
   "metadata": {
    "id": "GBmlXwIonDom"
   },
   "source": [
    "It is clear that the model is not resistant to PGD attacks. Let's work on this."
   ]
  },
  {
   "cell_type": "code",
   "execution_count": null,
   "metadata": {
    "colab": {
     "base_uri": "https://localhost:8080/"
    },
    "collapsed": true,
    "id": "a344ewjxnJvv",
    "outputId": "41a7df42-b4db-44b9-b75c-66c7aad70841"
   },
   "outputs": [
    {
     "name": "stderr",
     "output_type": "stream",
     "text": [
      "/usr/local/lib/python3.11/dist-packages/torchvision/models/_utils.py:208: UserWarning: The parameter 'pretrained' is deprecated since 0.13 and may be removed in the future, please use 'weights' instead.\n",
      "  warnings.warn(\n",
      "/usr/local/lib/python3.11/dist-packages/torchvision/models/_utils.py:223: UserWarning: Arguments other than a weight enum or `None` for 'weights' are deprecated since 0.13 and may be removed in the future. The current behavior is equivalent to passing `weights=None`.\n",
      "  warnings.warn(msg)\n"
     ]
    },
    {
     "name": "stdout",
     "output_type": "stream",
     "text": [
      "\n",
      "🌊 Epoch 1/5\n"
     ]
    },
    {
     "name": "stderr",
     "output_type": "stream",
     "text": []
    },
    {
     "name": "stdout",
     "output_type": "stream",
     "text": [
      "✅ Epoch 1 complete — Avg loss: 1.1245\n",
      "\n",
      "🌊 Epoch 2/5\n"
     ]
    },
    {
     "name": "stderr",
     "output_type": "stream",
     "text": []
    },
    {
     "name": "stdout",
     "output_type": "stream",
     "text": [
      "✅ Epoch 2 complete — Avg loss: 0.8045\n",
      "\n",
      "🌊 Epoch 3/5\n"
     ]
    },
    {
     "name": "stderr",
     "output_type": "stream",
     "text": []
    },
    {
     "name": "stdout",
     "output_type": "stream",
     "text": [
      "✅ Epoch 3 complete — Avg loss: 0.7393\n",
      "\n",
      "🌊 Epoch 4/5\n"
     ]
    },
    {
     "name": "stderr",
     "output_type": "stream",
     "text": []
    },
    {
     "name": "stdout",
     "output_type": "stream",
     "text": [
      "✅ Epoch 4 complete — Avg loss: 0.7016\n",
      "\n",
      "🌊 Epoch 5/5\n"
     ]
    },
    {
     "name": "stderr",
     "output_type": "stream",
     "text": [
      "                                                                                      "
     ]
    },
    {
     "name": "stdout",
     "output_type": "stream",
     "text": [
      "✅ Epoch 5 complete — Avg loss: 0.6676\n"
     ]
    },
    {
     "name": "stderr",
     "output_type": "stream",
     "text": [
      "\r"
     ]
    }
   ],
   "source": [
    "device = torch.device(\"cuda\" if torch.cuda.is_available() else \"cpu\")\n",
    "\n",
    "model = resnet18(pretrained=False)\n",
    "model.conv1 = nn.Conv2d(3, 64, kernel_size=3, stride=1, padding=1, bias=False)\n",
    "model.maxpool = nn.Identity()\n",
    "model.fc = nn.Linear(model.fc.in_features, 10)\n",
    "model = model.to(device)\n",
    "\n",
    "# Функции потерь и оптимизатор\n",
    "criterion = nn.CrossEntropyLoss()\n",
    "optimizer = optim.Adam(model.parameters(), lr=1e-3)\n",
    "\n",
    "# Оборачиваем в ART\n",
    "classifier = PyTorchClassifier(\n",
    "    model=model,\n",
    "    loss=criterion,\n",
    "    optimizer=optimizer,\n",
    "    input_shape=(3, 32, 32),\n",
    "    nb_classes=10,\n",
    "    clip_values=(0.0, 1.0),\n",
    ")\n",
    "\n",
    "# Настройка PGD-атаки\n",
    "pgd_attack = ProjectedGradientDescent(\n",
    "    estimator=classifier,\n",
    "    norm=np.inf,\n",
    "    eps=0.03,\n",
    "    eps_step=0.005,\n",
    "    max_iter=10,\n",
    "    targeted=False,\n",
    "    num_random_init=1,\n",
    "    batch_size=32,\n",
    "    verbose=False\n",
    ")\n",
    "\n",
    "# Adversarial training\n",
    "epochs = 5\n",
    "for epoch in range(epochs):\n",
    "    model.train()\n",
    "    total_loss = 0\n",
    "    print(f\"\\n🌊 Epoch {epoch + 1}/{epochs}\")\n",
    "    progress_bar = tqdm(train_loader, desc=\"PGD Adversarial Training\", leave=False)\n",
    "\n",
    "    for images, labels in progress_bar:\n",
    "        images, labels = images.to(device), labels.to(device)\n",
    "\n",
    "        # Генерация adversarial примеров (на CPU для совместимости с ART)\n",
    "        model.eval()\n",
    "        adv_images = pgd_attack.generate(x=images.detach().cpu().numpy())\n",
    "        adv_images = torch.tensor(adv_images).to(device).float()\n",
    "        model.train()\n",
    "\n",
    "        # Объединение clean + adversarial\n",
    "        mixed_images = torch.cat([images, adv_images])\n",
    "        mixed_labels = torch.cat([labels, labels])\n",
    "\n",
    "        optimizer.zero_grad()\n",
    "        output = model(mixed_images)\n",
    "        loss = criterion(output, mixed_labels)\n",
    "        loss.backward()\n",
    "        optimizer.step()\n",
    "\n",
    "        total_loss += loss.item()\n",
    "        progress_bar.set_postfix(loss=loss.item())\n",
    "\n",
    "    print(f\"✅ Epoch {epoch + 1} complete — Avg loss: {total_loss / len(train_loader):.4f}\")\n"
   ]
  },
  {
   "cell_type": "code",
   "execution_count": null,
   "metadata": {
    "id": "_mZEaCqYoLg7"
   },
   "outputs": [],
   "source": [
    "# Преобразуем тестовый датасет в numpy (если еще не сделали)\n",
    "X_test_np = np.array([x.numpy() for x, _ in test_dataset])\n",
    "y_test_np = np.array([y for _, y in test_dataset])\n",
    "\n",
    "X_test_np = X_test_np.transpose((0, 2, 3, 1))  # [N, H, W, C]\n",
    "X_test_np = X_test_np.transpose((0, 3, 1, 2))  # [N, C, H, W]\n"
   ]
  },
  {
   "cell_type": "code",
   "execution_count": null,
   "metadata": {
    "colab": {
     "base_uri": "https://localhost:8080/",
     "height": 17,
     "referenced_widgets": [
      "ee2b07fd2c914e43abb690bb3391879f",
      "56a5be0fff0045a7ac393fe6940a549a",
      "017cac31c15842448be32453b7802901",
      "23e01def2fb7446d9aa62e36c98a528f",
      "6773286b97464d91adab527a448537f6",
      "e3875dd5751949c9a767947318b9f4bc",
      "8c8a75a4476c410b81f08eb3af07a436",
      "fb6369ebac9c406d802c423f09eaa9ec",
      "faaf5f5e077a4371956a1c8c75cf5b25",
      "1cca4de0626243e3b3a54c8753899156",
      "abf724a75f0d4a7aa96868aed9e5715d"
     ]
    },
    "id": "yS-xPSOpoN0j",
    "outputId": "d86ca7e0-75c0-4021-88d7-5baecfa65f04"
   },
   "outputs": [
    {
     "data": {
      "application/vnd.jupyter.widget-view+json": {
       "model_id": "ee2b07fd2c914e43abb690bb3391879f",
       "version_major": 2,
       "version_minor": 0
      },
      "text/plain": [
       "PGD - Batches:   0%|          | 0/814 [00:00<?, ?it/s]"
      ]
     },
     "metadata": {},
     "output_type": "display_data"
    }
   ],
   "source": [
    "# FGSM\n",
    "fgsm = FastGradientMethod(estimator=classifier, eps=0.03)\n",
    "X_test_adv_fgsm = fgsm.generate(x=X_test_np)\n",
    "\n",
    "# PGD\n",
    "pgd = ProjectedGradientDescent(estimator=classifier, eps=0.03, eps_step=0.005, max_iter=10)\n",
    "X_test_adv_pgd = pgd.generate(x=X_test_np)\n"
   ]
  },
  {
   "cell_type": "code",
   "execution_count": null,
   "metadata": {
    "colab": {
     "base_uri": "https://localhost:8080/"
    },
    "id": "rmS_dwXEoOcZ",
    "outputId": "54d70866-75cf-4c62-85f7-f9cc14c2bb15"
   },
   "outputs": [
    {
     "name": "stdout",
     "output_type": "stream",
     "text": [
      "🎯 Accuracy on clean test set: 92.85%\n",
      "⚠️ Accuracy under FGSM attack: 63.01%\n",
      "🔥 Accuracy under PGD attack: 54.61%\n"
     ]
    }
   ],
   "source": [
    "# Точность на clean\n",
    "pred_clean = np.argmax(classifier.predict(X_test_np), axis=1)\n",
    "acc_clean = np.mean(pred_clean == y_test_np) * 100\n",
    "\n",
    "# Точность на FGSM\n",
    "pred_fgsm = np.argmax(classifier.predict(X_test_adv_fgsm), axis=1)\n",
    "acc_fgsm = np.mean(pred_fgsm == y_test_np) * 100\n",
    "\n",
    "# Точность на PGD\n",
    "pred_pgd = np.argmax(classifier.predict(X_test_adv_pgd), axis=1)\n",
    "acc_pgd = np.mean(pred_pgd == y_test_np) * 100\n",
    "\n",
    "print(f\"🎯 Accuracy on clean test set: {acc_clean:.2f}%\")\n",
    "print(f\"⚠️ Accuracy under FGSM attack: {acc_fgsm:.2f}%\")\n",
    "print(f\"🔥 Accuracy under PGD attack: {acc_pgd:.2f}%\")\n"
   ]
  },
  {
   "cell_type": "markdown",
   "metadata": {
    "id": "yEJRyDFhaRMT"
   },
   "source": [
    "Great, after training, the model became much more resistant to PGD attacks, but the quality of FGSM attacks decreased. This means that we need to train on a dataset that includes images of both attacks if we want to protect ourselves from them."
   ]
  },
  {
   "cell_type": "code",
   "execution_count": null,
   "metadata": {
    "id": "TT2RG-Z3XGQP"
   },
   "outputs": [],
   "source": [
    "transform = transforms.Compose([\n",
    "    transforms.ToTensor()\n",
    "])\n",
    "\n",
    "svhn_train = SVHN(root=\"./data\", split='train', download=True, transform=transform)\n",
    "\n",
    "# Преобразуем SVHN в тензоры\n",
    "X_train_tensor = torch.stack([img for img, _ in svhn_train])\n",
    "y_train_tensor = torch.tensor([label if label != 10 else 0 for _, label in svhn_train])  # исправляем метки\n",
    "\n",
    "y_train_tensor = y_train_tensor.long()\n",
    "y_train_tensor = y_train_tensor.long()\n",
    "\n"
   ]
  },
  {
   "cell_type": "code",
   "execution_count": null,
   "metadata": {
    "id": "s0bm4NxZaj0R"
   },
   "outputs": [],
   "source": [
    "device = torch.device(\"cuda\" if torch.cuda.is_available() else \"cpu\")\n",
    "\n",
    "random_transform = transforms.Compose([\n",
    "    transforms.RandomCrop(32, padding=4),\n",
    "    transforms.RandomHorizontalFlip(),\n",
    "])\n",
    "\n",
    "class AugmentedTensorDataset(torch.utils.data.Dataset):\n",
    "    def __init__(self, tensors, transform=None):\n",
    "        self.tensors = tensors\n",
    "        self.transform = transform\n",
    "\n",
    "    def __getitem__(self, index):\n",
    "        x, y = self.tensors[0][index], self.tensors[1][index]\n",
    "        img = transforms.ToPILImage()(x)\n",
    "        if self.transform:\n",
    "            img = self.transform(img)\n",
    "        x = transforms.ToTensor()(img)\n",
    "        return x, y\n",
    "\n",
    "    def __len__(self):\n",
    "        return len(self.tensors[0])\n",
    "\n",
    "indices = random.sample(range(len(train_dataset)), 10000)  # Например, 10k примеров вместо 73k\n",
    "train_dataset = Subset(train_dataset, indices)\n",
    "train_loader = DataLoader(train_dataset, batch_size=128, shuffle=True)"
   ]
  },
  {
   "cell_type": "code",
   "execution_count": null,
   "metadata": {
    "id": "G5bLcgGpapU6"
   },
   "outputs": [],
   "source": [
    "class ResNetWithDropout(nn.Module):\n",
    "    def __init__(self, base_model, dropout_rate=0.3):\n",
    "        super().__init__()\n",
    "        self.features = nn.Sequential(*list(base_model.children())[:-1])\n",
    "        self.dropout = nn.Dropout(dropout_rate)\n",
    "        self.fc = nn.Linear(base_model.fc.in_features, 10)\n",
    "\n",
    "    def forward(self, x):\n",
    "        x = self.features(x)\n",
    "        x = x.view(x.size(0), -1)\n",
    "        x = self.dropout(x)\n",
    "        x = self.fc(x)\n",
    "        return x\n",
    "\n",
    "base_model = resnet18(weights=None)\n",
    "base_model.conv1 = nn.Conv2d(3, 64, kernel_size=3, stride=1, padding=1, bias=False)\n",
    "base_model.maxpool = nn.Identity()\n",
    "model = ResNetWithDropout(base_model).to(device)"
   ]
  },
  {
   "cell_type": "code",
   "execution_count": null,
   "metadata": {
    "id": "P6gI75mTXa6d"
   },
   "outputs": [],
   "source": [
    "class LabelSmoothingCrossEntropy(nn.Module):\n",
    "    def __init__(self, smoothing=0.1):\n",
    "        super().__init__()\n",
    "        self.smoothing = smoothing\n",
    "        self.confidence = 1.0 - smoothing\n",
    "\n",
    "    def forward(self, pred, target):\n",
    "        log_probs = F.log_softmax(pred, dim=-1)\n",
    "        true_dist = torch.zeros_like(log_probs)\n",
    "        true_dist.fill_(self.smoothing / (pred.size(1) - 1))\n",
    "        true_dist.scatter_(1, target.unsqueeze(1), self.confidence)\n",
    "        return torch.mean(torch.sum(-true_dist * log_probs, dim=-1))\n"
   ]
  },
  {
   "cell_type": "code",
   "execution_count": null,
   "metadata": {
    "colab": {
     "base_uri": "https://localhost:8080/",
     "height": 1000,
     "referenced_widgets": [
      "985a054af94148449331beba3f36ec83",
      "e1cb5835b7fd4dcea5ebfa0fce83ec50",
      "73b41bfc1ff24e2eb5db2ccbe4f8c1ae",
      "a935deae8886465aae06e1b162f45d17",
      "a3ffa94f7c9f40e0bf1293f81c851cc9",
      "f363a597d4d24ed5a78c6b19fe031b53",
      "24ac31de2a6c419e84e02b8a8cbbf619",
      "f51796e9b6a64d29bfbe3ec06f6e5da1",
      "15ed7eea251e4652abe5cba156ac5e3d",
      "c0f82d5247e042fb8ffa609310a4f0e3",
      "5dd6cc68b2bb420a9ed69cbb717c3635",
      "fd1fc2bcd54843fba102a51f6c0b1baf",
      "8d01c669967148caa814899a9a339ce1",
      "94fd7000c084413380672e71bdde8b8b",
      "8877f41929224ddba24ad65f97335514",
      "ff6bd7d29573418b9b9cde2da7239f31",
      "e02f78d310a34dde9f4f9b855f09223b",
      "eb5b9f7d487644579d4eb97081f15d7e",
      "c406a2804d2543aba913b389cdbfa7eb",
      "e02dea5224c447259e920a579b37454a",
      "7b42c1e08c1f46f88e59430a6c3b63d8",
      "78ebfde7c5fb46c090fe1e844a8dfeca",
      "3de94a9b79914563b9d30b2ea8bc1aa9",
      "92fa71d755d44088b0583b10a5f1bbec",
      "ecced9f0f6434604a081483583f04348",
      "ca5f927c1fde43c6bd08a38e4672194c",
      "e7135458619a41ecab2c9e739aba2e77",
      "c336c21e56384cdcb9c99d07fd806afa",
      "9b40758039ee49c08bda515dfca35546",
      "f06f8e6407a843caa410446f56e7cbea",
      "8b6b464eab5f4e1d8cbf2f5a790467c9",
      "24a892cf6f1748c0ac93c51a0eb4b5d7",
      "d5bd04052a664ad3a2376707edf43583",
      "b024293c290a498cb88c6288fa192298",
      "f69a6a984cc44f3a9ba14b0b2a9d0963",
      "e3b172c9c3a14fe9b5dab8477dfe76bb",
      "fe7c526b0e794bd49acdd828f0a8655d",
      "36532a535a85432e818da991b326cdcb",
      "d1e108bf4581459bb8392f4d2a2ed2e3",
      "19def459372a4328a892a6b94e843438",
      "5a2e81a2f09c4f07849cd055679d1a63",
      "aab4138139554ea7a3b485344d42651f",
      "b683580d07f74c89ae0836acdd8d87c0",
      "df046dda2c7c44aa91960706dbc68257",
      "5e052f22c5b345b9b4c6d75f162c9be4",
      "faecb7e4cda1467a8e423b201ee0ead1",
      "edfd2582777f41c9ac0f794d399b6693",
      "cf024ce30d344f5ebf9b016037224f10",
      "97399f6f9bd841ba972780d729e5caae",
      "843713ef7525401eae0a206dd83a2a9b",
      "200ca06ab8d94cf6ae4767d770dc3a0b",
      "25ef491ace00436da8510eb60a136380",
      "e32c5f9b9bcb46cbb20f1aaf5498e3af",
      "31e3be9885184a7d85337eeac3bf1162",
      "0074ca544ded48978ede5b042874d681",
      "212f5e7ddc394ad7bc05a87d5415bdbe",
      "fb108671948b488dad78cdeaffc016d5",
      "7e9cf13be01a4f19b10e13e4985e13ae",
      "9c22ad2c27b2429981cb091e06b1d90f",
      "4c0b54f2100d47cebfda586a999e7c32",
      "60d924f061064b0b95171711226c3260",
      "8ddd14e8eb2c4983afd00b2225d20d40",
      "23c770ae89e641b5b8a1bcb50c9fd263",
      "a7b294ed474240cdb62231abeefb9f1f",
      "757631f025fd4617b7d96941d149a44d",
      "cb6d4bc63aa44ba7902acb30872f9574",
      "eae13668f02146898a5f604f0e336082",
      "aa2fb764d01f4cf0b11cca86b8471222",
      "cb2c4db716ba4bd1a8eb74e7a18dab76",
      "d5c4067cca694553a2203c55bd39e1a3",
      "bf76a9c1b8204ed0b3a0a81f2bb655af",
      "31d92c32698e4183a211d46467fd5c1e",
      "c0d0a55223c341ad96ac46f61b525af7",
      "dc719f4180dd416b8e79be09290c7d92",
      "a43323a1727e41d3953bd186c04aa05b",
      "99a30ce6edc446e68591662dcb8d42db",
      "78c7cc936bc94c6ba55afc8a6fa262e9",
      "acacf0e75e374a9ab3050aba705cb550",
      "0213c1ed8ba64c4c8c3d4bc2ccd33b19",
      "6778f4a1cf0b458cbb41ad315afdabd2",
      "31d5f4889af44adca539acab307efab3",
      "409ef452eb774b0f801164f240a71fc3",
      "813185622f284c0e9b101cd5aaf7f79c",
      "4fd33d261aa44e83b5276c5ad8232457",
      "ed0c13468b0547949354fa15a894544c",
      "3e6ac11d64f74fd9a8d39c2af7f74415",
      "7de12a1d377845aea8ed8d2b67001c18",
      "ce12daa347474cb58fd5414f5015dc10",
      "ec4eee190f024f48b135b9a808a573ad",
      "95a87b863116414d8491eff6fbf511e1",
      "cc6082a33dc54d48bcf7b20b15333763",
      "ef020e72611a46e5a6631f2a795cee43",
      "30ef6431534744a78129f9b1852e872c",
      "7639715db6b4426e9e73bfa84eaeb251",
      "ea4abf4172d2455c8e0fd62c606aec2a",
      "951f4e26e17643e8b65df61494a45e55",
      "35f3806d5d57427f97e2d24c579ad84a",
      "8666029978674e5281d2dadf02913ab7",
      "0381d321eb754a66a3777f93f98644ec",
      "ead91968df144804baa9c09a2084b4fd",
      "3098199de2f948d099895f484a6aed31",
      "2db16bc140a243a9a54b2f59d85059ef",
      "33345cbf0be74782a8dfc3bad72d0f53",
      "46f490b529404576a566809609ac6afc",
      "f9e11df7d39f4b50add7eef5916055ae",
      "de47768cb6cd4882a12d8bded36633a9",
      "d4a5d78cb8974062aab13cef251604ac",
      "0f4fc79d54354c99b8ae0852245321b7",
      "5afe98665eb9403ca5e87648fcc86607",
      "e2fc5a498f344a47a4fb8124dbc52e0b",
      "ce8618f094f6439e8677fcd2993da078",
      "6bf91f2c53ed4842bdd6b78ad198166b",
      "fc45dceec7cf49a794de1164089c99ac",
      "ba92aa46ea60419fa9c08e4778a2b554",
      "b1365a93248e48e9aeec18530bf0a6c7",
      "0cec02ee1e5d40eb84fa9ee562a31160",
      "e52b66f067214d08b9a13840ebd8e956",
      "23c278b491ef40b089fad53a6016f830",
      "cd1aa6eb694b4328a971439c1cec33ad",
      "69fd03ba9355497ea3af3906e75a54ea",
      "f8e48e2ff94c4788b30bdb899605a922",
      "3093676a62d64f1ea37056a8a9f72b61",
      "c042b055caee4f398f07261d17fe6e1b",
      "871d78e868b54f8488f4182481d24b39",
      "544c9aa8706f4a80bc2a3e499ec4a68e",
      "3c56595ad83d4bf59a0ba1062409c7b1",
      "7c83884df7294f68b200ee86710116e5",
      "67ca36a59d544728828279c8ec6ce80b",
      "966f0550278f4fc1a1591875ee2b19de",
      "c82181c7dfa74806a91e99bdb05b0182",
      "1e21d7d2f6934029879a3e39e7c6fda7",
      "dec1c7ce02d14e7195a4321c2ac4662a",
      "2a282e3c1d884c0e878e790ef3bc65bc",
      "a61635b43d934ba8861ca0decce3a983",
      "e919309b2bb0468ea5eec54d76e96c53",
      "de0668bb7c9242179c27c664d20ed597",
      "4be6a61618c84052a3a55a17310b265d",
      "b129e7058edd41d18c030efe4d359ad9",
      "2d14049f7c424d16a7dc12f3c3a43300",
      "4fbd42562aaa492abdbc13af28b09376",
      "d55381467a014b9f93f4375545b4191a",
      "835b9f631f9c497481559a71c28c2d5b",
      "29246c5cf78b44feb1f4c8460064d01e",
      "15f095c1141b41aba0388b7bf389340d",
      "2930faa4b82644bba10d7fe34379d7ae",
      "face4254c7c94a0db8b1532eff6de6f2",
      "c5737aa72cde4af4a91169ba11f5a15b",
      "c955372f30ae4170b86a6663dafe3425",
      "73204b2d286c4faf9ec991bd21f1f79f",
      "cc3b8e51e8d24ef1a85fd6edd492b593",
      "9dd999ca11634afe8cf2a70e1c439189",
      "00ec6a87563245d998d3b709bb60ae00",
      "b528982de24145df9f3851032b4a1333",
      "591afebf0c094d6683f6d85a2a8badba",
      "26c20d53996644f4876671fb67729fe6",
      "af1fd2ebdb764fcc8c2628371c90b2a4",
      "fe386f7db5a64774af56d1313ed6d081",
      "55d93fff6657467fac9d9d147ff38a6d",
      "150284a82681461590c0d904a569c3ad",
      "114a11d3fa55497497560fdc3f68a19e",
      "e765a6da7ce045a6b8c2c6ddde052487",
      "c9cf30e2db87429a8a3ab7424ee1543b",
      "d326173ed94f4c7bad1aa2413e6c2494",
      "c9fbc6ce104b450fa83923c9215a1b02",
      "00eb3cc4ea974fbb8fbdbf8444c5f273",
      "df018457dfa348a499555bf93d1f7044",
      "f24f0ccf3fd34681a340e8d3bd17ac7d",
      "f629f69f088842d893f5c15d0b63a53f",
      "3761c288d75b419e89eee5f69f2522bc",
      "a61f6315877f418ebc7e4d0ede935831",
      "7e23c2df47d7437f88957e9854f35946",
      "55a17dda9d70418591af53fd955ed2a9",
      "dcb4d9ba151d4bfb8679ff66d8d5d0a5",
      "6ebf486369994050bda5d17a04845758",
      "be1215f23c304e8793ceb1844263f68f",
      "b394778453694641812faeb7a7634f09",
      "a617ace6c07a41cc9a9c7cf5a6c1bab4",
      "e2c33b73b38e44fdacb1d2844c9a7ce6",
      "e951c4b8727d4858b4a6657507188516",
      "542b9f219d1447859f00b302b8dcfb5f",
      "d42b80919ab344ea80bb32f8f35ce0f6",
      "ef1df118a3ea41b5a1271402c4be1338",
      "b9f41b54d2244c24a82991d548da9fb1",
      "e9fd8d405648489e80580338807b0e6a",
      "a3967d3def194ae1a0f6668386d07009",
      "ed47012381b542dcbb1f1ed692865886",
      "0aaa942509c04c0189c27b1b852df26f",
      "a37a512f7b9547ccba1b2f9b48fbf4e4",
      "52cb155a24ca44c8b79f4785e599bb8f",
      "3c11864c87ac476eaf6785e1331359f7",
      "9c06e45049284786bda91e69a1e22373",
      "3d93afccfc684c218b0996fc978edd6d",
      "34d30de9f4e54e72a79d41dd60321cf9",
      "eb184bc2cf0647349df6b3260bbb4225",
      "0efa6331d0274f6e8806b4760c15de73",
      "1c520d14b44f41f189b8004f87073388",
      "0ed79c2e2dc749c3b8c1f6577cd2ce2d",
      "75f39c3525e14f84b5d6da8a1ef067a8",
      "8c411697ca6a437fbaba0893e3fe751b",
      "6a19375aa59443f683cb55c5e46c5065",
      "cb6e83dfe7f44257aab44eda468c98d2",
      "6bff6e2849ec4a368b543789b77ec0e1",
      "a6983398bb5748bba690c13da0a8ea3d",
      "95a2293109c6447da3ca006393b8b9bb",
      "4d2f5314a3144b9a826528cfa97d60e6",
      "ae76a4ce36864fa9896cd8a4db73a3c1",
      "d855b388fd5b4a65b7cc3ef28598ef87",
      "2ec856f31b0641d7ac0843f9383782fe",
      "2d468a38659e4df4895dfec0073ac5e2",
      "02c87d86c42b478586b7ac1450007899",
      "6d4887b77ab34965bc83815540fe5ad6",
      "6c885e7459fc4ec0bb0a0975ebbf5fc9",
      "4f42d9fa7c914fb687fb7acdc23960cc",
      "c378eb7e578a4c5ca41fd8327b911ad4",
      "c45d5f78123f4d9a83d6502233796b38",
      "5031a493f0c14bffb936586b9e9b5b91",
      "e5fc0aed90a44d9986e041678d69ac4a",
      "2f3e0bb84cf744c999b56865cd3e2281",
      "22c6e0fb2c94431abb64907ea09bb7a8",
      "acc9f6c51a504eeca604bbe2d3b1ea3c",
      "760a2b8ab76449d88b9f6748ef65bf2f",
      "1bdfb0571f214c17aa5a717c6e4c8dc2",
      "c174b1431a514683b3c2dce5e739edad",
      "7d4411639dc6437f9509f5df189e71fc",
      "d38b5b45d65542aa87c50c1aa6ab1549",
      "3f8fdbff3790467fbdcd4ea12a37739e",
      "f61ce54b0b8541ae8f67aacf21a40931",
      "5f776e02195c415299b11d425c6bc4ef",
      "e5577e99d45e423cb9c519d30b575d34",
      "79a3f5f242f34e639504344221395b06",
      "4c7e9d9487cb4e9580551f0fb198faa3",
      "ed5aaa3815dc4995919138af66738746",
      "dbf549293abd40f8ac4f1f0044aca7c8",
      "d802f58a2d8c4afe9e4faa01cb04c80d",
      "4453735f4fd140d5aabba9562c99de5d",
      "cb67adb6913b4f6ba21bf1954eb46312",
      "0d10534193584949a627910ae33160f0",
      "91876beaf44144468bef44ee885710f4",
      "0d8c1840b8404ada844ec7feb4dab985",
      "56007a887d02432ba7adf1a9cdd91cd0",
      "1277b117e2974a9b8b0e0b32c344103d",
      "47d8e94c94254a22be6d5048d38a77d7",
      "27fbbb4d3f5d457a8591a3471baf7d3c",
      "7b6f4467f2754265b30a700f879b6071",
      "5ff661c30e7647f7abde448849712aec",
      "7eb6801889b84d3c81185f3a536e69d4",
      "eaade157810843e48ab0085d8a7cd669",
      "349b6d69eab94139b9d00d16ee0fbd0e",
      "b2fcc4bf376f40f39eaaf8ab4c138498",
      "c9c3435dd7b247119d4a431a6b310c70",
      "8a78cba551ca45b487d972b3dc280b3a",
      "f2b91855958d4fcd8d650c7bd3159a37",
      "54b0a7ac0da1400085e74a1963037356",
      "5d2d452e43cb445b80ee0d9cd409de94",
      "f07c28e92d9245b3816bc8a1767e2a56",
      "f929549cf14045b1bf9b238204e88baa",
      "9662d5c73efe4b59af3beeb4130d27af",
      "b41cac529f1943e3bd9ad9159d0c3b52",
      "3497403f55914ad5bec064b0662cd5aa",
      "0aaef62f9b144dd2b749a9028692596e",
      "47c6bdc03ff14efc869b353f687f5b6c",
      "62d8b3c1b92140dc84b15952f0cd8f84",
      "df231419e57b42da9c6d5b622f6decf3",
      "3dfef0f6b739493692b27b54097c4b8c",
      "75dbb9bcfeb94a4a95d74fde2f446eb3",
      "404354dfaaf04d79bd5bd62002dd3f80",
      "492ef3e4a6e7436ca1081c3a912d5404",
      "845390c2dcc848e1913ef4d58f6ea72a",
      "85a9fdead3e94d32a420a3c8f841a614",
      "ba3dbcb47eca443ab69f4cff98fe40b4",
      "4941dd22efb14d7f9531c9392436c8cf",
      "19cb4e004e7b459889442b02fdb7957f",
      "e5ff66e8be2c4c17896d78cca9e3588d",
      "1feff557b7f54991b0edb48198a351a9",
      "39ec3de39d6349d18ed21bb5bc5b7482",
      "e2e53a21927e43b3851d79410f43d027",
      "6de6d75dabde493d95819c6a240bcd7c",
      "447e8521774149f4a942074dedcfa366",
      "2cfc31e8517a479d816ec6da1cb791ae",
      "804460e4489640a1a4a4b76b82299e33",
      "f812d2d6948a426082544d55fc775b85",
      "ac3e9d317fa84dd49fbc611b2d0938cd",
      "be6ba74329504ba78b300bfcd87a67c0",
      "c748ee8e268c4161a2daa66616be25d6",
      "13ea29e3f555455795b0d4d3f8261082",
      "188a8f58ad7b4954bcdc7a5b6f3171cd",
      "b5e8f976d0084f9d8115049fb4d8efbd",
      "07cf44b4af0c454b9fcbae376941a9ae",
      "127cb41a8bb941a281801fb5100aa8cd",
      "df861ade486749e1b6c731e5aef1bbc9",
      "296ca4a3b6e242f4b781f0965f8e7fd6",
      "479dd79313414892bd43c362b1834d26",
      "47e16d6d8f40490e83e27d724770f64b",
      "d635e312a53442cba3cb6f041ead82dd",
      "63a6ad8a274b4484a2560fb4411d9864",
      "a0d2c0f1552c4c778e37a25ce2fea781",
      "b3e7fa1088ed4bedb56a2f91f453838c",
      "5c2a9304c3ef49a0b656595c10d658fd",
      "d0dbcfeaea2b4af38e451fbcebd9bb7c",
      "539f3da3f81b407c861deb2496f45a1b",
      "f1ce213f090a4a9fab10a6465d3bb63d",
      "e1daf7773a154b358d8e5aae80acd0e8",
      "fc093efb535e4e4bb4d509cafd941445",
      "fb13e6f3e0e24c99a524f6e1b882b6aa",
      "bdfcc1ca4b8343a6ba23a334f9a56c53",
      "7eb3a9e72eda4194b6efbb0a7334cadb",
      "9776424a406b44bfbd71441582ed2bc2",
      "668c231fa1884c5793a9e33ebd95c5a6",
      "54b4c551186e442a80b63befcd8299e4",
      "4512ac572f7a48cfa1f228cd936f8e3e",
      "399ad88435734ccd977ef8a98b3821ed",
      "c0591b99b5b64d56a8cc92b2b3e002e0",
      "7be251ee664049deb23ee57f3b7b7b4d",
      "a0ceea3ef5d842b5a976f41ef269e856",
      "8f8ed3bb96fe45cc9aa5be183035ae85",
      "8ae8b132f44641feba582d4da7926428",
      "31249a579e3e4be488197b12f6f123b5",
      "dfddac11e62341aabbc314023b00063c",
      "ff25d0986f284b70bd833abd9aa21a33",
      "94a2c059603a4c60a7e7f61f1816c7a0",
      "6e1544ccb5064a1fa7d7940443c5a3c3",
      "d3193468e13542239814135856c84ab5",
      "634b7126f7ce4c21a79aae7937d57bfb",
      "ee465568e1e442848b2493571504721a",
      "8a8d360cfb54450bb7792439cfcfd7c9",
      "f9eaf26954b146bc8f5be326521b66d8",
      "0f1a9a74967d42e1a19ad30148666b75",
      "0e9d28d7b6ee4f31a4f470bba422fe74",
      "247ea6095ce3493580b0c802b2daab75",
      "056b2a87c6c0463395f0087b78d14bbd",
      "81f753c862a64127ba3d54409cb2d029",
      "70d6873dc5e94650a1aea86b7983f747",
      "f7f4d3f12f9544baaffc86d8d7852ea1",
      "6ad1725df95a4b4b883c40ce60b01285",
      "d224da1f09bf4e6c9303ceaa37f27c15",
      "7d2923b3a3574a7cb64ce943988c74a8",
      "5f9f2c4e6d874491abc34745c211f22c",
      "536e35830e2d491ca242c9b150c4bb83",
      "a56e108adf4446548425fb214cc05054",
      "9cf75e3f47fb4f5bbf7d636da475ca28",
      "1861733396044cb9ab3c70e554711773",
      "1fd2490f64e1480c9573b7dfc97a4e5c",
      "0c2a0f6c27b04cde9d89e69514bc27b7",
      "c17d38a4949844758b61d78b4fbd7dbc",
      "79f184d044ba4742930e030110d1856c",
      "b25b0b4902d24e25a36fcf72edbdd478",
      "76823b6b441f4b5b85ba96b147fa97d4",
      "6014f67844f94727ac0081cdb0e3387b",
      "e14e413becd740d18754b0e5c104d17b",
      "b7e77dcab5044e9ab541dca36a7f7d2d",
      "b1fd37ecbe364840a5d0b9ffd3233dd5",
      "c2b42ae5da624692bab090bebe0f6501",
      "382a604e6d9748da9d89f98e05c9b1ab",
      "4926fc868c5b4174ad30a1d89a89d72b",
      "db8e607d29ae4429bfa4f95eacc4948f",
      "48d571a0f52f499da5b99c083eaaff37",
      "7530ec151b854268929ff7f9bed18d60",
      "29b24e934ede400b895c52608097155d",
      "11755baddc86446889c98def1dcebb27",
      "2faaf227bd1d4679ba6f4e98ea6469c8",
      "6e8ff923f39240d0b3ef7ae6cfb53fb7",
      "87be0ffef35843eda31c8acd464629ea",
      "b587c9c7d51346f08c3347da8b4bc956",
      "944660b263ff4b828ee84e768e14da1c",
      "337de2b8ff67412bb6c8b5d558178031",
      "2aa66fbbf39748318e15be395627b748",
      "521e017536b24bde85cb096b251d0c85",
      "b946ed493f9b4c469c0476ca2df0d11e",
      "9e0eedc4dbbc4909aef523845e0744b6",
      "5721c6db69a548b09c04da833eb3bd7f",
      "db3577a2d2ad41e19aa18bde30d41b38",
      "eedd328553284d50be07a5ec2f3194b4",
      "df46f4a94a8b472aabfc4866f098e150",
      "34c1ef3e71364db1a6581b3cb3bacd6a",
      "dc8cd3e6f76446ddb1bf3503882a2139",
      "77af2a6cd5774230803877de74a37e51",
      "6702fdd776f34c4cb7f241f1d05f32b0",
      "da402dccbcd84e1596c8171fda85024d",
      "a1dd3cb20c7f49cbab7a72edf756f7a5",
      "2bc7545a455940849686c3e7197eb62b",
      "0f425cf748d74a75b73465200375896b",
      "a960b35e05be4eecbf5b5eb552f78e73",
      "bb8f6c23ea464dd882730de4168b938d",
      "f3713be353a54f6599c6dbf96a2a9c61",
      "84565c191a734a4c9fcd22d376af81fa",
      "37c960dd00954295ac8d2a9e5f20e824",
      "ec2fad511ff44f0297b82a1ed364d01e",
      "6c9c65c297a04986b0f23403b623ec5f",
      "b4b9772f6a974bb69466402993518efd",
      "bcaecfc2c47c41c3a71722dc0b997b2d",
      "4d7a94bfe10746d1a067002dfd71dcc8",
      "2cdcdfab70f34cc285259a5343c07328",
      "dae088d3dc0c4cb6b6b8a3bcc938c1a5",
      "098f7d6545cd4066bd3b3ad21c3232bd",
      "f7b729e81e114d528a56d60ccae11999",
      "923cb0fc447e46d199c3f3228ca8bc8a",
      "7015d1511a4e4d19b5e86d8333991627",
      "def4bc892ea248f3aa2f8afea3ba5cd9",
      "575d1fc4d3e7436b96b30217b2d6abf7",
      "1aff85f5435646f6b811b7d2ef74398e",
      "e7230a91c0f24a008a0ba107f34481cd",
      "9e57b3ac17e4439492482d0e316939a1",
      "7b0837c17fd34dc281ffd87af1c1b395",
      "8cff1f1693e546b5b84eff243a6e8a8c",
      "8d0c7fb4999545bebfbfc04cf9cc3c74",
      "08c014074c334234a0d1dfd30eff2992",
      "45c3573203d04405828fce7a0eeb4b9e",
      "3f1b41bf07ca45eea5be449847a7f5a7",
      "a902ca0ecdfa4a8eae4a7738690c651c",
      "1349b7e604a4489598658dd47aced0df",
      "aa5b8b2e19164f5da2b4428bcf61476b",
      "014ce953766445d181f6886f3d8b7076",
      "a2a52947f7b74e3793189f6be95ebf1d",
      "d01da041ba9545ef9afde0d89cbfeef3",
      "e36ec7f63c244df58bd2adc6af18eda6",
      "0b7f3eb7ea3e44178f46a55a356869ca",
      "8cabddb94f564519b66240e45852b8b9",
      "1bea47bb15f443b1a52c9807326d983a",
      "46a90f5069ca489f96bf1dec87832d95",
      "2cd1856257b34ac4b86e88989330cb05",
      "252704dce416405fbd88c91a74273324",
      "753177bff934445badf04da58aa1d36f",
      "da73741543c14362acdd2e389819e407",
      "dd367e6b3966473c988fa6045f2ee6ba",
      "d313b663d4614eda96e9c3dbf866d29e",
      "39a3d6273e4146fdb4a400b5eff086b2",
      "15004815f9c948ccafdd5b3c4a9c6c84",
      "6b243c4976c24d23924e88dcbe23be7a",
      "a2d7ce46a3c244e99e0628ed78134a1d",
      "7121b8b69b6a47ac82141764ab6ed067",
      "273b7600325a4545826dcc505667f719",
      "ca9cdeccb96542f198b99a5232832f06",
      "ab5acc380d404f0eb3968843396621a3",
      "6ddf1236428048349dbf84cd20c51338",
      "911aede3c7934a38b2bd1938bd5ad1a4",
      "2bcf6dea70724b97b51bd89d3e1f94b5",
      "064421b85e894fb4a98df4e26841d5cf",
      "fb9c7a3207fa486d8b344a82d81ed8df",
      "d3070153588c4f059e1ecffa45eb3d07",
      "92ae19f9276a465f99d38c6224f84c09",
      "59b63a74a2cb401390ac5b596833e0ba",
      "621554a6c4e141088d9561729846d09e",
      "8bd690e26c644e4fb09988e1941450b5",
      "8d612dfe19184196951efdbae0376ee1",
      "0897a2694fb04ab5b7476768cacecf7c",
      "b063d4447f0241b89837426002d6eeb5",
      "9e7118b3a4c54ffd9a54a2b46d9e72d7",
      "2e52bb89b9274c199eb6d6bfbe0b9664",
      "be6499a50f034824ac3f660bdaadfecb",
      "03c3fceb9c214ccf8b7406e3dfcde74b",
      "9bbe8c26e2294e5eaba3b3ee72e165df",
      "34292b4800d34a8d8aa938f42fdc372b",
      "14d348f9af6840438ce6c693fb80c9db",
      "12f8a61f50764259b27ba465e69bf0b1",
      "71ce1bbd9b34462e8f520ac9763de903",
      "19361d6911924178a562b8d416e414d7",
      "1dd36ec7d7554069988c838c4dbec4fa",
      "3b7e00ab0bf84785bec0cca0c385e47f",
      "bbd31faa6f25473094ef53509a717dbf",
      "88194a38083d4872adf87f808c7f5f65",
      "f5629aa9bdb14b7ab95f80ad1fc40634",
      "05cccb5673a249628274165d3f77db91",
      "5791e83a06d44b00ba1fc157ea2e9c13",
      "4e1c90d8b1274745b2ce02cf5f36b0d0",
      "a1efdf977e664a40a92788a3cc471cfe",
      "270526e29eb9403b8d21378b6c311e99",
      "c63c538bc50843f8aaef97cf40ba225d",
      "7caeb05a09924cadabb383cc264c10ef",
      "43aa3853cb2d493895e7bb7749554e81",
      "feea62a9208e44339a870f3a31486d1c",
      "3e75d43cab7c4453b7f254a29af51837",
      "691c4f8ab82d4e76a3e10b96160837e9",
      "f04ebf68e55d4c34b0eed0bd42b555d8",
      "ce19a2a5117d4bc68ec01005c4cc3238",
      "fcd46071a0b04853a78c1c165937c6a7",
      "53500568c5594282a245f20977f5115e",
      "b739871c0db3422a9b796caf2acc4b18",
      "2c4a22c9a2ed4a54aa7580b148858b43",
      "9de0ee48e9bc45cda8f3449505e696b7",
      "be151cdf27554598a24694b909c339ee",
      "4c83f743c12d42ae91555055b852b92e",
      "f5ba7257442c48a5be0dd568339d305d",
      "62770068bf444edea24babf1f3ad4ddd",
      "9d117ba81d3d47c38d94c978fda71910",
      "f2e88af2252648b188d90683d39dfecf",
      "64ee80c103e54c208817bfb32db96455",
      "531ad94c96684502827d4eead74b889b",
      "00f610975f2f4c85b8f01da063670c28",
      "f11152a7a3d348c18159c65c65fe9ff9",
      "12988bf21d6d4645897797c670a87b45",
      "e43e6d780abe4d61b6674279c3f8a966",
      "73103fd397274565bdfb143aca427edc",
      "40ee71f224744b69ab31e8cadbc48e37",
      "72a06c5bb3c648da93634048e825742e",
      "7c822da8360642d88eeef752d42868be",
      "268cd5565a5e4ebf928aff59fcc136e0",
      "67c453264d354beeb449aec64b84ebcf",
      "dfd8abd1ffd342fcae920f8ddbcd42ae",
      "cf6eccb04ea04dc190020161dc606bd1",
      "c3d7eefa4f5e44c9a929b319a6ab88ad",
      "b95b8f45f8b14d9dbaf41cfbeba503cb",
      "dd2e57f52def427e9164b4636a3c0164",
      "9e827066f97e421786c162190dbb5039",
      "abb005af61f14c24a4c960393b84bc62",
      "7f95d2ba42334aad83949ba5decd4964",
      "d87b90e7c239403aa499e4c877fd5b05",
      "dc6047289c7645d9a1df42e89a864430",
      "f304df4aef8f49998dbba6eb0b7200b8",
      "aa67955c91e34460b1486527217e821d",
      "45125243cc6b483d9d52d3b5af9b9898",
      "168fb02adbc14839a89a1cdd08aac44c",
      "a6378023f2e54614a7f6fe3e7c9b4429",
      "0e21701cf8a64d22bf756264275045b9",
      "5dea9411b3c04100960813386ffc732d",
      "771477e18dec41a7b242af4f4a35ff17",
      "9c3572b57606476f8b2ded71fed36ce5",
      "522cd8473d954be2a508aa6db824c1f2",
      "d59fbf43aefc4a7787c671cc25c3826c",
      "29bac03e9f04458fbeed771a100ef7d4",
      "e83bcb963ec44ff8a17525dd7985e07d",
      "1376d8d361334940b26e1dae109c3010",
      "cdfb08c18fbf4ac4bb2d0e2aa733194f",
      "52ac51f8b15a47fd9594cc77802eca24",
      "4e76c98f342a49deabac95e3a0f80c9c",
      "e11a1254d5ec4a76a99ca5261adb583d",
      "62e20be2a3da4e31a4d63f1fcb436028",
      "fcb3164175ba4877b6d8946ca8b44fe5",
      "54cc0bbe46cf4bcd8bc8d4c15825f718",
      "459277be69f84a43ab41cacac2955426",
      "4366cf33ce924eae8ac51542e0d290ba",
      "e656bcaa9bec4ff397d5e84df7263f98",
      "66a5ba2b892d467a8df17fd8462fed48",
      "dc1c7538ad6546589f7985565ec5a765",
      "b0469a8319444656b24ed1ebef47842f",
      "346eabf525a94f9d85a65025f84a436c",
      "81a61d647ef849f3849c9abb471e779f",
      "75843db1e2dc4a22ba3a89829f688f34",
      "0d85819b6d7c414fb04a8b6cd5b261ac",
      "eb1a1283bb9a4cc49063860e69265e23",
      "20f5fb7d202f48f89b043b29fdb29dad",
      "3fbf6a17886745d5bd8b2c0c14d841c6",
      "ab7fa22d0d364aa1a274476dc8a59f75",
      "b26ca65e9758419a8f0c4f1396093524",
      "c68ce67b54784d5ead2e7fca3004688d",
      "13ec46da447e42fbb1aaba8166642015",
      "16948661f8814d97b75d553b2269a0b1",
      "cf09934950754241b93c174b82c50b15",
      "491a8796ded246c2857014f7dfeb7928",
      "c42dda1d382249329f30b5652a6c04a8",
      "347df897b14d4326a145e3f4c049dba9",
      "178156ff0e2c4f418d65074167af45b8",
      "0a861abfe2bf4e06a43d8ec3132424cc",
      "549caa257a6c4825809b327b6a8b02bc",
      "667bb14896654949a0ba393bb63601b1",
      "12aff0c33b0848c39d58cf90cf0489f0",
      "1af9f6bb2eab4ae48df2c738e2bf8533",
      "a8fbcca69e7a4b2a84c924dd67b9ae8f",
      "4e9df8a3d7d944b5bdf2ae6378325e1f",
      "6af59f593a7f4197b210985940a7c5a9",
      "05cbe5529d1c46a186a4af495e8dd53a",
      "0a902cb57a9a47809c66584c47e996ac",
      "f0f86a5b8e37422ba1e40f98f42de39e",
      "96594621eff84fc8948df38126df990a",
      "66b0a21d112f4cc293fdfb9a4f4e552d",
      "8a9b346fbc33480b999eda87ebeabedf",
      "ed97218bb62948acb4c41f5dbd21320a",
      "311d2ab051ca43249ed512aa4cced299",
      "562a8ab465ff415eaa8629a7e9daa566",
      "1e72543015c14dcab6e2808a8a1d4978",
      "6b86c4957c794be0ad1f81e5b85ef714",
      "9c97d2f574144ae29b09ad6c4c8ecbe5",
      "83678e40bd2440ce893f0f9af593c98f",
      "90ced478aea040d1b10aac0f0f951147",
      "3ba7ad35dd1f4be68cb2e3bacf1d42ec",
      "c38b8fe9beb64f079d3fd8b4f98c1022",
      "c9f583bcd2ec48cbadddcf30cacc5897",
      "407d63e5beba49c2b31200e4a1ef0710",
      "a5fb44fc2de4423b8ca407293d8a2b15",
      "cc62a9ba128a4210805a7adf89d297cf",
      "4926dc842a7a410ba2660cbf942b5c3e",
      "56bf6cecea884b4e9b96ece496c76b2c",
      "930f9eeff1774fbb89d8ca400d262e03",
      "3fb21a8b1ce74835bcf5790a10520e81",
      "68af545edca940a6b6a8d251351ccd3c",
      "cecc6f52bb344efe855ef8559e182bde",
      "628692597f9d4813bc687021fc8a18bb",
      "b187fbf512384bef9dda898025e6173f",
      "79ea3e0dc54f4122ba7e9ffe2978edf4",
      "27d8273b9a6242e185bb363351ae5601",
      "c05ec6cdc0f444d695a8bbd3d9ad6487",
      "127c9886434040bd852885ad635ccad6",
      "1026a299ca5342e4b13ff61d97c03797",
      "2855e76638cc46af9768abbac5dd8820",
      "32ecc083111846e59b800e3bd4b56bc6",
      "1c86103e101d4936ac257b02ceb0d90c",
      "b8955a3509ba48cdafd265481093faab",
      "c5227e03a0624e03a06b58a988515191",
      "2018ddac0e9f4af892af823b9fc43e18",
      "fe289d8967e44f46b4b012cc84ff091c",
      "0b54cf515ca9420c92242830b4793e1f",
      "013d1b5ab61e4b34b9976ceed7356974",
      "8093fc52889f4e7b8cb6e9c2e9a398af",
      "cd75e508dc76499d94489bc0f0d68301",
      "8af84f306a0b41969f49eddeae94eb4f",
      "84ec38bb36fa401a8e2727dfdce031bb",
      "e41069ba95b54dc3a1d4d26987ffc30f",
      "3ccc67d59da348f4948d5ff6ecfb7dfe",
      "6d548a9824a14846a86984dc74d84b9a",
      "7067958e7adb4e89a40f519a370d0844",
      "0f20356871a142f5a389452d2b7975fc",
      "1f70c359e4574bb896f82aec199ba9b9",
      "4ea251bdcc9649e3a4796d3c8917746e",
      "810786e471cb4e81bf3b450b832a21bf",
      "0eb2dcbf301e42618e993aedd1fac7dd",
      "5a58b7993eea40f78fa0583fe4b62dd0",
      "a8a10381ed55453bbd733fa1373fbc40",
      "8cab07c167cd46a29f4a5dbe53c39160",
      "c54b0072cf614ac089e6ef6a96f48582",
      "e5b54da4ed224cd9965cfca52565f9a8",
      "ba5dac2b6d934bb3877391ed350345f6",
      "d957c0cd9c7d4bbcbaa175e1ab3b89ce",
      "afe4a496f19d4424b1dd33e38b0d898f",
      "8098a7b29b3c40b8832e101cafc1ac69",
      "89160d9bb08e4ccc8bbe275e287b368d",
      "79b9cee9a86e4c869256d45f70356a30",
      "a13ec81490d54c6d8c6d1b44325365f4",
      "a69822a12c8e41738794c357e898f494",
      "082624b4581744aeae5e9926cd7e91c1",
      "1cddbcaf8b6049e8aa517188c13e3823",
      "f90fad0b18fe4b19bd3d890966079c8e",
      "5387d35144594604a69b8149ad87c454",
      "b484ba89bd6d490a99814ae9faa872fa",
      "8b2d5679a65e46b689a8e2c82d152a02",
      "91740e120e384c45afcd030b1bc5c5fa",
      "cb6e3a713e124af59b0033185936aba2",
      "ac311213d8df486298dd0b629bd6817f",
      "b99d28cf7d0b4899ad5ea2500b29fe48",
      "ceb8ba41f63d47eeaa4ec0b5b38f15ca",
      "dfbe5cf292e54a31aeadc434b814f022",
      "520be9135ad34fb5bf4c41c2b5a47e14",
      "722b1893310547eca259680f33ae9e8c",
      "c8e57ed758094378958d3098a3a87a88",
      "4a0f22aebbe04741bf9d63e0c7b74024",
      "399e6929272a4cada12389fe98557086",
      "939a0143619a41979269835670aa123b",
      "404bbc0a463f478ab83790fad618591b",
      "4e1bad1b78c141ac9ca7eb117ba8b700",
      "fa6b98b594ed4585bdfa84922f3736e2",
      "ae0bf9cf23d347698827d3cb7d74927f",
      "bf764b24eeea4276bc5b7dc06a00549a",
      "e2e7707440d247cb9670ce4c8ebc29f1",
      "35936dad087140859657da45b38334bc",
      "3b4028874eac44cbb82106c91e584e59",
      "831d4b20ed084efb8762cca227a917e1",
      "b7915936f7e64245ae6e398c0233a82d",
      "9bab85310000466ea679202d3a747aa2",
      "86cfbb1c35564a0ab22e5dda6ac9b250",
      "5e182a0b2e5040c2a1d9f73b2acaf25f",
      "ce204d96e3a44eff85afed75c747552e",
      "97292029ecbc4a6e8a0e816d899a71e0",
      "3a5e334030134f1fb92b26cf9480da95",
      "64ade42eabee46c2939d9c25153d185f",
      "2d8483fe810e455ebfbfedcf97a23739",
      "be96c0cbc4d04c2bb0316914d4a23908",
      "92ced8d3a9644f55965cc0c186f83d62",
      "f572c3051e7d40c0b49b7cdaedb9dba0",
      "4eaea167b01f4e0b8ecb6175536ab4a9",
      "c5945cbeafd8498d83e32452fc83f586",
      "53800d30ae6a415fa57086a4d4d8c532",
      "2acb20aa19ca4d80a330c7be4166a7e1",
      "f08c14e20bc24b8791f3c25fa5f0ae3a",
      "cb75cd687ec9494db3fb71f194defe46",
      "9097b179094c42d4b5889795e07c1120",
      "407521a5bd0d483b9de1e95ef76aa958",
      "80bfd7f0fea047d79e109727ebe54f70",
      "143a3396636d476eb6a99cd4d0a0f6ec",
      "685fe9d122cc47d5ad18f121a1c1a740",
      "7f8ea03ab3144b55a7a74e6f3dee0c5c",
      "622edd372362403f8a6be6d903b26c5f",
      "3e1c1b900cd04c1585c3d5e7d3b8c4fa",
      "d10f2e0e599e45eca7d14e47967596e2",
      "fe4e39553e344759a8aebf2a5e627c45",
      "876ab9df6ec447c2ae95c8d8f4edec42",
      "36d0d0072f7547bda9bd69b8a3dd877c",
      "4f830e5bd2c94fbbb7c3ce7bfda81924",
      "cc4ff71436494668925c034eedf904c6",
      "0746b02c788d4b4985f34de11e1eaddd",
      "34e038ba38954d6589fe315e2c2c7a80",
      "317f32b32e2e4dc084e918438ee87992",
      "e17160dbd049436e8332161888f37758",
      "3cc7c631013745d2b5dd1e6d867dc60c",
      "eef958f369a746ba8e28eb547b5d2898",
      "2b08c0d00d9a403ba407801813986150",
      "a815f21be2374f589b35fd30df0fee22",
      "f067ee5f95f74091884834698104bdd4",
      "4799c864fb9046f7aede77c968a340a1",
      "222c97fa0a1641e7a06bc5e7639f85c3",
      "f1995f6d3db343efabf57e996a808c01",
      "d8f500e31651441f8331ba4632ed1394",
      "ed2dddb8449449cfbc0a36a81be3f483",
      "d96a4f9b5f8e45ab9e77ff39504c0e27",
      "a04f698d3da64c37a6e2317a7bec8d2e",
      "23d242c2da1b488ab49c8a2c689f01e6",
      "60d464d7d4144932bdccb7212c38fd4c",
      "098c7680e5284787a8132b3e34d8cc32",
      "6c514175143140918e9a46974713954d",
      "02e7e4a463014288a61c59b6c47a8ee0",
      "7514413e38fc4eca9f6ef22860bd6e61",
      "cccb09c283434dcf9cb073c2e68b9d7a",
      "1e94a39032dd4e49b743fef7ff26e42e",
      "e5e7123185b14aa8afa82c6b2bf091b6",
      "a0e121dd67fa42f187e59aa578af3e47",
      "41da60c4f7c645bfab54d034d18ba189",
      "3fb95e2c869a4a71866090f756684609",
      "3fe1cafd3947409cacfa0b43bcafa40d",
      "374c44a092ba4c3eaea67f1a2162da32",
      "dc57292a9aaf4a629902b323d42a93f9",
      "30d43f4ebde445b3b47a73b01e5c564c",
      "a2862e69e5564568ab95f8cc427f182c",
      "c3359ba70b0340469bcf02ef73d10675",
      "0d150693d4c14f2c86f28ce144b0eb09",
      "859110fb0d9e48acac07f118c3b8fc17",
      "95d6b4cb9e884771acf0e3084371200d",
      "985610fd5cf14474b286e5bdba5474ed",
      "79bf97cd2f6942cf960c32962d1687d0",
      "93981d4ba9f94fe387c6e112be8ed753",
      "045efe37bea34a9cabcf3801ed4cb58a",
      "01e300f0d1524919a58cee1001d489eb",
      "ba504a58081b4fbcaa6a764d1e16c860",
      "817569cf7bb54842b1e1f41372cc1ec4",
      "8183e9ea8cb547a5b3c57638e8f3251f",
      "719c2bc52bdb4daeaf28a0bbdc1220f0",
      "f0dda56ac9274821a37194844593028b",
      "1adac37df9b640619957e0c5e7aee42c",
      "1716fa1a7d3d4a6fae15b1633e1d15bd",
      "8ef38ebb3ac94109a6df5b5cf2a9c6a8",
      "a3797fbb9a5c47b3ad2a2beedeb91ab0",
      "1d0134ab5af54d30b969db30ed68e5cb",
      "48ea250abd504c459802a66912a31b30",
      "ce374daf89934579a1e340e972924c24",
      "f14e5f3dd38e41e6b6e7c1fd777c137d",
      "37ed971535004458a85ddea468014e12",
      "08ec5c3f6bc841bcb3ada6679bc1924f",
      "3dac24b33a6f4a3e91acf3845bd448de",
      "47a645ee01744ea787e7140eda7e7c4b",
      "436831f28d064ded9419e07283495d2d",
      "b1efa7d43dac43f5a435c6ec8bda418b",
      "877b2fe91e834fb885be0593c856999e",
      "38ef1c3ac26846449c51712f1e994bac",
      "01c34ddb507843869738327c7f49363d",
      "4a969649922242daa196c17d910b711b",
      "e1901725f2f04a4794866514dcf9c85d",
      "0d967a238d564ede9722133b0347c7e7",
      "76f7970856624ce8a45d58fb4a0e2cd2",
      "f92fb70a3c2e498f8d19eb40a12820d5",
      "4960203a54384530a4815143e207e7ab",
      "d6ba632f88e74794820654c927788aa9",
      "9fee6b4fd5d04b0aa5eb0a811993a802",
      "607afc5414494ca0a464b5d08521732a",
      "c9ed7ea0d349468490add1288378cc60",
      "f2fcaa0160404520888d50c55387273d",
      "26a2c60fc8d84611b6336b4d364a3e7d",
      "a8db15771af1409e81a0085e92927c1f",
      "bd9ea9824b3644639cbca04cbdea82b8",
      "76575244b28a4d9ab8c8196bd2b20077",
      "c13831abe56e42fa9151aaf427b00b8e",
      "fe67b8712c87465a92bd1c1b79d03f2e",
      "aa766ed6897f478dbe6fac01a1789f4d",
      "e41d3f5a49f446b9a9d41e671b564427",
      "538e5ab84e8e4ff49ed0bd308d13801b",
      "6060abfa460c4a6fb2d2a52a6302cf37",
      "23993d4e638f42dd852ec15b03bc6ea6",
      "378cc9b23594486e8d08722e03bf0f4a",
      "791f56eb5e1b4b3a9ed0b40db54cc4ce",
      "068c0f76f9c0460d98359efb8d146a98",
      "8763232c9d7746aabeacba8a227d0314",
      "44c8a71143474c21b67e7d86a255f0bb",
      "6927a7047a854c04a2a54d312128ad91",
      "ed82625655d347d7919b1ee7ed998885",
      "cede128d1c914c6d9860a4e2858d110e",
      "cbfd906767e14224b44c975e87b99325",
      "1d032febaa0e44cda6f7c762a0a15641",
      "67f2296f00e84e9ea5da85baa35a6bb0",
      "24990a4d83ce4441be5e082b7852df8f",
      "b0aa025304534591b33da65ce120303f",
      "6100493d365343e5b84224b0d8a0affd",
      "eaad343dbe904e00ba882ba5f8fa941e",
      "60be916793c344efa1fe76386519fa81",
      "759da4cf4bbb4455b68da208d89fa359",
      "21820ed62f2f44fa8a302deb0481bd88",
      "840fef4d9555478d954815d736c8e12e",
      "e3d4aae8a53f44cb9908de28ba5d14df",
      "3c4486a5fe364e749bc1fc13c47049de",
      "da62f4c4f4be447bb4b5b161f8520e9f",
      "b219d54a30b34ec58f68a11d03f4913a",
      "3aaf0c717dd745eabad058a4df030af0",
      "91779ef0638b4e1bb37a4a3494908a95",
      "03e000e7017d4e02a6829fbcbd5058a5",
      "43878d4f969f4afdb38e638df46a354f",
      "5fb89f52269f4a21887c9b0d38064b21",
      "e99a6f419f574bd198f093fa9abbe84c",
      "11c8d44fc9c246d59b927c10df93d929",
      "9e8a2d0efb6d4f5fb6ed8b1b2816f20e",
      "68376f66f6d14a0785fbf293b117f7c8",
      "d5c1fea7afe54fdbb78d617c10af67be",
      "c0bde575b0374f0a8962a6049717baaa",
      "83751ed3878945beb882572d2656a573",
      "010e0345daff4261967af27bf7ff67cd",
      "9ada2acb751145ddba148d80ac5908f6",
      "d78ceb65cfec4ae38e4a235c5f949851",
      "d17b0bb065c74b5f95f5072e70bacae0",
      "911205220ba7414c8653bf5cd67d9a15",
      "2a72e58a7ded4e2f92fc579302436f42",
      "3803dce04e9a419abda5253fc5b6ed5e",
      "30fd45efcf874515aad8176e1c1f2c10",
      "c5b1aad27f3f4f79845dcfc042ab3f33",
      "a1cfe4b655b14cad9673a9ee3c38ac59",
      "339c55fd8f7e4bed97f5d5e75ab8865c",
      "13e5ce8d1c7d493c8ba9e97ddf1adcef",
      "f8ecd2a7e1ee4588a65d80ef67847339",
      "f454540142fe4a88b9a70161f16fd276",
      "b4abd0a3fd4c49bb9ee219968c79935d",
      "67f4423594ce4b859cc5b2b804d2935d",
      "416927559a6a414d9d5b5763a28331c3",
      "110ab4ab744f4c95bd46bcbe9c8a8a08",
      "30a50603b7ef433f8a3a50e64efbbac5",
      "17a7a804c12f423ea9c8cc969fc98991",
      "8725a557246246238764a15c9c2ecbe3",
      "d7eaedc35f8c44e487a502326c8717dc",
      "fdf67acf3ca9440fb777eb739c9f08c1",
      "5cba58c748e444109eed97dfaac42d59",
      "3c6c41f045964cff8689668b9723aeab",
      "edae08031fba4d4da6828101ef9b8a5e",
      "bec8f33cda304e5a9e060d44711b6c1f",
      "328f213f705c469eaa87dcc9f95ea8e0",
      "99b1db7734fa4c40990c722b26f9a3e0",
      "0bdf62acc4784849888dface8a3985fe",
      "71f6856f800d4b2fa561420f7921bea9",
      "47b2339df1af4d359964fc79f0fd3af4",
      "2b6f1994b094428f8284777aed113fbf",
      "529f08f31ebf4260997b37278443efb7",
      "e9ee0a8fdbf24a68a02592aaa9566df7",
      "53d6988a10c341d593da10268da2e35e",
      "17f6f6eff3d446b0a63576670bee5f16",
      "0e97788647784bd19af3579742f93493",
      "e8c2dce05af646e49086870c8cbd37c2",
      "3353f7263c62450584ed9433c7398645",
      "40f48908f1a4445dbeb337aec946da52",
      "444f635f3c5a4c518086daf1fad07f97",
      "b2393f2e3ef942b2b0b2df54b895f450",
      "1117ce2c7cff41e2a856d06eb014542f",
      "83c69e7461734a93a552d7a932e73841",
      "471f4a40f02341449b85ee54ec8ab5a9",
      "39362b3744fd4a83ab4c5520861bcd19",
      "360008e7548241df9f7d6669f13bd026",
      "8947254e2faa472ab1fc4b2c0fdc9386",
      "511f1b84d64444a1afc59b23588046f6",
      "3bc8503f51fa411fb412ba8c6062994b",
      "772a1cd11bf24fe8ad73920d3acd4902",
      "0768862ac43b4537918757129a9868ca",
      "8ca9c07bf9a64957b55a7bd754216c97",
      "c93c6768520d443fb9589a5254605401",
      "3a469aa1c97f481d96a42e1ccc095ea1",
      "277404c6854b4077a09f17a2e4216535",
      "873e878a626a4352a47f96b8d0e742b2",
      "4143b19d23184221852efa69a344c690",
      "1968da050b774631ac63e34bdf5b58ac",
      "e27d3a2615234714807fbc0a443a6c86",
      "8bb3e957130542b2a602e6721042788a",
      "6153c0b71b2a47daaa3d0a8549526f35",
      "74b4243aecc7447794ef6746ede44da5",
      "3cdf5ccb7c96450aa728ee4ae5d48c58",
      "397f57fb7f704e74913489042d99e7b3",
      "f6ac6571ba504d75a0a76bf41796ca92",
      "0beed5ad594443f78114aac8057fe7a8",
      "19d58e07fb2345da890a1ca95b1b6e6d",
      "ccd101b4fd724e3e81e524131200e5cc",
      "e23d29be0f8442d386d01c03b083c49e",
      "bef0bf5ff8bf4b299e34e8c5e3ebf6ab",
      "e6fd9469137344b3bad787c5bcd99f78",
      "26d40a52512b4708927a3308657a750f",
      "d5bd0aa3ac5141d9baa99bde1ed540a8",
      "bd6327e33f78478a8aa0c60c2f1b999c",
      "90cdc847e055492eb607f075588b8750",
      "8b59aea795564d4d9ad82a377aa1e876",
      "40b0cd9246d34bf4b4fe517c519c68fb",
      "3aa275e063ff4b109a35a3a12c181803",
      "7555d2efff384ef3ab14c3cdd2b72f90",
      "98d21d687b1a4a658cb0ee50d26926e8",
      "a0ae3649d555493b87a28bf7b543ef68",
      "dd649b0cfac84b44ad15583793ffeb50",
      "96304600795641369157475f3d41d254",
      "cf9b19d6f0614694b5689aaac656bd8f",
      "51854ac1d4ef4b5e8118d2ab298052fd",
      "7ff290e301eb48c0ab0c04540f152001",
      "806e48cb518a4e3389975278cf96079a",
      "5b38ac4b8c8647459066bf141c149115",
      "71356469a97543dda31cb21c5481dbb3",
      "0d938d80c8a241f189104485a0feec36",
      "f7d753275e4b479fa54333d2466c6acd",
      "b11358fc7f0c4718930235de5211f470",
      "f412984e30524f36a6dec424350b122d",
      "12b7391d5ed342f886d06fa52b30a599",
      "9dda5bdee0e543eb90c44d53d65033ba",
      "37785a5b92b9484bbb63c63386854e1a",
      "747aecfecd7f4a4da83d4f30b0e6a08c",
      "1b933a5120f648589dc76a114b8b122f",
      "0b66b924649c45cba820715d24fd9dc9",
      "9bb8ebc63810463a88c083a29bf5844b",
      "541db5fa93de461d9d97d28706ca617f",
      "b815e9b4dd6049bb8158806b29bf5501",
      "9c52cae95f864874b21276fbf648671f",
      "aa329ffe755040719c41f8fb3ef73646",
      "9d3fee5e79144cca9604ad1a770e9d9d",
      "74c750a3c4204d39996c48db279295fc",
      "077a239a32cc431195d37662fbdbda47",
      "6a99ffd7a1be4dc89867ea403e054262",
      "9356ebbf59e64a44bb66c77584df1b92",
      "5101212fa2134541a1016df048b25079",
      "75a3d9102dd64a7684a6b60cdfffcba4",
      "bb14094f50bb448ba0767d3abf30d595",
      "5157711c5b794a95b50c963afcfd3dda",
      "633358c2907d4fa2a7e8fe8e81a19ce0",
      "37de55c1444e41f481103b487bacc3a7",
      "71e2166566444e8cb377c978130090d1",
      "3bdf26c36c1e466ea9c6d6dc7164bcd2",
      "b045a5c850544af2a7fe83162c2892f2",
      "16832935a2c54b34a49f5322d6028d64",
      "c4d22ebc3c274186a18be1d70092331b",
      "e68188fa126345f3b07e0b70ea248b87",
      "37ddb8d08ff04ea7a7ec92097176848b",
      "a9670341ea254a70af8029c4a24da2e1",
      "e5cf0f9417d04e1e80dd2c528dd0d620",
      "a65ff588404b41679cb0348c7a692e16",
      "9ff774afc2c84b84a21e69cf3780104d",
      "4fea00fe357c4666bc21fd6c6eed6f6c",
      "37d703d956f54c248a33bd961f19a0fb",
      "6db1340ff5ce4d198e209454414c1ec6",
      "ceff94fefcfa4990bc326513cb2a107e",
      "dee5e0d3905643af93b8b38493696bb9",
      "a419ba30c41143b8891e184bd2f835a7",
      "820f989cb6e84039bcb8e2a0bc0ea5f1",
      "3e7a21dd47d44ca8bbfbe7bfa3d28638",
      "08c61984e28645f3a9f6f4e64bb9c50b",
      "97a0d2b806794a2b9a3927ba21561fda",
      "f2032c74e9194fc89243ce9675964cc1",
      "d776dece5fba4e8ebaeb34e839b9f96a",
      "719f124756524207a9207ff28a5ca7e9",
      "8c81c83dcc3f425387272639c9908893",
      "81cbab06061640cababe43f5d386def0",
      "0b804e3bb72f4ad98deca8d88466b2e8",
      "5d59b3d05cf44fe79ada42f6e4724899",
      "b95faffa988840af86b8f04998cdf164",
      "7048ea4f5cc54fb9915d81eec6a5c9e6",
      "06c27af7412e4b19a17276d414eb2a03",
      "2eff695127fc4eb0875adef53e7e089b",
      "dd815a36d6c447c195dff52d822e6291",
      "f8105baea63e43a0a8813c2c621b71af",
      "8ea87bc5ab8a4672a9769294be57a9ef",
      "76525ecd7a1a4cabacaff171247f8611",
      "e7a60f8b3a904d8fb8b1964eb9b387c4",
      "96c06a1dee9940dab52993fb8524b8da",
      "42770e5ba9814b40952338bf850b787a",
      "d8e4ffd5159241db94517fc4fdd5c6ec",
      "0e3d59a7a68e4dc89dc9614f08e1b9fa",
      "31a5954fa2274894bdc4dca099fb115b",
      "a883e9b374a0403694e3ddbb8d3f763f",
      "ae9e95ae5a85496f94c7d356d979c463",
      "7aed0efbe64548c082ca1e520fd70e1e",
      "31dd64bec4d540809e310a884e91c3e5",
      "40c3f17669bc45489bfcaee223ac1bad",
      "215847aab51046bebed23b1b285c628b",
      "9e2b33846ac54344924c6ab4cf5d7a66",
      "ce4ac1a4e54a4bd29d941c13d65380a3",
      "33a60abc4e8848dda8f1b78a0d026c3d",
      "ab30a0e8a2e6470fa88b0d499e5cd929",
      "d357b99a277f4de0870693d8b745bf6b",
      "0e8e3935b7ed4f6081b1aaa7095fe9c8",
      "8b92128023184a8fbee27f0351379d75",
      "1eac88751efb48889bba0ae8d9d3e47f",
      "eb2a495ee0c14f029eece45304ea261f",
      "c59474a6459f4b0b9d5b47ee00929813",
      "8e82c0650bae440cb20e3389824844a4",
      "59bc35a481d24305916dbd48c8918437",
      "d50bf6cfb2404c7bb0e413089093f323",
      "44f5381bb7834e93a3f2784178dff7c4",
      "986e3c7d136d489f83f6ec039f86d1f8",
      "a457546c6b1a48f2bd157c8bbe20baa0",
      "68d658d4dcf34d1e8eb37cb318dabda7",
      "a64e083b805b4fbc83aaede49f22d483",
      "e9685455a4504c63a20cfa27f9ed509c",
      "35621c588b214f66805de64060dbda18",
      "be22613000204a9f802f0e6cb4012b9e",
      "b6fbc1d14ff74334bdaa8699d3305a6e",
      "c7432df13eb24eab89b8fc8eaa9dea4a",
      "28836dd2fda04dec804e36f103b87265",
      "853b0c58193146d4a61289facc6e4940",
      "6f75567706434b509f52d2e9a86f3eef",
      "4c2f6814f1704d7e826967cd2b34699a",
      "7156a7de93324daaabde24472ee8d4eb",
      "9476ce879a6040c29a85c75d1e1a1139",
      "2eec7e53a9c54573acc9e6d31ccafc05",
      "786e082a57a2433fbb9a9fafce666ca9",
      "e220514c17034b06bed63a3cc207c5d2",
      "9cc3e886bac5488eb90fcee37bdbbf89",
      "f93c50b292f4445cb55cd25f8fbce95f",
      "b51d8f68517941a39affc0a41f907274",
      "0230f8268b9d4de4b7f07c3fb1950abe",
      "b601943b324442c9b184de6d3650920d",
      "790db9acfdae48a28d86ac90df10541b",
      "df5f6db370264ff8bb56bffa4c02beb4",
      "4d6c1f9678114181a2b52452915dfa64",
      "a9651980ac7042d98ddb74fb873ff6c3",
      "a6676b82c17a49fb9f7b5bc3cc2eda19",
      "12aa61639b4e416ebf5951af3e3cac68",
      "7890597487cc4c93b1346503e30536b2",
      "b57495715d2d47279e145d96f4ac9c6a",
      "64aeb8406fe44e26a104c13fa36b25de",
      "069067a3d25f4d88803b0cfdc6de3e9f",
      "4c51ed976c304bd38873c47b74900a5d",
      "fefa6413456f45f08bed1a2f5c8921fa",
      "63e1c100473c47659402d93445cb1229",
      "968f1dbeb3f047199dd65f336d26f8b0",
      "a7a6497c8a4f4d1db0601021bd8a077c",
      "438cf175c8f642b48bb81cd7a85e7710",
      "d87d4337ff06425c83a77a9e31bfddd3",
      "e675dfe4fac6407fb33e4faf692f4148",
      "d86e7a4cffdc47a48b2f143d11535b70",
      "fe852ca194c4496fb75453b865d1266a",
      "a387561b48fa4ffeb4955bd9a94831b8",
      "57e1bba247d4485eb1cd1e98b6cea3d0",
      "7994149298c6413886c8277daf0a32f1",
      "f9b2bcd62e7e4be0a94040a7907d0d2a",
      "4e5aaded597f46709341fe9cb5342be5",
      "8572f5a0dec3426b9b149ccfc67f178d",
      "22a96890a9ab4a6792f0b9a450ab317d",
      "8f9fa90b83d24f1b8d427579ec2fa84a",
      "3000f1b0d66e439aa95f37e675712f96",
      "a1dd8624ba2f45d5a72fe6654d8553bc",
      "68146a5ea13f42b9b7227b06c50c39cd",
      "4d4801bc290b43cfa36d1c572241d1a7",
      "7eeaa4546896485d8964dc4bb52e3b40",
      "8c2465bf377f48aeb16910720db5b0c6",
      "1d798f9738714672a4995542bd0b3f70",
      "3992fc10332549adbf4241b3892174ad",
      "7d5da36b7af34f1a97abaa3d247cf692",
      "34f5de6a1b564a409b330bf2b378775b",
      "81da5ad4b9cf4201aa64c2959a17cf12",
      "036ae8b10b834ba3b1589cc71cf39ea6",
      "030ba6c7ba474c01a16ebf7e3de82495",
      "21b1c2db74db48c087aff05cc9f50287",
      "ecaea44159344a9a9bc49fdb77bcadf9",
      "44e37650d0bb4836b5ba65b2821d055e",
      "0e3f943727a14ef1bf8b16678fa60a84",
      "75e9abff37a44d2dbeb805f236c90eae",
      "c5dfd34234764b6ba6d3b76603d75b9e",
      "300cc5b62535440a8c527f97e3bbff74",
      "8af5fc90762b40259b71c233e5f02f1b",
      "326e2d57125249d1a751ac54751f1d7b",
      "d097e4dc30e641de8feaddc47d1718c5",
      "589bacbf073d4b98bd212527316463b1",
      "8b029bef56d5475f8e27aa716f8eefbe",
      "25f9c410771747448717fef4e7794206",
      "0c4b34eda08345d588519a66ddde2ce1",
      "7cbad559ad834a4fb0dd11f7c421f87d",
      "a63d32f83521448d9dba9834e6f594b4",
      "87defb184e3e4c7db938610694dae647",
      "0f260f2361ad4bea8603a1f1f0818574",
      "3c2ec3a237244b19a69190874e687fdb",
      "5184047634374b86962e9bc93ae94dca",
      "b9c03d25fb5343d3b6989b032ed338e2",
      "534e953762804a238de00ed17a4962b7",
      "3c9d38f754be4636a819c9e035b3a054",
      "39aed39f0392492580d67e6d483526e6",
      "016c1d1961974041af07feb6b0f4cbe5",
      "25843e06ac5f4fce82a086168cd23ae9",
      "432fbd8c3f9746c9a8b6b5f10e45528a",
      "b27d1c471d58420886bf52b78d840057",
      "65cbe647d76948cbb4d5f752e47d1f80",
      "d7de92a85878420badadf2c4dfae0c71",
      "a223a1e5066c476ca23648e9b1685ff5",
      "d522eb9d58144fe3a94056afba36142c",
      "8e011a6ffaa94f4e886eb5ef882e2486",
      "e0a388b6862c40f5b5856d817ba4d9e4",
      "c0399ab605524c6eaf607f42fa7b103a",
      "2dd21c57fe12426cab1fc22840527982",
      "4937a0f1dff84b5ca543ed5e752cadc5",
      "54d7a283e9eb400f8400bd3591c6543b",
      "daead18aad6440e2a0128260981608fa",
      "e415a27f083e46cb8f7af25c5d72b33d",
      "d6aeb273966d48d69caaa5f371ca801d",
      "a9358e6b3f9248c0a29a1130c2a7c81c",
      "7f6f4bcb7908462f915cfe64a9e0fa1f",
      "10b7962f19344e2d97176858780f3d3c",
      "301c554f5e634c34a7393504edc1795d",
      "0d9acbd77b8844c7a5c5beedfc85c03f",
      "7276a64940a445a4abfb603de3d5e248",
      "5933b6f55bc94918b5bc171d99d6d3db",
      "4c1640431a164b0f800016c6d1c45736",
      "34b995dc248f4486a6941e484a9f87fb",
      "7bbef5116787494ca8c0d1730e14a12c",
      "2462baf70b4d4cfdb0087aa2fde4c166",
      "8a0f2698b29d46c09db408743a40a05d",
      "1cd4094173d54f7fae4d7860344f90a7",
      "c0d3c9841c6d4b4f975f21920bdfd370",
      "33e15985ad2d4d4db7b1d60dc11b728d",
      "ebb6770d2d5240f783644c45215a3266",
      "f1299a68ec51420db5c17fadbef92dc8",
      "1d60a3af34224411a89a99ee9c6bbb42",
      "aba7812f5b014674b5e9bab84d04b6e7",
      "5b0f8909243d468bbe27206a66418050",
      "e608e10bbb1343f4aa8311f310ba59a9",
      "09895f35e61f46c9a9a52fb634c6e2f3",
      "d220f831e4ba47daa8ab1fb088c4b8bc",
      "da1e0fa78f8f4f0e870ec2edf1cc157f",
      "16704504cf534d409a91f794c7eb5ab1",
      "c4d84756c1bf43babe8893d5385b1682",
      "bdcef9f1606545479fedcf31bd57ea54",
      "e3a405b83306498b98379c15b692c403",
      "cd35d25fd87f4a7cb0db2bbc500a46c9",
      "93458b706ff24dfea5ebd9536b230103",
      "64f5975cecb84e9399a937ad13ef660a",
      "1599106faf1543a19f2953c4e6f71f44",
      "3d7116022572499aa553f3f46805471b",
      "581d2d784c9f45fea1a4b812c1d455ae",
      "36df86bbd23d4b90ae3d596c32b848b1",
      "07602340b56647e5b48fe30d5687abf3",
      "422fa46734b54df0918e07d7764e39a5",
      "df0fff3114ab49f78389bb9ebc7bf394",
      "d8b66f82f3274431b122f6ceff737d09",
      "b282e8f003df481ca37fa6304f9c7ef3",
      "f8cb6a56c022459eb379ed67e40a12bf",
      "4c3c2265c4ba410bb468a1654e9f5a11",
      "d9595e66690b4ed4967c341b06e511bc",
      "15b1f2f14d2643629982cbd58a1521f9",
      "89c02c0eebfa45a9812c982012c4928a",
      "dea30dea91f047be875e59444b53c614",
      "572e0cbf945a4b2bb6f285c2b985706a",
      "6d78f7531e3948a0a15258564eef6f6f",
      "d0dbf9a522dc46a79649443fb88d4683",
      "51fa264f403747429654e4a276ed91da",
      "0da404f2f8a943ff977a15a8f72a0eff",
      "75f88c88de224f27b184007c35d9b7f2",
      "6f93bb2b9697406883509d72ca9ad4e5",
      "f1e4ca1581ed4303ac4a4bc40046a8f5",
      "46b92d60d1ab473080f4492ff703363c",
      "03f634558b634903ba77b0bc6442c982",
      "ac7c8b1cc3c84892a834524ceee138c1",
      "e52b4208e7174607b4abc3abb07323c2",
      "7e7befd2fbbb4eabac1a73df6019a2dd",
      "1a76a7e30f1b414693ec648d91c354c8",
      "eca044dca3c24a728d4023bd7e39fcc2",
      "11fc6295a6e44472b2d1554b66c20450",
      "e5ebbf4f7a77426ea732a26546db54ab",
      "f8056d382b514d2a8c4cf9f6e8bbff25",
      "87c581485a0546b9ad24e96fd74cf953",
      "f605a477007549f5a74fe71558404114",
      "1f0d332130b141fcb59f6c70e227eb9e",
      "a75b99fee399467b9fff17c929f74da8",
      "24445088bd0244cfac0e121671e13cf4",
      "a88a739789564191a2a11e8e97109ed2",
      "dbc6aad8330a449aa5e57a34d679c571",
      "17d443b0c7fd4ec1a3d7e16354ba3487",
      "704dd6a5f2514532aaa0c67b1e3dda73",
      "d7f72962458d454eaf21399d81a2e1f9",
      "82c322061be0478ba5950ce2d2375c8b",
      "2c8e6524b23247e2ae06053b71e5d4a3",
      "7fa9579267a64fcb85afac6f7134270a",
      "0432e0e422b84f8a81fa47a97fc7f35f",
      "2a03f8a722fd4aef8ca675a2d850b677",
      "1624634dc9ac4d8a9e673449c425d3a4",
      "65db524889514768bcb294e75a9126d6",
      "25975b77cd744389ac6586b184bd69f7",
      "d5f92beb76744edbbc101c0b441dae62",
      "8f9340207247475cb688e0ea0f5a7d3a",
      "fdf5378021b2430cb99b77faf139f4d5",
      "d08cc7c6d2464c6dbaf4a2d720fa69bf",
      "fdfe3badf7934912ba69d42b85a98580",
      "d3ccebe3180445479f862a7b14721d71",
      "e1f27e59f93e40b59b9d2d3cf6af19dd",
      "594f38f94e484ddf8dc73a5521a88286",
      "48c7855a5d3643dca983d41035e37394",
      "ecadfbde10974beeb91e253d1b0bd9e6",
      "f4522ca3ab2642a182291edddb863b4e",
      "25eb7b6f8850427b9097bb49bb5ce48b",
      "fc32f4ad090f4ef5968de5e4cbcdc2eb",
      "8221e5d8c93f4015b16ceb554b73073c",
      "8167cd7abb8b4ed0b4ba557b73ad0a21",
      "35bb6356dfe34bd7b7112c3fb4bb61e4",
      "77a62cd958db47219b1a5ce81bf35b05",
      "810d9fc24a564da38f50b1a29509d784",
      "45d51cdfacbf44d9bcaf2222a0d253e4",
      "6253515a60cb4785acdaa630c2f3138c",
      "f645982d5f9f448985c639a34088fdf4",
      "dbb9d6486b5042b586bcfb7bf6ec22bd",
      "08392587f03e4b798ef339020c5bb155",
      "d925aaf36a0f46dd882812db67bb56f5",
      "beb0623e217d47308192ab46c04174fc",
      "14a615943e3e44269c59474acb75e84c",
      "8cddb18087d74b64b62464fa73b60292",
      "527ed256313642618bf6a3ba6cd19a53",
      "c2e5470a7c684936874c308010a4d6a2",
      "1fc9c108526e483694c5cd056daf05ef",
      "c20d6933b2aa4fd39c4f7dcf8189a4b1",
      "b88b2effbf14486b99ffa17d8ed4c70b",
      "53437e20fddc485184f0bb57016ab2bd",
      "773567348d4a4a97b61441b5e9667b53",
      "a3e582be22784db4816c685cfa6bf180",
      "25ce965d9d8e43e3aadab27580135aac",
      "894e8515f81d4667954450b2f14e0faf",
      "39e3c4f75e3f4c08b228f763f73daef7",
      "7800a640ec914e83bc02b3f7ba824b69",
      "c9ed50ad8e914f979408300ad9b84e3f",
      "04ef714df7b642d5b15c6c6534080e97",
      "5780993100814c698aea0b31ba0ee55e",
      "c86553864a3b41e0ac99e7777ed2fa53",
      "4a4d1ce89a90456baf5e6d03de2b8768",
      "84a44909e0f4439a923cce3c44a339b9",
      "58dddcde8ac34b38bf8e15bb89c29044",
      "63b37afd142a45548ab2fe32d00f1070",
      "59819340193a4d4bb2f091378f6056a9",
      "53c0d0c08d754104927adf5167d0c1ae",
      "149d3f968f6a4c418e32940eb3068ab7",
      "6de0586556b84ce1b6612dedebdd9caf",
      "75f0445a6f054dbfae651e559a06f37a",
      "1c204cc4f2944c7e897ea9bdaacb3fdc",
      "0ea7f992f8bf4000bb503a14c180d834",
      "97107ccf35c74751ba1ea10bae706aad",
      "aafcd5d3454546a79f1dda9514ce8b43",
      "30ccb001742e4c65b589cc9a0695305f",
      "18f7a0ff0bfd4a69b9801334c07fd6f1",
      "ef4d083d81234979b911e5c5a1547822",
      "0d39c168a84e4a6bad10973c2cc32aa3",
      "987454f692444bef9a9fb9eac24c4dbc",
      "2deb3e363ef94d89a3616f66d28d8fe8",
      "c490471370fa49bc8c7d130ad693667a",
      "0165aa3ca7f946eeb2235f3218acc4ef",
      "28186f1bcfb646f4b71b2ce5356ee0e0",
      "9a94661771ec47369d85231872ee17f2",
      "300ce7017edf4b178516e69145c1db90",
      "13f0a39cc6c94316bf4291bf31e1e829",
      "af61752b09d44bf191a42bbf916fcae8",
      "3d4dcb66cad7474c8ecb244e33e1cf09",
      "d83fea56f6ee4fa2bda4c934702cfe23",
      "334e62410e1440a69dc90d92757e166a",
      "71fa4c788d2240fd8a76cbcfe807adfd",
      "00a62558e974426e846860bfebcbc128",
      "24b64c263f1d4fd3b819fdd615eede4b",
      "d118a7dfaeb349399ba887b19995dc1a",
      "4ecfedf0cc6a4451b2d12f2af79f0e46",
      "9d4ae6ea06d44eb387ef68f4063a3638",
      "6905f53db8cb4a60bf93b3cab313de4a",
      "58f0c914760045c99f44bba1ceabee44",
      "62997dd240d44baa9f2cde09fa176a9f",
      "820f2f61e8374e51a551d51865e34e6d",
      "e83a7603e9e9494986882412cf4ebc4a",
      "368554c604ec4e4a8c892c3d9f6f7f35",
      "bc3d94a2d43147c3a585fc5ea0f14bae",
      "f699ebb1ae3d4aafa469bc7ecea5c5e7",
      "7582a5d05b7141fca16e78b6387f4272",
      "7d3e2ab7bbf340bcbb04c6b05c8e0cde",
      "6dce8021d5dc49ef8b73d52c5f72312b",
      "3a78c7184f9c406eab5859f3043627eb",
      "f8e826a06cca41a398400f1b530f5cca",
      "9c4dd28c104244db8e9f47a1819740ed",
      "4a4e5e4f320d4f0aa51a99ace6dc2c01",
      "894222e35ab244e493ed2771b59bcb82",
      "beaa803130c34d089bd201ac43fae839",
      "6dd2c426abfb4f6f80c827bd3ea46f4d",
      "37f1f146b61e434d8e7e7c82e70ebaac",
      "b5c0755bc63d46d99f578e94d833a372",
      "5e310a6e035c4af2a36c163a61e388c7",
      "b711c7250156445dbd7613ec91f363fd",
      "1c7be35a44414115803f631e08fbe549",
      "270f620494ac452d81d30256316e2028",
      "1d381a0d8e7941b3a614dc20db886c4c",
      "4133de0c489b42c196a06995ea5278cb",
      "7a7cf3ec1fa54e17821307847941c7f9",
      "1163494776c9429c83aa62b5ca01d794",
      "ba34ea883c814ea28b84779bf082b5e9",
      "1f4bfdf0f8fc4c98af49aa4539a28d53",
      "540a0c1552d54a7a9d40e492a375f218",
      "7dafea102bec4f43aefd83cea25d4923",
      "34802ec619b74b2eb47c90438886c9f2",
      "05c196d6a50148c58657fc9eaa93a159",
      "cdb2dfe32aa241b6950677cbec534ab7",
      "e9bf3c5825a5463c82f5a97b226836f4",
      "408634765ec848cebe6669f4f956a3ef",
      "cc7c0be8e694416cb2300ff082cbf4c5",
      "5c7171b500fd41538017dfa0116b015c",
      "bfd0cc212a2d417db2b12d6237f03535",
      "149c3ba825ba4c3cbd192a77f945f214",
      "0633f6f26a3c4afebe186830f49fbb96",
      "916b813a34b84d00bdc52801ab9b430c",
      "a487b35b519d4b6cae06fb706bc197be",
      "7f21e02f463b4551b680d4d2c283b76f",
      "0213356d72ce4a9fb3fa9e575ffb2709",
      "88daeab3c20945148ec1b03c2267c659",
      "d98ba96778564a40b0cc15971dceaf0b",
      "fd15e5eb074d4e1e8de98f89d4a49ba1",
      "86d56637a22e4c1e926fa09abd6bdba4",
      "0937d91aed384664a3bbe80b61a6cfe5",
      "4e150433df684011ad05a496f52cc3d7",
      "a63f5776b9c94535becac5357223b44c",
      "91e8bef03aa046d0bb11471e0af195f6",
      "03b146776b09438d946dbd5b7f3721e0",
      "735e0ffd1e0a4ea6860b4e92e7a043a4",
      "43ed77b92b334cf5a2ed67547c27e7e9",
      "158df9bd688240c0a0f83d8ab82b3ca2",
      "d73d2982e97d4b65a059b7d6071f5e39",
      "f8f6c78ccd334e21baae48ec81a0412e",
      "264b8e97889b48b086819e60fe62c3eb",
      "f806674c15c04a49a52f9e54252d5097",
      "22bf324e344d4c0e8acfc59dcec0e38e",
      "512c3642a36640b3a07d54043d1a86e7",
      "1a8210466c3f46299932d5952690cff3",
      "b8629fec9e9645cfa59b5637a363506f",
      "16f20f44258441048adf533f0c38b6a2",
      "60f9e38ac80242ac81c8c0d129736830",
      "5fa9565b393a4b6987d7ecae2a2ac038",
      "8bd4165c6aa44c77be9488357b897f1a",
      "ff5a1d2bc84b40c597c807d816d8ad81",
      "7e26c8147f5d4e8d900ba7460e08a641",
      "cf053075064a4eaeba5d8032c558e02b",
      "319862ef651a4a839f6133857f0ab09d",
      "9cf6f22a5a58433ab330306a6136b63a",
      "fa4337757e0341f5a79d78f4def62271",
      "f4a90a262a5c4ae5912e90e3a2bd0531",
      "a6e127d2588f4d97807d2d040556f0ca",
      "3aa7989cfda34f60ab66a2c402a6f558",
      "bedae3b208a64db786f4c709b638f39e",
      "7bf54ffb2c8e44ad81f58d8d2cfd9cb9",
      "ab3800f5e302476f98f926b4891b1e6c",
      "4a65d51690b94489a1fb7dbbeebe5d2c",
      "cfa85325131547cc811e154b9f90084a",
      "47c7da946e9b448f821da467abaa37bc",
      "5335e0f31c6e41c78aadca8f3f847733",
      "604376bae179436ca86e864b8fe91913",
      "366fd206c5c54c24b48bc4cdc1306f10",
      "43142ed6983d40e9b587eb046b7b4112",
      "c5c54d8130c049c594d7f3de3e8c749b",
      "fde3be9d092e402d982a0ec19b8b44fd",
      "069a6e51186a4f6693e112c52c1fa234",
      "aeef04e05e39444eb065f528ec984784",
      "9ad70e25217346eab27f110c33b75d9f",
      "ac36d49071034b8a8401d3a1d72cbf9c",
      "bd5877bc80b44482ae76c60c77898f33",
      "ea17123125dc4aa6885291c4cb433b61",
      "a8814cd1bef74c7b800bc07610a08b8f",
      "35f0a4a744aa4fbea0cfef3d1864cad3",
      "6e2d4bc956f748b0bfb18f821380d13e",
      "4adc0dacfac5467c81098a031e85d979",
      "7f9dc5aa143644ed99a99b321ca2a990",
      "da966638829d41cfb710d9d5c7c5cbd0",
      "d7ae5fb596dd435ca226f0cd14ef9c05",
      "090fd053f5164e9bb023dcfe57ac3e3e",
      "6a696dee4cca4cc881bcaa8d9a5225e3",
      "7b92c1fa3f2445f793552d6eb9121848",
      "dd398cdc0dbb4be397c7238512d76574",
      "ee6e0f2a77544089b4ae934085df25f6",
      "9517618a93d34e17864d787523d0c79c",
      "95ee879a8dc046699cca19e42f7207a7",
      "de637934f2ee4d058d8650bfa71ef820",
      "db32c8ed230949449a0cb931fab38cb8",
      "d1036c052e884abea1f385fb043c7e4e",
      "1da4575c081f4898803e739b7386c01b",
      "7fd5ac67853c429393086ce7eebdb781",
      "5543a4eae8634d5185b5e6040fac109e",
      "8af000627497463f87d5800844413063",
      "6efa8d44ee914c91b56719b7b3d5fc76",
      "518367e1b7304750abceeedc197fb467",
      "a44a2d8ea0154a7daebe621e942b4f0d",
      "34a6ffcb681d4d11b47ceb4e89bf3024",
      "631ba1dca378451a99e45062b44a8323",
      "16f0db3a8d854c8189f236c50b7b0fb1",
      "0fcaf64ed4154589a8c250d511b951ca",
      "f7cb83ef1ffe43fb83d7a06d0da38949",
      "19209d95a129482ca357533d55a57396",
      "672f9e9bf59c48749fb77e9b424fd060",
      "4ee7e112e63143409a634a0beb9f5b7d",
      "65b7ee704f24477f8122aaec4f886496",
      "187dd2bb568c4bb09265bd304a148cbd",
      "c33fac19ae114b82a3b7af09fd267770",
      "ae7639fde0c94efb85048af75f5f42a0",
      "f94b1864eed044e084e1a6dfd54ff968",
      "3b3e0da9f653434fbcfc55eead3097b7",
      "a45183e4824247a79b0dbde9e534756b",
      "f2cca7e40ede402b9a8d5c8cacd6b4d8",
      "1788e559b96547ecae6f7a9045784ff3",
      "b82e7b519d324df982c7774798d00f71",
      "7c3831b0d5b04cd5bb23d543729f703a",
      "0a1d9ccab11b4bc1b5eb6f6475f187c2",
      "eb92694199ed4bf8a4619a5a95799939",
      "e51aaf16b8774f39bd025c5f2fdd4ebe",
      "90869dc7052241e095881f625c56f583",
      "a0127d0bc80c4011b17a2123bb68166a",
      "3c503cc05a414dda80ae02b64975cafd",
      "63dd0389788c43918e410d9a1dc2255b",
      "0cbd5af29974482883c8773c5ebe7711",
      "17c74c4f69214213b1b5171c07fa749c",
      "29f61f97e00d489c84f5068019cd4d38",
      "b8ed99acf9fa4c2f8f9cea78999f5936",
      "7e13649d632a4344b96b138ddd715df3",
      "c79456229c0444299176c4001d49bcfc",
      "6f86984f9b8a4e5fafdffb2308c673f1",
      "e14c45220761485d9425077211c0d8f0",
      "546dbca306ab45dba0e08b7f34d50038",
      "f9b0bcc1eb9d4d2db0d4d24c356b2915",
      "14baba14be114b859a100afcf9f52f67",
      "b686b6732ac240c48f07e96469d026a8",
      "906c1e801199445485aae6a4758bf1ed",
      "8a5cbe31660141daa1bb131aaa8d0e4c",
      "7a57cb2f2d03440d83ab178c9595a1e8",
      "a1f51e5de3bd4f8dba849a52d2f657d3",
      "9279dc0cf66c48968890b1f19d2705e4",
      "c6c25fa0b7b24ab996890ec0a8da2a56",
      "c7896a63f6bb4a7ca059a51b2ab6f8d2",
      "764e882faa2a4229b6a0dac2e17fefbe",
      "dc0b9e6af6c4446e92cf7d69f0f3384c",
      "6b559b3bd6cc4b75881587d5dfb8f1f2",
      "5f8a2670a3974a7d90db805bc8148dfc",
      "7f862802bfed44a29b70717c6cad81c5",
      "1675234f3e0f47ad8b186db3459a7a13",
      "dfc437e81d9e403d930dfe4f0fc07be0",
      "733eee2d64ed49669f9942a4342aeaef",
      "8de9713ce8e6477a9581f17298787cf6",
      "ff7abd54d19b4663ad738aa2ee4a99bb",
      "141f6b1f339742f392ede168a7e7b4a4",
      "c4e7f9ab43344ed787236bf19351a543",
      "e6561bfada7741559f7f3e77fb5e1312",
      "37b70537b95a4bb5b8bc2deca5059939",
      "526d5cfcddaf4567acbfaa27706f5ea2",
      "32f5d295d7fa4511977e31554e959d09",
      "6678c036c82a434f80d8e08baf072a1e",
      "1a56ad6197e8457fb1d8578b52830c14",
      "08a76ed334bf4ebc8a5e73b1ec5d3488",
      "953208fbe7e743f2a45247fe5a13b374",
      "728ec4eac1c94310bff2a2059f4ff0cd",
      "e5b164f1e7ca40fdbc2934d930aaf7d9",
      "c51cf530eede4168b51be0a78ded2a29",
      "18b80fa6b73d4f1a901c93e2cfb64a9b",
      "2feacc7b001d4fa8a2d1fee59e9b7c58",
      "f79d3cd5d2da4ca3bae9c38e19c34b40",
      "b250865cd5974c848d7cb3a6de7ec634",
      "28f73842eb49453a89abd5af80e80b25",
      "8bdb8b39e9e94aeb8833eacfcee52b4e",
      "078cad08118b4c1589effe125ff37778",
      "b481c96bf8d34b9d817828daf3f9bdb0",
      "72e3cf7fb6c8457bb19813ba018618ff",
      "d1b54c1d6ca94015bc74145b0b8f5ecb",
      "179decf3e53441b79c352e08f001dcee",
      "a16a8faf635e482e9a836969b2644aa8",
      "22dbcee8fc6d4669b5a1b7a03166c54a",
      "1bd868dd101b4a70977d61a6d41bc1e4",
      "f3c8c8e48dd94c30aba39930b3cd95a7",
      "9b910209424c4c809e9b476b6a442d29",
      "191a95f4a99d4fe78b1a0cd0e52ba685",
      "05a9c07d11e241d1974bd08e308cb8ab",
      "60751af1bddc43e0ac72c066c7650af3",
      "fb62fcedd9b24b92b558433b532c2ec5",
      "4dc64d5ad03f42cd98cedce09556bf6e",
      "2d86a313a0d442f78915d9e9b100c7f1",
      "ccecc75bf6db47b8a4a577a92f570e77",
      "6b619ae276af4d76b7ec9858f24f58e7",
      "c2c02d5a093a4bb6b0c32850a884d1c9",
      "59c37c6f5bdc40638a241a099eaa7bab",
      "99aeb2eacacc4bfcbc0da09c151a569d",
      "69bd587b7b2541bc9f7c325e0e89bba4",
      "4d19a03cda29430d99ae40828436d870",
      "52c57ce2ea3b4d409cc89f9086794cb8",
      "04026c81ac09433ba2f38c72fc122532",
      "e662d9af6b56484e97b8258449f87e96",
      "b14e46d6c4fa4191ba65adda7917073a",
      "5f40699b54034f3c91874b5de20b1544",
      "13ccab1362fd42e1a40dcb5cba29a9fe",
      "89e86c37f5394b089f55460d9339a8ac",
      "c1b3b7f0dacc4a4f90276a9c9b9818fc",
      "104bab60df4c48c5b097c01cc1fa8dfc",
      "fc95544461c04df3bc7f6a990b91bf31",
      "eec87d98774a4ffe873718e4ee783e4d",
      "d3db37c314504e68ac55fbddd83f1898",
      "d72e562b141340928dde1012146df622",
      "980ea9a86ed24fb2a12150c2cbece626",
      "740ed62ea87f40d6a3aed8e14f5b5502",
      "451b95da37a7444d869b5144872f514e",
      "ad68a39de67946ee9e8ca15233d02d91",
      "110a1c6cdf0443669c7084aff6e468ad",
      "f0a639863381479fac6e68fe39930372",
      "bc3d49aa42a5468e83a82d1999923f83",
      "5ae64b4bf61a4ed2944a9f61a1b445c3",
      "5f69c99862644fa3ab8284a6dbbf0d07",
      "8cb9e276a36543e19ebf368a10f8c611",
      "2917ba70a7ff4130aa5881c0192748c4",
      "80e4886aaa7040afbf0fc5ca67d68a59",
      "116160fa5e5d4871a4a71c6dccf59031",
      "92adcfc1b1d74e728fa8c990b7fe9319",
      "ec9eb84008e7406ca24b8463d1dbf268",
      "0e56168d99e845f3b9d9628f96e1c491",
      "b7388fc2176b45eaba0337e1c37c30b9",
      "164d4590049c41e4bbcc1a1dc870667d",
      "2f8b1a7e74a844d4827f1b8aa09a2caf",
      "01f3126f8cb64ed19f3a4238b8fd23df",
      "2f0822ce776142a9881f7a1faff8c0b9",
      "98e82ab22ef3473293399f85e06f4d81",
      "ec7e53cc574c408fbdc593fae73814bf",
      "5efc5a44ecf4446a917521d7a1fcf428",
      "487863c51d804c8f8baeb40291a237a2",
      "56e84d73a5e844cf91a68fa90544caaf",
      "a6b99a28d797451f988d67961f49868b",
      "ca8f14e0748c4b0d836be581eb9ff246",
      "5657462a106845f2bc71ff244f97acd7",
      "7e7739353c3345a6997c1d6861f888f8",
      "09f849f78ebd48f29912dacef6a29fdb",
      "8e157c99feb64ed79feeedd1314638b2",
      "e367d7e96f0446338a373ddd96666c0d",
      "29df1bd0d06c408e870cbccd01d6a125",
      "c24f3a2a147645feb0a3f7942161af1d",
      "fb16e6ce7b3340f68f361d5785ae19b6",
      "756db024c6b343ff8e4cbee95da658a1",
      "6ccab56ab85b44b1b876ae40be8c1d4f",
      "f690ed83dccf4e73860b9dc19413e602",
      "b939a68d70d04c3e954b3430903f317c",
      "ff35cf166bce4a3f87c4379a6b66a37c",
      "246425c6af484edca65976fc0ab90996",
      "cc1accf04bbe4e4fa7808c97648b71bd",
      "431fb898efcf4f6ba62feba1915317d5",
      "3df1725d8cdb4bb9aada5e63af0523df",
      "cf35811f17aa414f88188782500318dc",
      "1cf8607e7b5742ad83a3b344e19c5220",
      "ff104884647c465299c1b8f7d6ac5404",
      "eb4c9580a111439b8c2298cb431a5660",
      "9dc7320c7a084498a9f7de8dad604ef4",
      "3ddb4331bb644e0ca94519c4b46c85e8",
      "a59daac18bed458cacdc06d03456f4f5",
      "a5d109ed59ab4109963f853bfbcdfa99",
      "b90fbbf18be4428e8d86693c1b1b6469",
      "f1ebe379fc444d87898e3a7265ea4353",
      "761771c7f3534c25b384f98ddcdf2153",
      "a547803ca88d42d790602989dffffb0f",
      "224edc739dc249a89adfeaaad17a26f5",
      "e974c5e2c17e428f8e6c760d3ae9f45b",
      "b20ad7d9ed554e5eb5d7ef64dfd3b6ad",
      "96696d01b56240fc843b740fe9462b9e",
      "14af25edd85845ab9507c98918023006",
      "56b9c3c2969f4948b610740ca0534119",
      "62172d4f8519405797d171d06ce40c95",
      "ce647fee934c41b2be183832f7c5cce0",
      "ec83f2bd605747dd8a76d71da787fa29",
      "b7669c95274642f69c038b517da693dd",
      "f0f9b0097c6843fa9cf563b552d2b82f",
      "ecf661432b7340bda00a4b5cceb2dec9",
      "1d6a939b54c64bb99bb8054dfdb08f47",
      "a35f1a7d23914486a25c80dfa0a52b98",
      "450e358f5d5b4d15b6c33cb1c9c8b931",
      "af2170e383bf46ecab0cf22415c831fd",
      "97c7683454634f5d8ec38b55c47404d3",
      "52661483e06e4417a4a546e1aa0ea358",
      "a6163311e3b4482fb875e3db2ff46632",
      "73807d727c3e402b8492fa4f3528e181",
      "37e34f7d9a17414bb3ebc8470052778e",
      "a9ebd8e580354445a73ec7e5429910b5",
      "71bf37487e5243bbae050d121a015eaa",
      "05c86d5f1ab443fe916877ef81369dc6",
      "b53c3cccfde54f5c858f40093a0a8625",
      "c19f0684b118417897970f1c53083c0a",
      "ad3b12058fb34911b2058d054a876f96",
      "0c122d44b8ca4588bf9fc436a6f9915e",
      "579cb7f016b04d088354537e4f0db6dc",
      "9488c38423eb4e3b93418935067b02af",
      "74c95c378e774b0eaf0d5b21ca1bceb4",
      "17317eb601714bdc82f575bccd92eb66",
      "bb9d1b29aee14597a1325f63bc1f7c6a",
      "6095cbf7e8134c978034c46a5716d19c",
      "0b614dc42f1c4e40a1a7ba780d171e7c",
      "ee67f5296e98427db5dddf2bc7317e95",
      "a0967dc378234f58ab28a1bdf5eb9f0e",
      "ee5b1e78de4f484587b70ea0bde579a2",
      "c728e9e2fa284293adc791a4a1f1d126",
      "a1f75f5122864e46a2b07dc800571d54",
      "fcc0fed7dd574dc2b7aa88bda5c7187e",
      "d34ec1f37e1a49ee9348a6e76969f146",
      "c76880507e994677b2b22840004616e2",
      "19896708ea9943cdb898c4b7b2d62c18",
      "875ccc173ce340d8ac9c6a4f377577fa",
      "38d027f18ea54b18960dd512602ec3ba",
      "cacc329e77ae4564ad7cb5494c957ef6",
      "64a28386812c4d73a540b9e5d8b91f0b",
      "5027ee32ed9541e59860691315246500",
      "4847e0b411fe432fac9abe31c4701ce8",
      "4d42f94188f748f6a3de69f5114485e5",
      "10c3a578c6a14e65b2587cd989492d61",
      "345c343834c345698c54534b624a0906",
      "c781590fc79c4425845be394739125f5",
      "ec4881fe66e145ca9b8f9a324db0f2eb",
      "808c8e6a488d4f008de8f580bc56b416",
      "0d1c26224995479aa9dd448df0c72383",
      "410706eada09465b870f959883cc646e",
      "7a105dcb97d446a394713e14acf35dde",
      "3262bb016c7c48cebd05ba7635c57090",
      "79dc3f9cd6c148889c7c467b878c13d7",
      "908a61ca5b5a4591ab98390ffa2c92b5",
      "fb991c3a937f451e9716a354af8ba06e",
      "7b6b093634fe4c508b5add61bd3132f4",
      "711e81706d3c47a2bc0505fd239b876b",
      "42cdbe5b7b2c42f487048e78a6121459",
      "82d0a83aeafa4d2982d25c3e0f7081d5",
      "cb6f3d72aeb24013b431cdc99dae8ef2",
      "f41a5b917e9943b4b458bc2237b6ec44",
      "4322c6a802214bfca0b183ee982e2f31",
      "349d51383b134922924b7e596d4fa1bd",
      "ba7fa6bc58374b1ca13051ae0effbb69",
      "b244d4ae7d4f44dfba55b5cbc23e53d3",
      "764a3075ecde4e8bbbba5cdf1b52b61d",
      "d0ee2243649944e6bb701264da94dbe9",
      "fa7e263bbc524704b272fb815d095812",
      "ddb362834046499289a7e4a6b50712ae",
      "98832d3b08b04248a1597229be9c3ca1",
      "db87344e6aa2400eb6f655f83590e47d",
      "010169c514784c2bbd3b08bce9bc599c",
      "eee6fcdbf3ff45b28f70b2edc50400f2",
      "dc0c5338dd684146ad29a6554e87dd75",
      "4bdb49e328064b7c934536c952313ca4",
      "6ac6a90230124842a882991d572dd29f",
      "eaae36bd70b94788a23867d611832270",
      "8dfc494ec2d44c39854808aa499490b7",
      "948637bc8ce349adb89beccf097a224e",
      "f8efd7f1723b4bd9b04f994a2fd89659",
      "c41aed10085a4f2da39555599eef6b66",
      "a37e09f484f04d0c81f9911bec5cf4cb",
      "bcee8af3d3c0413fa51d13ba0dcc0141",
      "e4452fa801994078996759f2c877d41c",
      "356539dbf575460a866b51dd934a2807",
      "134b32a1a4d549dab64f39612eab5436",
      "435ba72cefb841199ddf0213de654765",
      "539bc0fed6144e8ab66a7a830c29ca06",
      "4da8c1a1e1584d7d989b29646d2d5d71",
      "c11588a6c31648c19526fa58eaac6691",
      "c01e10ef13b94ffd93dbc1d33c6b85e1",
      "1dc5813b26c84e79a56f8521a161ad6d",
      "55f31f473d154b4ea6dfcb7e5c4abb8c",
      "81d1e0962b9740909f1f10c041a7dcc2",
      "021e70fc1e13479eb2e505825925a348",
      "65a52634d9db41e7a067fbdb2567b9df",
      "5b23196379db47d6b219443b4edb0682",
      "8ba91311f3854420a087aaa26670cdb8",
      "7f6ac50e12d1488792a0bb20b2ed746b",
      "e991a9540b77454fa91abac431569b45",
      "8bc0079364004999bbf69eeaea9732d6",
      "ba977217c47241689e0d55d9f1b0bea1",
      "4e7c7e0b431843f79b8c7d20a0ca64bc",
      "bcf695cc204b4654b655e9c5e54ed4dd",
      "0c62052491104f259b5442fc6f22c4fd",
      "871f32b3335d477491c46970cc6d7a32",
      "2589c24bcb97402988242907327703d4",
      "8dfb5ab8f78448bbb3d99a80d449a1ca",
      "214a15de84744798b32e8b2ee1b0ba00",
      "46159b8535dd45a3a23aba31735c12fc",
      "d974be3419fe452cbc451126c26cb782",
      "0b58bf21976a4b44bac214f19a151816",
      "2dbe29f597be41ec8fdb5108009088aa",
      "18c09ae68a9242f4978be0a4fb021c85",
      "f7a3405743744adfb763fae56152f9a6",
      "d745d1b58fc7438a8fd12c585d58fef6",
      "699173346a2a4b1394d11e4624f52f66",
      "d3f0a5d77b0147fea73792259912095b",
      "69f6878e4acd48d683cb45195dddce76",
      "d1d142471f3c482a91b09174cd655875",
      "4cd92685a95e407a928dadecfd805733",
      "05d380f289c041319b9feee190ea23fe",
      "67e73f41bbcf4d57bc5eb1a0260fdba6",
      "efd29a28b21a4e96bf08e33d4eec223d",
      "dbee19cb0f4245c596ebdc0ce6cd6126",
      "3afaecb9ae994832946fedbc37f388a7",
      "cd62eeb63dc649608950b4d462182926",
      "ecbf86eb62d54414920597acd68674fe",
      "a87eef9b0e564298b734f11da2fd4fd3",
      "0f61ff1d33914ebd81140b5514c8b906",
      "9ae8a809d7734a8094617c9229199a79",
      "7e358518698045b59ec4eca622c2add4",
      "d99056f778e348bc93cfd249a80a654c",
      "bcdd999814f745ee8ef27d0d2672821f",
      "ae4f09fa413f48989d52d6b3a48c526d",
      "0a236bf0473b4542a683247e690d6cdb",
      "76ca32a8c13d41f4ae244e7885a154e1",
      "9b96b09384da4165ae27397294b108b6",
      "c4a8cace5f9847199d65e4206f202a96",
      "0c278f54f8a341c9964c44afad122e8d",
      "bf88a551df7d49e184696c823f0ac018",
      "f2ac3fd087c3408db47e6420cce9e1ca",
      "f0fec82fd00e4ef48c0b94d13e8a2a01",
      "437330f7217a4dc0aad42f594e8b112c",
      "3f11539682c44454814bfd90f54d2e82",
      "85700b65a89945c1803240a76edd45c0",
      "adecbb61ffc04351a5f5c4be980bb3d9",
      "809530b746b64734b3eb9317c9d9074d",
      "597aa2f6e8924d7cbc4ec5de9b8cca5d",
      "bf3809f17dc8469dad5990643b7b75a8",
      "d3859a60c5324f57adc7e6b2e7c1bba3",
      "c5e8df8d00d244ccace58c67a8b1c7c0",
      "8c5eaf7bad3343b5800f3ae92001f1fe",
      "abbdb6a95d164f219314e819f3116a35",
      "ad7287975b0c4d48aa3f9f258bca6e03",
      "b253957b77d04003aef2196ca2a2957c",
      "267368dcb4c74549b1c4afa80c4b8975",
      "eab36f7d66dd4b96b7e1a6af6d21002c",
      "864e223098254ffea441a6fd48fe1489",
      "e9dfbcab970345778f7e24084a46d95b",
      "a7d615b7e22146bd81403f298ddf163e",
      "2c7382f92c6d470182c0c9ec5a8b57ac",
      "167d31d5245a497485d4050032512546",
      "d26dc49bedba418084da60faea09addc",
      "74afc5a448dd45b5991b7be6e1b21a85",
      "6f7676d61f2642c7a59ab8ca7993656a",
      "a8020ce62ccd4bb0aade8045a8540dc7",
      "706b1cd5b9c54fd287be059cddd59c23",
      "449452192a1c44738f96bb389a91f21c",
      "e978542299ad4524ad6c4e83b8889a4d",
      "e2d1d72b2c494174bf9b461aec84890b",
      "12c95f1817cf45aea515f0efccb492b7",
      "ae29ddc396cf4d1bb3d8e0a319067e3f",
      "924e019ba2344edcb14d1ef3b253d374",
      "4ec8cafc145f4cae850d16420888312f",
      "70d22471446b431b8554ff0b3c03d002",
      "e2fac22d5f094ce9b3ad98d4615356c4",
      "e1896e71d3e142ad842cbaa02cca1d39",
      "046d51ac478043dc8ad2336bfd3a605a",
      "20c131ab62f34379b3a515d18fac1aa3",
      "45bd1ce8c52d4ba8bfa45767a9362934",
      "bcc8ca912f594278b56cee19e37856bc",
      "d8ce026c25494668ae1374279328b6ac",
      "4e288576dff241afb40b2191847a1924",
      "fcbaa4d1cc9c4d6399d3379d85ede6ea",
      "b2613a32614944eab23f0e9b4f9ca538",
      "bbc6416223cb4441a8c484d0598bc90e",
      "00cfd82c0dda44599c2a9025a3237912",
      "8ae99b2aaf884d0d9bda9d83df4ddeed",
      "b2ea285fdf68432d83098c6fb4aa0d01",
      "9ed6d99c4f414c7c98f6ed0eb202eb68",
      "577888f59aa0435287b475dd810ba019",
      "2e645975d88e4512aa9a7fe6f16ea362",
      "053b50688227473dbd0124923078ade7",
      "4f501f96d47b4fd8bd6f7cd72cf91d4c",
      "b9597345f7a1458385fc9848c2018395",
      "2fa81873ba3c4d5f8640e77653cc69dc",
      "c1f0b0dd11a14f9cad0ba62cb74af839",
      "1275f308fc5a4e949916ef6964fc9289",
      "d58efbd128034cf58ef3499b497bfb04",
      "338bfcfde4de48bf9b78abd2d24f5779",
      "97101a32eb024197bb3e1765a98f76ae",
      "51e1e5265d6a4b708bc0518a9cab5727",
      "0bf7d70275a34dd186a5617bd99c1bdf",
      "4122829fb88f41fe8f8c089b6efcb596",
      "1213fd1ff86a4d7cad0b10afe7d0e3ca",
      "925059826ec248c9a83d4924ac5f15a9",
      "b187c6f4c49d4d2595fd51fabe009224",
      "57700b4e1fba46e38ebdc113c5f38112",
      "0fea0bcb75e64dd1858fd2151221e13a",
      "5fa1a7b84e2e40c38c73fbc918c85299",
      "9e4b752a7c484c02a4afd337cbe3ef45",
      "b26efd5e1b53431592148bdd261eb156",
      "69cdd00016ae4bf4b7f5cfa574bffa09",
      "220a4b6d35a147a28a16114197ea79de",
      "ea55a69aac614820ac8ec68eede922e6",
      "b33cc8d4826a426d8ddc3068ff5ae354",
      "d44c33cf4b34417b8bfe3d202bca988a",
      "2d4b9d247e0f482abd6f7dea5c952630",
      "5ab46ae2c2164b0ba0a1c3801941c8e9",
      "663b7cfe00bd49a2805cd8c1179e91ff",
      "aa859c73feed4233b6ae2b06908e05a8",
      "189c3de88f344c59a6d313823cd63f47",
      "e11ba0b39bb14830a0a37c6f1a685fde",
      "4b3c5328453c474d9b41dfe88914e004",
      "47eb4e42e4bc4f32a04e04ce54a05944",
      "5c1d8f8e321740cdb3609188350389fd",
      "aebc3a56158f48ac8e016aea5bbe8736",
      "6918958ec9b3418086c7e6e95134e389",
      "c4120a9bf8ab4ae293ba39013dc38ec8",
      "4556463781854f31bedcdc5b6acd55a2",
      "a70754c2ac944f12bcb85f4ac3eefdc4",
      "7e165dadf35f49919ff8ff40b49c2903",
      "185dac8365e34e32a7bfa32ef22c2b67",
      "7385504ba62845748314b9562cb3a59f",
      "da54ad111674425c89adc09eb258455e",
      "a66ea6370e964c2290f11e1dc1f30598",
      "156c514d98314542aadd349a0423b061",
      "0801e2be7f534677989f284b4e463d35",
      "0dadc596fd9d44c79247f674f0cd54e4",
      "0485f81c085d42fcbdcc8225a3a903eb",
      "7e2aa9203182408a9ca7bc826b699302",
      "0cfa983c4a9d46b29a6c4aaf8117490a",
      "f127e4f20b41495391966ee687cf8dfa",
      "c52207c83d5e434a90f2d60350157d8d",
      "21f65a57c8be4a8196ac14c304a977a1",
      "2221731f72a64a7b8b3159b19dff7928",
      "51258b0b4db94f8fb12a27e1c36d20f8",
      "2815eab61a094f798fa9a0aa5e031fac",
      "b68c4537e71d42c89afdbe37fe9e33c2",
      "6e64b8a8b8a3426c81534a1bcab78f08",
      "6e7e1d0bc06648838202bb97b65a66a4",
      "59f11ba6df684574a635d763241e5362",
      "75ca13c5491b45cfb384231d3b899916",
      "4daaacaaab8944f3bdb23f2f11110a5e",
      "2b81710009334efdaaa9fefa3f07d6eb",
      "4b23702364ae429d94027024d0ca5127",
      "b517a5e700f4401fb378e8d9050de0aa",
      "7009c425ed6e4f9091aa9634b5fa997c",
      "5aced17ebc1f4e4a8434118864a471c1",
      "7fb73b787be346b5aef4152bc08c2acf",
      "85543f3fa01342bb9205f1a56bef854b",
      "adabfca6dbcc47558f82e8bf98a61869",
      "e895de152c7a476991dd94aeb9a98b21",
      "2d61997503fd40a484375fc9efd08eee",
      "7a02cada5ac24852a944d941e2e67f27",
      "2da08c30892e49739857008c3a143dfc",
      "7dc79105dc83412b9b182125dff7a375",
      "faeeb5cfc3f447f68aef272333d411d0",
      "50b6a25af64b42b39535ef7cbe308b1d",
      "e2a108f686cf4a46900c56377d7e3ba8",
      "2d1f2a71d3ce4ad192cece4dd8e9293d",
      "c337ac5b14834040a216fdc84d0b040a",
      "d1847f5221b44726934215b1986a9df0",
      "dde2e01a428f4e5c96609f6aefa021dc",
      "3502fba76d604b3d91953135f40f77be",
      "b002b230dbde4a49862196c6a59dabb3",
      "56a560f3b8f441d79d306245382aae38",
      "2cf934964bab4081a2a6037b8506be10",
      "1a5c861f7e5741b4af8e9b3373480af4",
      "f6e60168b2ae47769f928e5935d81fcf",
      "2324621ef1d64c92bbeed95de9599e2c",
      "3194e70a1d6642beb95a1e0b23241c80",
      "386170b2c6d14d89960785cfe54da95b",
      "95694310924c40329ebf1667ecb04f99",
      "a69d52d6cf6647fdaef60ae0a3ee0233",
      "1b1b8e9a121d4f5dac0cda7ae4d36dd3",
      "1b7a43b4f3454cd79f24ff7f890049e2",
      "1dd2f993885b43159cf9059d9a62ee65",
      "73197ea988744000a70a0cbdd7fe45cb",
      "67a79a5db2dd4e09955d423fe25d95f8",
      "4d3822580dca4d279d9a61e71f42df0c",
      "9c28d5dbf7f34ed7bbf30af1a571aff0",
      "d7b3111193e3421cb2d3a4baa43f4eac",
      "cfc122d7fc6c467e846bf56c9cf56189",
      "ff645ee4efea4955b18cca716920e466",
      "613b1cd8ff7e4e24a7b50b7a9af02d16",
      "e07a54b7bf484917be044986c65f6f4f",
      "2ad7f8f8da25429bb4fa8bd03c6a38b1",
      "4b63d0bc706e4106a30dbf8d7805fbec",
      "09b254d89b8f4aaf9a42eed3ba93c148",
      "a619c485c74a46c599d2685cebe0380b",
      "f5fac20b09a4424d9699eabd93c12ee2",
      "b7ad90649ab74c64b21bff06bdf2d0ce",
      "3e6c2e6633dc4665bfd943d70204af40",
      "370f07edc59a48318d71f023ce29b5d7",
      "3970c0b750e84181a5bc77be7827169e",
      "f557b3d5b9db4cf5940200ceed68d69c",
      "afb282c58a8247f79dfe8cd9316b0c5b",
      "bd49748ab6f84da2844c861ac08b54c9",
      "6ad4f3a4c9e74672a86e1b8e09813918",
      "6e193e36271249f1b5503bfb8caa1618",
      "40d0037a1cc146c7867b630f3b014293",
      "866fa8afc53e4da2a72ec597ea703250",
      "b85a409426244a4f98d5bbaf1822ca7f",
      "2f27f60ead72479aa93278df6a8b155f",
      "c0451530293a429bbd906f8d3bef0cfc",
      "7578631269d64d0bb5590b8f3c00000b",
      "a340a89007ac435eac6c8478f079e254",
      "609f33e49d50438eaf49121e568ea746",
      "5e06d9abb1d34dcdbabb490d174d382b",
      "9723891882c04ec6850cbbe0ef4a0580",
      "d16792921675451bbc99aa1cecba6f1d",
      "5bf4e92b07ff4697847da802312df472",
      "785de7aa598049a7aeb8638d219e511d",
      "4eead49b53b84b368fee83924b06727c",
      "25d3e74a17654f9da9cd0dbaf1ecb448",
      "bb4e46a4d89042e7bbf600e078a35c86",
      "185c408819ca434ab6dcdb2f7b148fda",
      "fd12fcd1c2884c70b249adc9b74a1971",
      "190b6d5253544b2fb43c7fc470c62180",
      "84349b4fed9b4888a61b6e90e895b9cf",
      "f0cffb87bfd74b58a8675f6cc32b59d2",
      "86f43e4a30f64981ae1248dfd5d17bfd",
      "75dcb7530d074959b897b82268157237",
      "b29bb50f8eec4700b23e01e5fd3a0fd3",
      "0a29283b7f10446a92d649190e9f1748",
      "e10e1c3b026a48adbb228da86e523d50",
      "cf740cd1c7624e0894d3eed8ec081647",
      "7dddcd7dfa544f84a05b0745304d6093",
      "e712968604d141569b761826c95d89d2",
      "a111e42657af48bda166f393eb708414",
      "321d167344be479db8405afa8680ed1e",
      "405e5fa37170452c804854ffb790e82b",
      "1470d969837d4d3bbda452b6c07f08bd",
      "12b28e46900d4986a9ec714515e187cb",
      "5a0341e69f5a4906932ead0f5c468b75",
      "5f3d812bd6324d13bb89df10ebc0d86a",
      "588b4bb8d49d4040a13ea88520ce4df4",
      "e15c0097c73b4813a1e89508980ace44",
      "bf551a05044c4f3b9edf72c418c2e447",
      "bb4144d0289c4376bcefe62d4f108780",
      "643f0a7ad36e4ca4acd6f669c9275d50",
      "70b1896777ac4c3ea3d8dca49cc4df30",
      "f345f7d19e2146f0aac9f2c30b7ec318",
      "7760e73e3f7243908fe4ff8e215dbece",
      "21f5ac6afae641d9b21ad3415029dab9",
      "a1559674def242028f2fec644f6b7cdd",
      "78e27af1fd9242f3bd1105b81ed76cd7",
      "cc45a09fb5c548618cb910ef115a80ef",
      "565661236c9344d6986d0f5ec0714191",
      "a23acef6bd5c4cdead7ba587f05b191a",
      "d1ffdef5dfcf41f3894ba91988a57af1",
      "6c3bcd85d2d645e2b7740710ed445404",
      "eb3cab1e943446878208ff713b9f0cb0",
      "c6b2834228f84d75bf921dc14e6f1e1f",
      "43e39040a3524e03b675010dd140eca4",
      "13879685bea346848d675cb0e6c06795",
      "df66278b69bf4df5bbc91f824c32d506",
      "403f458119cf44cda2ca94d568243001",
      "689573ddccb04d9bb29da49c9528f0cd",
      "11660471275845b69120fefdbc7e7ba7",
      "d1e3faa0279f438e83840e4bae645d3b",
      "d433772e24e746018ff7065a047124d2",
      "331c6956f715471ca4e798f487d8e009",
      "c384231cd1144d9a86fe12bb5a66a6bc",
      "ea8ac3c81b3c4bbb81904191e108f2bf",
      "4b63ecb148ea4291aa7478bdb7aa29d7",
      "abf3e74f1c614b47bc909e3891749d11",
      "6a24052116114f9ab2e9224992bd9cc9",
      "2afc3561cdce436d9897ef22d8eb9bb5",
      "2462622da2fc432aa6ccaae205eb0fb5",
      "279b86128b124cdcae26d318ef0c325e",
      "7a9201902ddf4ee7996985b265cc0b31",
      "775590f46bdd4eda9b660bb1ad6ab4d0",
      "87565f12cd394ac8bd6dd4e877177231",
      "5067f6bfe6944ad89cec8ee29b6def23",
      "0c05799aa03a4ca39538248d28c2d9a5",
      "e697c259032b43b49af82473ef79959f",
      "ab3637580fba4f62a160fb77d03b5b0d",
      "abce5a002cfd424095cae087caa30603",
      "c2d753bec2694e2dabcbfed1106b05ed",
      "485fd80111d44ab0a97621297b3ffb42",
      "29ca00ec96dd479abc590f436cae6318",
      "6ef289d91976423f96a5c18a25ba2ab6",
      "a287bdbb29304904925173fa8e434399",
      "982c59792949483e8091ac69a96b4ccf",
      "d1e852b276854dfb8d6576dc75cfb962",
      "0df2461146714d92812b2f9b5e48fa34",
      "95a87b800e59464b807a3d92462c5307",
      "46638b4bd0984f5eacb40b879e94350b",
      "ed53038216a04793bbeab34dc2b7f92b",
      "32cc82f65d2f4f6c8154f44d375ff967",
      "af954b60a6c245e486ca3b1bb77de301",
      "5316266261074085842db8e287724a67",
      "549e51e0d49645a8a465b7f97e94b6d0",
      "5f564b98eee14b95b1e419467ede80f7",
      "5f215ff437d14a6aa7b49968704b624c",
      "39517c8370664c3eb4577e8ddd0bb721",
      "2ca9570c269944adb5cdae6d6e61a388",
      "d635dc9fd362486da0282db1d23cdce2",
      "2cb7ac963f7f4913bf34c27eaf5a5c04",
      "8038e2901915497c897332b61aefa14c",
      "fab2a824ff7d44668a3a0c1496db52c7",
      "ad01b364563648f2adda07d68d24ca52",
      "b03369506dc14515bdfaac5bd5da3f45",
      "20e62357381544cb8089e07c593b8b2f",
      "d60008fb5f8e40d4b5ee969967a2897b",
      "657e8ef781104589b4e1eb5063a30d26",
      "6221ebc642444562a7daaf32270a2800",
      "6d072136dcd745ee894c8c25abaeac3e",
      "34529ae635b44ba5af0577b1898e2a34",
      "b4b9ac87067146998867e884850e8859",
      "b77a0078014344d9a806421d2e858da7",
      "b335d47bbf234190a1c39d2bdded4a8d",
      "e2842d67a5664470bb623513e9302d3f",
      "bee28ba5a6c544139e78c0c2ea64307e",
      "3c8277027ebf4e74a29d3d84751bc33e",
      "60f58a38f54446b3a694625847f59375",
      "006d6a043a6548a999b6226b4a3ba78a",
      "6821a13c01714c13b377c7ce918617d0",
      "18e033e2e40e432396784aa8af3caef4",
      "bacac14264c64e5382e7d6b197cdc01f",
      "fee5218b75f24765b5dfa2b8b61f312c",
      "a01d069bbc0b4813ad6ac873417a1a37",
      "9395193b84e04a45a9e7d641ebb12387",
      "31ede6cb155746579d6444d522b6b4ab",
      "c886431421054fb5b1358a5cb87a8de6",
      "bc8f1c3ccea2466986f43d1d4fab4c74",
      "4390e63813614e81a55d380c0a3153b8",
      "0680ab63be244ea7842c31f91f14b233",
      "e4530ecb173c41909edde32a687dd308",
      "275558e4660c4cb8800a404e311fc622",
      "ff7b85470728409ca72fbfeca7d87737",
      "058f81ad11c44225bb11e67832ba24f4",
      "aee2459932d54ce8bb11096c0f2dca6b",
      "8cb21748694d45b38e004c98f8cf90a3",
      "445ce497a71c4b50801c9a5218f7ebfc",
      "f396815257d74ca890ff0cd9c160fadd",
      "8577c6701bcc47cd9f07d6018955051c",
      "9008bef4c88840b3979673ec28f64613",
      "60e8677c74b04fffaa57aafb584bffc8",
      "1b08201c23e64503a9f8e4426af18e8a",
      "af1a16900d5e4ee382050505720d51fa",
      "36935e7c431d474d89a540a13b7dab05",
      "cbc45625a0a443009e9a65873d605621",
      "4ff0ca8e5e8140438ba5334510d1343a",
      "251e4d31ee534487a1af1932495e1ae3",
      "1b68e29349a84244a23bb7a249f4e37d",
      "e0f23c302c484f9780276d46ff3b328d",
      "17f212a0e0254629b2d4008216ea9343",
      "2da8ec6c69cd4bee92529398496d2e86",
      "af63fe6997e84670a31da3f6d3768638",
      "e12b1d711ce04cda9331676eda29a7b9",
      "43ee093ed3aa4c95bd6d2715c907555d",
      "0aceb3b8aefd45c8ae6f596011b30a3b",
      "82e02f33f63f4484ab3910f2845e4c22",
      "4ea6d53f11d2405d899eff006ac0e910",
      "186a09986bf04158bc12a5dfcd6c0f01",
      "ca5eb1168979421b93ccc5ba9072ab7a",
      "120a443128f0428b9e6283a0014b0f27",
      "2dc4ce9d140b4587a1c477d740d7db14",
      "7b95131c8f18464b9ff007273e9f8b23",
      "cad7aaf0e5eb4814a330570811a8da48",
      "cabb1076e57045f68f345905cc57a8b4",
      "270a5dbe8a874072993aa5277ce48cfb",
      "58b7fa9188ca4680a38d9935c73b9639",
      "f0603367a6474210a51f9617ef645ced",
      "d297da9b1c3645a98323fe9e5bb5a6e6",
      "77c113d131334e8bb01d8b81dd228c07",
      "1c40ca15117f4151ba542a3bd107181f",
      "1370cc55138a48a292061b01aa9dbe8a",
      "638fc543e3004229902185a8614741fc",
      "f5bf0e006e894634b97b8d3ffbe800d3",
      "6d12f6910afc4d068dcbcb3fd9ed1616",
      "c626fb761aaf4a50bf90228de351e5b6",
      "c3eb01afb257459aae00e2eb51cc108a",
      "9ea7560d020e479986ff059bcbca6ace",
      "f6220f6933454a9088efa15ee8d8405f",
      "a15d54105060462e8784e9cbeaec9c72",
      "63a3191955f640b0b83d1037a7dcb7ed",
      "ebc9679356b44623b08c8e3135b814c8",
      "a0a1e66b3ef74eeab8b5ca3bf90a7aa0",
      "9884a4eb75fe4741ba3cb6413e6975a1",
      "79d831722d794b96a0c3f8aa63267e43",
      "9acd94b201a04dd6baccabb1643a3bb9",
      "456ae7e4dcaa49ae9ebd2fbd46dbb7bc",
      "d478e2dc33734a97a9c67d798864195a",
      "a4e24e16094a4262aa966a6a6ab68c0b",
      "8c0bbbcfb35f45d186f7405c8d40030b",
      "7b6e2c3c8ddf44b69663b3a209f8670e",
      "ffb4cc432e8d4a5e862dc38728cadd44",
      "4cbed4f1a0c5424294afb6a99434807c",
      "4d1b85a6713346d68760963028b2c94f",
      "da2b4d3e526e409eb7ddfdf9b919db25",
      "a976bdb0cea147a59b8dacc5ed9a6774",
      "e2eef4bc8f024cadaae2888f084648d4",
      "cee99b2cc7b746718f50d43b1c836e72",
      "e0cbb6b9453942a1a84ef75da35fbe71",
      "1380977a1a734d8ea1d813482f21e8ce",
      "9fbdfde268c5443381f782de67d35116",
      "80253721796e42888656fcf07d74c911",
      "ae6720069c6d4c8891e23030a891f0f5",
      "dc1437e6221c417da857dd38a6b50471",
      "d983680219eb4588ba4abc7f46de5fdf",
      "a1f4c8dbecd54bd2801e419e42163be4",
      "c18ae05d93b743998bf3cdf8b1b7dbee",
      "9a524084af064095a892754766373803",
      "fd116f741176454b8d5092d057ffa03e",
      "f0a1506d305149a28cf09c7cbd47f2cd",
      "73c17c08b0ea4ea8a4ffb3528b0f4829",
      "1da88784fcad45c8a55db59cc5bb19fb",
      "f4a564df7bdf4466b4cff60a05c574ac",
      "8dda446a0727403a8e51befec288ff19",
      "83cd31fff08b4b9ca056b0e45171d7b2",
      "12bf11a661534f4fad0be0d980d2504b",
      "5bc8017932024c2aaffd1d0ffca07767",
      "be3bbed5c084477d81833b8fbf3d5699",
      "3426c942d4054a48aa1f8b5341cbc93f",
      "7b61b650af6a410da39b9d724ed620ae",
      "e190dfc9025f42ee807f5c753b94e759",
      "14b48a469cfb42bf910bd5292d5c6349",
      "06b6b023abff43fa8c950b54094322d7",
      "fcd8ab06e8fa4188a64564f8b3e9b37d",
      "ad85f09de3d74e4b831f616bd2b62912",
      "78be59a7656b40628c710fc631ddcb74",
      "5049dc6b8ed14a199608ad8d5b448ad0",
      "6aa0b53891254999b825feab9c757229",
      "25a5d2c2de2a44168d54de3c6498ec32",
      "23b4b7368cc14623813af73d7c08777f",
      "a6f7c7390447470cb771f3ef68b157d0",
      "d79b69df13f04771bf17ef2670bdc808",
      "1f01a39845be4667963fbf47ecc55bf3",
      "3861ec3c347c49deadeeb63c5e1d228b",
      "308759f14a1049d59c2e7befa24bf5d5",
      "d1a96bfc62204dee8d5e6b82e7bf2a10",
      "0e6188681bae4c8284a2a73cbc0efc58",
      "a6490b404c774df4a6acc772167c8c90",
      "c1a88c53392a4220bb1b8e532b6fd3e0",
      "e3c41e8a97404fba8d5c356445a44488",
      "78ac8ce44a8e4efdab4ecdcf2f11b465",
      "36ca6147cccb472ab5dbfcb404fe6d1b",
      "8950c78417de4cbcb372ce62ac417549",
      "8aafd3d307204ce2bc07d1230185e319",
      "09d1392e483f41018210ccc2e68eee6c",
      "1955b7298b414d548c45bfa0826715a3",
      "f6ee95463ca344e699f549042a5abbea",
      "99342c1e55584f6480774246ca344920",
      "bc4638672f964f9bb61dc1144a086ac2",
      "bcdf3a9e81034340820246e178a6156c",
      "775f12fdb2b7413489d780f6cb0d53e8",
      "1ef56f7cebbb43cc81d471a021d7b8b7",
      "4ebb058f1b674bc796cb871835bc3bd7",
      "676ea3623a574ecbab96829a9c586329",
      "16f201f240b3401c98bd0009e2f07108",
      "aecb438331fe4bd9b16e6aa5ba2573f1",
      "f1c22a3d08274484b8ff6b498bec499d",
      "75130536ebe5427d9a255decf8616c02",
      "c0483c9422de4191948c2df93cd2d88b",
      "b8a1b8f494fe4819829a3ae51c1f8bca",
      "89d445f336104733bbdd5729f0bc465f",
      "574a5c98e5ec4b329bb36a17eec34f9e",
      "2011b743a398475397d9585a6cd3027d",
      "e9f93f9b157e488190571de12bbbf09f",
      "2adda8c5d66e4ec4b6286c1ec932816c",
      "8693f8e3fe8f4fd3949f23d96c5df7f0",
      "3f3c4f58b53741e6beecb49cc139b99d",
      "c9353f1251184766a2d41d0fd8f4ab78",
      "254586b930c945e681d4ece519af76a9",
      "2d0399a0a41a4674ade5fba02e100e59",
      "6ccb10201466430681779a17971aa44b",
      "fec7e70bba2c48d183fd3f2edea10711",
      "14e29537df7843b18bbcfdf75c58b3ba",
      "35917a20095f49f3bf845725296c2377",
      "1a24f6af95414b28820d8edfcb943418",
      "65eef1f14b1341e4885a06efb01e8a1f",
      "e2daa9ab20ef47a999e8ae5e8e1df859",
      "5895c4f020e14134a6c41ebda4752421",
      "bb459b8f0831473caf62905eb513addc",
      "0333a3f27f0f40dcab09691d084e09da",
      "70a74ea08412494da68ace9933b1188f",
      "f0f6d9f322f147f889ca80db77e81971",
      "5e15e87fe7bf469aa0a26767720b4470",
      "7a6a3d5057734d89bc40c99e871afe79",
      "1c9ddeff400e4ce998277e0146b70e08",
      "de738f9f907e4ab9bce0febd1f08d771",
      "804f74f795ee464cafa071cc60c79554",
      "776e23a3d7534f848096b5f8e1490546",
      "881b1a04611c4d49a2b87874b3b8e4bb",
      "9207bf1bd77543f38387db994a0ad345",
      "bd02adb1369e4bafa27a978e0aece82e",
      "c6fe39f916514e8f9495f2482d40c2d4",
      "e153f71c8acf4a979b1e01f913adfb8c",
      "37a470cd82a7459ea9c05537daaa809f",
      "b9700ca32ca043608ef938418aea6bbc",
      "73f26f23ffaa4dfeaf997526bf0b0ffb",
      "68a1435cb5424d58a4353caee0abe139",
      "7973d18ad88f4979abf31faffb4cf863",
      "4ef2f4b585ca42e78f0c49ea0f84ed65",
      "2a4852a91a274ab2837692f3eb745f5d",
      "098d31a2d3104378a2252b382a3ecabb",
      "443fd0dee9ad4a38b9e019c538c987b5",
      "f8dd80ff6fae47ca88fd3ac08ba06e0d",
      "f3bd1fef3f8f4e30abfa498a30c45e84",
      "21ce30bcd8c4484d96d28b56749a0d52",
      "3932eb33611a4757976ec92a97970721",
      "0cf56f26987e4edaa4379cd61103d6fb",
      "d75b43fc8c0246bcb96c2238b9c5709c",
      "cc9ef7e078694f878451101e3cbd6d1d",
      "43c9f0c09dda48e5a36369327d7b1a22",
      "daa153c051b143aebfa6af75759aff59",
      "680b78ab9a444072b697f73bf35b8b0b",
      "62f99867375e4e4f845d8e7e221d6041",
      "0206bedcfd2d4a5a944e90f74ff1ce51",
      "1e2e1d52a8304e8da2cea5afa7e95de1",
      "bbdc4719f9024ee49f2ec6c351383d10",
      "d2c58620fdeb4919b9a52e28e93608ca",
      "a9c0a3b949a944c6bdf6872ed6c4b79e",
      "564ed55a42e245489effb36e73c0f01c",
      "aefbf4df250840e6b714f80af95e0c78",
      "d062fce177c94e388aae38a163ea3c87",
      "746988da2ecd495398ae8b5e046a73fb",
      "d93938a8556f4c7388b57291e51fbf16",
      "bfc66490b14d471e9bf3f3ba95140586",
      "9801d81c873a43fdad774117975ef822",
      "55ca23a7c9284f52b3634de22aaa9386",
      "f44ccb4aa8ea413aa84b0c5154deccb4",
      "a46aa71791624c7180b643c40c96e91c",
      "dc8673d860174a839e3b42755be20eeb",
      "baa7d10907a74100aeb1639ddda2fdc7",
      "db235d6efc87430484b180ad60ea66a8",
      "1dae538c07bd45199a40d68383757eb2",
      "1ffd9a97656841b5a68ea8bb01ff25d8",
      "b41191f572c740b2b987f1ee434a3252",
      "13c077094e4b4f3ea88e96ab99cf40f2",
      "9c557156dba94dffadc3ce6ad632ea4e",
      "6022b2fd8eae4778a2cdbfa52425edf0",
      "b4c12f0e2e4a4463bccee2e92d635b6e",
      "a4769bbf7d784f85b5163307d4611e46",
      "4fd978ad5fc449928b0680dfb72f386c",
      "e93c4bfa97df4e1aaae95f89430ebab2",
      "781232c465ca47199df9540a9396a594",
      "3f967c5710264de0aa331a037db51f8a",
      "007f57adc14244bbad27c6a57d5de5c5",
      "54fe464f28a74177bc22605d80c2252f",
      "78b0b89a5b4348d6a35816fd114053b2",
      "00f53a4a48d8447696308ef42d1331e2",
      "6c8c0868d57d46098957405602a02584",
      "9fb2ad47ee0f4674a34e304d55fd1ce4",
      "39e20a2eadb24b58a84f8b5d38cb4565",
      "0fd3800c06b04872ba5530d624577fcb",
      "6b43354e3e6f4e7bbfb950d0dc139a3a",
      "e4068b98c3594b60b9846d0d17a1e1a9",
      "cdb88e46c8db4f14aba5937e78fc06b0",
      "b865669b70ad4894ae14c21398fbf6dc",
      "c33a92d6361149ada06913a054235912",
      "886b5077866449f291f8ea63120a0e72",
      "2538362c7c3b4d07987548812f0660e1",
      "66cbaf342d984e04890418f987e681f8",
      "e3fb0a63cb1c4870bf148bea7ef949f6",
      "e0ff8d715e904c1ab4727a557da64704",
      "c3685726efdd43da8d7858d18431b594",
      "185cbee29fed45d19d3d3a8b221847ba",
      "c710dc5467484d29aaebf9dd9b297e0b",
      "22cbab61da94461096e76d88b3e417c1",
      "7ee5b48c6a17459680ed75704eb3ad0e",
      "6d8b31df47b149ae9d1fbbb7b719cf29",
      "098b52a0d2834da58b9bf38551db8186",
      "9bafdfdab5da4992a4fe8b0e73ea63f9",
      "805b404383fa41f09f18242303136212",
      "1c277ab628d747e88947c04838d52fc5",
      "80e392b9fc964227b090aac7c76b7feb",
      "1dc958f9f6f746f3a3a7ccd1baa8e320",
      "240b9f8f9c5d403699769a79017e81d9",
      "e6564411d33445bc9791e2d8786ded05",
      "ecea0d83933d4e96bcb3797cd104b03a",
      "524727d575d94cb7a0d5c38917c6aff3",
      "e9f9fb82a8e54c91acdaff8a81325c8f",
      "626bf14ef73842f3a43528ea85f21e3b",
      "37e953f03b754996a2fb744031ba080c",
      "3b15615e3ff74421809ae92f19b36da9",
      "626793d0280f4a65b3e02bb8ee150fe9",
      "94b5f4d6ed8244318cfcfcd650cd026f",
      "12afa942bf8040ccacf6b1ca41633720",
      "35a81a8419a74086a0b71c7f713964e1",
      "d3e1c3551530479ba677e8ef264cfd8c",
      "16efdb064ed8411db58c7db00594a72a",
      "98e44ca8f24041d78c099cec51d3b6e8",
      "83eb5a846ce44b1c898938076cf2cdcc",
      "55e655ea9d1c48fe80a861573541a0de",
      "15ce022ef1074fbcb9b525773decae18",
      "7ae3748a0617448aaa318e4010671b24",
      "7c024e6386974b9b9e9d055584da9265",
      "e3ab9fea69734c52b6bf50e3fddbe71b",
      "150baedb321546b3992701ea60d3b7a0",
      "30fa8563d6494853a3b8e160714ab41b",
      "9cbdfbf7ca274433bf9c2c099b204b26",
      "3f23a30ba0764a5abd40c2f52b1ccd81",
      "a5cf401eac9649c483f64c30de071b4e",
      "40b0350782524579a5ecd6f696698b8d",
      "4ed4b8654d7946a2ab6fbbb47c6c0870",
      "f2b24de9681849d688da5653f7262e9a",
      "24b60d42ba37430d99a5d80f56eca797",
      "9fe1ccc93eb243ef9027cb118df47348",
      "6f2457801f014d8e930970ec818694cf",
      "1976ee9fbd5d4c26b13287a2616709dd",
      "518c1b76f6d84f16b208cfa0e2f744a7",
      "1222b14bb819426dbe014b7e6a7c7ed7",
      "42ff971f6e284027b660f6692c94dcb5",
      "35755169c570462e852fc29f5ec92dad",
      "7601fd98850b4d2383db35ca10f9e974",
      "02d9fcd4153143198790181c64a19d7d",
      "c3f51c8be13548e29dbef8fd83a68ee0",
      "a006a6be0d7f46ae95b3123e5329ae57",
      "ac74e4a79901415598bd6534eae354af",
      "ce14c339575a4248a1938813f091c71e",
      "2f42c27fb155415ebc25c6d01ac790c5",
      "9307cbe01b924feba83d0387f1801616",
      "eccd4f2901f94391a12d5970cbfdae8c",
      "f2f00c2d405143a6923bfb038fa488ee",
      "494aeda8d94c4f23909ae61b1a48b7e2",
      "80d8aba6c5044569acac4a0b24bdcdfd",
      "14d1163ad8264426ac5b9853273897b7",
      "ba7b016f0ac542ff9b21a8bbc4ff3cd3",
      "d1522206251c4981a6d24ef2184f6747",
      "ea40fac83c7b47ee8d67ed8279255c6e",
      "16a6f1558c914f8fbdbd9272e422d6e3",
      "a655fa8bb1ee42799ffbf80926c22646",
      "39a6b62feaf14bed96f13decf341b787",
      "d04ff263faa64ed99d9a6f03fe20bcb0",
      "ebe81a2322ee42e6abed151bfb2670a3",
      "8b4118fad86145e68f6c62df4b816201",
      "02cca5ff9f92470f9c915ecb02247cde",
      "5f685dea0d4b42658927abeb8cd2bd5c",
      "d6b2320f910745298cab45db3b232dc7",
      "ba0ae11b325948c5aae65d2abd84cd82",
      "5d22c9e3f4c04427a8a82a37ff4cd828",
      "23033d607fed4d078124d578ada4514d",
      "7ce9129d634d4e36a074f474d9467eff",
      "1aa7d96e032d472494b4c77faf47ca44",
      "69e76d3e335d4af88b560f2cd153aee5",
      "937964cfd6eb4ac082cf53be8b81c283",
      "66ecb838a98c47d89c9fd8d3bc89a95f",
      "51a7bc37fb6347e3b1e3c8232f18662d",
      "55bc0923f723400699e4c633645e22b8",
      "4dd7343a47ad407a87d961497d7ddfa4",
      "f0ab9421615240ad81d52b66407e58fa",
      "3e5ff970cf084cbfbf2a9b56587e4277",
      "9b8e1e4802e04d0aadbd9650e21f4584",
      "d2cc11b5f5f447248bf8b3ef4a14753f",
      "9a5fd6a26ef5488c944d5479dd3f9bdc",
      "028e03f4d198474abe330aaf58f5d794",
      "5ed8a92c91354a3a8e3e212c7e05e156",
      "f7a65255088243109978817b0dabff9e",
      "856ab7be52734b898a7b19b17f21cdbb",
      "917bf1df0b0e4ef8a7952d496fd4cc61",
      "6dcf6180595c42b4b9c4ed61dcac3539",
      "96d322df3f79426ebf218b044bae8d8f",
      "1962077f43c54ce8a52dce2caa5de3fd",
      "49e7844417f54208aa9ce83f896b6c30",
      "1094b6bb9d1c490687abd7d0cb798534",
      "b5e0a8af637340f3a929e576c4ca85b2",
      "9c6b68e57e3d49d7bc1cf675c9f41ebf",
      "0502b4d8cf1b420ca788682cb58d9903",
      "92cf52869a344520903d90a976457a7a",
      "d22a911d96a64b1186dc649f65bd0545",
      "aa850ecadc0f410aa933f624dfa18431",
      "b2ebb020f9b14e0f873314131592e6c6",
      "0d698312d276470383608049cdc00eb6",
      "912858387c5849c08556c7d8da560b1c",
      "4f3645683eeb456db21421fe02f3e949",
      "3cc9b61f80754d3fac2734d82f794aa0",
      "a7f6ead58df1482a85c68b55900dc789",
      "5f89c837763e47938328250e1588f761",
      "4d34737e60fc4083b352b891d334cca4",
      "a0537e885ecd4bb48c28ce0c35a92919",
      "23896c76e57c4f02a0431b3489e70296",
      "a74c19a92e7b428586884ec879ba0e1c",
      "31e51d23ddd04f28bbb1b76eeb35034d",
      "52f42077e9734f7c984c5dbcdee058a6",
      "2958e0ba712f45cbbc09bca2b5267d35",
      "9016dd3dcff441f4a86800bbe465ca12",
      "c83063ab07e145b3b2bee9db88460b48",
      "1035d92b9646457ea711104f97b37c1e",
      "39b671b52bb9463cb9cefff256d944ba",
      "f2c995c64e81404e98f04293ffe99f11",
      "5dc5502c030b4e10ad7551389cdde08b",
      "c28e6a813b5143c790febb90992ada08",
      "1e1b5964b6c54aa6b501eb57e9dcd383",
      "0212513709f845efaae1d8bbaec8c27a",
      "0b09a494f3d349588e41810126dbe0d5",
      "e4ee47d55a8a409fbba86c46bdbe2e0d",
      "0770e197a0a744fab4b3bc2ca7fc2802",
      "fbc16844822946629580a2fe0e687899",
      "bfbc7d91308642969d714ea81e539fc2",
      "3a489232eb6d49a1b2c85d95a07ff43a",
      "7e9f421b4b524a8dbc5d9f5d5d15b648",
      "0e9cc7ef9cb2405cb551c511a83445e9",
      "270f4bfe02474499a896c44879a0d092",
      "abbf04dcc7654d7ea8c3361c3c4a44e9",
      "2d67781418854077b371a242eabd6de0",
      "4d50e062d8194d9c840c6c72a1b8eef6",
      "5be2be1302a44cd1a0b33d7f2276d5a2",
      "ce1ec52f628149b09b7e9c497685df5c",
      "c9ac15914b5546b4b270850a32bb072d",
      "620377218ffe49c59ce8aec3cacf40c2",
      "3c317d959b85459fb304fdc03511faa8",
      "d3f55681069c4e15bba9d3fcb8a10e09",
      "0c39f44c08b4470aaf93c9ddd080c15d",
      "35c0c8c6907d4658bac33ca09ff6247a",
      "20aeb62a6b234722b06c007d782c4999",
      "9f650b0ce4164cb98078363b660cddc1",
      "c29a1d4076fe4a0c8687bb14674f0de2",
      "92a2037638a04b96b6d582ae7a38ffba",
      "650b9e943be845509243084ea73b1f21",
      "485f3cb8015e4049911cb0ff48c6e4ee",
      "70f4d0d4c86f443abc21bba5f93d1d9a",
      "0d0517e2b033477a9e976437116f24f7",
      "d423b2659acf4071b3cd23e0d55edc9f",
      "2932ae9b58a5469e831d848ebdcc48d7",
      "ff311681d0d24cb9bd5f31961821171d",
      "0568ff0d3a3b407aa07bfad2c18133d4",
      "3eb077c6372c46baa6bf7ff32b2e6b5f",
      "6a5328a380bd4c7ebdb5e98cee571284",
      "9a62080e84f34b0ab33a9331573d90e9",
      "b37332f66cf84f90a0fdbcee2a911047",
      "02726535d2094db9a51dd236ce9bf6d2",
      "3fdb2f08a08e484a9c39502d8c313627",
      "6143da7f2dbb459594cc9f21b6565e65",
      "a87870694bba4f61aabc7faad26b5c92",
      "64c8c7df71cf4bce9735d452e6921320",
      "16d425fffd034cdc8cf48f8eecbcaaed",
      "9d31abe888ff4f62b030d5a6f6a873d5",
      "0e5ba733415e4ce18877e22c8eaa0355",
      "12a42896d783405ea318ac382a875c9e",
      "a7927c727a184dcfa792469989c8571d",
      "d83bf09d237c4681b77f8262b6cfa767",
      "10ca90e9bd68491b82a7a87928c45db3",
      "c235a3ab63d743459e3c072bf266c2f9",
      "8d08d64bc1f64afbb9e4086ca24f09cd",
      "98c22740fe82495c97da59b9c39fb684",
      "764aaca6035f42918c1ce977239577c3",
      "083ac566720f4c4aa13cf48fb7d4b689",
      "aca5e16a924c4133ade1c0bd03af0977",
      "4293ffc252ef44c48011694d1fbc0a18",
      "be987c7d20944701b3bbbb10169a9bbe",
      "7fb55f31e3934a94946942daca043f0b",
      "e748d783f5ac4fb9b6d441b11cc58f17",
      "b3a25381b62b4abfaba57eeba0fe8669",
      "0e7c7ecebff14c939b671b2c24b500df",
      "32388a4d2eb34f5e8b8e078875509f2f",
      "0cce36a6575f4f41b1c5e51e19d2eca1",
      "c1c6bdb3c1b14f5c9590b02afbc63846",
      "a2b172e8718444af97e9abf3cd847fda",
      "72d8b8b827344d959951c93af287ffbf",
      "ead475c07e9e4c10b2f1d56495d0691b",
      "50cedcd391e8425485a037a98d739c97",
      "b303a87bf0e54272aece98ddf79bdff4",
      "21e2ff91be2d4e1492902f72628dc871",
      "2a5112e6e8fc449ebf09e274cc3a2f45",
      "674f7127e900456ebbeda19b79af9c84",
      "cb52bd534afb49d2b614f507d5fff702",
      "4f13fe2a1ea0418a83b79cbf10e25c4f",
      "3a53c43e790c4eddb42e197f21b154da",
      "0fad85b879174efc991ee27f985e4208",
      "0603cd49efd94eafac779cd6ce93b193",
      "ef1908d54dcc45ab969cd96ebc8c97d2",
      "03c9216506c04e6b89307d84954bd953",
      "381f3184b0fb443fb43f12d7b947dc53",
      "9934d5bab2c84420af65c554d125447a",
      "05da88a7bbbd433084cf6e312eaedde3",
      "2adcfcf30b3348b8b5ad7a5c4356f436",
      "38d63ded63024702a748bad3b717ffcb",
      "75ab2157c0274f8ab21d09b9fe80359b",
      "7e1c2aeaf3ee43e0b1fb0d880100c518",
      "b3a5a1f0a0ec4b329495e6bca23c3079",
      "8f4fdddcfd624df79a4876a8bfe6c0e0",
      "dd46bf6f731d4ee488d1e18e2903e722",
      "75017638f6734c7ca19f7be6c7f0749d",
      "9fa61beabff640b48dff9894ca246b9c",
      "ff4275dd0d224d5090160469033b5169",
      "0e222f79ac634afe9c69b32ff748b548",
      "11bd619a2d0d4ec599cbeab102381efd",
      "3cf2e6de29d34fe187a44803ac5d4b6d",
      "c0c5ab92f51f4821846a42d21cfcc14c",
      "a52347351fd748889dcca8f226f2eb86",
      "b8cc4a97ac1b4c4aa941b51537e21d58",
      "f3a67597c21543fc87559ab6581616ed",
      "ad68fd9cb9b646789e95dc455e197d45",
      "8c1d4ac23e404518a710da94a280c2ce",
      "96245678cb7d4d678c74ed020bd31a6b",
      "dd1f9f22848743b39f4966a04e7a0ac7",
      "c9e9ad9217104197a8dfe079067e1512",
      "38cde21310cd43b686d7e351cd7f380c",
      "b90609fa76374a2cb17ab4d52ba16d9f",
      "b653f06d1a4f407da5f67c9586b2a909",
      "8635b8a9853841169d2324d283b3181a",
      "a3af91a2cafa4ec7bf43e727cac2d1c4",
      "24c9d2ab004147f6afc9c6e92299141b",
      "2005fa97df894c6693574160e554f5f9",
      "4261d181caf04c56a98c95eec659da80",
      "c174ba62787a4f6186d95e2db676028a",
      "3bf0ac76e094470da1619c5843c4b688",
      "91d9c172556a433d9b78a8b4ac087718",
      "b4177f0c4c1e40a299643f3d3e3a97bd",
      "ae798d9d5175440ab144db7dfe197719",
      "2e487acee890464196d07674e60252a0",
      "a01bdfa2a58c47bda7c2160b8cef53e1",
      "12070c4f020f448488acb12419748c10",
      "0c89429b04b94d59a18950ea9ba7b5be",
      "9a95fc61ffc64f849b4a44589c38946c",
      "ddfd1eed034344d6bf30581a5d857d62",
      "9087b6fe928d479988cc9157eb1531ce",
      "fd807d1e326743479ecb3cf0e4b528e5",
      "b55b10e1458f48c0b3ebea6f5a9b1cab",
      "ad2b24c7c2cc4d87bea70ee4a7bbe76b",
      "dd0331daaae14b04bf904f4c70e73950",
      "46731b61a7db453a9194cd66bbf892be",
      "26483cd93a594b2cb911472e5c655e37",
      "10ed556421824686baa3e121f529d27e",
      "2b68560c61514d31be764a223bf14bff",
      "1708242fa4a84a319ec05177816ac7e0",
      "ba1d4f6573734818ade427b3c3388b33",
      "75fcdb2bd5b94c4095346a2b67f05f2d",
      "28440bf89bb84576be9b9b7372ded8b4",
      "5068d9c4bc3542ba9df7cfe367130e32",
      "b855168b865c45a29f4ea8eb1e321344",
      "60461e1861274b84929f2bccbc570dfa",
      "b0332ebb2a814a84b65fe577157a490d",
      "4ecf8430a8924d82aff4bb58e1c6160b",
      "618acc1b4c2c4786876947a592707fc3",
      "78e68a6682d8461989b06f8fc9637edd",
      "e07c94b702154c0dbbb5c1c76791f467",
      "90c01c4f2d2c493eb39a8a980725a773",
      "fabcd62f70664048b1bdba7d6da980b2",
      "2517bcb0b5b14d04aec0cef6cc0c9fda",
      "691d4869f313435c9240d924c91d1b73",
      "fad44f4deca64fe1bef7f0a2190936b5",
      "e51c5e213b3746a098dfaebd7a5b0d6b",
      "2860b6e29fb34751a0117cedcada44a9",
      "a3b80e41e3264d56a7b41270419d5082",
      "452f0eefd4d1495f9b05dcfeed5ad4a9",
      "5f61fb6d34084150a718fcf2262f1b15",
      "3a18ec9dc7b54e3da2a08461a3858850",
      "3d2f34c9da874d6c81c4449f7a340d54",
      "cf6bdd0f7829442e956b4768b97057fc",
      "b6bce161b2834ce98ba9bc9b00dd334f",
      "2f417539863e42978f605f0f27a5fc21",
      "c901236bc375446ea667ad57073c724f",
      "52377c9aac164de68da6eedbe2e081de",
      "421c2ad37ac145d0b7b28c4c7fe9f157",
      "b6ece792fed64786a97346c004be6815",
      "b864833da66843f28942e6b3c05eaa02",
      "448aa6e6720a4956b50e77ff79cf0c43",
      "ffcdefcdf873419ab030e7be15796b19",
      "a513cbfe4d9048509c78c92e264943ab",
      "ec89c292a348419bb5b7d498a2874a79",
      "8f784d220c554999902539ecb5ccc423",
      "2c9fee0688a34b36bbf38d24db653749",
      "3b68f237a317466ab38b5a73f2d68715",
      "ad308c92de864a85b53b0ba10274589b",
      "917fb97b1dd04172a9fd79120b8500c9",
      "c96d271206a64c5ba4218e62c7928398",
      "9a1a238f20d54653a1503c6d0fb8adcb",
      "c92b4dce59794b9b80825e4a37a47e7e",
      "e2624b58f1414befa5914c8657518c4c",
      "dbe316ca8a2a4208bf233b382c2a21cd",
      "68a4c02ce98645aeb096180117f28033",
      "2999658d7e184abeae273fe514c360bd",
      "1dfdb9264cd943fe957d176731c38696",
      "9a55d59217f543b29c4d565af1491c00",
      "1226d621759b43febd1d5a71bb6d094e",
      "dd62a9cf37a24b18b408e0faaca1be17",
      "5c3b8af15ff647d69fb26f945709f941",
      "24e01a3a4a8d4c6cbf58a06486847b8f",
      "d12136d13de44d3e9ab522ff1996d9d5",
      "1610c38b84874f4f8bf4c76ab685d2ad",
      "fd9f5431d4e94035aa079e9b2a83f77b",
      "8eca763f204342db9f30c350f3ead3eb",
      "1f88c79fa5864fc794c639498e15adc7",
      "c4eb330a6aae4375ae9df1c9ace017ef",
      "f5f8f48d65464cfe9606376c55359b21",
      "32314f0e798b42c5a8c1947a3b4a7a3f",
      "5222c3668e594fec9138761c90e7bd43",
      "30e1daa1e5304a82b4c9c3d9193a0c11",
      "461c1950f16b478aa8dcb9373bc4b217",
      "d93ca144a9e141219c188436ba2ee2fa",
      "3156f5d32a7a49719e81377f7329a5cc",
      "b3ad115800c04bee889d2c16ca275aa9",
      "6b4677c6670c4876890f51e9b5344ce8",
      "39d4f7b72c8346e4b02db14b860905ab",
      "62c72415aaf64947b0491299c3fbf763",
      "28810095776e42d482e8e4842332c322",
      "187677bcd1014319baa10e207134ac5b",
      "651101ce4edb4de6a4a584c22b88c006",
      "640c2b14fca848f1a2dd23f0fd059a1a",
      "044d1731cb034250a22004a14077d9a3",
      "da17f086bce949a6a0a0c8023e814fc7",
      "5853dcf83c954ca79c5f25c956ca9bed",
      "4ae9518271c843768669e24a60ae2d68",
      "436c4d8a423b40bfa8176a85969cad4c",
      "f31fa9d15ae342d1b2d6d1fc7ff3860e",
      "35c35f3c023c401e9e294293b04c9947",
      "cdfeb507d00547b8860716e621c28aa1",
      "8a8f9f4bf44246448faaae50ee3dda57",
      "b9c7bd49f9434122820585b986c8e3c0",
      "d48043f435e34b36a26f50a845e9e596",
      "3f43ea83b5074f13afb5fae7caee8660",
      "622279906f71463fa1df290ae59e28b5",
      "6f84cd744a064a509da0824c5bed9fbc",
      "375a609d078d461892aabe5a216bee86",
      "209bf57f897a4c65b0caf8fde61a2ee1",
      "b44cf006899d4d889a847b89b3052ac9",
      "d2fcc616626441a3b7ccb89f2d20b0bf",
      "bc04a13f95864877a94832a0765f3a74",
      "85b1e005ce6a4becb1c066e5617afcdd",
      "8e122442150744c5b2367043ee4bc9e5",
      "6f5a1b1467b54987b11fa4483bf8bed2",
      "f9d124d061494fa396feb86c2b93b796",
      "ab5f4405662a4da29e1d667cc595a74c",
      "d94b2fb568eb4693acb5f1ded41b4e40",
      "b7ec2c29fec84e91a56802cce325882a",
      "5a3045f44ee2433eb4a1e5b2a13db25b",
      "3668294141a24b9b9ef65b41ae571ea9",
      "d60fda8e286347cbbed310f61e6ea74a",
      "0839324137e7426b9dcab1a7e7a46b67",
      "a7fa18afbd3247088651e58f2e36e8a6",
      "fceede7431634d51a7db07d7c7053db1",
      "0c5dc74f00ee45d8af13f2336393b61c",
      "2a6e27abcf154450bdc2911689792cd0",
      "ece9d06d124c47c097ee02f83222be3d",
      "e75489193179411d813a4d2cfc76749a",
      "9b4ab2e050be46c88a1fdade785fed64",
      "e53b17c3f0314f02adfa90d121bc411a",
      "6dfb79f271b849c98225e387e3fa7c18",
      "5ebd60e9151445b6a2f2d551a29029e8",
      "50cc641dbb684b758447640e123e0c4b",
      "746f46955d4448ec8c158e3c6feb5495",
      "62a63bf2da3448a090ab3cd3be26d2c7",
      "f37028e4cdb04dc080ab709c498285ac",
      "05e4c08588d3484ca31a59374846f961",
      "195763d926694301a553895394b43611",
      "34344f06be4b47baace6a3d644abf681",
      "577a9caeb7844d7ab00756a50dd42b0b",
      "2974c69c37aa41869a393fdbc7bae4f2",
      "0b20fe848d23454a969478fdc79dbbec",
      "bbf729e86abb46c1a9339d2a1dfa4d9e",
      "10de116baafa4938855194df36569c54",
      "658a62ce973c4d9fbff63ddd3e729cde",
      "34b8e273384343be88de60a0daadaca7",
      "e8f808bd669240918714740d52d48c3c",
      "2ae9f15b5c81468db4b93c349344230a",
      "340a7f26d17446c680e78429442a0d9b",
      "ec2b705ca4d149efbb338aa82ff5c4b0",
      "45427a37b540469aa820b2e55d495d6f",
      "83f8139c19344896aa5d41344042eb88",
      "842985c3e8d44ef28daef87f420070dd",
      "4a28398031704ff6af8e6b9aa732baa0",
      "091a8f783fcc4deaa089200bd2ce34e7",
      "2e2b5614b2304c31a6fb50119f4c15b9",
      "7c61524e740c4ff099e89b20fa0fa9e1",
      "8f334e4697c04c9a91102f614f786669",
      "92b3c77b77dc45b5a8de9dbd929622f5",
      "e7a17b77d91d43678bb4ca4e9d9f05c4",
      "b8052dfa85754787bd0dbe72d9e2142c",
      "57667957c34e45648b0452ed882fd54a",
      "f9543aa2340b477680661571bd9a0810",
      "96b908a2c0c7418992c88ee500ada557",
      "1965661e3b244fe28d4335c7cb858af8",
      "25784f8578f94e108036cd61ee246e78",
      "ab19564675a6459ea37842bd3046583e",
      "cb9a0f741aff4543954bad7b2c231d23",
      "70568cec7c024c17822c3bb27b981b39",
      "d36c4f97e427463db49775e3f0429a7f",
      "0b512e3156644c75a96866639fa5c37a",
      "e5be9d19c9d5446589651cf860cf6c80",
      "18945ea198f240ff9e22fc60a3ea2420",
      "45339c1cd0744627b68ed7de3ad4ca3a",
      "bfd6ca1bd3bc4fca9fc507675b3f6f81",
      "62d131caac764e5badf6a69adda7a6a4",
      "ff29265fe6814b0aa6be9abf15d5c6fb",
      "3a48c4fb73664c288ef236c7728e5b8e",
      "0cd8fc8543a742bdb6b6c27c09ed282e",
      "6773eecf75954d8cb297a307eaa894cc",
      "5228c87cd7e4426785d1f65b0d50034f",
      "8b361b3af8674248b36f9918b521550a",
      "9232b04dfa4b4c809325f5e3a797d339",
      "84ae2b3e87944f6b848b5b0251c7400f",
      "d99ddd1f369849238524274242174f1c",
      "9576640aa96e4698bb11645fcc06a362",
      "b6117aa1db3446e18cc881ead62c86de",
      "a17f9a1a5d5444b9804995ef74b3cc2e",
      "751371ab297b4f96beb21818568a772d",
      "5e4be008a2514f36b8150e17beafb4e5",
      "66151f8f9134450d95d825ba5abb56eb",
      "08dd84a7c3f54ea3b2855a1b5bf1ecdc",
      "4204704cb2bc4ca3a0836f564e9bd100",
      "73d94816b783441887852022e32ee84b",
      "4aede06635ba4379bd483167bece6964",
      "7d88a68e32af437fb035d795cb3a495d",
      "a52bc640075741d1a0b96093a098eb6b",
      "ed5452668f854af289d252117b463869",
      "fd8fb5bf7f064d12b53a596afe044ada",
      "c76df4542b104074bdae384b286fcdda",
      "28e8b73a336142fc80a8e06d916eb3e7",
      "c2caceaed176402d821285829be9b652",
      "2d653c5d611a4b09aebbff608aa46bd3",
      "2714db6790be44938999cf90f2d481bb",
      "d986f00bd0b041249443571e8febcee9",
      "379f23c8db03458e9b0832632af8e7c9",
      "aa95d2a044b847679c3f15a6ee59fc03",
      "ecaf4d4294f34397b0c39faeed892441",
      "c95a3613e35d4e17b4d12aabde22a246",
      "32730715b26140508002bf7cd24c41ee",
      "1e5cd5f6e1b5404c9f6eef0c5f252f60",
      "fa19d8928cdd4de5983b41123bfade14",
      "8408e6c59dbc4cc384aeeaa5feb3f9c8",
      "9e8f4e34b9bf45d39dbed6205ab72ec4",
      "f5094306c17b40478d828b9e6785e88e",
      "fde6a0de4d144d0f9206f8618abb6057",
      "e6ec59ce5ce647de966ea4951b9fef0d",
      "2b47c385d9a547bba9b39418e7b9f9d2",
      "641af882efca4f0a945d50a25f55585a",
      "90615a8215814e9e9b58dd9edcfdc931",
      "470e783220834fa4973b0010739b64ec",
      "4a89e7dba524430883a410753094cbc3",
      "00caf93855424965b790d93d23558146",
      "7ca6efd747df48109c11993b8b9ca000",
      "8ef4063818e346cc9a841bd2e71f622d",
      "7c2afd474e794cf2b846f945e2e29ba8",
      "cb0e7c8ef3274bfa96140a2728372a87",
      "f9811f7b81d4479eba2bf3b9c13da5f3",
      "b353ae983193442d8d4d51d0850e75e5",
      "2b140bbf657d4c24932c5aa865ba7e04",
      "e83be8c712014f4da7c727c31ff833c0",
      "ebb2614d6f3d41a6b6a0e8f4a2b7135c",
      "463eb1db6eaa42b5938b1654cf7212ff",
      "8c1ed70603dc4792a0f14e7c58da47de",
      "46f34a263a5d4e78a11fd6c7a4d47367",
      "e7af9cd8f31b4af886439ab4d5568f1e",
      "9525404f53b84c1db7617619b87fdf56",
      "1b115b27ec5442babfceaa58442629b8",
      "48d2382cb3e440e3922f2acc3e57751e",
      "01a025916b7045e9b0fa492d902f951a",
      "81bcb38773cd45909563bae752c56f7d",
      "73efba1452cd4e6181377d12e1a9e2cb",
      "bca6abbc04da422ca3b83bb2ca74f879",
      "afa42bf38e4a49138f496b79446ea386",
      "e2a37c068df448f89b287fd74d7387ce",
      "3e686754b170404f8b0a25385670e4ea",
      "1570b4834f114368af61d783f321734f",
      "00268985f4ca46bcb6d7d7a52e66243b",
      "87f592e857ea43d8a9e343e1744136c9",
      "e212b3fe504040bc8aac88c08e558513",
      "2ae5088eabe349da84276573b88760b6",
      "433382289acc42a0965f7b27ca8410c4",
      "b739f44cf54c45b49b80a4449ea7574c",
      "4f5f513ce19a483ab0909d0fc92a3047",
      "1b1e129e441a4d7e929de5eaa7deabb1",
      "0dec175f595d4d8e90ad868baaa65c6e",
      "ce509c29ad454d9385856a97e75f15b5",
      "c4030e1920b042e9bdeb7f1a87706d51",
      "4208320e06ae45f897d4f7f524fe2b06",
      "d58acfd9a7504a459771aee609cc2fca",
      "7f426757eac04ed49b5e00055417d295",
      "5dd60ccbd2744e13bd26fa234d42cf0e",
      "c7e8aa8a930544488586d3976595ab43",
      "3da4b890621c41a6b07c896ada056239",
      "5cea91cbb9ce49e8b9c9cf9f554858cd",
      "1bcba54dc77d450dbc16f1a7935df355",
      "93bb79cc44644593881c237c7b12e016",
      "f6730dd379c04f0f98b8677f9e6c5d49",
      "b5b062d0c4ff497993978a1bafcdeea4",
      "a8563e77dfc549fca76907a456a5d33c",
      "8fb3817a0e52475a9892f906dfa5fe4c",
      "f5e74f0c7df54e22a1227f2d9301c135",
      "ac2a9a52f8ce45ca8067cb2dedbec2a7",
      "96a2968f63334efa8766bddcddd2cbe5",
      "fc9a40608f964bf0bcd2dce7d796bf5a",
      "294950a38c5847d6829b57b9ce417144",
      "1d5c29d27b484a88853b110a38ee094c",
      "80dc4cb21a0b49a4b76966f74b9f0990",
      "07d7a7745fff457a88872307f41b8812",
      "bdeb4c968a0d4dc9befc00cd23dfa9cc",
      "bc39fadac36649099e2dd84e92b22f5a",
      "be448d2ad6424801b80f772619687c21",
      "3b781697ddc74208ba6101a4dffa4783",
      "7296b5e8a2fe47e48bd54f773687e71b",
      "d6bc3bae971242e8b4caedddfefd1502",
      "a946ea3bcbea49f1bf2d6bd580a999af",
      "37f6349ca7fe4f5f978f5e52247187d4",
      "4876a1b0c8574a0188392429dc89a769",
      "f9a00f4dedc84b579889666d62d6667c",
      "8152615ca02247c5904e09d3f0cc3dad",
      "a80def7be358437d8e160fbd7b9133d3",
      "a34741e346f640a28985942fce393b91",
      "6d87dc6b479a42cda6137721c1bf14e1",
      "c7028e907ea848efb1089b078a612193",
      "4b13f632151b4157b1f4aa91c8c3ed08",
      "8ac8e1267c354a40a003a2ec3579ffcb",
      "ec58fa7e79c045fe86e998601816eabf",
      "2034145344dc402bac86e069a321af81",
      "d0399b340eb644ea85257e0b1e6cd3dc",
      "5040d0e657d8422394cd4433262f07a8",
      "28e7969c9a5f48c5be2dffe7ad68651f",
      "b6e22c6f75b84d4594b52502a9bfae63",
      "f110386eac0341cea203145a65fb484c",
      "c521986d65024df7bfd45d4b2af34749",
      "8bc53523d4d14b91942195c1e77f772b",
      "37395d524b5848afafc10127fbe01ba8",
      "17a5de34addd4f2cb0cf2ce9cfd895f9",
      "456938ac7864420db44fdd5aa694c7bc",
      "e597fa085aa54012a82b9438ca2d1f34",
      "996864067bd44252a22619a2bb9d332b",
      "73a50169ce97461bbed263ba55194aeb",
      "db3bd6936b454b5496b076db80f2e2e6",
      "a715b0e2854545248d67b067d3c64973",
      "0a44b60c6480448da03f189b07817475",
      "238b72ce7a144c11b2be95008c4a8a46",
      "bcdc4786950d44618c9a0a87f626ec11",
      "dfe3aa32c595495e82e88bd32503418b",
      "75c6851841704c08a25a2bc0b8bb0149",
      "2e16f8d9f89144d7ba5ba3bff65473d5",
      "10f0714445f54419a1a467b9be2d86e8",
      "d330cdebf8504045a4781b28bb126ac9",
      "8a87c6ab8b094b70b6a1fa28a4615b12",
      "6510505cbb024c719d8f0a39bbdc3a06",
      "42032399695f4c82a18aa23c03e15b1b",
      "7de24ab8dde447b68ef884bb82845097",
      "5d62198235a94bdfbdc89388ae5dc3d5",
      "f15b8772889b45e5bbfd51954df541ff",
      "3201fedfab5d461c81f38a9acd70e6a1",
      "a6d5645f72c74aaa9b2ed4f3bfff2eac",
      "080730b1876b4012bffa8ce3454246de",
      "8431d9e6a77f47368d2b864373655ee7",
      "863e58330a4b4a7fa072ed5c53a393c0",
      "562d0ce5fcbe422197184c457b362e71",
      "eeba92731cc24fa7be2e0b07736190b8",
      "6e66f97120ed4d5d9b4a1590dfebb8a5",
      "dd1f6a99059640b385a8f0e704e015c3",
      "f33174f08af441fea5b4653cdb56d45e",
      "827fc041f5c948af9bffb8908a38c233",
      "fd4ed53aa2cd49ffbce5710d9e49ec87",
      "058391c103e140ababfa9012cc3c15ea",
      "00f0b9d182064235b12be9e25ee9fe7f",
      "50e8fe0b61f64275845f5e3f23f558a7",
      "0f0c8ff473e04442ae1fd61ea8a59457",
      "1d374b0885534d149217b71540c72ad5",
      "df48746dd8364d54b7c6e7ac8a417c38",
      "e06200e9352b4e0797333b93c60263b4",
      "4370cc9010dc4e8e8ba4dc8bc0ee4bc2",
      "b6c073bcd1584fef910f9ccb0e2971dd",
      "fc538111ecb945a7a4676a2bf89fda4f",
      "32f381a1376d45698367ca59f992b42b",
      "9bfb0eb09b2d4e6b8aebb0e8a980eb7e",
      "ec81fef5616e43e39eb49a37163e6f57",
      "0ce04532f8494ceb8a1e8f5f6e4e4fee",
      "be64a09a81374a37bf0a04ffdc3ae0b2",
      "59db6a22b4ab4d358eebe6cbb4a4e35c",
      "c5e2d902409e44ba859687e3aab03335",
      "e20e429d8e3d4660a7695ebbc0d4031a",
      "6f5bd721478f48be898292d5265eeac5",
      "73be9ae299d94fefa3bec6f86ec3e836",
      "56e88cc04e35456eafdf94dd46e405ee",
      "8aaa71e716d049839ffba5399243b626",
      "a2e394bb818248ad97701716917c836a",
      "ae2a1fab07c74dccb33fff394c1d1d6c",
      "68d19c83e5654b6391dcc89676c31fd3",
      "525800401a7d4893a7dca5a787e5c145",
      "bb0249b3a09c437fa97799f007ee92d0",
      "5cb37e458dac4c8aa5706abbe32a4b8a",
      "5482dd43cea64048bb8c008a022c447d",
      "83eb0666badf4c31a69460c9d05d3a03",
      "d707ac57ae3146ae8bb2e44d3419b555",
      "173b48d8f37e45a782c4232563054df6",
      "5fe739c0c73b4caebc5acaaba0a54e84",
      "68d635de21c1413483984ff0c0664e53",
      "f5520805175044f5838dee956fc1f712",
      "7202caddc73c4c1f86b1c387c3be9496",
      "d135612d1baf43fc84431f609a17a032",
      "2b70617ce7c648b88bc67697f1431822",
      "92198fc9664c471fb35e8ed11fe592fe",
      "aefc7aab81964d0ebca495b24c29b903",
      "88ea3f02a3d54b86bee990f4813844cd",
      "51ce8e605f4e4a1db1e4f2dce1ea610b",
      "7c595a6824a242079b601a6552c3f3c3",
      "f92e6f69c6d74320aa3e67d16c648e98",
      "2174ca97ed7948c0b5463920f02293a2",
      "144b103d7862468f86a1b50d7cedd99a",
      "ec09777a34e1490eaf79d4339a248b05",
      "a94de5904cf14e81a43d9b4d48d0fb4e",
      "07ea4c6d35094be4a5fead07de667d82",
      "3dbae6e0cd1a4c55b581a024ebd10f84",
      "8f874f9ce4464e18996a48682ef9ace5",
      "e76de56d81084f54a2d788ca297f299a",
      "bae7f1ef446346fe91c4bd1dbe4ddafa",
      "f88b6681f37d4689b7a36993af960924",
      "0de22e3c803d45e98a8db0d1f4c3493e",
      "f6b0ed7ab4254e2fa65125e3bcd898bf",
      "b07e9cf688a44a79a6929451a4c290e6",
      "8d52671e2fcd4a4cbac9a8f2b03fc407",
      "82f0a582e8864d2a8ea43fe7ff9f298e",
      "d1f385e7a72848649849d31ab3a3e193",
      "0a0f4b8f8f294ab080d8425310cf0a65",
      "88369b0a94f54c2e8c4508ad92e731fa",
      "04fb64bd8dcd4577a848094fcb33381b",
      "e15304f446384f8a9adb139589dd56ce",
      "5d0c39c9dfe84ad2a93d0532da7ef15d",
      "f18dfdbc4ec34c139238de8a26481226",
      "c074dbee765e49299f0c0f028107d544",
      "6d3ace3a3fdb45a3b6e4775825f60cc8",
      "eca3a0964090488490f19b60cdbb26d2",
      "2b022fc890814b24a41818740f0c0641",
      "0eb9913b0a3c44e98d79e2ec3e244bfe",
      "34e0883267af42949c1b72f1b29ea9e4",
      "22d9c8b59acc4b3b9f2518dde58900bf",
      "de98e5afad1e4910a62d95c0864a89a6",
      "19e491d7289944dcb48cf401d855ab5b",
      "eb5195e4380f40bdac2f56e10c6ebd20",
      "07489cdd72c04741a9e58279e4787b4c",
      "0366c2be896e4d6f8f01eff2a1ea15a4",
      "5f96898e9b504a71a7aa0f67f01462b2",
      "a2be2f2702ed44e299e16d685ede41bd",
      "ed28a2ad26fa4481935ff91c4564bb56",
      "dae85f858db8428c8783d763f19d8117",
      "912f21ed23cc4776ac9772f589d7084f",
      "3a4187ecfe184a579fceed5a329a8c95",
      "ac39c17ff2b9492a81e18f9dcc3f211d",
      "5d4cc94bbea64405be68aba6fd51743b",
      "283618dbed5b44848ca8479fa4a5b1fc",
      "8534756d13f7420f8d31517e0e79096f",
      "97c6982dc0ca4ff38529075b0f08ef3e",
      "767a99b6d0384dff9bdf3f997fb718a4",
      "d964cb56e2e1461480cf890941dae32a",
      "2a936974eb35413c9c669c3cfa8a5a69",
      "0f22331dff424ac68791e758701f31cd",
      "0184c1b40652431a8e0fdf384faf303f",
      "1497725e948f474cbce269202b1003cc",
      "db9d054f50154977a8d2629fe7f8d56d",
      "f600353f089a4c9294c5b80e936c17ac",
      "644a6f89d00b40398493fc6e0056b010",
      "4216212070d248bca97c3fcb5ed2e29d",
      "2c04612b95a84936ada0b28dc80b2a9f",
      "86fac473dc0b45bbbf36977c2c9d11eb",
      "cd1d495a555443009d48e7fd3c3629fa",
      "2c7c344e4e2244c09cf95423893b9544",
      "3975609f1e364845b0cf5c3f1cc82850",
      "3aa4970e3b8d44a2af80e4e101f91854",
      "b4c5b4eda9da4350bce8462a586a0e08",
      "0398cb2470e34332bbcf1820bd98793f",
      "9443b5bab86d425fab0afb0e29f56728",
      "5da206c5cb5b441cad72f7ea550ea464",
      "2a5fad9eef2f4f399714a478c9559a32",
      "dd5359d9e739473e9523ee513cf95b28",
      "01d0c8714c0946c2bcbad6e50dcbe5c3",
      "77ff91e4cba9454e9f1e9509259bc0e3",
      "838abac5557248c999bbfe1dcc1d5d2a",
      "ad58f9250d974195853c0fd54f7163e0",
      "697d7ca971d54d71af39ca2a4fa9289c",
      "a47fb9df242e493d82de13c54e2a6b77",
      "699c8f81477a407d859bc4d973b2b974",
      "6dfd5676aad24af285989dca3df60371",
      "54c092294ac148249b92da9775fc9107",
      "3f0ab134ed3a45c8ba432283c3ccf35e",
      "833d308c65d24ad0be76ba6d75054e8b",
      "7617a1d7d3fb45439a471e526302fc05",
      "f64b3e6d818c44529175b7b1e8ad791f",
      "6197bca756f449c694179837d81212b5",
      "b34d307a42564f83ba88c30fb0302360",
      "baaa34093b934a9496c2045ef3c40b27",
      "98202fa148a14914a224a5e23231211b",
      "10eb1c7c3b034c22bdfba45ef07dc1fe",
      "74c4ffe9aefc4eb2acccd584e67d14c3",
      "f5320b76a9af4496a7354cb3b04a1f13",
      "3081ac5787884652a720f27795976ee5",
      "76ed9c4d6fca4d2aa2c4844008165556",
      "212441befd3a435f8d1b07ab91b396f5",
      "59f2d2df18f843dcbfd2b88715c4b1e4",
      "638bcf25659c4f5d9ebcd4b173ac7ef7",
      "1eb71f4b0a534f688b78eb3c95715958",
      "ad16fe37386e463a95e0f956715900a5",
      "6a9e62b2e7624773a0eaedc5b024c6c1",
      "6a67822b1aaa46528aed92cb60e963b4",
      "9d97bf38d37c4c1488293ea60fd44d35",
      "bafe4f3d9d3242f6b05c878dc8a90de5",
      "3abb06a23b17447687a11eae841d33f1",
      "02d5bc8fe95e4ee698f6fde3422993a9",
      "013fa276775e469682e60722d28b9357",
      "23392be667c045fabad2f87493101a76",
      "e180a9d744f14a9883e0b1dddfdaa404",
      "b1dfe1910a3342ae8413873842e661d5",
      "807d17ac629b44278101ab5481c522bb",
      "1d3ec596407e43e3ab9c76acec31778a",
      "ecb875d7b88f405f93845b583cba60a6",
      "bbe71b7d62384c9c9ddd9bd7e78e4329",
      "881cc81ade824b5da9a8041c2b365188",
      "6c8bce50bbfa4ad6b9533f7a14b3d7e9",
      "363204a779f343aa8bce69848d2415cb",
      "5e34b97d7a8b4cc99d9b396b5cedc7f4",
      "e3cb8cdcc2374a71949ae5920dcba195",
      "2018210ec674435da250deab34121daa",
      "0dcf2058518e40ceb1a8caa30da0b59d",
      "556a373f68cc4da4a0f09ee013c250a4",
      "84c3b40143234cccaa3d78fcf0e8d9e2",
      "465bc9fdbb6f43b3992dc5e6603f7f2e",
      "f85912bd14d64344bbac2c85f547d73f",
      "2e803d0ad36a4e1196991210a2b300d2",
      "66b094bb866a48b2b096a8264a8bd25e",
      "5e96ad133d8f445aa8fe450cde1655cd",
      "0c75c34c120a41fd88491e9261f0d051",
      "eb9c3d97cdd04c528f1501f5ab090048",
      "adc0fac2246047e887057724b464cdb0",
      "04d05f3a84b94d54837b8bcec0847777",
      "04e48302d2a7433593a0eb367361f153",
      "30e7bca1b2c24f6fb44a72b7422ec075",
      "b805d573af48495eb35365a63ca9e914",
      "884c9db1d5704818b5894aab7d486124",
      "463ecd85364f4359a1a92310c783bc82",
      "462d8e79f544477fbe6ed9d423c394d0",
      "abb5cca4dac249eaaee3eb5b95cb2b5a",
      "29df7791388c452baf79b4e2b8125136",
      "95da4381575d4b859ab8020dd9f0137b",
      "9ab1c74753444c00a49767dbc86e60d9",
      "79ffdb6845474bc69eb9b4c82d60762e",
      "7ec3bf8be5f7461cb7a0231e3b854784",
      "c9fcc512d22f4b0ba2d465823dc3bc4c",
      "aadffed5b2f84ed68fe099b4982a24d9",
      "61a15c4a74c345f0b3fb9f8601f4ea44",
      "72e9d70323f94cdf929c6b65745d6010",
      "60624d35dc874449873a84b49266a0d8",
      "ac0f4dae97c14509a433dd4e4ab61cb1",
      "8885a3b25c5e40eabc161e7a370e2ae8",
      "31a1bbb34fd2486b91c9cd53104d4a83",
      "7ba343a61f9e4293b20b84a740afeaf8",
      "657b70830a544cef91fa307203d29fbe",
      "283209feae5a49268ddcf5646710da69",
      "2dd02b6241474805922a75edf33d377e",
      "902f3ac02aae47eaaa994eed7b65290d",
      "f22504e77647450bacd19d4d104d8e13",
      "6c4ff4abccd443dd904445f1d477b60b",
      "2f4832055c65448eafb9e01f8fa3dc27",
      "a361d1c29c9d4f6fb3922c75c118e8ee",
      "87ced7ae94d443a6839c6069bdba275d",
      "768e6f80048642aba535bebedbbad3b5",
      "2b8ea78dc146482291e33d1edc80eead",
      "5aae2b11db6c4524a2ec959b85af06e7",
      "6f7ac82dcb9b49eebd4dca131f7f0e27",
      "d6d0c93c32b346bd962952435550669a",
      "d755823920ce49018888778cdcb5448b",
      "4c46e452554249d9b783130ce5d08613",
      "71b453fcf65a48babf378232f052952a",
      "d4cde70dc4f24f5389d9727df195c3fc",
      "f469526f734d487db4caa2f681a8a2bd",
      "609a88d898824484995c8fdc9bab54e4",
      "ae4a14b2759144aba2391bb40dd4ae6e",
      "51b1ee9d72e249babc5e4a6ad458d98b",
      "c0e7df09114e4275bec1bf29b93b7a5a",
      "981ceca3603a4ee4aeb9f3cc2a3cab75",
      "147f153a52cc4e5598463f0fb206ac11",
      "2ff14e9fb66940578d8d276e82a70b58",
      "d5b64cee58924ec5a62bed0df9e1fec9",
      "eb938f9ea4e546279b96b7b77feb7028",
      "5a9ada16da394852a194c3c436506789",
      "c95ffaad63c846c3a556ea33e848dee7",
      "aefd76eff3d14d9f8d53ad55c4eef219",
      "c5d8ef5403124bbc8ac087a76333fd68",
      "8a4a43e6d93341a7949c9529aee8474f",
      "9595614f60a647cf932fd4dc3e339b57",
      "f2999c0c177a49b083a6aacefa292ac1",
      "0acb4d7bc9c142ed9ca9c3ccba61f12e",
      "6e6545b2d73344db918244b2c7760d6b",
      "6f689f7af38141d2bf519a0bc5e275bf",
      "b6f390f929ca47939b4f36c9660eeafc",
      "02185ea47ab544928df78ebeeb7f701b",
      "692b103496354978a0aa8bb1f7482e8d",
      "6eb0a8673453481990b9ae2fa203a834",
      "86c3803933bf4b2fa1bf80ccba985927",
      "c3b301d26dec444896f6e5bb61675b13",
      "31dcb4afc93c4868b79367483ac2bede",
      "6cc92607233a4bd4a2e73e03ae2dc6db",
      "1aa2513571cc434f9d8445bfd0d67a5a",
      "1c73b8b2665646ab9cc4596ad2a39977",
      "c907525371724352ac55075489b9f2f5",
      "c27649cf83504fd49ff354a72264e4b7",
      "68d451ec6f9642df834cdf97c69cb676",
      "dff92e1f80924781973e345bedee1486",
      "61d4ae5311034e838b72ff078c451fb6",
      "aa5f5164a6a94ec18495c12a2999f278",
      "2287171c4bfc41f5949631dae92f2887",
      "3078e6363696440687137732ef752f4b",
      "4e5205a938534581a061b9083a4f9e5e",
      "271a88e62b1d404695b42168625eb6a8",
      "f11d6b60b0e54d54a0ae7c6e09166d6a",
      "506566ce025740edac19f0109680a045",
      "de58e801e2cf4fc7821a92dd4200984f",
      "b8828ca9d5c3470ab3c67fe23f8c332b",
      "e5513c15a1744d36b76c1fa841718134",
      "b3c18801dcd846aca27cdb9b038b8844",
      "ab43007f6de04daf963521c32cea379c",
      "6a912e6cdc364fe8bd4a249b4d862ab9",
      "72807d37f7064e929bc2bc99174bee40",
      "e212b4330e454b658c78e1966c13f819",
      "9469f04b08a941b09126bfcd4148d6fb",
      "f8d6728de79d45a78b17f5aa71b24d71",
      "45a777a2810a4cd7ab0d531e920c9f83",
      "70b3a4d919dc484282bf815c1afbaf2a",
      "72d43aefbbd4423b9f4995b3eea1dd57",
      "bf4b1eef516b4a748006fa3ead9db7a4",
      "cf8495a8f46f4318bf7115865db567f5",
      "0909e01cbbb94d4e9bf50743fddb9c5f",
      "337857e91aaf4685bacb72fd8f6034f5",
      "762f45822331412f955bdfa92e73a302",
      "b6b0c5861e1a4213b9df4eed8690ee74",
      "85174d33a5794a08b062f4aeda6f25b9",
      "7205a5bb941e439988556732cd2ce68b",
      "315f7975831c4c37af610f28bbc6d2d6",
      "796f8e36436b450aa4095cac0c538216",
      "0c7390d15e86420c9fc3b96d29f73a2c",
      "5cbbe3061cbf4c818a1bf6a0c51b23a2",
      "7289d30b72fd48449cbec19488f6b769",
      "17318fdf71a04f6aba56168029e98a8c",
      "152ef413a79e4dadb52acf8f5559b980",
      "2a297a26bdab4130bcb40611c18084a0",
      "83d73672066e45a0b3160c1199ef8f5b",
      "20cf6925744a4947a572926045476a8a",
      "63472d9533974cfebf6d8be6570ac5da",
      "d13f42bcb6bb4f3d91aaa66e6d7bc021",
      "f82893a84718471c9eeef615637a9de5",
      "d8f19678c50b4b7ba668196a279656c1",
      "e2fee28760af46369392e031b0964c82",
      "82ae49ae4d1240cb863a252b41492619",
      "c09d6ded7aa942e0a4cea8735b3225c0",
      "8e5411a77f634dbf8f443ea68b561abb",
      "f1e35a3fb290418cabcd8e41fb2dc3c3",
      "c2cf97872d1f4b6883c2ea8a278fdd1e",
      "10f764f807f04562b19bef75ba729e8c",
      "42fe30fdd0694f8e98560233b5340e7b",
      "36a531b0e51e4873b87ff36eb227395e",
      "5caec78e848c4920bc052377e183fa89",
      "2128804522344b0db31c510f3153f6c5",
      "bdf73d75a03342bea979af69fdd267c8",
      "742ecc40f6244d15876c851bd2a7d541",
      "087f06146a0a4ba3a7f24ca45085c5fa",
      "d54bd814020d4a509ca4435149deadd3",
      "051ccd794a1c4268bbd28d66e7c25385",
      "4aea000de6614c4789b08435bb2f8105",
      "18045f739d0d4eedbc3fc82642718216",
      "6b02d18b7a16450b9c5260bf11890d26",
      "eecc42bb2d5744bb9154cec29f642065",
      "2d10bdc2901742c083ff3f9de296aaf9",
      "1405de37cb42454ab3d2a30f0a56e7ae",
      "4ba1f10e9dfa475fbdd762bbb5b37d52",
      "064a69fbafb4493493c00f8a47a72b3c",
      "b240ad57a777485e95f1c430f0d67a7d",
      "1725dd385e384bd6b53725cf601e9dff",
      "96551361347140889f3d23c92cbc2d44",
      "e0aabe6d7fbb492391ee90a5a3b1dc65",
      "6cf23098b40a443c98cdbd6c3b11cc2b",
      "fe6723b1109f4c3495cbc7bc990547cc",
      "c32430684a764b148c8d09d2aae14c37",
      "93a4ec3be6804c04a324686d50cabb8e",
      "0ed7fe0bde3e47dea2f14eca2c6db685",
      "e0565a50d43a4a249fe8f85e21e58f42",
      "3162390ccc2f42c598f1d440beaec80b",
      "7e7027998ca843f7a46324dd4181b3b2",
      "466d55e954ec483b8d9c80c9aade9aa6",
      "79315f21e928418484753e4afcbfe2bb",
      "872292500aed4bc8b7d1d2c91116728e",
      "1749411c848b48a1b36b7dbb4be3c099",
      "c7dd4bfcf94045faa488f0738c70f8d7",
      "95fb7fe4e4c245989009e7f89aa20826",
      "a8a62eb0ca904019b4ed3746aac816b9",
      "f1917d19bcba4ed59ffe097720d42bcb",
      "6b30489252dd4589900195706f8847d1",
      "dc9d54b7a2ee43eca1053261fb911c00",
      "04bf2ece0d8e4da0927eedfcf365faf5",
      "65a13402a5044bedbef37c20e55fe2a3",
      "1749666d89994baa8927461520848497",
      "7f022eed846f4ce9ae5633f12b5bd2fc",
      "0523f7b730dc4ccea6ebbb0487f8a4bf",
      "f5b07df19a884c22aea066b3d33f174d",
      "f6ee33c5d29f4d9aa34865ceacf83e3d",
      "1d7cf98ed0f3404ca89a4eec8ba0dafe",
      "392446f8f82e452fa64c34b7de26e672",
      "fb54b6cc9a4e489c9920899bdde411d5",
      "43eca02534a34c76b2d57f9b2fd5435f",
      "1e52bbf22000413497553dc0c9146ade",
      "7b362b597ab047a8981940dd4922d549",
      "177cd25fde2f4f0597ebbcce4ee339bc",
      "bd3b1527bddd4d8691f203885ab00e3d",
      "c85447c01a094ba8bad18eca08ab9fc9",
      "c4ac5689bac74c6599391053f5746760",
      "3e7bc22d9534417c94249b8d8f7f09b1",
      "a141a875c0764fa0873a4d85d9f88c6f",
      "527f8d45eda74780a62e92889e1a1524",
      "2c713b29c80649268a44d365a2e5911a",
      "bdb4556fe561469293305f6bbca5da76",
      "228bae906e5c47bbad843a442db40e64",
      "9d39be0959e84c0483efc9d047a9e8f9",
      "403b31a21ab94a208ebde7b0af60b23d",
      "9543e18dd32e474288d2eb5237bc320b",
      "b6160a0a8a7d484da0aa2864aae221a3",
      "789e66729a2e4890bba2faba40e159c9",
      "566dded71d8941199299e6c15ebe12f8",
      "74fa8ae498fc4455acd3527e3fda0f39",
      "c5459a6c49ac4f3186dfd535a0a423a1",
      "dd9918cb35d240b4a12782cf293134a9",
      "deccae5e601448289c8fde4ba16ce456",
      "d90db44ff2964bda9ed85f65351902bb",
      "571b86a795a14e329fef404972b0fa6a",
      "b3e62d7df59c41448f3150e1645431f0",
      "886c6b15fd404be8a915205a4097f645",
      "d3f1b745a572418b89ceee9794f8ff6b",
      "d02b17f3534d440da13d16a782c0e649",
      "4563af551d624247b2b8b11a4ce32491",
      "6f1005f2c855491b84308c0db2781ab7",
      "f533da0c2cb1415b873c630db2ead467",
      "0662def039c04903a2593588999fbcaa",
      "a217d88bdc94485b84a777f12bfebdad",
      "a0960d112db542e0b68c540adf523987",
      "dd83223dccc341ec8b650032ae1b1458",
      "0199fd0a635b4fdc97c93f24ec9b89ea",
      "5e457bcf0cd04a95abc239a88d123949",
      "cb5c88c596c94892b2779f8a41d293c3",
      "7119e451981f4265b0b1d1d0172c015b",
      "036762fa6c354d488b4a8d839fc0f6f2",
      "24e184388caa4778b57e86b2e7746530",
      "bb6437a4c33c48bab0fbd56d83a10e84",
      "258cff07409c406bb76699a797f3a32f",
      "77e1d4c73ef4471f90429587615d47c6",
      "1d4fa7cc98de49d78ea76530e03f76c0",
      "6aad9bc43cee4b5e9f5eb127bdfbc054",
      "e5c88fc0a8ff45f5a9c6b63d35756513",
      "b1a963b0e8ea479fa55ba9b5b1fbb14b",
      "7f98ea49b9584cdf8395ddf4cd0223d0",
      "edc39265578141d78c30887a0b23465a",
      "0b8919cf1ce343b2b9a007e61b643078",
      "e66c981ec1b645acb3e8d87442433efa",
      "20a7ae2940554213880122c95be15b1e",
      "83d748bcc1a3497597cc4a39b875800d",
      "f3aaebbad9c9473b97cff8569aa8f90d",
      "c149b3abddfc46d98529ad353511e990",
      "05cff8e0539f427abcf89208a10afc42",
      "21ccc80c47dc4c8fb432f0e3bbc7e0c7",
      "3f804b1c0f02408abaef4b29b9eccdec",
      "10771ec434f140648284469ab33d3b8d",
      "5142274d99b946509e6302ce888936ad",
      "47dec62bfe4d499fb9a249f79747813f",
      "1cfb41a5fa5840bfb580ddc14f34e48a",
      "4ffbce2833534ca2a6fcaab3e5504ce5",
      "8d65c58a557f4333b8750847731efeab",
      "ec9536cd9dd74f54976bb6b1344dca46",
      "6c968c54dd6441f492db65a91163bb13",
      "63a80de64cd24be6ae07558f33a4d171",
      "a5a76d2c12aa437bbd82e73c05236c83",
      "51343d66ebe14292ad49e44ff68c8ae5",
      "63a46f5119c146c0a16e40650badd741",
      "a84d7b427c6e4717b389cdca39b8f7e8",
      "50405041bcef4092b500aea339cb0dbb",
      "f2f95ec55fba4b12acec01b0afa5d260",
      "96286a0d2482478fb87f76e5f1517bd2",
      "db5a41ba13ee45a4a5a59babae049ec9",
      "79becf4ba429454db3fe2ddebb498836",
      "32e2873108204fb2a9072036505242ba",
      "f98a90c2c752429a9edc6b52dfff856d",
      "eb4aeea2bef34e05bbfb9c7f0c73f3a6",
      "70e861ce26fc49b8808ada57c47bc7e9",
      "513e7c5c34494424ac6accdc9d74f5ff",
      "53dd75b60d78430082bc682d7104c196",
      "f8b2b4a37bab46ca9fba9e2ef8650f90",
      "b029c8bd32f64bd187b6419ae9601ca6",
      "8088a91808604e1fa1e25b237e7ecfde",
      "a6a4177624094363ab7ba1dd60b2151b",
      "f39aed0b9eac4583bcd91674bdbccd06",
      "de5fa9ec00684beaaaff6c0a0502e8f1",
      "cede3ad2ac94456090ffef5a695a457a",
      "3461712518684a698f979c039069b524",
      "2ca25adb9d0047e3a5997063dbf29ed9",
      "b1f6ac01cf194868954c71f675c0674f",
      "a5a56a6ecc564c13b28660c3497556ae",
      "e656a9b1739346c2ba17a85770f85d87",
      "2198db41e26740f19a066f2e9db597f7",
      "3da96fa9782a492698451e08a69e49f2",
      "aebae333b7f24ccfbc20cee1c8832224",
      "179eeae9f8ea482785d6a096f3b5fde4",
      "e0e2a138439246269109a031d26485ef",
      "8c51bbad01f34fe9bb8fd9886bd4d8d4",
      "846d2a72c75744d09154016c7537fb98",
      "976e81d72b98423d8c161004ee174bc9",
      "22b9124eff834a409b3fd8b0e405390b",
      "17b725b9fc0f484eb4a7ae1f938a1374",
      "dd35142cae334fe7813eb7eee0efa811",
      "cec3dcfc56ac4ff69041296fc5d75890",
      "a4127ce03f414a0790b810552a47b7f9",
      "0e8c8c5439504d34b8e24387ab98ba33",
      "f9c0222471ae4f6c88778403e1c0d68b",
      "efcdc9e9a9ff45aabe15bbf981431593",
      "96a3f7c0ec584033bce89b25f336a106",
      "27581756c91f49d8b2b0944785080873",
      "b837966cc9ac4320b796bca373984396",
      "caea396dee684e1f8903fdfbf1bf1960",
      "7516bbc9670c4014afe8c4f5eecf8941",
      "16b1b631361b4027aa3d0d01833e021f",
      "cf560f13fa3d4aa386e1b96124e5b275",
      "d825d6417b9147379707b40ff9264273",
      "9da174556dfd4545ba4ff3b10dc948b1",
      "89010e04176a4e91b3470aaa17d1f18c",
      "13d31b64993b46c8a82cd88fcdb6b226",
      "975dd68d3a76496486a8c13549f27e6f",
      "a5de655a76124a9797bbb376b4c034ef",
      "7e3475fee09d40ee96afeda20e7d9aab",
      "1d718419c06f4efd895e67630c831ecb",
      "741365ebf7c8432096133a6ccb967940",
      "08372c9992c448488b09ad0b623e1ef9",
      "e25947da542f4edc800ce6179e3fca7f",
      "7ddd22195e90474baa7bbfb18ec33d29",
      "0f2fc091d6f2415ebb60ae3aab9c8984",
      "2b9dacae18d4487f84b63a3e1954d1e6",
      "2949a11281ec4524a15076fbc148f683",
      "ca97edec39ef4b17b5e2bd677b4950ce",
      "af6be922762b4cfeae00dbbb082c66d7",
      "183589d6b9d84b6a975647627fd6ec71",
      "fc013bed8d6247d183728b83c01c9404",
      "559f3fc4664d406fba5a804670cb935d",
      "342664588f7843239493092c23cdd3a6",
      "fb938c6a377b4d5a84686d32a2d20d3e",
      "20662a927a5f4f74a661765dfbe968a3",
      "577b98d3ae7543ceba0b052f7e4fa4e9",
      "7f9810fa1259401c820a054e64fcaecd",
      "1ecfb01772b94985bc381fc3a8893f6a",
      "f93fce6196204cd2ac7f05511b3b58a8",
      "8b8de7c0c31e478cb24606dabe35642c",
      "49ccdca39e584eef80206330dbc5fe60",
      "acef1658ff4f41d291ef8625e915d3f9",
      "1c8bc585e25744c58bc29dae17d47ed7",
      "e72c330c9202414eb74a15ef2aaf074c",
      "6a924dfa8e05477591551711f7df4bd8",
      "a2c6cee1f1c2455392c7d33e23e7eea8",
      "75e038a5c76a4ac0b867e3a5c7902876",
      "f6a55ade4fab438b9b1d999ee07ce32f",
      "3eb03098858d4928a3535433a5fdbdea",
      "02f92110599b414e8b60674ba66cc1b4",
      "3e674a0eb90d482688e53a04d8a66179",
      "26897df7e9174dab8db3af9f98db1182",
      "0e355c95fc4f42dc8212feb919803e00",
      "c80171e9f34644de98e371aadf34faaa",
      "9d287899923e4310a88b629f059a268a",
      "c953745d8cae473bac521d9f2237ed11",
      "c5c68c36f68542c89741cad6dcb28ed3",
      "45ed5c438ad847a6a490175813f98db6",
      "2cc8015daf5b4e23b3d86e7a4f066cfb",
      "2ff20d462d6542468d4fc0df5932fd2d",
      "c551d150765648cca86dfe3b78595b2c",
      "a2f24a26e1f845fca4da2cbb0eab6e71",
      "6a123f5340654f408176d78f3df0856d",
      "557f299b962d4a74a509d753abed2640",
      "64477cea8632495a9e5ca7eee53251f0",
      "d85e4501cc334b7384ad37ef058af9f4",
      "1428011783864805b1373cca6c6d4982",
      "f329a5583f8c4dcfae72b06818c7f6d4",
      "361229025a6140ceaf01f187e7474103",
      "0177ccae615b44d1b5bb6ac3196c22e8",
      "ecd7a9d2e86d4222b2d7b8da44cef0fc",
      "32f56603707b452086e81cdafc1a34c4",
      "f3165d099aa14f00b791ffebaca83b2d",
      "331717dfb7c9477aae66ab89ad752ad2",
      "cd4bb6bba8d0497e8da901e7edcd07cc",
      "cfec40ef50ef4a7e9a8f558b6e9a5503",
      "09bd8a82d7384d6c9e3b17b3b521aa39",
      "d9c90440c37f414a9c4016040a3da2c5",
      "c79d14edfd164729b74ecda3acf38ed6",
      "ff1b32f9f6734cf88f2b197a76d064a4",
      "a5329fc4f7324149b9156e73e3e916d8",
      "8baa39fc8bef4f86b195537f6b92e10c",
      "a71268261ab345a286b2deda1895c684",
      "442e4fcec64644dbb5d91e8aece5e8d4",
      "70e3d44820f441ca902d1bdd4ee1354b",
      "7ee64f5876544d42ba88683ed59cbb9f",
      "b4e5b5ada5404e159ce26b10edeaf0e4",
      "df2af085fd984869b1ee4ab3051aac2d",
      "0ee6078397f44e12a3b9eef3f17f8fdf",
      "5c1a933556de4647885353587aba40c1",
      "eedb20c82aab49dda79daa8b46620aec",
      "8c852b216d574069a78deb263d0bd747",
      "d565f9fdd860461cb94360a6d4bb33c8",
      "7d72334dfbd947e6972d3f8626a00b1e",
      "503dcec528b94470b820a45220a78dee",
      "0a74483f2d4649faae98cf2f92db1a50",
      "5fc385ca82f447cfa7e7bb1a6ca19d2c",
      "e47349bdf05846e8809c4e464c8f18d6",
      "6732919d9312486e82cb92e7aed21a40",
      "50eb3717500f49e68233bf0a742cbd2e",
      "637935d45d2c4096a116d22c5d63a525",
      "6f255cf8328a4dfd803bb7bbb21ca519",
      "b727f0a9788d4642a9dfab87ca751f83",
      "da1d73d7023e4359ab83ef09c2f2d331",
      "ae44a1213adf47f59fa3843795b2daf4",
      "4a9db9e291084a8d89310dd6994bddc5",
      "baf081e2219547349dea27ed11de460b",
      "2b1fc48eed524fe9b6b9fe831c35620f",
      "a3f81446e2114a739ab2dd4b1d5c3db8",
      "cb901c2e452140a7847c4e5eb1f2cabb",
      "d884a6da311d41359ad69b33416239a9",
      "2476149800ac4e7882668962622e293e",
      "a2caa3b39ae0471ba377476f76526c1c",
      "5fd1c85d83a04ff2a4184d73062e67ea",
      "062cf962039b492881bedb1d81dc08ce",
      "cbd91a6f6c5745ee9715aae655df06d8",
      "b13d0dfabb524810bf244f5b1e789e61",
      "6edbc16c1fea43e58aff6d0ce0bcd34b",
      "3f260cb424bf41b1ba7984f0c9e4ee93",
      "48a41d4c187c431aae20a2f4ce0857d2",
      "9ed562d1be944f7589da265f2027ade5",
      "bbed463bb5aa40c4b2dbe20a85f4f382",
      "f181784fcdaf4a2b80601597ef52af74",
      "76c1e206647d445bb9be11b482dc7baf",
      "50601bfedb374ef58f568f0737595581",
      "f1ae47a24e8f4af9838c599ea873b53b",
      "30921963a69f46b28021f7d3c88620a9",
      "e368bbb2171c47af88bfb1b9f8de3d6e",
      "e8addbd9f9e340bcb256af64931c2fdd",
      "e5a56b23c866490dad04c22af8f59c1c",
      "7ff02c082fc14da69fcae0534f0113cc",
      "c748e33ef255420b8d2220f26a22bf6d",
      "5f0d49eebd4b4103bbc972abd3dd05e0",
      "52e28f33220447c6a5251e407babe453",
      "097f1ddb52c9486995e6d104d1ead8d2",
      "57dafeb34418436695ae5876be8d031b",
      "66a594e25cf2487b82e59b0b151e7609",
      "f0bcb9340fe24d1cbd04697b723f7a40",
      "f53dac694bc74fa4ba10035442a5c806",
      "80ec52c4d9684745bde0eda56587aa16",
      "b6d499e8fd3440dcafd5a51b9b0d22b9",
      "d3d924927ab3459bac6697dab5bf064a",
      "f1bc01422ca244e98f74299d34dcedc6",
      "7317f0d7b00c49c1be124dc1c41322e5",
      "f11c25ef28e1492ca2a8e5cf159e9180",
      "40b4e06e7d9e4cfbad8c0f0a613af1ea",
      "9825fb4c71e641d9968f79234c4e60f5",
      "c1150a2cfd594ec79ce9572c8a01c3ae",
      "3c4337e4e7fc45d69a6d74eb99034680",
      "3e85bee54ab644ba8eab44d0785541cb",
      "4c16999176b94029a3bb0fe232a02cb6",
      "7a0424a75dfb46f3bfcf37b95f3b5a66",
      "ff7489f45ad346df93facd4946e7f57c",
      "2325ebeb51ce4ae7b73bcaa540c0fa54",
      "b8243358cf1a4510a1fca1ffe7c45756",
      "c39669ea1a3548eab28a257f021887e8",
      "74296576ce154b51987212eb09aedd5a",
      "64eae16e1676475e8d0ca46c4bb11817",
      "5572051e463c4577a052560ee7967a28",
      "9ba8d1fe5a774043bdaf94eaa2af055e",
      "d7e025ba54594766877b00eb6510c3c9",
      "e471cdc5a6fc4299990eb0b3d587c149",
      "6091c56339384abb917cf0e42eed347a",
      "99822719aeeb4b7ba78183b0f40a3481",
      "10170dd41ce24f41aa5bf812538502cc",
      "fbc2d360e27b49fabb916e44fe14b664",
      "d080c0b76dae4b82be72e417d1fb5e3b",
      "63f9af9182a340bfba9e0bc247a4f9b1",
      "87ae9bb316b744c18af50824246a2985",
      "9106be2325f04d71822ddaa8632f1620",
      "89bcbc28a609462e88a6554582ee892b",
      "7c49f5e5c1ad4436ba9a0dd0ff6bd072",
      "b89da14793b0424b840ffee74a783995",
      "6274024d3f274e2c884575d4158f6fdc",
      "656ded57b40443079b1021b0ceb47c12",
      "d8b1760045fc4ec19fd6a150de19b5d9",
      "4316bb196b604b53ae4fb9c64f5346e0",
      "1168b8041f9a48698d853e74758293d4",
      "3dfacd94c2d7451e99912a69a62e9d1e",
      "7d5924a4e9314618bdc7f63c159e81bd",
      "72e0f523d9d6465684b121a61b1bfa21",
      "c0ba5ee01d2944ccaecf72b39d068956",
      "90540d1fa3af4478818810ccf05a9d2f",
      "471601780da2439c8b52a5f5defdb19b",
      "2e5495bba331409fb39a0e0c8227a065",
      "aba7c3ee622446b79b03839f593b983b",
      "2dae870be47a452194b0664280d4ffb8",
      "d3baa93c17f74ff9b1de9f670f08d89b",
      "32fdcf3e0f674fcc87042a5103c305b7",
      "b47a91510ab54494acedfff356920a80",
      "7039dac806d24bc6b9d429b070a06c2e",
      "3d5715dc223e44cf80f192bb393a4b8b",
      "a39b8920c55949889a966875c0233ad3",
      "35e5b82c0e944b5490803f5335f436ea",
      "ff107443bf404ea1978ed724c9617c36",
      "c25c3256d95e4b969e20ed6639b7d66a",
      "2244aa7a27934461a2242fee0a6dcf25",
      "18466c2dd5c6480d92f62caab9f22de4",
      "081d3fa4d039412a90607007d3d8afba",
      "396b255cc06a4793893267ce1e752052",
      "1f0404c40a4745f68706df3d182bb80a",
      "04e91382e5a1444a9479ee1cbc58acdc",
      "28ebf5b070b3451d8bcb79a9c5d5b548",
      "0189a215562d47caa2af9aa560cd03e8",
      "9be6bc8d5fd44c9a9b88ac8e9fcf6a77",
      "75bbb22af4114a538eae6c80027c13cf",
      "bfc7aa674a4246e9be42d5ea5bf1b0c2",
      "efae1cc251d04e3db5485456d6ac9696",
      "e02a888e74b24750a55d1a9e69673891",
      "0767a6b51b3e4c40aaab5e5e686a1a34",
      "029ca4e050a34c60835fbb1d4b8aa8b5",
      "a03c11ee998d475d97b17ea8d27214af",
      "d490892ce9e64c81bc5742a87ed716c0",
      "4f8d5d8a1f7446e6b4136589d40f72ab",
      "d537f7572d7045d1b801be290674b879",
      "5491c2fe98c549f19e6ecbd567df733c",
      "1638ddbae9314b5888ff3a3feb8c3fa4",
      "dbe669fc229844b482b55f1db474a775",
      "117827ff18f844b89712f0c643534c62",
      "733336d04e72434f8a50f267854efc79",
      "10c9600c9d4747549237d37acbff2f48",
      "2bdecb7dbc134ab9aed9a3c37d473590",
      "696e02f7167d45d3b0d16746751f249b",
      "42a5ceb498724c978dd7e254e367a594",
      "8e46f02ae6bb4fe9bedfe404a6edd514",
      "bc6cc466931d4813994c7675f20bcdff",
      "088a98685db64ddc9b76dfd7180c95a5",
      "29b55e740b6f4927b8b47d094feb849a",
      "f16fa8bf99424aa0a709fe44d439a8cb",
      "710cc9f255d04550b93b9219b013e565",
      "dad9a547448b4cd7ab582504f35010de",
      "1abbe7727c2743ad9f5ae140c75f2a43",
      "ba04c4852cad43929ca72def4bb25e65",
      "de2f969a7b5f4b88b687c97981f3f003",
      "a2790135f85a48ccb07c4c761960c79e",
      "5fd3a4877c0340ed92e07534e400d5f4",
      "2088d34066c249268218aaaf6c3c41ef",
      "a5da93e499d14fbbba1be72278fd000d",
      "8cd960981eb14a3897c50cbfd3f1d5aa",
      "3b0382d3168840a4a451dac366293c45",
      "e109d342d6b04af5911b75d58e17dbcb",
      "5b763f36e7af47c682409228f5046f75",
      "65724c9335734eb9a2976d3c2bca31c8",
      "b47ada90880a4d49917a82788a58317f",
      "5620c9395c934c79b5ff9fea290e1504",
      "86612de52f8b4c8a90b43c4d4116f1bc",
      "2ed9c4d9f7694aeea34c523b4d886db7",
      "7a579f9d8fd8437d8ab155bb84926597",
      "ab8bb1b40758482f8f26bfb874587657",
      "51fb5ca75f6d4f6584c13c9cf3967090",
      "bcc58c881fe14bd7b864e504bd1569ad",
      "7219b43b30494c7db0e92558b04e6e67",
      "e2ad8982d9564175b68117d339175777",
      "8a75d518cab24f3b973f0e79c289660c",
      "c0d7ec6e0f154fffa1c6253414c68954",
      "f0066ad864114be9a9e699a9c81076e2",
      "1fb1f9e0bb6047a88130ceb688f34b4c",
      "f2259bc437584ae98d95870bce62bacb",
      "e2564486a83a4e19bc163e847360dbcb",
      "c8a84b3e7cd84ebbadba3a496a75c5cc",
      "cdd5fc0109ca43f7a776dfef8df3c843",
      "a6515513a9624359a98aa503f16a17dd",
      "b7869dfdcd8d4157af567d851f7f6716",
      "536d6e0a93a04d33b9e6fdb632a84640",
      "8ef88e3ba19c48b7ac17dfd7ffdf851d",
      "04dbcd217f63411ca1d3ad007d0066d8",
      "a9057b8fd1e2498287f0b2313702e232",
      "4fc963a5f6734f589ebbe9de445c7b95",
      "201c6afba5304e45a2c375972ef56d46",
      "16938c4c884f4b7fad70d75a8f1ba9c3",
      "a059ea88e36748bcae6a4edfea8815bb",
      "944d6c6030404bcf9fcfaf3d6625ed2d",
      "ffa3fbeb82eb470da500af1d68a4fa75",
      "89faa7b2ffbf4e11afd0b12947ce118c",
      "2c4be91836534d2c9d6426260244fac2",
      "5fbab43a19b446938e410e7f8de2a423",
      "d00c55d02e474fa9bf0c31cddcb0202e",
      "b8b802a6d0b44bf8ab3510639dd24b13",
      "3d57e1d7b5ca44919032098fa3d373ad",
      "0263f5eb076347569df20add21e53799",
      "c9e4746445224bd2b4beebddf15b8c12",
      "147dd3f4c8fe4660a421cba325f46cf8",
      "cf074987690c45dc9e0bca36041bc746",
      "628819372c9e4807b7790610047fb35a",
      "09fe1d8af6b24efa8d3b31797faeb3c7",
      "8f071bb015184ea695ec7a7d818e5a31",
      "ed044506344a4704a4e57eddc428d1de",
      "7215d1355a4542be9ae21426e36dd530",
      "d06c8ecfd2ab42c393d0b220546cc6f7",
      "c900cd5739724b7ba2a8fa13155a90e5",
      "d010e487b29f4a71837ae50bc5b7f480",
      "6af9987a3e414a5faae20ec4149621b1",
      "e7ca6902b57e47c2b061f7e032da5153",
      "0d59d53038214e7481e8599d772e8214",
      "38d01004c7fb4512b1b981469e0cdf53",
      "67effabc411d455bba0c6d13f3d7dc39",
      "cb8c74a2b2ea447d8293c8dc5f61e909",
      "e1d178e2b4f9467b9a8ad854a29d19d8",
      "934045800f9d48cc96cc3bd3d3d646ca",
      "2df9c272a4f3431f959ec0d6495eefd4",
      "46d8c4d993454fae842856928b517c40",
      "27b5144530ca433d8b354486c5195903",
      "2c8a7bbd2d864c8c9f5b89437eba6f00",
      "f7f7c73bbebb417d989322b2f4e4fd49",
      "d9b28c700ed64c869c3c5d31428bc649",
      "f8ed24e8637b48dab574b5b10617b5af",
      "372aae9a931642118e195900a2fe4c8c",
      "6ee59febfb82484d8c812d679391fd9e",
      "f447041f5ad04ab9b8bb37e3028b8d1c",
      "af7c6c68727b461ab8619fe55ca0e4de",
      "f2f1e4d6acdc414fa33860ca80eb998b",
      "0d6b3e10f8274f7fa180f1ebd3f8b75d",
      "9aef554709cd484ca6e74efea3c85eee",
      "1a0cddff6dff44d58a32577260c8b345",
      "008f3d46ab1c492c88cabcb20d60b05a",
      "7ea496402c0a4cbaa6515800dec774fd",
      "d30946549fad4f7b9e04c87f4778115f",
      "980aec03eff44510948788cfcd7f92ad",
      "5e4c3a9f67654f6782cecb0273d057eb",
      "6f5146288bd84024a3cd8152f77f9e9d",
      "19be51ef90a740bb9f28e26023591759",
      "d75ffd64299f4cc3be46a811abb658f7",
      "9d9dd0bfa8374913a31d34f717d2beb7",
      "b0bfa48114f54a58b86f650b807358d1",
      "80351d97b9294cb6ab74ec928e2aa7e7",
      "47705477dd9d4913a1cbfd17787d94da",
      "bba8053eb47842c091c0e8bde0e63d09",
      "68f4417a179348dcb5e325030ac4725d",
      "4a8b5d579cdf4e9292818fe1d7123c78",
      "f26832df016f40f8b08d891e387b5c53",
      "d47206a5aa43477dbcf24cbda9b6418e",
      "738efbcba5cb4dc2be73d0248af2df8f",
      "b0fa85fe13a448389f5bb7388fd3d196",
      "867210b3fb3346f8bcdc85dd02debb67",
      "48be361dd2d341e7b32d2fc45770eaaf",
      "91a93016d11c4d51b5dd4bd2a754449a",
      "07817ced8a05422b94c6f09c43228646",
      "6b969db1806342578569ff3ca8001382",
      "8a8ea50fa22842fd914ae7cb9e9c1f75",
      "7e9dfacc814e4a76b2cc066e622a376a",
      "ff39c404aa3f4b3faf564c31f8c48bad",
      "98001b9afad44e6e934b9ad102945ec1",
      "48f278ffa96042b4adad31d130615cb4",
      "5f8d750ea6a04b81a152bd408f8102ea",
      "59b4be2272aa4248a009a79d6c58de46",
      "287580a8806a4add956399c1972017a5",
      "9e71fe1535e541f8bacf349e6a222770",
      "2fb82f51dd8240b695df942e1005474d",
      "336747746e4842a396c9c701bdf608e0",
      "3ea4015718064c6dbf47cc121b41bd2d",
      "cd7cce49e6fa49bea3b12b7dd7d19586",
      "97f7b49658504562ada595a2ecab64b4",
      "c1923d0a05bb4410a4631e5174343519",
      "bdc849451d0c46c999c46d0582b9c74d",
      "9e2298848275430aae5b7aee940c28bb",
      "9c3fdeb5ad874683a5713513e38110cc",
      "dd31e765e76d49cabc65f00410641bcc",
      "496052e5409f46dda02157d59a66c687",
      "5d42265805834ba686d23bfb96d1675d",
      "dc2e4c5c7c06416398a1af7e337dfcdf",
      "fbda8a5e973f4a74af49c6c692fd8fd9",
      "39f998579ba94c4480d30ed242cd4368",
      "74eeba9cebce4a2698d015b6a3206951",
      "ae837fe7a27641609d461b3c53be7ef6",
      "3d5b9dad20434cb2a735970192f7c523",
      "25abb4ebdd2c4110b810379733aa80c3",
      "3b48914cc8244ff4a99bde9c1d5bb390",
      "01da99d5f9f94b789aee8bab9f37b93f",
      "289f500ad3994a7f85ba0559a9cecb1d",
      "830090701556406cab9979be4a771f63",
      "77846478d1524816a74886cded1ae553",
      "9315e08e4ece4d36bd26bd700ababc56",
      "ae76327b2f2345c594dff306be34fa6d",
      "95d7b1ae7c6b414490ed635c7ddd7ab4",
      "a9af3cc11bf64d13a3bc484150525a18",
      "c52eb108a2f84bada6cc6e8ed3c2f843",
      "101b0c15394b4d2fab46023c2f2e5c2d",
      "f3f5633167d241b08ce9b3f90eaa7499",
      "36db0c34548c462e9d72f45cea8b8327",
      "bdbb2aba83c94e999f4d49bebe973dcf",
      "9b4287c1413448b5a4e24104b9e69e6f",
      "3cdeed0fbeed4ba090c1035cf2224db4",
      "dbac3f52b5b74baea2447a1c01dbdc0d",
      "68c72e65896a47f897eb3a20c61cebeb",
      "8707854da0a74d93a0702b51517f370a",
      "239e73dd57674c0eaf43b4186ae14718",
      "6334c794c8fe451da3e3017947e6e583",
      "b41b2366b71a432b84c46b38968413f4",
      "851007eefaab46189e274bc570cf84b6",
      "68bcd90c32454c2fb0945f0aada6481e",
      "d849308b73a04f379b863c2ce7e1e825",
      "614c8c92c6d547fbb664c9bb01fb8e96",
      "781823b2d76b4876a0146ea9fdb2aef8",
      "617a681fda4a4258b12c63275e2ac4fc",
      "487be9822acc46ac976b4c606dfc565f",
      "7627dd617396424f86b5fec12693a503",
      "0b54d57061cb4231a2689cf6c614d35b",
      "1bf00521b4a84b2996a4f30ceb8f4bb1",
      "07e1f817bcec4d55a08a813837d373fb",
      "e54c4a03e0d04661b5f7c1bb8ba2ac9b",
      "cff971b632924cafa27c3a7b23ceb473",
      "ffb5cd18ea5c4e7eb5a768d7198f924d",
      "cd495bf2d14e48a78f471b72e0c2406a",
      "ad2db336e0194fe382c5226d9c9ca29a",
      "117872b807364a4c933ee3c6b5ff81e7",
      "fead71acbb79470684ace8597367278d",
      "a08365e8a7164ac6bb277f44a4e0b657",
      "336ab869051940ed87fef84892c0787e",
      "2d28e1a0a7324b828b192c81f84fce5b",
      "9bb8fc2c151d46b89068bbdfe74915b9",
      "630291ede30d4583bd1cef4312a77a1d",
      "d0ccfcc2aee049c9837db81adb370931",
      "22febd5d924f4cb48ff5808f7c7f8de9",
      "be7b350d64b34e08b73c0f57b5215aff",
      "a5104f7a5cf647898d6f15b4668352ed",
      "90d8cf38968d43dea3ff36d744b56137",
      "8c19c63c9319428588bda525b2774fe1",
      "bc92a252d11947efade462ce9b3437f6",
      "fba45e6714524507be712e63c9f1e392",
      "43f707616fbf478fa3694a3dad0dccdd",
      "406e9e90b7d94e14abcd47d2c1d54a99",
      "9c09112cf4e54ec8ab1bc4210bdd2923",
      "534fca44dccc488cb446224b2d1edd13",
      "7c146bfa0c0544bea1c87f91d71ca109",
      "83116a1e92714eca972e3ca0c5f9d44a",
      "5a7b273762704f519a3469d09919de17",
      "ea9ebd202a804b3e82f45a3afe337026",
      "4123552d48ba400386743540c2024a69",
      "5f7845db1bf4473c99edd9e210b63172",
      "ae452ec570fa40bfa291d68d8a6b870b",
      "8466ff3890b440c8ac00a6bd2e3d2827",
      "8fadf2784fe24c2488195f5245f13332",
      "c7dbcd0355ac4ee492bcba43e0838c7f",
      "a0b826793d49455cae07a522974f2279",
      "7bd29d00d89942a0bbf99ac34082a1ed",
      "8acc5957fddc4392b3e7064ba8795a07",
      "8ffdb8bd8c5b44a0aeb298239bbcecc8",
      "f87d3865d7874be793036e638a0a31f2",
      "8ddce2f24973491ea72ade10d9be956b",
      "bb486726c89448c19df96828a38ecb29",
      "09de9ec1baf34bf2ba4e19782edbd1a7",
      "d36e781e0fe7423992bea585fc2a2126",
      "7b74fe819038412f8b689bbd66d89bbe",
      "a94db3159725424d964d9eb9468fa6f3",
      "8077f882ff4a4c6d8d5bf8e5a97df8c0",
      "cff477c5b9d94bd197399d61eab8b9ed",
      "df7ed87300a14e898b4e467d9689f495",
      "4dbb35a58c3b49a7b00916b47be262f4",
      "1cacb7050e164c9bb083c47a94d25cd0",
      "b74490c3afb1450ab08efa61578b997b",
      "f2466481c6434d1b8b772b02237373cc",
      "d7dca0d4051b4a448b194e3df0319568",
      "13508efa38444158b29992e78d9c5daf",
      "dc47b3f820344b7697f4f2a9a03a87b2",
      "98e4e038690e427681a0219b0ec09fb8",
      "fff8e78e88ff47d99bf50f45751f6026",
      "0a5a3695e653426b95120f51c6503f96",
      "3386b1ee1e95457ba94bc2a240ebe90d",
      "693d1efd561846b1a111c269991f48fb",
      "849c11687c544261bca69e56021aa961",
      "3d74c4e4d72f484181e90b73fb9a1cb7",
      "08908c443c2446efbd67094535a7b5ee",
      "a06d4fae596041f989771737cd64f813",
      "20efba8ad89a4cb1a1997af6460c38bf",
      "aa98830f583a408389d30784c8300897",
      "1eaa5447c72f4f3cafa6101c13cefbd0",
      "032de2571d9f4086a46caf50af4236da",
      "5389445323bb45e7b789dbd787420711",
      "1b8c46e8820f42ad942360a0f8fb26d9",
      "a93579c72009434291e79d4efd45ecc7",
      "81bebb52b46841c7ba4fb05802a8600b",
      "9ebde527fcf644208fd3a04fcb1876ff",
      "535055ddb5234c25b58a10060eb62e33",
      "d249e968df02430db799312743a65b0e",
      "eadc9afc4e1e422eb065f4b1c2ee30b4",
      "6c2ac84459714e468ed34f030773cc94",
      "148ec1c2c4f34c95982212285c1e27c0",
      "513f5887b32040c3911eb4dd4a7c444d",
      "9466c94f7ab84ddf84b4167a24bd1aaa",
      "c12ff1700e1345cea8dce05aa6df136e",
      "18b774d69a7447e4b0aa4d31c6547aaa",
      "d126671b704145bfb288e9c6730cdd1e",
      "cb6bcb4b59b044758bf7527e49883144",
      "98879ad037364926bde0b60faa46089f",
      "b8c7c362ddfb4d739afbf5713226b7dc",
      "1da8af6da8004e8aaf9f300e3e7e45d4",
      "2033568e8ae2464e9074e622a1dbf1c8",
      "ea559fcbda2d45a3a8e0eaa4050bd9a9",
      "799bad9834b24c5987b84e4d3ed81d67",
      "53ce4bcdfa834dbca50957143c6fa495",
      "f69b479ae1154c92a9971a70b5cdee59",
      "6a13aa90824f41759f9df9fd44b51477",
      "49203f781c824f2c95519a8a3c7ba41a",
      "48dcad77c7c2423b9b9fc621d132d7bf",
      "6b0a8c652d164489adb3d278733436b2",
      "d1bf4bcf1a80425fb0e9e2752af217f0",
      "3bb2679426224703a2aee814e7bc87c0",
      "c5ce9fe8046943e59d965ab4b7883667",
      "f558139d17d542e0a005efd19a9603ed",
      "5466d01b49004f0ba0b40e013f168d53",
      "a31fa4b892ab4367aebbeb35f2f6aa02",
      "596435749fa543bdac9b28e9bac32efd",
      "f2b8696f628e4ca486131109db50cfb6",
      "f0b8b7b01fcb465da40e5b37e4820147",
      "29680573a1964f258745f0bb3fa0efc3",
      "e8224a5dcc0a4487bbd9c0aa113de456",
      "ebbb95e922a24ece8afea57a5687cec7",
      "202eaeaa3612400cb541884f552c9608",
      "8ec92f6f6574431da76fd529ca7d02a3",
      "6ce5038da9ce4ea5aa2a426896e138f5",
      "53a454103fa24ced98d2f243b2c233b6",
      "71cbbb906ef2448bac36b2ec0f29dd3e",
      "8d31624d158648f294f9886697c06e2d",
      "ef9905836d3e422e8a0fa61d92222747",
      "b3fed0ab3db64a6682465cf8a9e77768",
      "139b5381fb7c4ac59a85bdf34bac982c",
      "4253b32a6aea4b6dae32eb1632045dfb",
      "2d03d741663946eca6b7bb338e03c600",
      "35dfda4b3f244931bc7a84d6645b79cd",
      "0106ef5c8def4012bc7fd1c8aaf7da33",
      "80ca2228c4574c22bedfaa5c57492cf0",
      "2441586983ad496ab6de1a1df9b0f3af",
      "897aec203cac410c9cd0633b42832c95",
      "16b802d309fc4ebe850c4847d5cdc3d9",
      "c394f1dce19f4e36a6f7824cb3a57e23",
      "6643f58562c6460b938923e6e6931476",
      "66cd5b849b34472391fd178817c384ae",
      "1b212256a87b4f61811642fdf0479cf0",
      "af9869f558634ef6a917a93c988c03c0",
      "47f265f2a37e4ce2bc4631e3cf1228f8",
      "fccd0f0fc16744e7b880c71e915b62c7",
      "b177b55cae9846e082a0492b1a97a477",
      "a1ae6bace6b64f75a9d5ee3f14b06de5",
      "59aea95d2a4f441d8536b0e311114c20",
      "1fe63377366c4c528f014b423ac39405",
      "f766aef289a042cd886c6698ed582c79",
      "c4e0dc6098f3454aad11b386ac608080",
      "ae003bff655e44b781db0766a71176eb",
      "f79c5fcdab4343cdaa4dd1d044ed8266",
      "ad71a68f176f4435a4d0909ebda6642b",
      "407ae7b5a68e4c2497d5d219c89196f5",
      "dd9039f016184616a183fc3cade45e2a",
      "edc767f4dd554c1d9f152261220fe9f6",
      "1cb5592a3fc84be490e71bcd3e26621f",
      "1e729619141f4fafbcb0bb0c9b185285",
      "f2c55033ba16474080e7ed331bcadb0e",
      "084fc1433389455db108bd9d1a0f09e2",
      "c1d44feb2220485e80d35ed464cca56d",
      "0031a2802c644690a11053713dc036b1",
      "caca403e41fc4dadb890e65f82978466",
      "1f2cb349e3984b2bb87eb6fe967847c9",
      "11d4d0a6767944ef95e8d12edf67dc6a",
      "91ac53364c284e93b8369c5ec08226be",
      "26013dec6953440ba53fe2ea2425c9bc",
      "99869311802b423eb28ffbb4aa77b6bf",
      "2e263c5468804efda8752aef287a3af0",
      "29163a29f20945b6bc059ffc6ed2af76",
      "a2f5ff00b4504b049461c6e994f45495",
      "8469688a9e1f4bfa89415fb57d12067d",
      "c88dff2539f945698f1e840baf808338",
      "895cfb24090c4fd298dfffbbbfb7028c",
      "1637be2d45a14dc18673ef4781ad978e",
      "c403f6fa7a3d447dbe9e287b093cb9cc",
      "9107f1fe0f6f49c68992d3e178841de7",
      "0ea77e17c7d041648b8642cea3546708",
      "36fb1839b6514e3b9242f662e89e9164",
      "b962b1606b954f7ea1d695f177bfd5e9",
      "e1d15a9a865540cb807173c3be9794c0",
      "b6361728898745b89234b6fa0680e0a0",
      "954c4bb6a6d64924b18dacc303bf2ee9",
      "8aad32e462be42edbee47e1f9a81b766",
      "bcc639d4aba94bb88c2591d1f4518ad9",
      "4ff2c0d6b5484387a827c1ea41e77d72",
      "6ef0a739442b4034bbbeb63712ff1c6e",
      "447b37af45a04a42805587c935c67773",
      "75b7c3c798e24de494368a51a4d6220b",
      "2280092190b046729ee8014071021b75",
      "3012047bac9649f5bde1c5e473ad2fec",
      "b3e26378f8f84085a8215445208c8d3a",
      "97741b8751de4e7f8cca18fa2768ce8a",
      "e394171b037d4ae09ca0d8069066ac9a",
      "21ee16bfd16449e189317f33b5cbdcb8",
      "5941b557492544e3872042627e7840c0",
      "2b18da2311124b0fafc8505729c66f29",
      "fc142b6bcd32414aa8f778be3fc6e231",
      "04b9212eb85442e6b7c33d6dfd767190",
      "1cfa96fbdb9b4ed3b627ce9124e6b3a2",
      "60eef51d9a6443b784a3a4f50a6d84f5",
      "b1f870a7b0ee4be9bb5d4fd86446ab74",
      "129c30ddb3c54a7487c66414f0b5bed5",
      "353090b57e4b4ed58bed9c72d8697519",
      "4ca7ae534d6f4090abd751c13bd4d071",
      "5e252bfb55b74be88d99b40d22496956",
      "2fa7bdf3a4d64605bf18bb8a5bde5b86",
      "9cbbfd98da5e4633ba582dd246d50c7b",
      "f76c7ca90b7e44d6b031876aa02b741c",
      "064beead72594dca9ac193613edbeeed",
      "bb9e5fe84ccf4cb0b5afb77fccc388bc",
      "932ce8137965433e9c9471d81e4a3122",
      "b39b5b3ee87e421780f697a87171151a",
      "5384200d06204d9c98ce57bc5e10975b",
      "a09b4839cdd14d5394689722d7454d8d",
      "ebdf701d8cbc4cb995600ef9aaa88e31",
      "e8a5e79d6afe45a28816ce8f79c22cc6",
      "f22de5bb9d2a4c0f9230c6cb62635d90",
      "10dc3edea0394c03a44c3dfcce065ade",
      "83f1edbb54944bf890a9b050b15f8e1c",
      "2847b6b09e5f4e64876dc7973d0a7928",
      "8953dc10c54845deb8347b95e99bc05e",
      "197e5a2b08c14f37b62ac30d42f6a0d5",
      "74bd646bfeb2434f86909520e755d80a",
      "e6581d96dd394e279a36008ecd8b7db0",
      "ffc71c45b48b42da99c07c5bc4fa4dc5",
      "8ddc922685bb4cf3b2ff49d76d8116de",
      "0ecb87d98cd849d7b3db6ec934a62e5e",
      "418a818811a2424da06486ef0bb93094",
      "e42a236950384c8c9d0e62ec07681cdf",
      "e5b8cb32078e45779ab963b9e7db339d",
      "1b8925d167dc4ac2a3017c4235ba9780",
      "d95344b4615340ba829cd5a9fe5a3f83",
      "3e5dc7ecb2454b8bb0bb88ddcc0f4b7a",
      "ab73dd6aa4614412ba1caf61ca7cbc24",
      "d434de1bcfb348ba8d788cab2e431b75",
      "e4763b7baf664538a1b6e8d1abc78376",
      "fe7f82a2e29844a488d6ecd90b1ac6cb",
      "0767405c46934d61b8ba67df323c3627",
      "a4d38b255e4f43f5bbb0ca7481fd66a7",
      "db27b0df11df436abf7f2948dc071344",
      "65408f9ff7444adda3bf580e6253b06a",
      "45fe575eaf3d4de6bf53dd6448f7740d",
      "07b8c8c7da8344a58776c7b491df2c8a",
      "35fe651b122049f0bb4dd7d31c6d0726",
      "a881aeb8560947b38bdd122ce531c8d3",
      "59299c399d5742d4b443178f1c12888d",
      "18b4699a2b8a477cb71e469c67d56418",
      "1add15f4879e4a22a028200e3ef275cc",
      "3249643e8f724a86a9fc110bf46808aa",
      "3303c57cabf845c1bf4d5daa40a97681",
      "c3b1b5ca12f440488a093cc2509032f1",
      "888fc97d2a354751acbd00526191fdbe",
      "a2dd136d4133475dadaef24d192938f9",
      "85a232d6341a4012b210743c3b75d071",
      "e8e205ff0dd7484f81ce3c964bada578",
      "5ceb9c5faf344e5a95dfcbf033609997",
      "09404c26af8541179d8fcbc11f60cb17",
      "a3bf2525fbcf448486267c38d88cda56",
      "2a6ea23c9e6041739361c317b4d26445",
      "4cfebe2feb1543dc9d3020acd3601066",
      "db34a159387a424c88060f46f52c92fb",
      "de1ed4b593eb49fe83ad138fdb881a67",
      "8856c26b28bd4342a584e7f3953743ab",
      "f66142f32a0843d99b35999126b54730",
      "2cb14246f92345088b7dae59b905159f",
      "8deaa52ab93c483aaef821ff28213c2f",
      "71055b03e7ec4a70a9e50757b83323ca",
      "8d5f5b2d5aa741609d337a2a50232558",
      "6ac7119966904d12ada6d8ac34da3d03",
      "e10fc89e49304dfeb87aa1f05169a491",
      "0a82745ffcd3494f80cc5b3e03023dfe",
      "d4b87cc61a9844408781a53d99b7a2a3",
      "01b267601d784202b31efc21de597e80",
      "4deb91a39f5e4bccbb0f68ed51230641",
      "27779d3847d842b7b0f6aad7d22837cb",
      "f6efd28b0668410da4646dd0a710de98",
      "eb3614f822164845b9826dc2b6b0d30b",
      "0cab8ecb66534898aadd2b3148e33e51",
      "4a0d63eb3684416b9ed17af74a601838",
      "5d5d244bf782433f9c4a374384cd3130",
      "980d3704f70a42c1854fc3bee04a014f",
      "abf774cfbbf1414a88201faeadd6ee76",
      "df8a2239d7b54892a368886ae02fe296",
      "6ab03b7940ee419aac1449cafb609d71",
      "efe85bfde41147189a270716f1fc872f",
      "22ede138be394e64a2d19e88a864846c",
      "ad8545932d7a4333916ea51baca951c2",
      "b1e05232733d4675bb53dd1a7d158015",
      "ba9cc3dc88e0414d95d4f635a8f994c5",
      "1d98aacc0fab44fa90caf75cee7beab4",
      "837f1a420a2c4d62b3786265d47de263",
      "3d09443a02234e0a8d3f8cf82257c136",
      "bde901d4ab1f403f988fbe47f39cefad",
      "e0f8913ae4d042b194e1bfa42c344814",
      "7718de17c18c4283af68281b384e0850",
      "f04a9e8f37c74640ba8f8307875eefaf",
      "32f51c16e7a341f4a017707074b2ba9f",
      "3846de517a2041f2a948d3938747831c",
      "953a23aaa8cc441b90eaf1d7044bad03",
      "3e7389ef0dc94f638875d0486e692781",
      "40ad20c99bbf4c458c04eb9bfe17a9bb",
      "9ee03779fb434031bc5347f4c68f8e70",
      "f4d41d47cbda4e628ebc1dc637a08336",
      "c32ef2adc3e8401e8492886c29d7f110",
      "89662216d78545acb493c052857658c0",
      "c20be8e6baee433eb623e9648e3dcd28",
      "24fd225aa9144b0f815562de38dac687",
      "5a9ceded420c4d18828185ef87b073ee",
      "627e98c734dc4f608496fd854129a8d0",
      "a00243eb543a42fb9ed7772310947fdf",
      "a55db4414a94474cb89de5c880978312",
      "111262a2dddd46f0b90011388751cc1d",
      "f9c941a6857648809462216b64de0a94",
      "688a99436682446a936832b6ebc7e1b9",
      "d4926385f18a4a35aa5c90a7ea0bc8c7",
      "770158f49cd04dbdace41b68ed6e7dfa",
      "fcc1a00b878a4dd7ba4d7d9cc0923a1d",
      "5659ade2b85b48d981530e2e2bffc475",
      "19a8ea24504a47edbddc5914a8e5a12f",
      "9788576dedf54c388bfb059ad5e07f60",
      "12102cdd7efa4165afc4eb203c1181af",
      "5f1412646f8d45dfb9116112dafeb3d4",
      "b6f8fbcd5b2f4d348548b473a7e412f5",
      "8b6c9a76200a4870a639c07b531e0584",
      "fee2f9b90cb74eaca8c5068a25fee8da",
      "aabde79fea4f4c9c87afaa1f551537b9",
      "343f6b78077641f69943d39e90bda734",
      "e399da63190d4263b0f4ff61da10e29c",
      "ad0f4f1f359f450f9c08f3fd4a43b40d",
      "4c9c754976934c9d8c10ccb53fbc63a9",
      "65786577f1d54616a5b479c9f6059b4c",
      "d66cd36c919e48c3a9396b9d3fe3ae0f",
      "19f2ef2fa8ed4af1bfb246b3ee49c0b1",
      "45e1b4b5c95245a2ab273b017609a295",
      "ee5039acecb14e4fa677981151fc22cf",
      "3a8821c7859845f38fa6ecb6a3a6ecd5",
      "5cf96b7caa934edb8e413f4bc537f3e8",
      "b13cfecac1644d76b7f8d5e457f6c65d",
      "da92b0da962f4c2bbd37f57cd32b049f",
      "5831b9fc7174495981b59115a5b34935",
      "7c7fa162cd584d9c8d995a968e7f9280",
      "b4b610b045ea4929bd3073e386da9615",
      "10060a0603e540cc9bf8953cac623934",
      "13262708fd2249e8935d1efcd81ad4cf",
      "51ba24cc592b453bb330974eeab0d48a",
      "01e05de94621415f9fe93d77b89cfd77",
      "344969ff86784aeb8f4c7e2d39b66961",
      "af6a3ea3d31b46ef92f523ecde7d1c79",
      "b226fa0b21644e3d844b0ea42b997b21",
      "16cb6e9188764750851f3d311d7fdc65",
      "62645f09ffe04e2da2020f825f1b1e27",
      "27b5adbae5ca42af9b5e9e0817cc0311",
      "ea28ef15bd1d4f409d97cba5ee6d7f23",
      "c0b8f6d5a56a4df9a41ea47a4367245b",
      "ea7ab5e1d2254fb8941886fc6a4af4bb",
      "74f2eb1b330342909e3ddba10ba8dd9f",
      "273b05f55c374b4c8f7d5397e8efa5bf",
      "f97c418a960745b58c1f67c3fb41ba89",
      "026fb608d7d94123b8a71e1e04575dbf",
      "c9388f3e7b864b6780a12d8f1641c112",
      "8b6349fbef764cd39369b024e6172649",
      "de481485ecd245d0958db0d3476d2513",
      "e3d333163eba4caf90976a212563149e",
      "05ca066836854e7d804af56319f9ca59",
      "58d931a444b24930845f45031d8f27f3",
      "d09a25ca503a42a6b87749f0883501f6",
      "133b108e58a3420cad59b886ec61d4d3",
      "0180d517e2e24265bf147d0d09f649d8",
      "9b580fa1fa0c4bb4aa0c4ff3db61461c",
      "49d3ed8c9d51474b9c4f5ae63b18cb1d",
      "ee4c3de221e1405c9e302f468875b4a9",
      "4ff33b7135db4133a1014ac1dddaa811",
      "2b56078ef2154ff4918712520aa152e8",
      "066cc33a5a3647b3b8c175923ad6c9fa",
      "fd3901da0e864feca2fa9e9663755b88",
      "077462bab0dd4ee5b1b64e27383c0643",
      "c198c44bd1664277ba19e1c78416c7cd",
      "762fbf3ed7e54a0f9cde63a8402d148c",
      "b15c21480704478ea1ebf8451a03391b",
      "ba330e86a68140238b8f4ba9192350c8",
      "d5efb9f1424a453e946b7a5f0422a691",
      "b577cc354c864fda90ce6fc662eaff94",
      "d26198785d804dffaeb4475868785e50",
      "9c6d0cbb70414b73beb1df048d8d8bce",
      "bcdf920bb1174f37a65f092ec1c23665",
      "ad379d1220d84daf860620e7a49b7696",
      "1b137f672070476aaa2825eac66bf51f",
      "fd6378306a9f4d82931e54bd27a9df4c",
      "63d0543c7a8742c7b2c141c0c4622fe4",
      "5bedaecff81d4db4860ffb80a969442f",
      "a4e93ef53f914161850e651705eb305a",
      "d29eb3c5b4a149e8b54fb1f0553817d7",
      "789e827b67bc493caddbfa7698b6677c",
      "6c6900b9a1fc44678e6c2e5b951abb8a",
      "62684fd7a9474c2a938736de5e67808c",
      "df1c4975420d4e1ab5952c3d9100f3d5",
      "2dce6493a4174aeb97e7ef404eac81f4",
      "8707e3683e0b493488ee791d78e2e140",
      "aeffca2bd4564d899f80f432d01b2399",
      "5a974f2d61234ec49b2349fa0e17e8cb",
      "afbc0b7437fc46aba0f464d0e856daa5",
      "8deb4296f6ad40b28f1f9a308ee3a5b5",
      "799ac8ebdd49439381a18a4bc09d18bc",
      "1c5e16d015e34b83a68ee7e1d55695e2",
      "99fee1828de840ae97d8a7e095e08e24",
      "e4d4faaf954043f99c8a20903f6a668c",
      "7891e9c24d124d9784b7cd8964ac2a05",
      "2f79f09b01664e68876fe92bbd449594",
      "f48122a65e07499aa0ad8bfac382c347",
      "a4a2c2b58e0140a485bbd8d74ac13c1c",
      "985278175d1245228f0bdafe6f9f5fe7",
      "86165640d7fe4671a234a72992638dfa",
      "d2f3bd507bba481f9932e6e2469f7b91",
      "bf1690f217b1499992877aa9683af27e",
      "53c56857b9494785990cd397eb5a4bc2",
      "e6313922d39148f183d1ad0cd7ae90b6",
      "8514acf847f44c09bcaf23d4c7578246",
      "8ba14f5e98a24d7d892ae0295a8852e9",
      "2768ad4a1c414ab08c0ef9e2b058d4ed",
      "9f1c3663f27045ed970d7b976e50fb1b",
      "0692745ab61e42bc8bbac4d13416d0ae",
      "1f5bc89d902d467fbad8d7224f010500",
      "552edb3a9d484d49868c1331af147063",
      "7d94414a15d440c18d0577c733ffa005",
      "9cc555f4ed7b4498ab807463e60220ad",
      "b909c2d23a4c4ba7bb9970a2cd33c2a8",
      "7f27ba84c6be4878ba0912e5b21f3cf4",
      "2c890e0142aa486e817ae12b68bbe819",
      "60a2f9894239435ba5eb7084c7bd156c",
      "5437aea9cf1c4773a4f31746d3778838",
      "1174025a15e0411cbc39b9f7a7c3e0b3",
      "8ec73ff95e304ab2897484c4fe8bd95e",
      "ddf24c8099ae41a093a0636047c21a9b",
      "ad8e84214fff411fa85bdef7603309e8",
      "6d0b5daeba014c60afa17a433470049e",
      "7decbbce3cb24e5fa8bddfc074078635",
      "0282c1fcda194611ae0870720d546b4c",
      "1fc22aa5beb041aeade241867cec785a",
      "6eb2873d3f794eab84213aba9eaafc46",
      "c9405ed057c34a2092107502f6eb9f2b",
      "b95a914b332b48558243ba9f2092994b",
      "a8123e3dfb7f4d88b44df03f4e607e6b",
      "23057544833444be89408fc66b0b5b37",
      "9764d75d37e648ab87eaf643ad6bca1e",
      "a21163dbe1ec4885a35d1ab3b8023676",
      "a9e361c63c90471eb92c82eec1b88b33",
      "57bb5ccd58234d1593e63f98c49837d3",
      "954fb8ec60f448899d685f5537174a38",
      "2ba6ab848d864fbbb4401c7f264a801e",
      "79ad094490f4411aa0e5214d52c10ad9",
      "281ee35be27044f8986ddc95a0ed097c",
      "7c8e32bdccfc4abb80e3d539b777084c",
      "804e0b5a42f843f3a494541fa4ea77ee",
      "3b9aee2529f94d7f8876df2546766379",
      "f8ad00c8930849d1b8dac75f7a511c3d",
      "b88bee5744574baba4c4cc192720a2cc",
      "026e2bec1ad541ceb359e1f619b7a0af",
      "6c4a243ee2d542e8bea83aac39a2d859",
      "41af42afb55b4af286626b30d38bfa0f",
      "1d4ec5da75764f7da1343c4f1635fdef",
      "5ed4c8aaab5740baab89504f5826f4d1",
      "0292d9d4edf04311b6ab4cadfc4b29eb",
      "33e07afeb63a4258aa76ffd056c02e5d",
      "f11dacf9baee440a99aeb1de9a9cd845",
      "8a3b25ab5bcd4505ab9cd2a56c42a00b",
      "86f3d610ab3c456aad6014d42b2ad5ee",
      "e058403978d3426a905146de153e5bdc",
      "ff8ec8206b534bdf96c621ac567f720d",
      "245d086f51fb43eb956a93903ef931db",
      "aa41f4eae18f4858ae285e71efaa4270",
      "1d9e0b777a364119944834440a49b972",
      "d150d4292dd94badbc809ae402e1b2a4",
      "d7e9305a0d76408d9ab76d5d796f57ea",
      "3c86c8dfbc9b449a80a049e7a5286ac2",
      "8c53ffc52374441aab9949c8d392b398",
      "4130512a1611483f88ac790a8f1bfaa0",
      "beab9eaac38140b2a6b81cda50d585f4",
      "da54492a6e5a4c04b1a14354248562ca",
      "13c8899f8ce54f899244cf036ca1867a",
      "b54f00461e944944bb20bc089d57ae30",
      "5691c6c083ea45d580e49eeaf7e983bf",
      "206cbfe2548341c194a2048b39224e22",
      "857792cb48f149b4a331c63ca7ef92fe",
      "1c686c1e8a9c44e4a3ecc9eb45c5e126",
      "5b0d21e23c2f465cbd365e6cdb3013ad",
      "89b75df2db2141ef97d723bbdd6e6038",
      "edb4003dcb5f4859ab7cf17fe28d5144",
      "c1eecb5bdfa5498b9bbe60be4d69ce55",
      "b330909cf54c4fcdbd248d097e2d0f1c",
      "21288e7d4e2e42cf88f7f96cf1ce7694",
      "b6c31e710e6045ca8d7abd966aed043b",
      "c53826ec896d445b981821712d8e67af",
      "7ec05dc7aa8247d68c979c02c426439a",
      "cc5527cd3a3c4ce3a86672a467be4603",
      "85bf542be38d458386ac86ae63cbde88",
      "5d3164da75fc47009336a6396bb74d8b",
      "a5ef2e6d96e54853b605de81d19596b6",
      "ef1f71741f48445891ea0fc6443a3ec9",
      "ea72ebfbafd94722bbd4306c47dfdc6e",
      "c2ebcf289b824fb8ab2f701756453f27",
      "596eb6c6388c4e53b839d8f97be21de9",
      "8ca0604b0923486aaccc4dcdb89eb9cb",
      "ce67e818dfc6428181554710cfbb5b81",
      "843dffe9504244a79f0de9d5ed9ba492",
      "62fd7f028931499a95b1b3ecda8c420d",
      "82d33542192647878c370d0d66eefe33",
      "0977f933dca24026a9545f0c50b2eb11",
      "894a0e74c967449da059555497fb55d3",
      "07ad6385bd75480aa735600f23b78f4e",
      "859f239d02794d758d30eac8910ef305",
      "d0321d78170a4b00b45ca59c9541da85",
      "1057bf7431c14b568860f8f0cd8eaf1c",
      "2ca4d8ca5bb44219818f289cf9830ced",
      "b040df7800c440548ebe1f7a9112ba69",
      "f9dc2711c1f4442ab6f2c3bbc9254bdf",
      "a146d2c00b3a4f369e58fc835c71be19",
      "d22dd46cecc54adbbaa96013ae09c474",
      "088a4eb361474c6c908cec614cc3e887",
      "db37847b43c5424088c0f165e15a7732",
      "a2b65ee80174408684bae6fb1bcfe543",
      "d662602b4a0a4e539025948ecdd7dbfd",
      "ec114ccb61e04eb1806883bb38396249",
      "f239e048bac3484099b4cf59e7cd3fac",
      "2b9e88f7753348bf9e3e0faa4a882d86",
      "16abc3790c174d77ba4fd69321625b31",
      "78639c8a04f94f8daf4d19804d07ade2",
      "fdf50a772f2c46b9ad4449af73680d28",
      "64a1b6d067ef49ea86f5ef34fde9f566",
      "b896bad77336451fbbe31f24a0e0a9c7",
      "1e5451d7f8f2491bb9a94db097695244",
      "3c74affefbbd440e859f08e902acfa4e",
      "878f6d35113b405b9f4c366cb454e823",
      "d5170fe425d943628b9ab864a2d5ace4",
      "11d3f22662294fceb6fdd3860752e2db",
      "4143a5bbf31e46f6b1519f7263306bdd",
      "c83dd817f90c4142836805f71dd752e0",
      "9422268cbb2e464f9db1b5c0a6b4f0f1",
      "71d2a773318d477181de9848551385f4",
      "4f943aa503564f15b3d983143f2e35f6",
      "04ae43c4026d47f8a8e2b5533f4d64aa",
      "69650590473f42f2888523272e00783d",
      "18e537d7853a4e14a17104b71166fcb5",
      "4c21f43bb05f408cb59038a6203b8bd6",
      "efef6a18925849098278567a1b26f4d7",
      "108e30630dde4e7cbafaec9a4f164982",
      "24b3f652ea8947a1bff992a4ecfb6f63",
      "bc8d20c3d1b544c49723e0cc153d5861",
      "4203ada6cc8c46469471d19310d4400a",
      "451a124def0c412484d38b4563266fb1",
      "45b12db5304f4929a48a15a118ef94a3",
      "f17bfb8282f344fabc53b236ee0fb4d9",
      "03b5d505c4c240d1aca5f03fb6e18316",
      "6dd84ce97eea4d9a9f982dc5aa26cbd7",
      "9000108764ca43369f3a9fbe526c7dfa",
      "baf9b7123867403c877b0f7ca25b87af",
      "1fec2d5665e24047b0e9cb2b1d7a036e",
      "51f0b7109d2b409bbfa114cee5b180a2",
      "05a2306dda3749a595b37419276ad508",
      "ece91b3a31374154856027671a55907b",
      "3223c4f33b264be983ab606419a9f560",
      "4bd55606a5b140c7bfeb32ea63a4f347",
      "e97adcf3dbde4fd181c6fa25ca4d2d4c",
      "4b82f63054384dd6911ea9ae4ce735b0",
      "d383508da6ae433cab6bcc41b93a4f39",
      "ff6c87c96dee4699a76d2c293639e549",
      "696eab90fb2542f08244bf146ddc4c6a",
      "e3650f6a38a948feadd042a1aa582327",
      "bbd91ba5ab254df6bf218691aeaf425a",
      "5f8e5b2bb8af433187667b6a2f83383c",
      "2784dcef817b41b5a6d4a783408a36dd",
      "0d29e773f5b0498681b42473d50acafe",
      "68c783c044ec47888bcd42784d4cf98f",
      "1c7fedcfd91b4f7a8468cbc5590cc4d5",
      "af864391757f4f6e8f8cf6201835b3fa",
      "88d929149c90428b90e6e2c0219fb641",
      "47cffaa9c3d74f57b1e9d1e9886c9aba",
      "cfa2a203cfe842c48494c1f7d4d26864",
      "a07d7c9b0401496ca526573307fac074",
      "751f61f5aa65438baa68abb631f0cf8a",
      "28378ad8956e421e853c8ed241bb2375",
      "ff4af723cc33400d97f92db771cb7448",
      "1e636973635c49d18cc3f83918a675e9",
      "6c3fd63e569744dbaa2f8974b3d71451",
      "487a89c868a143f59d85d906f7f10797",
      "85a1efb73d744d1fa8ae43f92a589e97",
      "3c8d0a0f480c454cbfd7d1219afefcd0",
      "4d1b6d402eb341688f44c04a89c4a8fb",
      "ac01032086bb4bb4a12ff81721383b22",
      "94947f785710444c902e6bff5163c372",
      "23604994ce9d4658950876783376db3f",
      "56165aacec434005a2704ff23782e9a2",
      "0188fa1e6ae74745a3e4ab4195a98aa8",
      "d99d2686feba4b6db0de82a59f7cc4ef",
      "5c405a1477234da2af9ff92006e3e90d",
      "eadfea82312143028682dd27cad819f2",
      "33e10912930e4db5afcf6de9161cf02a",
      "677cc51c20c54f38b520d1af85928f08",
      "19d870d37c31442380bc66982aa357e2",
      "3f48da49df014e4d9fc5ad6fddd286af",
      "495e886dd9d34469aa9f4e1572d280d7",
      "1b460fbc86fa4aea8bcba4dac301789f",
      "51f4c33901764609b59b1e2cc23fe981",
      "0a3f0313200841abb75a6ec7b0b8e178",
      "88b5cebec4e34476acadaa1d71adfb22",
      "7855f5ff0bef46729de687f404a2d085",
      "dbe578a7f028491b8f7a3a9982a9c351",
      "56852cfdefaa4f5cba9a4811b820231d",
      "2ead4e3458694b31b40f966fc8e1a97a",
      "ae5563a70f4d458e9692587a7ad01fd4",
      "d08d662dbe0b4b19a5518d325ed3478a",
      "229fb9ff87194c6481e2acc53ec36fc1",
      "1f793586ccee417cb3eb5df914086c52",
      "aadc092c05e34865814531e016a867a0",
      "214befac48fa43209df17973faaa31fb",
      "48ecb3edfe4c475bb9c9ee42eab0e0b5",
      "e7b0852b6b904073b3d42a82cb89af75",
      "c1de4bf3d6ff4b908682424c4c6d6648",
      "0cf109a8507d4faab1f507e734d1f801",
      "755e32c2422c4fe0a50f8a05c16b4731",
      "55e0f51c6bf5483eb356b06e52cf0d61",
      "7ffad022889c444c99525259f73d9875",
      "3e9f7f4db7dd4c1b98112a2e27339648",
      "7a827a35433e4931a66df6cee7d3c394",
      "f57fc334aa9941c399dcd58186b97684",
      "399e36a325914681bbd3dfb70b342815",
      "43456141b5f34a37b4ce9563f0440f3a",
      "9ab0b63da4de404e9471171c31f0a19c",
      "fd57abe40c95473d8fabee8b4dd4af5f",
      "28e8d0848103413ebe5c596674c40917",
      "87d8bbaca2574abf9c698d9777251cf5",
      "0b88954cfd8948cd8bdecccf194d8848",
      "8b0c226fa18b4d0c81010ad480ee71e9",
      "d0b90f59ef96410d9de8a7a2491145e4",
      "ea71142f4e3f451383df4e16eef06652",
      "0a003cc8d0cf4236ababafcb302e24f1",
      "86b2e015e9314e1b8ef058ba335940ac",
      "d6064e1f23cc4c09bc899f9fa36a9991",
      "937a3dc8355b429f9adbddd8a7a56430",
      "bcedc4c80df043cf812efdc3f5131d2e",
      "e1d1210aae5f4f68b75d7416f211dc8d",
      "8349cab1372341b382a6d0e8fc7ec20c",
      "222bd814bade4e9ea5e4d07490ca90c2",
      "6e7b94b168c14798ae78882eb7ccda44",
      "6e639b6d53ef4459901513bfc04d307f",
      "8d0f4ad0e5e54df3b98b2fee8a19d779",
      "ddc987accadb423ba07259192d46f588",
      "ac74f30f1b9e489dad22e71b87b2457a",
      "b7afc62aec024116995723c18c107850",
      "7296305074d84df48352cfe1574df8b2",
      "83c38cc5ae674acb9074d74c6daff024",
      "e3ded06b04c94bd892bc51158b1122eb",
      "47c6244bddd549f79bf902484c861a4c",
      "7b15995cb26c49f0b61997399c3b5e51",
      "d5f4cb7a8aa94f55b074eabbeeba0549",
      "f8ea14c8eb7c41368067412d4f10ccf7",
      "c43b6747a62e4deda2574129c40bbc30",
      "c6427608eaef45bca58f0053436964d4",
      "aa888477970b4d2186708a3d4a6c9fb8",
      "89b7988c36d74cd18285d7e6853c071c",
      "f5b045d04c01455dac6876248f5e9a3b",
      "d3e72d53787c4e5c925ead7af62beb10",
      "8ac4ab6585fa48d79792c44ca3aa1c2a",
      "169cb8d56ac54d6294b942ed92f9751a",
      "068a6498a3cc46899d7908978bbb1b8b",
      "44203b141c514403809db21b28eeceb0",
      "5a8eb0198af74070933be53637527b21",
      "9ca2e96394684ae881c7ac2f29b8cc63",
      "b32562a990d340d68dfdabdfffdb57f3",
      "3f156ab0cb0e4969b0065d0a80aecc55",
      "08ac8e2951b14f058878103d8d04707b",
      "b67f3e553588448d8a4171d6e5c0cbe2",
      "35005e6a3d4842d28336f02ad1ac3211",
      "6c8059790dce4a59b8170003a59422c3",
      "0addf4f09d1b45e987fbd27063131215",
      "0e45b7383b7142a298cd315d9ced16b4",
      "dd76aed41b3d4acc92323b1142d69973",
      "9629b6d4010a451cb83035b054eaae45",
      "bf1b66fd78a541afbf58fba74360d478",
      "403838fca7df407292845e9032c460d1",
      "8aab4dce71da4ef09f57322b3ba2aab0",
      "ce8793d4fac74a01a57042cbcf19a6d6",
      "bfb37f62e23d41589434158048f8fea1",
      "6b7959ec7b834f1881180b94efcd524f",
      "fceca8b8685c465eaf54da8ae16d5c20",
      "0342b7357a61410f9e70a929f2645b13",
      "ae8c6caee86241968b0509edccb2cd14",
      "542f0570cd284aa2b297d0aa603b42cb",
      "480ed3c2037b4da0adf729e0921fca9b",
      "9ffa3eb5153e4956a4ba96c7eacfba03",
      "7c38d5ece6d7423ca8ce883875f5ca4b",
      "b1677e7cc62f41b3a3eee7ee07e6ff0a",
      "ed1c71e07e4442c7b3d57014347e4aea",
      "c01b490b725e4ee7aac91e30196b5bfe",
      "a407f46a7e72423ebd6bdb2c057cdb6d",
      "9a42b72ef03a499f96bd9dd5631550a9",
      "3ad60209c75a47b69f302ae1a0b57dda",
      "0d1a547653ad40d699bab87e62066f6c",
      "b4a43f6690124c309393bb0c32e3cf43",
      "53415452316a41a8aad289683db2b492",
      "1177b6fa26e14cb5875bc4143c128f6e",
      "2f1aa53976984eb4ba047d2169b22ec7",
      "7ac5efe90951489ba8831ff5c1dc9534",
      "0f45bc131a7a4b08b5a4e8a7b3b0fabc",
      "6dbef2a0d2824aeeb3d3d7386c09c407",
      "a97e9765f7ce4337bafdea92cad20fc0",
      "915ea037c161424db667958998885f60",
      "0c4f6a8536a1438fba02705009712add",
      "23cde9e6a95446319b10266cfe85dabe"
     ]
    },
    "collapsed": true,
    "id": "ffLFQbNjXeAF",
    "outputId": "0322a80a-6d7f-45c6-caa2-692c7b5868a6"
   },
   "outputs": [
    {
     "name": "stdout",
     "output_type": "stream",
     "text": [
      "\n",
      "🌪 Epoch 1/5\n"
     ]
    },
    {
     "name": "stderr",
     "output_type": "stream",
     "text": [
      "\r",
      "Mixed Adversarial Training:   0%|          | 0/79 [00:00<?, ?it/s]"
     ]
    },
    {
     "data": {
      "application/vnd.jupyter.widget-view+json": {
       "model_id": "985a054af94148449331beba3f36ec83",
       "version_major": 2,
       "version_minor": 0
      },
      "text/plain": [
       "PGD - Batches:   0%|          | 0/4 [00:00<?, ?it/s]"
      ]
     },
     "metadata": {},
     "output_type": "display_data"
    },
    {
     "name": "stderr",
     "output_type": "stream",
     "text": [
      "Mixed Adversarial Training:   1%|▏         | 1/79 [00:01<02:34,  1.98s/it, loss=2.48]"
     ]
    },
    {
     "data": {
      "application/vnd.jupyter.widget-view+json": {
       "model_id": "fd1fc2bcd54843fba102a51f6c0b1baf",
       "version_major": 2,
       "version_minor": 0
      },
      "text/plain": [
       "PGD - Batches:   0%|          | 0/4 [00:00<?, ?it/s]"
      ]
     },
     "metadata": {},
     "output_type": "display_data"
    },
    {
     "name": "stderr",
     "output_type": "stream",
     "text": [
      "Mixed Adversarial Training:   3%|▎         | 2/79 [00:03<02:28,  1.93s/it, loss=2.76]"
     ]
    },
    {
     "data": {
      "application/vnd.jupyter.widget-view+json": {
       "model_id": "3de94a9b79914563b9d30b2ea8bc1aa9",
       "version_major": 2,
       "version_minor": 0
      },
      "text/plain": [
       "PGD - Batches:   0%|          | 0/4 [00:00<?, ?it/s]"
      ]
     },
     "metadata": {},
     "output_type": "display_data"
    },
    {
     "name": "stderr",
     "output_type": "stream",
     "text": [
      "Mixed Adversarial Training:   4%|▍         | 3/79 [00:05<02:25,  1.92s/it, loss=2.48]"
     ]
    },
    {
     "data": {
      "application/vnd.jupyter.widget-view+json": {
       "model_id": "b024293c290a498cb88c6288fa192298",
       "version_major": 2,
       "version_minor": 0
      },
      "text/plain": [
       "PGD - Batches:   0%|          | 0/4 [00:00<?, ?it/s]"
      ]
     },
     "metadata": {},
     "output_type": "display_data"
    },
    {
     "name": "stderr",
     "output_type": "stream",
     "text": [
      "Mixed Adversarial Training:   5%|▌         | 4/79 [00:07<02:23,  1.91s/it, loss=2.37]"
     ]
    },
    {
     "data": {
      "application/vnd.jupyter.widget-view+json": {
       "model_id": "5e052f22c5b345b9b4c6d75f162c9be4",
       "version_major": 2,
       "version_minor": 0
      },
      "text/plain": [
       "PGD - Batches:   0%|          | 0/4 [00:00<?, ?it/s]"
      ]
     },
     "metadata": {},
     "output_type": "display_data"
    },
    {
     "name": "stderr",
     "output_type": "stream",
     "text": [
      "Mixed Adversarial Training:   6%|▋         | 5/79 [00:09<02:23,  1.94s/it, loss=2.36]"
     ]
    },
    {
     "data": {
      "application/vnd.jupyter.widget-view+json": {
       "model_id": "212f5e7ddc394ad7bc05a87d5415bdbe",
       "version_major": 2,
       "version_minor": 0
      },
      "text/plain": [
       "PGD - Batches:   0%|          | 0/4 [00:00<?, ?it/s]"
      ]
     },
     "metadata": {},
     "output_type": "display_data"
    },
    {
     "name": "stderr",
     "output_type": "stream",
     "text": [
      "Mixed Adversarial Training:   8%|▊         | 6/79 [00:11<02:22,  1.95s/it, loss=2.35]"
     ]
    },
    {
     "data": {
      "application/vnd.jupyter.widget-view+json": {
       "model_id": "eae13668f02146898a5f604f0e336082",
       "version_major": 2,
       "version_minor": 0
      },
      "text/plain": [
       "PGD - Batches:   0%|          | 0/4 [00:00<?, ?it/s]"
      ]
     },
     "metadata": {},
     "output_type": "display_data"
    },
    {
     "name": "stderr",
     "output_type": "stream",
     "text": [
      "Mixed Adversarial Training:   9%|▉         | 7/79 [00:13<02:19,  1.94s/it, loss=2.33]"
     ]
    },
    {
     "data": {
      "application/vnd.jupyter.widget-view+json": {
       "model_id": "acacf0e75e374a9ab3050aba705cb550",
       "version_major": 2,
       "version_minor": 0
      },
      "text/plain": [
       "PGD - Batches:   0%|          | 0/4 [00:00<?, ?it/s]"
      ]
     },
     "metadata": {},
     "output_type": "display_data"
    },
    {
     "name": "stderr",
     "output_type": "stream",
     "text": [
      "Mixed Adversarial Training:  10%|█         | 8/79 [00:15<02:17,  1.94s/it, loss=2.42]"
     ]
    },
    {
     "data": {
      "application/vnd.jupyter.widget-view+json": {
       "model_id": "ec4eee190f024f48b135b9a808a573ad",
       "version_major": 2,
       "version_minor": 0
      },
      "text/plain": [
       "PGD - Batches:   0%|          | 0/4 [00:00<?, ?it/s]"
      ]
     },
     "metadata": {},
     "output_type": "display_data"
    },
    {
     "name": "stderr",
     "output_type": "stream",
     "text": [
      "Mixed Adversarial Training:  11%|█▏        | 9/79 [00:17<02:15,  1.94s/it, loss=2.36]"
     ]
    },
    {
     "data": {
      "application/vnd.jupyter.widget-view+json": {
       "model_id": "ead91968df144804baa9c09a2084b4fd",
       "version_major": 2,
       "version_minor": 0
      },
      "text/plain": [
       "PGD - Batches:   0%|          | 0/4 [00:00<?, ?it/s]"
      ]
     },
     "metadata": {},
     "output_type": "display_data"
    },
    {
     "name": "stderr",
     "output_type": "stream",
     "text": [
      "Mixed Adversarial Training:  13%|█▎        | 10/79 [00:19<02:13,  1.93s/it, loss=2.36]"
     ]
    },
    {
     "data": {
      "application/vnd.jupyter.widget-view+json": {
       "model_id": "ce8618f094f6439e8677fcd2993da078",
       "version_major": 2,
       "version_minor": 0
      },
      "text/plain": [
       "PGD - Batches:   0%|          | 0/4 [00:00<?, ?it/s]"
      ]
     },
     "metadata": {},
     "output_type": "display_data"
    },
    {
     "name": "stderr",
     "output_type": "stream",
     "text": [
      "Mixed Adversarial Training:  14%|█▍        | 11/79 [00:21<02:11,  1.94s/it, loss=2.44]"
     ]
    },
    {
     "data": {
      "application/vnd.jupyter.widget-view+json": {
       "model_id": "3093676a62d64f1ea37056a8a9f72b61",
       "version_major": 2,
       "version_minor": 0
      },
      "text/plain": [
       "PGD - Batches:   0%|          | 0/4 [00:00<?, ?it/s]"
      ]
     },
     "metadata": {},
     "output_type": "display_data"
    },
    {
     "name": "stderr",
     "output_type": "stream",
     "text": [
      "Mixed Adversarial Training:  15%|█▌        | 12/79 [00:23<02:11,  1.96s/it, loss=2.33]"
     ]
    },
    {
     "data": {
      "application/vnd.jupyter.widget-view+json": {
       "model_id": "2a282e3c1d884c0e878e790ef3bc65bc",
       "version_major": 2,
       "version_minor": 0
      },
      "text/plain": [
       "PGD - Batches:   0%|          | 0/4 [00:00<?, ?it/s]"
      ]
     },
     "metadata": {},
     "output_type": "display_data"
    },
    {
     "name": "stderr",
     "output_type": "stream",
     "text": [
      "Mixed Adversarial Training:  16%|█▋        | 13/79 [00:25<02:08,  1.95s/it, loss=2.31]"
     ]
    },
    {
     "data": {
      "application/vnd.jupyter.widget-view+json": {
       "model_id": "15f095c1141b41aba0388b7bf389340d",
       "version_major": 2,
       "version_minor": 0
      },
      "text/plain": [
       "PGD - Batches:   0%|          | 0/4 [00:00<?, ?it/s]"
      ]
     },
     "metadata": {},
     "output_type": "display_data"
    },
    {
     "name": "stderr",
     "output_type": "stream",
     "text": [
      "Mixed Adversarial Training:  18%|█▊        | 14/79 [00:27<02:06,  1.94s/it, loss=2.37]"
     ]
    },
    {
     "data": {
      "application/vnd.jupyter.widget-view+json": {
       "model_id": "26c20d53996644f4876671fb67729fe6",
       "version_major": 2,
       "version_minor": 0
      },
      "text/plain": [
       "PGD - Batches:   0%|          | 0/4 [00:00<?, ?it/s]"
      ]
     },
     "metadata": {},
     "output_type": "display_data"
    },
    {
     "name": "stderr",
     "output_type": "stream",
     "text": [
      "Mixed Adversarial Training:  19%|█▉        | 15/79 [00:29<02:04,  1.94s/it, loss=2.28]"
     ]
    },
    {
     "data": {
      "application/vnd.jupyter.widget-view+json": {
       "model_id": "df018457dfa348a499555bf93d1f7044",
       "version_major": 2,
       "version_minor": 0
      },
      "text/plain": [
       "PGD - Batches:   0%|          | 0/4 [00:00<?, ?it/s]"
      ]
     },
     "metadata": {},
     "output_type": "display_data"
    },
    {
     "name": "stderr",
     "output_type": "stream",
     "text": [
      "Mixed Adversarial Training:  20%|██        | 16/79 [00:31<02:01,  1.94s/it, loss=2.31]"
     ]
    },
    {
     "data": {
      "application/vnd.jupyter.widget-view+json": {
       "model_id": "a617ace6c07a41cc9a9c7cf5a6c1bab4",
       "version_major": 2,
       "version_minor": 0
      },
      "text/plain": [
       "PGD - Batches:   0%|          | 0/4 [00:00<?, ?it/s]"
      ]
     },
     "metadata": {},
     "output_type": "display_data"
    },
    {
     "name": "stderr",
     "output_type": "stream",
     "text": [
      "Mixed Adversarial Training:  22%|██▏       | 17/79 [00:32<01:59,  1.93s/it, loss=2.36]"
     ]
    },
    {
     "data": {
      "application/vnd.jupyter.widget-view+json": {
       "model_id": "a37a512f7b9547ccba1b2f9b48fbf4e4",
       "version_major": 2,
       "version_minor": 0
      },
      "text/plain": [
       "PGD - Batches:   0%|          | 0/4 [00:00<?, ?it/s]"
      ]
     },
     "metadata": {},
     "output_type": "display_data"
    },
    {
     "name": "stderr",
     "output_type": "stream",
     "text": [
      "Mixed Adversarial Training:  23%|██▎       | 18/79 [00:34<01:59,  1.95s/it, loss=2.3]"
     ]
    },
    {
     "data": {
      "application/vnd.jupyter.widget-view+json": {
       "model_id": "8c411697ca6a437fbaba0893e3fe751b",
       "version_major": 2,
       "version_minor": 0
      },
      "text/plain": [
       "PGD - Batches:   0%|          | 0/4 [00:00<?, ?it/s]"
      ]
     },
     "metadata": {},
     "output_type": "display_data"
    },
    {
     "name": "stderr",
     "output_type": "stream",
     "text": [
      "Mixed Adversarial Training:  24%|██▍       | 19/79 [00:36<01:57,  1.95s/it, loss=2.27]"
     ]
    },
    {
     "data": {
      "application/vnd.jupyter.widget-view+json": {
       "model_id": "02c87d86c42b478586b7ac1450007899",
       "version_major": 2,
       "version_minor": 0
      },
      "text/plain": [
       "PGD - Batches:   0%|          | 0/4 [00:00<?, ?it/s]"
      ]
     },
     "metadata": {},
     "output_type": "display_data"
    },
    {
     "name": "stderr",
     "output_type": "stream",
     "text": [
      "Mixed Adversarial Training:  25%|██▌       | 20/79 [00:38<01:54,  1.94s/it, loss=2.33]"
     ]
    },
    {
     "data": {
      "application/vnd.jupyter.widget-view+json": {
       "model_id": "760a2b8ab76449d88b9f6748ef65bf2f",
       "version_major": 2,
       "version_minor": 0
      },
      "text/plain": [
       "PGD - Batches:   0%|          | 0/4 [00:00<?, ?it/s]"
      ]
     },
     "metadata": {},
     "output_type": "display_data"
    },
    {
     "name": "stderr",
     "output_type": "stream",
     "text": [
      "Mixed Adversarial Training:  27%|██▋       | 21/79 [00:40<01:52,  1.93s/it, loss=2.36]"
     ]
    },
    {
     "data": {
      "application/vnd.jupyter.widget-view+json": {
       "model_id": "ed5aaa3815dc4995919138af66738746",
       "version_major": 2,
       "version_minor": 0
      },
      "text/plain": [
       "PGD - Batches:   0%|          | 0/4 [00:00<?, ?it/s]"
      ]
     },
     "metadata": {},
     "output_type": "display_data"
    },
    {
     "name": "stderr",
     "output_type": "stream",
     "text": [
      "Mixed Adversarial Training:  28%|██▊       | 22/79 [00:42<01:49,  1.93s/it, loss=2.32]"
     ]
    },
    {
     "data": {
      "application/vnd.jupyter.widget-view+json": {
       "model_id": "27fbbb4d3f5d457a8591a3471baf7d3c",
       "version_major": 2,
       "version_minor": 0
      },
      "text/plain": [
       "PGD - Batches:   0%|          | 0/4 [00:00<?, ?it/s]"
      ]
     },
     "metadata": {},
     "output_type": "display_data"
    },
    {
     "name": "stderr",
     "output_type": "stream",
     "text": [
      "Mixed Adversarial Training:  29%|██▉       | 23/79 [00:44<01:47,  1.92s/it, loss=2.35]"
     ]
    },
    {
     "data": {
      "application/vnd.jupyter.widget-view+json": {
       "model_id": "5d2d452e43cb445b80ee0d9cd409de94",
       "version_major": 2,
       "version_minor": 0
      },
      "text/plain": [
       "PGD - Batches:   0%|          | 0/4 [00:00<?, ?it/s]"
      ]
     },
     "metadata": {},
     "output_type": "display_data"
    },
    {
     "name": "stderr",
     "output_type": "stream",
     "text": [
      "Mixed Adversarial Training:  30%|███       | 24/79 [00:46<01:45,  1.92s/it, loss=2.35]"
     ]
    },
    {
     "data": {
      "application/vnd.jupyter.widget-view+json": {
       "model_id": "75dbb9bcfeb94a4a95d74fde2f446eb3",
       "version_major": 2,
       "version_minor": 0
      },
      "text/plain": [
       "PGD - Batches:   0%|          | 0/4 [00:00<?, ?it/s]"
      ]
     },
     "metadata": {},
     "output_type": "display_data"
    },
    {
     "name": "stderr",
     "output_type": "stream",
     "text": [
      "Mixed Adversarial Training:  32%|███▏      | 25/79 [00:48<01:44,  1.94s/it, loss=2.34]"
     ]
    },
    {
     "data": {
      "application/vnd.jupyter.widget-view+json": {
       "model_id": "e2e53a21927e43b3851d79410f43d027",
       "version_major": 2,
       "version_minor": 0
      },
      "text/plain": [
       "PGD - Batches:   0%|          | 0/4 [00:00<?, ?it/s]"
      ]
     },
     "metadata": {},
     "output_type": "display_data"
    },
    {
     "name": "stderr",
     "output_type": "stream",
     "text": [
      "Mixed Adversarial Training:  33%|███▎      | 26/79 [00:50<01:41,  1.92s/it, loss=2.28]"
     ]
    },
    {
     "data": {
      "application/vnd.jupyter.widget-view+json": {
       "model_id": "b5e8f976d0084f9d8115049fb4d8efbd",
       "version_major": 2,
       "version_minor": 0
      },
      "text/plain": [
       "PGD - Batches:   0%|          | 0/4 [00:00<?, ?it/s]"
      ]
     },
     "metadata": {},
     "output_type": "display_data"
    },
    {
     "name": "stderr",
     "output_type": "stream",
     "text": [
      "Mixed Adversarial Training:  34%|███▍      | 27/79 [00:52<01:39,  1.92s/it, loss=2.21]"
     ]
    },
    {
     "data": {
      "application/vnd.jupyter.widget-view+json": {
       "model_id": "5c2a9304c3ef49a0b656595c10d658fd",
       "version_major": 2,
       "version_minor": 0
      },
      "text/plain": [
       "PGD - Batches:   0%|          | 0/4 [00:00<?, ?it/s]"
      ]
     },
     "metadata": {},
     "output_type": "display_data"
    },
    {
     "name": "stderr",
     "output_type": "stream",
     "text": [
      "Mixed Adversarial Training:  35%|███▌      | 28/79 [00:54<01:37,  1.91s/it, loss=2.2]"
     ]
    },
    {
     "data": {
      "application/vnd.jupyter.widget-view+json": {
       "model_id": "54b4c551186e442a80b63befcd8299e4",
       "version_major": 2,
       "version_minor": 0
      },
      "text/plain": [
       "PGD - Batches:   0%|          | 0/4 [00:00<?, ?it/s]"
      ]
     },
     "metadata": {},
     "output_type": "display_data"
    },
    {
     "name": "stderr",
     "output_type": "stream",
     "text": [
      "Mixed Adversarial Training:  37%|███▋      | 29/79 [00:56<01:35,  1.91s/it, loss=2.25]"
     ]
    },
    {
     "data": {
      "application/vnd.jupyter.widget-view+json": {
       "model_id": "94a2c059603a4c60a7e7f61f1816c7a0",
       "version_major": 2,
       "version_minor": 0
      },
      "text/plain": [
       "PGD - Batches:   0%|          | 0/4 [00:00<?, ?it/s]"
      ]
     },
     "metadata": {},
     "output_type": "display_data"
    },
    {
     "name": "stderr",
     "output_type": "stream",
     "text": [
      "Mixed Adversarial Training:  38%|███▊      | 30/79 [00:57<01:33,  1.90s/it, loss=2.25]"
     ]
    },
    {
     "data": {
      "application/vnd.jupyter.widget-view+json": {
       "model_id": "81f753c862a64127ba3d54409cb2d029",
       "version_major": 2,
       "version_minor": 0
      },
      "text/plain": [
       "PGD - Batches:   0%|          | 0/4 [00:00<?, ?it/s]"
      ]
     },
     "metadata": {},
     "output_type": "display_data"
    },
    {
     "name": "stderr",
     "output_type": "stream",
     "text": [
      "Mixed Adversarial Training:  39%|███▉      | 31/79 [00:59<01:31,  1.91s/it, loss=2.11]"
     ]
    },
    {
     "data": {
      "application/vnd.jupyter.widget-view+json": {
       "model_id": "1fd2490f64e1480c9573b7dfc97a4e5c",
       "version_major": 2,
       "version_minor": 0
      },
      "text/plain": [
       "PGD - Batches:   0%|          | 0/4 [00:00<?, ?it/s]"
      ]
     },
     "metadata": {},
     "output_type": "display_data"
    },
    {
     "name": "stderr",
     "output_type": "stream",
     "text": [
      "Mixed Adversarial Training:  41%|████      | 32/79 [01:01<01:30,  1.93s/it, loss=2.18]"
     ]
    },
    {
     "data": {
      "application/vnd.jupyter.widget-view+json": {
       "model_id": "382a604e6d9748da9d89f98e05c9b1ab",
       "version_major": 2,
       "version_minor": 0
      },
      "text/plain": [
       "PGD - Batches:   0%|          | 0/4 [00:00<?, ?it/s]"
      ]
     },
     "metadata": {},
     "output_type": "display_data"
    },
    {
     "name": "stderr",
     "output_type": "stream",
     "text": [
      "Mixed Adversarial Training:  42%|████▏     | 33/79 [01:03<01:28,  1.92s/it, loss=2.21]"
     ]
    },
    {
     "data": {
      "application/vnd.jupyter.widget-view+json": {
       "model_id": "944660b263ff4b828ee84e768e14da1c",
       "version_major": 2,
       "version_minor": 0
      },
      "text/plain": [
       "PGD - Batches:   0%|          | 0/4 [00:00<?, ?it/s]"
      ]
     },
     "metadata": {},
     "output_type": "display_data"
    },
    {
     "name": "stderr",
     "output_type": "stream",
     "text": [
      "Mixed Adversarial Training:  43%|████▎     | 34/79 [01:05<01:26,  1.91s/it, loss=2.16]"
     ]
    },
    {
     "data": {
      "application/vnd.jupyter.widget-view+json": {
       "model_id": "dc8cd3e6f76446ddb1bf3503882a2139",
       "version_major": 2,
       "version_minor": 0
      },
      "text/plain": [
       "PGD - Batches:   0%|          | 0/4 [00:00<?, ?it/s]"
      ]
     },
     "metadata": {},
     "output_type": "display_data"
    },
    {
     "name": "stderr",
     "output_type": "stream",
     "text": [
      "Mixed Adversarial Training:  44%|████▍     | 35/79 [01:07<01:23,  1.90s/it, loss=2.19]"
     ]
    },
    {
     "data": {
      "application/vnd.jupyter.widget-view+json": {
       "model_id": "37c960dd00954295ac8d2a9e5f20e824",
       "version_major": 2,
       "version_minor": 0
      },
      "text/plain": [
       "PGD - Batches:   0%|          | 0/4 [00:00<?, ?it/s]"
      ]
     },
     "metadata": {},
     "output_type": "display_data"
    },
    {
     "name": "stderr",
     "output_type": "stream",
     "text": [
      "Mixed Adversarial Training:  46%|████▌     | 36/79 [01:09<01:21,  1.90s/it, loss=2.23]"
     ]
    },
    {
     "data": {
      "application/vnd.jupyter.widget-view+json": {
       "model_id": "7015d1511a4e4d19b5e86d8333991627",
       "version_major": 2,
       "version_minor": 0
      },
      "text/plain": [
       "PGD - Batches:   0%|          | 0/4 [00:00<?, ?it/s]"
      ]
     },
     "metadata": {},
     "output_type": "display_data"
    },
    {
     "name": "stderr",
     "output_type": "stream",
     "text": [
      "Mixed Adversarial Training:  47%|████▋     | 37/79 [01:11<01:19,  1.90s/it, loss=2.22]"
     ]
    },
    {
     "data": {
      "application/vnd.jupyter.widget-view+json": {
       "model_id": "3f1b41bf07ca45eea5be449847a7f5a7",
       "version_major": 2,
       "version_minor": 0
      },
      "text/plain": [
       "PGD - Batches:   0%|          | 0/4 [00:00<?, ?it/s]"
      ]
     },
     "metadata": {},
     "output_type": "display_data"
    },
    {
     "name": "stderr",
     "output_type": "stream",
     "text": [
      "Mixed Adversarial Training:  48%|████▊     | 38/79 [01:13<01:18,  1.92s/it, loss=2.1]"
     ]
    },
    {
     "data": {
      "application/vnd.jupyter.widget-view+json": {
       "model_id": "46a90f5069ca489f96bf1dec87832d95",
       "version_major": 2,
       "version_minor": 0
      },
      "text/plain": [
       "PGD - Batches:   0%|          | 0/4 [00:00<?, ?it/s]"
      ]
     },
     "metadata": {},
     "output_type": "display_data"
    },
    {
     "name": "stderr",
     "output_type": "stream",
     "text": [
      "Mixed Adversarial Training:  49%|████▉     | 39/79 [01:15<01:16,  1.92s/it, loss=2.19]"
     ]
    },
    {
     "data": {
      "application/vnd.jupyter.widget-view+json": {
       "model_id": "7121b8b69b6a47ac82141764ab6ed067",
       "version_major": 2,
       "version_minor": 0
      },
      "text/plain": [
       "PGD - Batches:   0%|          | 0/4 [00:00<?, ?it/s]"
      ]
     },
     "metadata": {},
     "output_type": "display_data"
    },
    {
     "name": "stderr",
     "output_type": "stream",
     "text": [
      "Mixed Adversarial Training:  51%|█████     | 40/79 [01:17<01:14,  1.91s/it, loss=2.23]"
     ]
    },
    {
     "data": {
      "application/vnd.jupyter.widget-view+json": {
       "model_id": "59b63a74a2cb401390ac5b596833e0ba",
       "version_major": 2,
       "version_minor": 0
      },
      "text/plain": [
       "PGD - Batches:   0%|          | 0/4 [00:00<?, ?it/s]"
      ]
     },
     "metadata": {},
     "output_type": "display_data"
    },
    {
     "name": "stderr",
     "output_type": "stream",
     "text": [
      "Mixed Adversarial Training:  52%|█████▏    | 41/79 [01:18<01:12,  1.91s/it, loss=2.04]"
     ]
    },
    {
     "data": {
      "application/vnd.jupyter.widget-view+json": {
       "model_id": "34292b4800d34a8d8aa938f42fdc372b",
       "version_major": 2,
       "version_minor": 0
      },
      "text/plain": [
       "PGD - Batches:   0%|          | 0/4 [00:00<?, ?it/s]"
      ]
     },
     "metadata": {},
     "output_type": "display_data"
    },
    {
     "name": "stderr",
     "output_type": "stream",
     "text": [
      "Mixed Adversarial Training:  53%|█████▎    | 42/79 [01:20<01:10,  1.90s/it, loss=2.13]"
     ]
    },
    {
     "data": {
      "application/vnd.jupyter.widget-view+json": {
       "model_id": "5791e83a06d44b00ba1fc157ea2e9c13",
       "version_major": 2,
       "version_minor": 0
      },
      "text/plain": [
       "PGD - Batches:   0%|          | 0/4 [00:00<?, ?it/s]"
      ]
     },
     "metadata": {},
     "output_type": "display_data"
    },
    {
     "name": "stderr",
     "output_type": "stream",
     "text": [
      "Mixed Adversarial Training:  54%|█████▍    | 43/79 [01:22<01:08,  1.90s/it, loss=2.21]"
     ]
    },
    {
     "data": {
      "application/vnd.jupyter.widget-view+json": {
       "model_id": "ce19a2a5117d4bc68ec01005c4cc3238",
       "version_major": 2,
       "version_minor": 0
      },
      "text/plain": [
       "PGD - Batches:   0%|          | 0/4 [00:00<?, ?it/s]"
      ]
     },
     "metadata": {},
     "output_type": "display_data"
    },
    {
     "name": "stderr",
     "output_type": "stream",
     "text": [
      "Mixed Adversarial Training:  56%|█████▌    | 44/79 [01:24<01:06,  1.91s/it, loss=2.11]"
     ]
    },
    {
     "data": {
      "application/vnd.jupyter.widget-view+json": {
       "model_id": "f2e88af2252648b188d90683d39dfecf",
       "version_major": 2,
       "version_minor": 0
      },
      "text/plain": [
       "PGD - Batches:   0%|          | 0/4 [00:00<?, ?it/s]"
      ]
     },
     "metadata": {},
     "output_type": "display_data"
    },
    {
     "name": "stderr",
     "output_type": "stream",
     "text": [
      "Mixed Adversarial Training:  57%|█████▋    | 45/79 [01:26<01:05,  1.92s/it, loss=2.05]"
     ]
    },
    {
     "data": {
      "application/vnd.jupyter.widget-view+json": {
       "model_id": "268cd5565a5e4ebf928aff59fcc136e0",
       "version_major": 2,
       "version_minor": 0
      },
      "text/plain": [
       "PGD - Batches:   0%|          | 0/4 [00:00<?, ?it/s]"
      ]
     },
     "metadata": {},
     "output_type": "display_data"
    },
    {
     "name": "stderr",
     "output_type": "stream",
     "text": [
      "Mixed Adversarial Training:  58%|█████▊    | 46/79 [01:28<01:03,  1.91s/it, loss=2.3]"
     ]
    },
    {
     "data": {
      "application/vnd.jupyter.widget-view+json": {
       "model_id": "dc6047289c7645d9a1df42e89a864430",
       "version_major": 2,
       "version_minor": 0
      },
      "text/plain": [
       "PGD - Batches:   0%|          | 0/4 [00:00<?, ?it/s]"
      ]
     },
     "metadata": {},
     "output_type": "display_data"
    },
    {
     "name": "stderr",
     "output_type": "stream",
     "text": [
      "Mixed Adversarial Training:  59%|█████▉    | 47/79 [01:30<01:00,  1.91s/it, loss=2.11]"
     ]
    },
    {
     "data": {
      "application/vnd.jupyter.widget-view+json": {
       "model_id": "d59fbf43aefc4a7787c671cc25c3826c",
       "version_major": 2,
       "version_minor": 0
      },
      "text/plain": [
       "PGD - Batches:   0%|          | 0/4 [00:00<?, ?it/s]"
      ]
     },
     "metadata": {},
     "output_type": "display_data"
    },
    {
     "name": "stderr",
     "output_type": "stream",
     "text": [
      "Mixed Adversarial Training:  61%|██████    | 48/79 [01:32<00:58,  1.90s/it, loss=2.1]"
     ]
    },
    {
     "data": {
      "application/vnd.jupyter.widget-view+json": {
       "model_id": "459277be69f84a43ab41cacac2955426",
       "version_major": 2,
       "version_minor": 0
      },
      "text/plain": [
       "PGD - Batches:   0%|          | 0/4 [00:00<?, ?it/s]"
      ]
     },
     "metadata": {},
     "output_type": "display_data"
    },
    {
     "name": "stderr",
     "output_type": "stream",
     "text": [
      "Mixed Adversarial Training:  62%|██████▏   | 49/79 [01:34<00:57,  1.90s/it, loss=2.12]"
     ]
    },
    {
     "data": {
      "application/vnd.jupyter.widget-view+json": {
       "model_id": "20f5fb7d202f48f89b043b29fdb29dad",
       "version_major": 2,
       "version_minor": 0
      },
      "text/plain": [
       "PGD - Batches:   0%|          | 0/4 [00:00<?, ?it/s]"
      ]
     },
     "metadata": {},
     "output_type": "display_data"
    },
    {
     "name": "stderr",
     "output_type": "stream",
     "text": [
      "Mixed Adversarial Training:  63%|██████▎   | 50/79 [01:36<00:55,  1.90s/it, loss=2.08]"
     ]
    },
    {
     "data": {
      "application/vnd.jupyter.widget-view+json": {
       "model_id": "178156ff0e2c4f418d65074167af45b8",
       "version_major": 2,
       "version_minor": 0
      },
      "text/plain": [
       "PGD - Batches:   0%|          | 0/4 [00:00<?, ?it/s]"
      ]
     },
     "metadata": {},
     "output_type": "display_data"
    },
    {
     "name": "stderr",
     "output_type": "stream",
     "text": [
      "Mixed Adversarial Training:  65%|██████▍   | 51/79 [01:38<00:53,  1.92s/it, loss=2.04]"
     ]
    },
    {
     "data": {
      "application/vnd.jupyter.widget-view+json": {
       "model_id": "f0f86a5b8e37422ba1e40f98f42de39e",
       "version_major": 2,
       "version_minor": 0
      },
      "text/plain": [
       "PGD - Batches:   0%|          | 0/4 [00:00<?, ?it/s]"
      ]
     },
     "metadata": {},
     "output_type": "display_data"
    },
    {
     "name": "stderr",
     "output_type": "stream",
     "text": [
      "Mixed Adversarial Training:  66%|██████▌   | 52/79 [01:40<00:52,  1.94s/it, loss=2.09]"
     ]
    },
    {
     "data": {
      "application/vnd.jupyter.widget-view+json": {
       "model_id": "90ced478aea040d1b10aac0f0f951147",
       "version_major": 2,
       "version_minor": 0
      },
      "text/plain": [
       "PGD - Batches:   0%|          | 0/4 [00:00<?, ?it/s]"
      ]
     },
     "metadata": {},
     "output_type": "display_data"
    },
    {
     "name": "stderr",
     "output_type": "stream",
     "text": [
      "Mixed Adversarial Training:  67%|██████▋   | 53/79 [01:41<00:50,  1.93s/it, loss=2.14]"
     ]
    },
    {
     "data": {
      "application/vnd.jupyter.widget-view+json": {
       "model_id": "68af545edca940a6b6a8d251351ccd3c",
       "version_major": 2,
       "version_minor": 0
      },
      "text/plain": [
       "PGD - Batches:   0%|          | 0/4 [00:00<?, ?it/s]"
      ]
     },
     "metadata": {},
     "output_type": "display_data"
    },
    {
     "name": "stderr",
     "output_type": "stream",
     "text": [
      "Mixed Adversarial Training:  68%|██████▊   | 54/79 [01:43<00:48,  1.93s/it, loss=2.11]"
     ]
    },
    {
     "data": {
      "application/vnd.jupyter.widget-view+json": {
       "model_id": "1c86103e101d4936ac257b02ceb0d90c",
       "version_major": 2,
       "version_minor": 0
      },
      "text/plain": [
       "PGD - Batches:   0%|          | 0/4 [00:00<?, ?it/s]"
      ]
     },
     "metadata": {},
     "output_type": "display_data"
    },
    {
     "name": "stderr",
     "output_type": "stream",
     "text": [
      "Mixed Adversarial Training:  70%|██████▉   | 55/79 [01:45<00:46,  1.92s/it, loss=2]"
     ]
    },
    {
     "data": {
      "application/vnd.jupyter.widget-view+json": {
       "model_id": "e41069ba95b54dc3a1d4d26987ffc30f",
       "version_major": 2,
       "version_minor": 0
      },
      "text/plain": [
       "PGD - Batches:   0%|          | 0/4 [00:00<?, ?it/s]"
      ]
     },
     "metadata": {},
     "output_type": "display_data"
    },
    {
     "name": "stderr",
     "output_type": "stream",
     "text": [
      "Mixed Adversarial Training:  71%|███████   | 56/79 [01:47<00:44,  1.92s/it, loss=2.2]"
     ]
    },
    {
     "data": {
      "application/vnd.jupyter.widget-view+json": {
       "model_id": "8cab07c167cd46a29f4a5dbe53c39160",
       "version_major": 2,
       "version_minor": 0
      },
      "text/plain": [
       "PGD - Batches:   0%|          | 0/4 [00:00<?, ?it/s]"
      ]
     },
     "metadata": {},
     "output_type": "display_data"
    },
    {
     "name": "stderr",
     "output_type": "stream",
     "text": [
      "Mixed Adversarial Training:  72%|███████▏  | 57/79 [01:49<00:42,  1.92s/it, loss=2.14]"
     ]
    },
    {
     "data": {
      "application/vnd.jupyter.widget-view+json": {
       "model_id": "082624b4581744aeae5e9926cd7e91c1",
       "version_major": 2,
       "version_minor": 0
      },
      "text/plain": [
       "PGD - Batches:   0%|          | 0/4 [00:00<?, ?it/s]"
      ]
     },
     "metadata": {},
     "output_type": "display_data"
    },
    {
     "name": "stderr",
     "output_type": "stream",
     "text": [
      "Mixed Adversarial Training:  73%|███████▎  | 58/79 [01:51<00:40,  1.94s/it, loss=2.13]"
     ]
    },
    {
     "data": {
      "application/vnd.jupyter.widget-view+json": {
       "model_id": "dfbe5cf292e54a31aeadc434b814f022",
       "version_major": 2,
       "version_minor": 0
      },
      "text/plain": [
       "PGD - Batches:   0%|          | 0/4 [00:00<?, ?it/s]"
      ]
     },
     "metadata": {},
     "output_type": "display_data"
    },
    {
     "name": "stderr",
     "output_type": "stream",
     "text": [
      "Mixed Adversarial Training:  75%|███████▍  | 59/79 [01:53<00:38,  1.93s/it, loss=1.94]"
     ]
    },
    {
     "data": {
      "application/vnd.jupyter.widget-view+json": {
       "model_id": "bf764b24eeea4276bc5b7dc06a00549a",
       "version_major": 2,
       "version_minor": 0
      },
      "text/plain": [
       "PGD - Batches:   0%|          | 0/4 [00:00<?, ?it/s]"
      ]
     },
     "metadata": {},
     "output_type": "display_data"
    },
    {
     "name": "stderr",
     "output_type": "stream",
     "text": [
      "Mixed Adversarial Training:  76%|███████▌  | 60/79 [01:55<00:36,  1.92s/it, loss=1.98]"
     ]
    },
    {
     "data": {
      "application/vnd.jupyter.widget-view+json": {
       "model_id": "3a5e334030134f1fb92b26cf9480da95",
       "version_major": 2,
       "version_minor": 0
      },
      "text/plain": [
       "PGD - Batches:   0%|          | 0/4 [00:00<?, ?it/s]"
      ]
     },
     "metadata": {},
     "output_type": "display_data"
    },
    {
     "name": "stderr",
     "output_type": "stream",
     "text": [
      "Mixed Adversarial Training:  77%|███████▋  | 61/79 [01:57<00:34,  1.92s/it, loss=2.14]"
     ]
    },
    {
     "data": {
      "application/vnd.jupyter.widget-view+json": {
       "model_id": "cb75cd687ec9494db3fb71f194defe46",
       "version_major": 2,
       "version_minor": 0
      },
      "text/plain": [
       "PGD - Batches:   0%|          | 0/4 [00:00<?, ?it/s]"
      ]
     },
     "metadata": {},
     "output_type": "display_data"
    },
    {
     "name": "stderr",
     "output_type": "stream",
     "text": [
      "Mixed Adversarial Training:  78%|███████▊  | 62/79 [01:59<00:32,  1.92s/it, loss=2.13]"
     ]
    },
    {
     "data": {
      "application/vnd.jupyter.widget-view+json": {
       "model_id": "876ab9df6ec447c2ae95c8d8f4edec42",
       "version_major": 2,
       "version_minor": 0
      },
      "text/plain": [
       "PGD - Batches:   0%|          | 0/4 [00:00<?, ?it/s]"
      ]
     },
     "metadata": {},
     "output_type": "display_data"
    },
    {
     "name": "stderr",
     "output_type": "stream",
     "text": [
      "Mixed Adversarial Training:  80%|███████▉  | 63/79 [02:01<00:30,  1.91s/it, loss=1.97]"
     ]
    },
    {
     "data": {
      "application/vnd.jupyter.widget-view+json": {
       "model_id": "a815f21be2374f589b35fd30df0fee22",
       "version_major": 2,
       "version_minor": 0
      },
      "text/plain": [
       "PGD - Batches:   0%|          | 0/4 [00:00<?, ?it/s]"
      ]
     },
     "metadata": {},
     "output_type": "display_data"
    },
    {
     "name": "stderr",
     "output_type": "stream",
     "text": [
      "Mixed Adversarial Training:  81%|████████  | 64/79 [02:03<00:28,  1.92s/it, loss=1.93]"
     ]
    },
    {
     "data": {
      "application/vnd.jupyter.widget-view+json": {
       "model_id": "098c7680e5284787a8132b3e34d8cc32",
       "version_major": 2,
       "version_minor": 0
      },
      "text/plain": [
       "PGD - Batches:   0%|          | 0/4 [00:00<?, ?it/s]"
      ]
     },
     "metadata": {},
     "output_type": "display_data"
    },
    {
     "name": "stderr",
     "output_type": "stream",
     "text": [
      "Mixed Adversarial Training:  82%|████████▏ | 65/79 [02:05<00:27,  1.94s/it, loss=2.08]"
     ]
    },
    {
     "data": {
      "application/vnd.jupyter.widget-view+json": {
       "model_id": "374c44a092ba4c3eaea67f1a2162da32",
       "version_major": 2,
       "version_minor": 0
      },
      "text/plain": [
       "PGD - Batches:   0%|          | 0/4 [00:00<?, ?it/s]"
      ]
     },
     "metadata": {},
     "output_type": "display_data"
    },
    {
     "name": "stderr",
     "output_type": "stream",
     "text": [
      "Mixed Adversarial Training:  84%|████████▎ | 66/79 [02:06<00:25,  1.93s/it, loss=2.01]"
     ]
    },
    {
     "data": {
      "application/vnd.jupyter.widget-view+json": {
       "model_id": "045efe37bea34a9cabcf3801ed4cb58a",
       "version_major": 2,
       "version_minor": 0
      },
      "text/plain": [
       "PGD - Batches:   0%|          | 0/4 [00:00<?, ?it/s]"
      ]
     },
     "metadata": {},
     "output_type": "display_data"
    },
    {
     "name": "stderr",
     "output_type": "stream",
     "text": [
      "Mixed Adversarial Training:  85%|████████▍ | 67/79 [02:08<00:23,  1.93s/it, loss=1.97]"
     ]
    },
    {
     "data": {
      "application/vnd.jupyter.widget-view+json": {
       "model_id": "1d0134ab5af54d30b969db30ed68e5cb",
       "version_major": 2,
       "version_minor": 0
      },
      "text/plain": [
       "PGD - Batches:   0%|          | 0/4 [00:00<?, ?it/s]"
      ]
     },
     "metadata": {},
     "output_type": "display_data"
    },
    {
     "name": "stderr",
     "output_type": "stream",
     "text": [
      "Mixed Adversarial Training:  86%|████████▌ | 68/79 [02:10<00:21,  1.92s/it, loss=1.89]"
     ]
    },
    {
     "data": {
      "application/vnd.jupyter.widget-view+json": {
       "model_id": "38ef1c3ac26846449c51712f1e994bac",
       "version_major": 2,
       "version_minor": 0
      },
      "text/plain": [
       "PGD - Batches:   0%|          | 0/4 [00:00<?, ?it/s]"
      ]
     },
     "metadata": {},
     "output_type": "display_data"
    },
    {
     "name": "stderr",
     "output_type": "stream",
     "text": [
      "Mixed Adversarial Training:  87%|████████▋ | 69/79 [02:12<00:19,  1.92s/it, loss=1.91]"
     ]
    },
    {
     "data": {
      "application/vnd.jupyter.widget-view+json": {
       "model_id": "c9ed7ea0d349468490add1288378cc60",
       "version_major": 2,
       "version_minor": 0
      },
      "text/plain": [
       "PGD - Batches:   0%|          | 0/4 [00:00<?, ?it/s]"
      ]
     },
     "metadata": {},
     "output_type": "display_data"
    },
    {
     "name": "stderr",
     "output_type": "stream",
     "text": [
      "Mixed Adversarial Training:  89%|████████▊ | 70/79 [02:14<00:17,  1.92s/it, loss=1.97]"
     ]
    },
    {
     "data": {
      "application/vnd.jupyter.widget-view+json": {
       "model_id": "6060abfa460c4a6fb2d2a52a6302cf37",
       "version_major": 2,
       "version_minor": 0
      },
      "text/plain": [
       "PGD - Batches:   0%|          | 0/4 [00:00<?, ?it/s]"
      ]
     },
     "metadata": {},
     "output_type": "display_data"
    },
    {
     "name": "stderr",
     "output_type": "stream",
     "text": [
      "Mixed Adversarial Training:  90%|████████▉ | 71/79 [02:16<00:15,  1.94s/it, loss=1.97]"
     ]
    },
    {
     "data": {
      "application/vnd.jupyter.widget-view+json": {
       "model_id": "1d032febaa0e44cda6f7c762a0a15641",
       "version_major": 2,
       "version_minor": 0
      },
      "text/plain": [
       "PGD - Batches:   0%|          | 0/4 [00:00<?, ?it/s]"
      ]
     },
     "metadata": {},
     "output_type": "display_data"
    },
    {
     "name": "stderr",
     "output_type": "stream",
     "text": [
      "Mixed Adversarial Training:  91%|█████████ | 72/79 [02:18<00:13,  1.93s/it, loss=1.81]"
     ]
    },
    {
     "data": {
      "application/vnd.jupyter.widget-view+json": {
       "model_id": "3c4486a5fe364e749bc1fc13c47049de",
       "version_major": 2,
       "version_minor": 0
      },
      "text/plain": [
       "PGD - Batches:   0%|          | 0/4 [00:00<?, ?it/s]"
      ]
     },
     "metadata": {},
     "output_type": "display_data"
    },
    {
     "name": "stderr",
     "output_type": "stream",
     "text": [
      "Mixed Adversarial Training:  92%|█████████▏| 73/79 [02:20<00:11,  1.93s/it, loss=2.07]"
     ]
    },
    {
     "data": {
      "application/vnd.jupyter.widget-view+json": {
       "model_id": "68376f66f6d14a0785fbf293b117f7c8",
       "version_major": 2,
       "version_minor": 0
      },
      "text/plain": [
       "PGD - Batches:   0%|          | 0/4 [00:00<?, ?it/s]"
      ]
     },
     "metadata": {},
     "output_type": "display_data"
    },
    {
     "name": "stderr",
     "output_type": "stream",
     "text": [
      "Mixed Adversarial Training:  94%|█████████▎| 74/79 [02:22<00:09,  1.92s/it, loss=1.88]"
     ]
    },
    {
     "data": {
      "application/vnd.jupyter.widget-view+json": {
       "model_id": "30fd45efcf874515aad8176e1c1f2c10",
       "version_major": 2,
       "version_minor": 0
      },
      "text/plain": [
       "PGD - Batches:   0%|          | 0/4 [00:00<?, ?it/s]"
      ]
     },
     "metadata": {},
     "output_type": "display_data"
    },
    {
     "name": "stderr",
     "output_type": "stream",
     "text": [
      "Mixed Adversarial Training:  95%|█████████▍| 75/79 [02:24<00:07,  1.91s/it, loss=1.99]"
     ]
    },
    {
     "data": {
      "application/vnd.jupyter.widget-view+json": {
       "model_id": "30a50603b7ef433f8a3a50e64efbbac5",
       "version_major": 2,
       "version_minor": 0
      },
      "text/plain": [
       "PGD - Batches:   0%|          | 0/4 [00:00<?, ?it/s]"
      ]
     },
     "metadata": {},
     "output_type": "display_data"
    },
    {
     "name": "stderr",
     "output_type": "stream",
     "text": [
      "Mixed Adversarial Training:  96%|█████████▌| 76/79 [02:26<00:05,  1.91s/it, loss=1.89]"
     ]
    },
    {
     "data": {
      "application/vnd.jupyter.widget-view+json": {
       "model_id": "0bdf62acc4784849888dface8a3985fe",
       "version_major": 2,
       "version_minor": 0
      },
      "text/plain": [
       "PGD - Batches:   0%|          | 0/4 [00:00<?, ?it/s]"
      ]
     },
     "metadata": {},
     "output_type": "display_data"
    },
    {
     "name": "stderr",
     "output_type": "stream",
     "text": [
      "Mixed Adversarial Training:  97%|█████████▋| 77/79 [02:28<00:03,  1.92s/it, loss=1.95]"
     ]
    },
    {
     "data": {
      "application/vnd.jupyter.widget-view+json": {
       "model_id": "40f48908f1a4445dbeb337aec946da52",
       "version_major": 2,
       "version_minor": 0
      },
      "text/plain": [
       "PGD - Batches:   0%|          | 0/4 [00:00<?, ?it/s]"
      ]
     },
     "metadata": {},
     "output_type": "display_data"
    },
    {
     "name": "stderr",
     "output_type": "stream",
     "text": [
      "Mixed Adversarial Training:  99%|█████████▊| 78/79 [02:30<00:01,  1.94s/it, loss=1.91]"
     ]
    },
    {
     "data": {
      "application/vnd.jupyter.widget-view+json": {
       "model_id": "772a1cd11bf24fe8ad73920d3acd4902",
       "version_major": 2,
       "version_minor": 0
      },
      "text/plain": [
       "PGD - Batches:   0%|          | 0/1 [00:00<?, ?it/s]"
      ]
     },
     "metadata": {},
     "output_type": "display_data"
    },
    {
     "name": "stderr",
     "output_type": "stream",
     "text": [
      "Mixed Adversarial Training: 100%|██████████| 79/79 [02:30<00:00,  1.90s/it, loss=1.69]\n"
     ]
    },
    {
     "name": "stdout",
     "output_type": "stream",
     "text": [
      "✅ Epoch 1 complete — Avg loss: 2.1707\n",
      "\n",
      "🌪 Epoch 2/5\n"
     ]
    },
    {
     "name": "stderr",
     "output_type": "stream",
     "text": [
      "\r",
      "Mixed Adversarial Training:   0%|          | 0/79 [00:00<?, ?it/s]"
     ]
    },
    {
     "data": {
      "application/vnd.jupyter.widget-view+json": {
       "model_id": "6153c0b71b2a47daaa3d0a8549526f35",
       "version_major": 2,
       "version_minor": 0
      },
      "text/plain": [
       "PGD - Batches:   0%|          | 0/4 [00:00<?, ?it/s]"
      ]
     },
     "metadata": {},
     "output_type": "display_data"
    },
    {
     "name": "stderr",
     "output_type": "stream",
     "text": [
      "Mixed Adversarial Training:   1%|▏         | 1/79 [00:01<02:29,  1.91s/it, loss=1.95]"
     ]
    },
    {
     "data": {
      "application/vnd.jupyter.widget-view+json": {
       "model_id": "26d40a52512b4708927a3308657a750f",
       "version_major": 2,
       "version_minor": 0
      },
      "text/plain": [
       "PGD - Batches:   0%|          | 0/4 [00:00<?, ?it/s]"
      ]
     },
     "metadata": {},
     "output_type": "display_data"
    },
    {
     "name": "stderr",
     "output_type": "stream",
     "text": [
      "Mixed Adversarial Training:   3%|▎         | 2/79 [00:03<02:27,  1.91s/it, loss=2.03]"
     ]
    },
    {
     "data": {
      "application/vnd.jupyter.widget-view+json": {
       "model_id": "96304600795641369157475f3d41d254",
       "version_major": 2,
       "version_minor": 0
      },
      "text/plain": [
       "PGD - Batches:   0%|          | 0/4 [00:00<?, ?it/s]"
      ]
     },
     "metadata": {},
     "output_type": "display_data"
    },
    {
     "name": "stderr",
     "output_type": "stream",
     "text": [
      "Mixed Adversarial Training:   4%|▍         | 3/79 [00:05<02:25,  1.91s/it, loss=1.98]"
     ]
    },
    {
     "data": {
      "application/vnd.jupyter.widget-view+json": {
       "model_id": "12b7391d5ed342f886d06fa52b30a599",
       "version_major": 2,
       "version_minor": 0
      },
      "text/plain": [
       "PGD - Batches:   0%|          | 0/4 [00:00<?, ?it/s]"
      ]
     },
     "metadata": {},
     "output_type": "display_data"
    },
    {
     "name": "stderr",
     "output_type": "stream",
     "text": [
      "Mixed Adversarial Training:   5%|▌         | 4/79 [00:07<02:22,  1.90s/it, loss=1.97]"
     ]
    },
    {
     "data": {
      "application/vnd.jupyter.widget-view+json": {
       "model_id": "9d3fee5e79144cca9604ad1a770e9d9d",
       "version_major": 2,
       "version_minor": 0
      },
      "text/plain": [
       "PGD - Batches:   0%|          | 0/4 [00:00<?, ?it/s]"
      ]
     },
     "metadata": {},
     "output_type": "display_data"
    },
    {
     "name": "stderr",
     "output_type": "stream",
     "text": [
      "Mixed Adversarial Training:   6%|▋         | 5/79 [00:09<02:21,  1.92s/it, loss=1.89]"
     ]
    },
    {
     "data": {
      "application/vnd.jupyter.widget-view+json": {
       "model_id": "71e2166566444e8cb377c978130090d1",
       "version_major": 2,
       "version_minor": 0
      },
      "text/plain": [
       "PGD - Batches:   0%|          | 0/4 [00:00<?, ?it/s]"
      ]
     },
     "metadata": {},
     "output_type": "display_data"
    },
    {
     "name": "stderr",
     "output_type": "stream",
     "text": [
      "Mixed Adversarial Training:   8%|▊         | 6/79 [00:11<02:21,  1.93s/it, loss=1.91]"
     ]
    },
    {
     "data": {
      "application/vnd.jupyter.widget-view+json": {
       "model_id": "4fea00fe357c4666bc21fd6c6eed6f6c",
       "version_major": 2,
       "version_minor": 0
      },
      "text/plain": [
       "PGD - Batches:   0%|          | 0/4 [00:00<?, ?it/s]"
      ]
     },
     "metadata": {},
     "output_type": "display_data"
    },
    {
     "name": "stderr",
     "output_type": "stream",
     "text": [
      "Mixed Adversarial Training:   9%|▉         | 7/79 [00:13<02:18,  1.92s/it, loss=1.91]"
     ]
    },
    {
     "data": {
      "application/vnd.jupyter.widget-view+json": {
       "model_id": "d776dece5fba4e8ebaeb34e839b9f96a",
       "version_major": 2,
       "version_minor": 0
      },
      "text/plain": [
       "PGD - Batches:   0%|          | 0/4 [00:00<?, ?it/s]"
      ]
     },
     "metadata": {},
     "output_type": "display_data"
    },
    {
     "name": "stderr",
     "output_type": "stream",
     "text": [
      "Mixed Adversarial Training:  10%|█         | 8/79 [00:15<02:15,  1.91s/it, loss=1.97]"
     ]
    },
    {
     "data": {
      "application/vnd.jupyter.widget-view+json": {
       "model_id": "f8105baea63e43a0a8813c2c621b71af",
       "version_major": 2,
       "version_minor": 0
      },
      "text/plain": [
       "PGD - Batches:   0%|          | 0/4 [00:00<?, ?it/s]"
      ]
     },
     "metadata": {},
     "output_type": "display_data"
    },
    {
     "name": "stderr",
     "output_type": "stream",
     "text": [
      "Mixed Adversarial Training:  11%|█▏        | 9/79 [00:17<02:13,  1.91s/it, loss=2.04]"
     ]
    },
    {
     "data": {
      "application/vnd.jupyter.widget-view+json": {
       "model_id": "7aed0efbe64548c082ca1e520fd70e1e",
       "version_major": 2,
       "version_minor": 0
      },
      "text/plain": [
       "PGD - Batches:   0%|          | 0/4 [00:00<?, ?it/s]"
      ]
     },
     "metadata": {},
     "output_type": "display_data"
    },
    {
     "name": "stderr",
     "output_type": "stream",
     "text": [
      "Mixed Adversarial Training:  13%|█▎        | 10/79 [00:19<02:11,  1.91s/it, loss=2.02]"
     ]
    },
    {
     "data": {
      "application/vnd.jupyter.widget-view+json": {
       "model_id": "1eac88751efb48889bba0ae8d9d3e47f",
       "version_major": 2,
       "version_minor": 0
      },
      "text/plain": [
       "PGD - Batches:   0%|          | 0/4 [00:00<?, ?it/s]"
      ]
     },
     "metadata": {},
     "output_type": "display_data"
    },
    {
     "name": "stderr",
     "output_type": "stream",
     "text": [
      "Mixed Adversarial Training:  14%|█▍        | 11/79 [00:21<02:09,  1.91s/it, loss=1.89]"
     ]
    },
    {
     "data": {
      "application/vnd.jupyter.widget-view+json": {
       "model_id": "e9685455a4504c63a20cfa27f9ed509c",
       "version_major": 2,
       "version_minor": 0
      },
      "text/plain": [
       "PGD - Batches:   0%|          | 0/4 [00:00<?, ?it/s]"
      ]
     },
     "metadata": {},
     "output_type": "display_data"
    },
    {
     "name": "stderr",
     "output_type": "stream",
     "text": [
      "Mixed Adversarial Training:  15%|█▌        | 12/79 [00:22<02:08,  1.92s/it, loss=1.92]"
     ]
    },
    {
     "data": {
      "application/vnd.jupyter.widget-view+json": {
       "model_id": "2eec7e53a9c54573acc9e6d31ccafc05",
       "version_major": 2,
       "version_minor": 0
      },
      "text/plain": [
       "PGD - Batches:   0%|          | 0/4 [00:00<?, ?it/s]"
      ]
     },
     "metadata": {},
     "output_type": "display_data"
    },
    {
     "name": "stderr",
     "output_type": "stream",
     "text": [
      "Mixed Adversarial Training:  16%|█▋        | 13/79 [00:24<02:07,  1.93s/it, loss=1.86]"
     ]
    },
    {
     "data": {
      "application/vnd.jupyter.widget-view+json": {
       "model_id": "a9651980ac7042d98ddb74fb873ff6c3",
       "version_major": 2,
       "version_minor": 0
      },
      "text/plain": [
       "PGD - Batches:   0%|          | 0/4 [00:00<?, ?it/s]"
      ]
     },
     "metadata": {},
     "output_type": "display_data"
    },
    {
     "name": "stderr",
     "output_type": "stream",
     "text": [
      "Mixed Adversarial Training:  18%|█▊        | 14/79 [00:26<02:05,  1.92s/it, loss=1.94]"
     ]
    },
    {
     "data": {
      "application/vnd.jupyter.widget-view+json": {
       "model_id": "a7a6497c8a4f4d1db0601021bd8a077c",
       "version_major": 2,
       "version_minor": 0
      },
      "text/plain": [
       "PGD - Batches:   0%|          | 0/4 [00:00<?, ?it/s]"
      ]
     },
     "metadata": {},
     "output_type": "display_data"
    },
    {
     "name": "stderr",
     "output_type": "stream",
     "text": [
      "Mixed Adversarial Training:  19%|█▉        | 15/79 [00:28<02:02,  1.92s/it, loss=1.94]"
     ]
    },
    {
     "data": {
      "application/vnd.jupyter.widget-view+json": {
       "model_id": "8572f5a0dec3426b9b149ccfc67f178d",
       "version_major": 2,
       "version_minor": 0
      },
      "text/plain": [
       "PGD - Batches:   0%|          | 0/4 [00:00<?, ?it/s]"
      ]
     },
     "metadata": {},
     "output_type": "display_data"
    },
    {
     "name": "stderr",
     "output_type": "stream",
     "text": [
      "Mixed Adversarial Training:  20%|██        | 16/79 [00:30<02:00,  1.91s/it, loss=1.81]"
     ]
    },
    {
     "data": {
      "application/vnd.jupyter.widget-view+json": {
       "model_id": "7d5da36b7af34f1a97abaa3d247cf692",
       "version_major": 2,
       "version_minor": 0
      },
      "text/plain": [
       "PGD - Batches:   0%|          | 0/4 [00:00<?, ?it/s]"
      ]
     },
     "metadata": {},
     "output_type": "display_data"
    },
    {
     "name": "stderr",
     "output_type": "stream",
     "text": [
      "Mixed Adversarial Training:  22%|██▏       | 17/79 [00:32<01:58,  1.91s/it, loss=1.87]"
     ]
    },
    {
     "data": {
      "application/vnd.jupyter.widget-view+json": {
       "model_id": "300cc5b62535440a8c527f97e3bbff74",
       "version_major": 2,
       "version_minor": 0
      },
      "text/plain": [
       "PGD - Batches:   0%|          | 0/4 [00:00<?, ?it/s]"
      ]
     },
     "metadata": {},
     "output_type": "display_data"
    },
    {
     "name": "stderr",
     "output_type": "stream",
     "text": [
      "Mixed Adversarial Training:  23%|██▎       | 18/79 [00:34<01:56,  1.91s/it, loss=1.96]"
     ]
    },
    {
     "data": {
      "application/vnd.jupyter.widget-view+json": {
       "model_id": "0f260f2361ad4bea8603a1f1f0818574",
       "version_major": 2,
       "version_minor": 0
      },
      "text/plain": [
       "PGD - Batches:   0%|          | 0/4 [00:00<?, ?it/s]"
      ]
     },
     "metadata": {},
     "output_type": "display_data"
    },
    {
     "name": "stderr",
     "output_type": "stream",
     "text": [
      "Mixed Adversarial Training:  24%|██▍       | 19/79 [00:36<01:55,  1.93s/it, loss=1.88]"
     ]
    },
    {
     "data": {
      "application/vnd.jupyter.widget-view+json": {
       "model_id": "65cbe647d76948cbb4d5f752e47d1f80",
       "version_major": 2,
       "version_minor": 0
      },
      "text/plain": [
       "PGD - Batches:   0%|          | 0/4 [00:00<?, ?it/s]"
      ]
     },
     "metadata": {},
     "output_type": "display_data"
    },
    {
     "name": "stderr",
     "output_type": "stream",
     "text": [
      "Mixed Adversarial Training:  25%|██▌       | 20/79 [00:38<01:53,  1.93s/it, loss=1.94]"
     ]
    },
    {
     "data": {
      "application/vnd.jupyter.widget-view+json": {
       "model_id": "e415a27f083e46cb8f7af25c5d72b33d",
       "version_major": 2,
       "version_minor": 0
      },
      "text/plain": [
       "PGD - Batches:   0%|          | 0/4 [00:00<?, ?it/s]"
      ]
     },
     "metadata": {},
     "output_type": "display_data"
    },
    {
     "name": "stderr",
     "output_type": "stream",
     "text": [
      "Mixed Adversarial Training:  27%|██▋       | 21/79 [00:40<01:51,  1.92s/it, loss=1.84]"
     ]
    },
    {
     "data": {
      "application/vnd.jupyter.widget-view+json": {
       "model_id": "7bbef5116787494ca8c0d1730e14a12c",
       "version_major": 2,
       "version_minor": 0
      },
      "text/plain": [
       "PGD - Batches:   0%|          | 0/4 [00:00<?, ?it/s]"
      ]
     },
     "metadata": {},
     "output_type": "display_data"
    },
    {
     "name": "stderr",
     "output_type": "stream",
     "text": [
      "Mixed Adversarial Training:  28%|██▊       | 22/79 [00:42<01:49,  1.92s/it, loss=1.83]"
     ]
    },
    {
     "data": {
      "application/vnd.jupyter.widget-view+json": {
       "model_id": "e608e10bbb1343f4aa8311f310ba59a9",
       "version_major": 2,
       "version_minor": 0
      },
      "text/plain": [
       "PGD - Batches:   0%|          | 0/4 [00:00<?, ?it/s]"
      ]
     },
     "metadata": {},
     "output_type": "display_data"
    },
    {
     "name": "stderr",
     "output_type": "stream",
     "text": [
      "Mixed Adversarial Training:  29%|██▉       | 23/79 [00:44<01:47,  1.91s/it, loss=1.95]"
     ]
    },
    {
     "data": {
      "application/vnd.jupyter.widget-view+json": {
       "model_id": "1599106faf1543a19f2953c4e6f71f44",
       "version_major": 2,
       "version_minor": 0
      },
      "text/plain": [
       "PGD - Batches:   0%|          | 0/4 [00:00<?, ?it/s]"
      ]
     },
     "metadata": {},
     "output_type": "display_data"
    },
    {
     "name": "stderr",
     "output_type": "stream",
     "text": [
      "Mixed Adversarial Training:  30%|███       | 24/79 [00:45<01:45,  1.91s/it, loss=1.75]"
     ]
    },
    {
     "data": {
      "application/vnd.jupyter.widget-view+json": {
       "model_id": "d9595e66690b4ed4967c341b06e511bc",
       "version_major": 2,
       "version_minor": 0
      },
      "text/plain": [
       "PGD - Batches:   0%|          | 0/4 [00:00<?, ?it/s]"
      ]
     },
     "metadata": {},
     "output_type": "display_data"
    },
    {
     "name": "stderr",
     "output_type": "stream",
     "text": [
      "Mixed Adversarial Training:  32%|███▏      | 25/79 [00:47<01:43,  1.92s/it, loss=1.82]"
     ]
    },
    {
     "data": {
      "application/vnd.jupyter.widget-view+json": {
       "model_id": "f1e4ca1581ed4303ac4a4bc40046a8f5",
       "version_major": 2,
       "version_minor": 0
      },
      "text/plain": [
       "PGD - Batches:   0%|          | 0/4 [00:00<?, ?it/s]"
      ]
     },
     "metadata": {},
     "output_type": "display_data"
    },
    {
     "name": "stderr",
     "output_type": "stream",
     "text": [
      "Mixed Adversarial Training:  33%|███▎      | 26/79 [00:49<01:42,  1.93s/it, loss=1.86]"
     ]
    },
    {
     "data": {
      "application/vnd.jupyter.widget-view+json": {
       "model_id": "87c581485a0546b9ad24e96fd74cf953",
       "version_major": 2,
       "version_minor": 0
      },
      "text/plain": [
       "PGD - Batches:   0%|          | 0/4 [00:00<?, ?it/s]"
      ]
     },
     "metadata": {},
     "output_type": "display_data"
    },
    {
     "name": "stderr",
     "output_type": "stream",
     "text": [
      "Mixed Adversarial Training:  34%|███▍      | 27/79 [00:51<01:40,  1.93s/it, loss=1.68]"
     ]
    },
    {
     "data": {
      "application/vnd.jupyter.widget-view+json": {
       "model_id": "2c8e6524b23247e2ae06053b71e5d4a3",
       "version_major": 2,
       "version_minor": 0
      },
      "text/plain": [
       "PGD - Batches:   0%|          | 0/4 [00:00<?, ?it/s]"
      ]
     },
     "metadata": {},
     "output_type": "display_data"
    },
    {
     "name": "stderr",
     "output_type": "stream",
     "text": [
      "Mixed Adversarial Training:  35%|███▌      | 28/79 [00:53<01:38,  1.92s/it, loss=1.77]"
     ]
    },
    {
     "data": {
      "application/vnd.jupyter.widget-view+json": {
       "model_id": "fdfe3badf7934912ba69d42b85a98580",
       "version_major": 2,
       "version_minor": 0
      },
      "text/plain": [
       "PGD - Batches:   0%|          | 0/4 [00:00<?, ?it/s]"
      ]
     },
     "metadata": {},
     "output_type": "display_data"
    },
    {
     "name": "stderr",
     "output_type": "stream",
     "text": [
      "Mixed Adversarial Training:  37%|███▋      | 29/79 [00:55<01:35,  1.91s/it, loss=1.75]"
     ]
    },
    {
     "data": {
      "application/vnd.jupyter.widget-view+json": {
       "model_id": "35bb6356dfe34bd7b7112c3fb4bb61e4",
       "version_major": 2,
       "version_minor": 0
      },
      "text/plain": [
       "PGD - Batches:   0%|          | 0/4 [00:00<?, ?it/s]"
      ]
     },
     "metadata": {},
     "output_type": "display_data"
    },
    {
     "name": "stderr",
     "output_type": "stream",
     "text": [
      "Mixed Adversarial Training:  38%|███▊      | 30/79 [00:57<01:33,  1.91s/it, loss=1.65]"
     ]
    },
    {
     "data": {
      "application/vnd.jupyter.widget-view+json": {
       "model_id": "8cddb18087d74b64b62464fa73b60292",
       "version_major": 2,
       "version_minor": 0
      },
      "text/plain": [
       "PGD - Batches:   0%|          | 0/4 [00:00<?, ?it/s]"
      ]
     },
     "metadata": {},
     "output_type": "display_data"
    },
    {
     "name": "stderr",
     "output_type": "stream",
     "text": [
      "Mixed Adversarial Training:  39%|███▉      | 31/79 [00:59<01:31,  1.90s/it, loss=1.63]"
     ]
    },
    {
     "data": {
      "application/vnd.jupyter.widget-view+json": {
       "model_id": "39e3c4f75e3f4c08b228f763f73daef7",
       "version_major": 2,
       "version_minor": 0
      },
      "text/plain": [
       "PGD - Batches:   0%|          | 0/4 [00:00<?, ?it/s]"
      ]
     },
     "metadata": {},
     "output_type": "display_data"
    },
    {
     "name": "stderr",
     "output_type": "stream",
     "text": [
      "Mixed Adversarial Training:  41%|████      | 32/79 [01:01<01:30,  1.92s/it, loss=1.83]"
     ]
    },
    {
     "data": {
      "application/vnd.jupyter.widget-view+json": {
       "model_id": "53c0d0c08d754104927adf5167d0c1ae",
       "version_major": 2,
       "version_minor": 0
      },
      "text/plain": [
       "PGD - Batches:   0%|          | 0/4 [00:00<?, ?it/s]"
      ]
     },
     "metadata": {},
     "output_type": "display_data"
    },
    {
     "name": "stderr",
     "output_type": "stream",
     "text": [
      "Mixed Adversarial Training:  42%|████▏     | 33/79 [01:03<01:28,  1.93s/it, loss=1.78]"
     ]
    },
    {
     "data": {
      "application/vnd.jupyter.widget-view+json": {
       "model_id": "0d39c168a84e4a6bad10973c2cc32aa3",
       "version_major": 2,
       "version_minor": 0
      },
      "text/plain": [
       "PGD - Batches:   0%|          | 0/4 [00:00<?, ?it/s]"
      ]
     },
     "metadata": {},
     "output_type": "display_data"
    },
    {
     "name": "stderr",
     "output_type": "stream",
     "text": [
      "Mixed Adversarial Training:  43%|████▎     | 34/79 [01:05<01:27,  1.93s/it, loss=1.91]"
     ]
    },
    {
     "data": {
      "application/vnd.jupyter.widget-view+json": {
       "model_id": "d83fea56f6ee4fa2bda4c934702cfe23",
       "version_major": 2,
       "version_minor": 0
      },
      "text/plain": [
       "PGD - Batches:   0%|          | 0/4 [00:00<?, ?it/s]"
      ]
     },
     "metadata": {},
     "output_type": "display_data"
    },
    {
     "name": "stderr",
     "output_type": "stream",
     "text": [
      "Mixed Adversarial Training:  44%|████▍     | 35/79 [01:07<01:24,  1.93s/it, loss=1.99]"
     ]
    },
    {
     "data": {
      "application/vnd.jupyter.widget-view+json": {
       "model_id": "820f2f61e8374e51a551d51865e34e6d",
       "version_major": 2,
       "version_minor": 0
      },
      "text/plain": [
       "PGD - Batches:   0%|          | 0/4 [00:00<?, ?it/s]"
      ]
     },
     "metadata": {},
     "output_type": "display_data"
    },
    {
     "name": "stderr",
     "output_type": "stream",
     "text": [
      "Mixed Adversarial Training:  46%|████▌     | 36/79 [01:09<01:22,  1.92s/it, loss=1.87]"
     ]
    },
    {
     "data": {
      "application/vnd.jupyter.widget-view+json": {
       "model_id": "4a4e5e4f320d4f0aa51a99ace6dc2c01",
       "version_major": 2,
       "version_minor": 0
      },
      "text/plain": [
       "PGD - Batches:   0%|          | 0/4 [00:00<?, ?it/s]"
      ]
     },
     "metadata": {},
     "output_type": "display_data"
    },
    {
     "name": "stderr",
     "output_type": "stream",
     "text": [
      "Mixed Adversarial Training:  47%|████▋     | 37/79 [01:11<01:20,  1.92s/it, loss=1.77]"
     ]
    },
    {
     "data": {
      "application/vnd.jupyter.widget-view+json": {
       "model_id": "4133de0c489b42c196a06995ea5278cb",
       "version_major": 2,
       "version_minor": 0
      },
      "text/plain": [
       "PGD - Batches:   0%|          | 0/4 [00:00<?, ?it/s]"
      ]
     },
     "metadata": {},
     "output_type": "display_data"
    },
    {
     "name": "stderr",
     "output_type": "stream",
     "text": [
      "Mixed Adversarial Training:  48%|████▊     | 38/79 [01:12<01:18,  1.92s/it, loss=1.67]"
     ]
    },
    {
     "data": {
      "application/vnd.jupyter.widget-view+json": {
       "model_id": "408634765ec848cebe6669f4f956a3ef",
       "version_major": 2,
       "version_minor": 0
      },
      "text/plain": [
       "PGD - Batches:   0%|          | 0/4 [00:00<?, ?it/s]"
      ]
     },
     "metadata": {},
     "output_type": "display_data"
    },
    {
     "name": "stderr",
     "output_type": "stream",
     "text": [
      "Mixed Adversarial Training:  49%|████▉     | 39/79 [01:14<01:17,  1.94s/it, loss=1.73]"
     ]
    },
    {
     "data": {
      "application/vnd.jupyter.widget-view+json": {
       "model_id": "d98ba96778564a40b0cc15971dceaf0b",
       "version_major": 2,
       "version_minor": 0
      },
      "text/plain": [
       "PGD - Batches:   0%|          | 0/4 [00:00<?, ?it/s]"
      ]
     },
     "metadata": {},
     "output_type": "display_data"
    },
    {
     "name": "stderr",
     "output_type": "stream",
     "text": [
      "Mixed Adversarial Training:  51%|█████     | 40/79 [01:16<01:15,  1.93s/it, loss=1.74]"
     ]
    },
    {
     "data": {
      "application/vnd.jupyter.widget-view+json": {
       "model_id": "d73d2982e97d4b65a059b7d6071f5e39",
       "version_major": 2,
       "version_minor": 0
      },
      "text/plain": [
       "PGD - Batches:   0%|          | 0/4 [00:00<?, ?it/s]"
      ]
     },
     "metadata": {},
     "output_type": "display_data"
    },
    {
     "name": "stderr",
     "output_type": "stream",
     "text": [
      "Mixed Adversarial Training:  52%|█████▏    | 41/79 [01:18<01:13,  1.93s/it, loss=1.78]"
     ]
    },
    {
     "data": {
      "application/vnd.jupyter.widget-view+json": {
       "model_id": "8bd4165c6aa44c77be9488357b897f1a",
       "version_major": 2,
       "version_minor": 0
      },
      "text/plain": [
       "PGD - Batches:   0%|          | 0/4 [00:00<?, ?it/s]"
      ]
     },
     "metadata": {},
     "output_type": "display_data"
    },
    {
     "name": "stderr",
     "output_type": "stream",
     "text": [
      "Mixed Adversarial Training:  53%|█████▎    | 42/79 [01:20<01:11,  1.92s/it, loss=1.73]"
     ]
    },
    {
     "data": {
      "application/vnd.jupyter.widget-view+json": {
       "model_id": "7bf54ffb2c8e44ad81f58d8d2cfd9cb9",
       "version_major": 2,
       "version_minor": 0
      },
      "text/plain": [
       "PGD - Batches:   0%|          | 0/4 [00:00<?, ?it/s]"
      ]
     },
     "metadata": {},
     "output_type": "display_data"
    },
    {
     "name": "stderr",
     "output_type": "stream",
     "text": [
      "Mixed Adversarial Training:  54%|█████▍    | 43/79 [01:22<01:08,  1.92s/it, loss=1.67]"
     ]
    },
    {
     "data": {
      "application/vnd.jupyter.widget-view+json": {
       "model_id": "069a6e51186a4f6693e112c52c1fa234",
       "version_major": 2,
       "version_minor": 0
      },
      "text/plain": [
       "PGD - Batches:   0%|          | 0/4 [00:00<?, ?it/s]"
      ]
     },
     "metadata": {},
     "output_type": "display_data"
    },
    {
     "name": "stderr",
     "output_type": "stream",
     "text": [
      "Mixed Adversarial Training:  56%|█████▌    | 44/79 [01:24<01:06,  1.91s/it, loss=1.88]"
     ]
    },
    {
     "data": {
      "application/vnd.jupyter.widget-view+json": {
       "model_id": "da966638829d41cfb710d9d5c7c5cbd0",
       "version_major": 2,
       "version_minor": 0
      },
      "text/plain": [
       "PGD - Batches:   0%|          | 0/4 [00:00<?, ?it/s]"
      ]
     },
     "metadata": {},
     "output_type": "display_data"
    },
    {
     "name": "stderr",
     "output_type": "stream",
     "text": [
      "Mixed Adversarial Training:  57%|█████▋    | 45/79 [01:26<01:05,  1.93s/it, loss=2.04]"
     ]
    },
    {
     "data": {
      "application/vnd.jupyter.widget-view+json": {
       "model_id": "d1036c052e884abea1f385fb043c7e4e",
       "version_major": 2,
       "version_minor": 0
      },
      "text/plain": [
       "PGD - Batches:   0%|          | 0/4 [00:00<?, ?it/s]"
      ]
     },
     "metadata": {},
     "output_type": "display_data"
    },
    {
     "name": "stderr",
     "output_type": "stream",
     "text": [
      "Mixed Adversarial Training:  58%|█████▊    | 46/79 [01:28<01:04,  1.95s/it, loss=1.73]"
     ]
    },
    {
     "data": {
      "application/vnd.jupyter.widget-view+json": {
       "model_id": "0fcaf64ed4154589a8c250d511b951ca",
       "version_major": 2,
       "version_minor": 0
      },
      "text/plain": [
       "PGD - Batches:   0%|          | 0/4 [00:00<?, ?it/s]"
      ]
     },
     "metadata": {},
     "output_type": "display_data"
    },
    {
     "name": "stderr",
     "output_type": "stream",
     "text": [
      "Mixed Adversarial Training:  59%|█████▉    | 47/79 [01:30<01:01,  1.93s/it, loss=1.88]"
     ]
    },
    {
     "data": {
      "application/vnd.jupyter.widget-view+json": {
       "model_id": "a45183e4824247a79b0dbde9e534756b",
       "version_major": 2,
       "version_minor": 0
      },
      "text/plain": [
       "PGD - Batches:   0%|          | 0/4 [00:00<?, ?it/s]"
      ]
     },
     "metadata": {},
     "output_type": "display_data"
    },
    {
     "name": "stderr",
     "output_type": "stream",
     "text": [
      "Mixed Adversarial Training:  61%|██████    | 48/79 [01:32<00:59,  1.92s/it, loss=1.93]"
     ]
    },
    {
     "data": {
      "application/vnd.jupyter.widget-view+json": {
       "model_id": "63dd0389788c43918e410d9a1dc2255b",
       "version_major": 2,
       "version_minor": 0
      },
      "text/plain": [
       "PGD - Batches:   0%|          | 0/4 [00:00<?, ?it/s]"
      ]
     },
     "metadata": {},
     "output_type": "display_data"
    },
    {
     "name": "stderr",
     "output_type": "stream",
     "text": [
      "Mixed Adversarial Training:  62%|██████▏   | 49/79 [01:34<00:57,  1.92s/it, loss=1.83]"
     ]
    },
    {
     "data": {
      "application/vnd.jupyter.widget-view+json": {
       "model_id": "14baba14be114b859a100afcf9f52f67",
       "version_major": 2,
       "version_minor": 0
      },
      "text/plain": [
       "PGD - Batches:   0%|          | 0/4 [00:00<?, ?it/s]"
      ]
     },
     "metadata": {},
     "output_type": "display_data"
    },
    {
     "name": "stderr",
     "output_type": "stream",
     "text": [
      "Mixed Adversarial Training:  63%|██████▎   | 50/79 [01:36<00:55,  1.91s/it, loss=1.73]"
     ]
    },
    {
     "data": {
      "application/vnd.jupyter.widget-view+json": {
       "model_id": "6b559b3bd6cc4b75881587d5dfb8f1f2",
       "version_major": 2,
       "version_minor": 0
      },
      "text/plain": [
       "PGD - Batches:   0%|          | 0/4 [00:00<?, ?it/s]"
      ]
     },
     "metadata": {},
     "output_type": "display_data"
    },
    {
     "name": "stderr",
     "output_type": "stream",
     "text": [
      "Mixed Adversarial Training:  65%|██████▍   | 51/79 [01:37<00:53,  1.92s/it, loss=1.67]"
     ]
    },
    {
     "data": {
      "application/vnd.jupyter.widget-view+json": {
       "model_id": "37b70537b95a4bb5b8bc2deca5059939",
       "version_major": 2,
       "version_minor": 0
      },
      "text/plain": [
       "PGD - Batches:   0%|          | 0/4 [00:00<?, ?it/s]"
      ]
     },
     "metadata": {},
     "output_type": "display_data"
    },
    {
     "name": "stderr",
     "output_type": "stream",
     "text": [
      "Mixed Adversarial Training:  66%|██████▌   | 52/79 [01:39<00:52,  1.94s/it, loss=1.71]"
     ]
    },
    {
     "data": {
      "application/vnd.jupyter.widget-view+json": {
       "model_id": "2feacc7b001d4fa8a2d1fee59e9b7c58",
       "version_major": 2,
       "version_minor": 0
      },
      "text/plain": [
       "PGD - Batches:   0%|          | 0/4 [00:00<?, ?it/s]"
      ]
     },
     "metadata": {},
     "output_type": "display_data"
    },
    {
     "name": "stderr",
     "output_type": "stream",
     "text": [
      "Mixed Adversarial Training:  67%|██████▋   | 53/79 [01:41<00:50,  1.93s/it, loss=1.64]"
     ]
    },
    {
     "data": {
      "application/vnd.jupyter.widget-view+json": {
       "model_id": "22dbcee8fc6d4669b5a1b7a03166c54a",
       "version_major": 2,
       "version_minor": 0
      },
      "text/plain": [
       "PGD - Batches:   0%|          | 0/4 [00:00<?, ?it/s]"
      ]
     },
     "metadata": {},
     "output_type": "display_data"
    },
    {
     "name": "stderr",
     "output_type": "stream",
     "text": [
      "Mixed Adversarial Training:  68%|██████▊   | 54/79 [01:43<00:48,  1.93s/it, loss=1.67]"
     ]
    },
    {
     "data": {
      "application/vnd.jupyter.widget-view+json": {
       "model_id": "6b619ae276af4d76b7ec9858f24f58e7",
       "version_major": 2,
       "version_minor": 0
      },
      "text/plain": [
       "PGD - Batches:   0%|          | 0/4 [00:00<?, ?it/s]"
      ]
     },
     "metadata": {},
     "output_type": "display_data"
    },
    {
     "name": "stderr",
     "output_type": "stream",
     "text": [
      "Mixed Adversarial Training:  70%|██████▉   | 55/79 [01:45<00:46,  1.92s/it, loss=1.74]"
     ]
    },
    {
     "data": {
      "application/vnd.jupyter.widget-view+json": {
       "model_id": "13ccab1362fd42e1a40dcb5cba29a9fe",
       "version_major": 2,
       "version_minor": 0
      },
      "text/plain": [
       "PGD - Batches:   0%|          | 0/4 [00:00<?, ?it/s]"
      ]
     },
     "metadata": {},
     "output_type": "display_data"
    },
    {
     "name": "stderr",
     "output_type": "stream",
     "text": [
      "Mixed Adversarial Training:  71%|███████   | 56/79 [01:47<00:44,  1.92s/it, loss=1.61]"
     ]
    },
    {
     "data": {
      "application/vnd.jupyter.widget-view+json": {
       "model_id": "ad68a39de67946ee9e8ca15233d02d91",
       "version_major": 2,
       "version_minor": 0
      },
      "text/plain": [
       "PGD - Batches:   0%|          | 0/4 [00:00<?, ?it/s]"
      ]
     },
     "metadata": {},
     "output_type": "display_data"
    },
    {
     "name": "stderr",
     "output_type": "stream",
     "text": [
      "Mixed Adversarial Training:  72%|███████▏  | 57/79 [01:49<00:42,  1.91s/it, loss=1.7]"
     ]
    },
    {
     "data": {
      "application/vnd.jupyter.widget-view+json": {
       "model_id": "ec9eb84008e7406ca24b8463d1dbf268",
       "version_major": 2,
       "version_minor": 0
      },
      "text/plain": [
       "PGD - Batches:   0%|          | 0/4 [00:00<?, ?it/s]"
      ]
     },
     "metadata": {},
     "output_type": "display_data"
    },
    {
     "name": "stderr",
     "output_type": "stream",
     "text": [
      "Mixed Adversarial Training:  73%|███████▎  | 58/79 [01:51<00:40,  1.92s/it, loss=1.81]"
     ]
    },
    {
     "data": {
      "application/vnd.jupyter.widget-view+json": {
       "model_id": "56e84d73a5e844cf91a68fa90544caaf",
       "version_major": 2,
       "version_minor": 0
      },
      "text/plain": [
       "PGD - Batches:   0%|          | 0/4 [00:00<?, ?it/s]"
      ]
     },
     "metadata": {},
     "output_type": "display_data"
    },
    {
     "name": "stderr",
     "output_type": "stream",
     "text": [
      "Mixed Adversarial Training:  75%|███████▍  | 59/79 [01:53<00:38,  1.94s/it, loss=1.52]"
     ]
    },
    {
     "data": {
      "application/vnd.jupyter.widget-view+json": {
       "model_id": "756db024c6b343ff8e4cbee95da658a1",
       "version_major": 2,
       "version_minor": 0
      },
      "text/plain": [
       "PGD - Batches:   0%|          | 0/4 [00:00<?, ?it/s]"
      ]
     },
     "metadata": {},
     "output_type": "display_data"
    },
    {
     "name": "stderr",
     "output_type": "stream",
     "text": [
      "Mixed Adversarial Training:  76%|███████▌  | 60/79 [01:55<00:36,  1.93s/it, loss=1.64]"
     ]
    },
    {
     "data": {
      "application/vnd.jupyter.widget-view+json": {
       "model_id": "ff104884647c465299c1b8f7d6ac5404",
       "version_major": 2,
       "version_minor": 0
      },
      "text/plain": [
       "PGD - Batches:   0%|          | 0/4 [00:00<?, ?it/s]"
      ]
     },
     "metadata": {},
     "output_type": "display_data"
    },
    {
     "name": "stderr",
     "output_type": "stream",
     "text": [
      "Mixed Adversarial Training:  77%|███████▋  | 61/79 [01:57<00:34,  1.92s/it, loss=1.71]"
     ]
    },
    {
     "data": {
      "application/vnd.jupyter.widget-view+json": {
       "model_id": "e974c5e2c17e428f8e6c760d3ae9f45b",
       "version_major": 2,
       "version_minor": 0
      },
      "text/plain": [
       "PGD - Batches:   0%|          | 0/4 [00:00<?, ?it/s]"
      ]
     },
     "metadata": {},
     "output_type": "display_data"
    },
    {
     "name": "stderr",
     "output_type": "stream",
     "text": [
      "Mixed Adversarial Training:  78%|███████▊  | 62/79 [01:59<00:32,  1.92s/it, loss=1.57]"
     ]
    },
    {
     "data": {
      "application/vnd.jupyter.widget-view+json": {
       "model_id": "1d6a939b54c64bb99bb8054dfdb08f47",
       "version_major": 2,
       "version_minor": 0
      },
      "text/plain": [
       "PGD - Batches:   0%|          | 0/4 [00:00<?, ?it/s]"
      ]
     },
     "metadata": {},
     "output_type": "display_data"
    },
    {
     "name": "stderr",
     "output_type": "stream",
     "text": [
      "Mixed Adversarial Training:  80%|███████▉  | 63/79 [02:01<00:30,  1.91s/it, loss=1.64]"
     ]
    },
    {
     "data": {
      "application/vnd.jupyter.widget-view+json": {
       "model_id": "05c86d5f1ab443fe916877ef81369dc6",
       "version_major": 2,
       "version_minor": 0
      },
      "text/plain": [
       "PGD - Batches:   0%|          | 0/4 [00:00<?, ?it/s]"
      ]
     },
     "metadata": {},
     "output_type": "display_data"
    },
    {
     "name": "stderr",
     "output_type": "stream",
     "text": [
      "Mixed Adversarial Training:  81%|████████  | 64/79 [02:02<00:28,  1.91s/it, loss=1.51]"
     ]
    },
    {
     "data": {
      "application/vnd.jupyter.widget-view+json": {
       "model_id": "0b614dc42f1c4e40a1a7ba780d171e7c",
       "version_major": 2,
       "version_minor": 0
      },
      "text/plain": [
       "PGD - Batches:   0%|          | 0/4 [00:00<?, ?it/s]"
      ]
     },
     "metadata": {},
     "output_type": "display_data"
    },
    {
     "name": "stderr",
     "output_type": "stream",
     "text": [
      "Mixed Adversarial Training:  82%|████████▏ | 65/79 [02:04<00:27,  1.93s/it, loss=1.54]"
     ]
    },
    {
     "data": {
      "application/vnd.jupyter.widget-view+json": {
       "model_id": "38d027f18ea54b18960dd512602ec3ba",
       "version_major": 2,
       "version_minor": 0
      },
      "text/plain": [
       "PGD - Batches:   0%|          | 0/4 [00:00<?, ?it/s]"
      ]
     },
     "metadata": {},
     "output_type": "display_data"
    },
    {
     "name": "stderr",
     "output_type": "stream",
     "text": [
      "Mixed Adversarial Training:  84%|████████▎ | 66/79 [02:06<00:25,  1.94s/it, loss=1.58]"
     ]
    },
    {
     "data": {
      "application/vnd.jupyter.widget-view+json": {
       "model_id": "0d1c26224995479aa9dd448df0c72383",
       "version_major": 2,
       "version_minor": 0
      },
      "text/plain": [
       "PGD - Batches:   0%|          | 0/4 [00:00<?, ?it/s]"
      ]
     },
     "metadata": {},
     "output_type": "display_data"
    },
    {
     "name": "stderr",
     "output_type": "stream",
     "text": [
      "Mixed Adversarial Training:  85%|████████▍ | 67/79 [02:08<00:23,  1.93s/it, loss=1.59]"
     ]
    },
    {
     "data": {
      "application/vnd.jupyter.widget-view+json": {
       "model_id": "cb6f3d72aeb24013b431cdc99dae8ef2",
       "version_major": 2,
       "version_minor": 0
      },
      "text/plain": [
       "PGD - Batches:   0%|          | 0/4 [00:00<?, ?it/s]"
      ]
     },
     "metadata": {},
     "output_type": "display_data"
    },
    {
     "name": "stderr",
     "output_type": "stream",
     "text": [
      "Mixed Adversarial Training:  86%|████████▌ | 68/79 [02:10<00:21,  1.92s/it, loss=1.72]"
     ]
    },
    {
     "data": {
      "application/vnd.jupyter.widget-view+json": {
       "model_id": "db87344e6aa2400eb6f655f83590e47d",
       "version_major": 2,
       "version_minor": 0
      },
      "text/plain": [
       "PGD - Batches:   0%|          | 0/4 [00:00<?, ?it/s]"
      ]
     },
     "metadata": {},
     "output_type": "display_data"
    },
    {
     "name": "stderr",
     "output_type": "stream",
     "text": [
      "Mixed Adversarial Training:  87%|████████▋ | 69/79 [02:12<00:19,  1.92s/it, loss=1.8]"
     ]
    },
    {
     "data": {
      "application/vnd.jupyter.widget-view+json": {
       "model_id": "a37e09f484f04d0c81f9911bec5cf4cb",
       "version_major": 2,
       "version_minor": 0
      },
      "text/plain": [
       "PGD - Batches:   0%|          | 0/4 [00:00<?, ?it/s]"
      ]
     },
     "metadata": {},
     "output_type": "display_data"
    },
    {
     "name": "stderr",
     "output_type": "stream",
     "text": [
      "Mixed Adversarial Training:  89%|████████▊ | 70/79 [02:14<00:17,  1.92s/it, loss=1.56]"
     ]
    },
    {
     "data": {
      "application/vnd.jupyter.widget-view+json": {
       "model_id": "55f31f473d154b4ea6dfcb7e5c4abb8c",
       "version_major": 2,
       "version_minor": 0
      },
      "text/plain": [
       "PGD - Batches:   0%|          | 0/4 [00:00<?, ?it/s]"
      ]
     },
     "metadata": {},
     "output_type": "display_data"
    },
    {
     "name": "stderr",
     "output_type": "stream",
     "text": [
      "Mixed Adversarial Training:  90%|████████▉ | 71/79 [02:16<00:15,  1.93s/it, loss=1.57]"
     ]
    },
    {
     "data": {
      "application/vnd.jupyter.widget-view+json": {
       "model_id": "bcf695cc204b4654b655e9c5e54ed4dd",
       "version_major": 2,
       "version_minor": 0
      },
      "text/plain": [
       "PGD - Batches:   0%|          | 0/4 [00:00<?, ?it/s]"
      ]
     },
     "metadata": {},
     "output_type": "display_data"
    },
    {
     "name": "stderr",
     "output_type": "stream",
     "text": [
      "Mixed Adversarial Training:  91%|█████████ | 72/79 [02:18<00:13,  1.94s/it, loss=1.69]"
     ]
    },
    {
     "data": {
      "application/vnd.jupyter.widget-view+json": {
       "model_id": "f7a3405743744adfb763fae56152f9a6",
       "version_major": 2,
       "version_minor": 0
      },
      "text/plain": [
       "PGD - Batches:   0%|          | 0/4 [00:00<?, ?it/s]"
      ]
     },
     "metadata": {},
     "output_type": "display_data"
    },
    {
     "name": "stderr",
     "output_type": "stream",
     "text": [
      "Mixed Adversarial Training:  92%|█████████▏| 73/79 [02:20<00:11,  1.93s/it, loss=1.51]"
     ]
    },
    {
     "data": {
      "application/vnd.jupyter.widget-view+json": {
       "model_id": "3afaecb9ae994832946fedbc37f388a7",
       "version_major": 2,
       "version_minor": 0
      },
      "text/plain": [
       "PGD - Batches:   0%|          | 0/4 [00:00<?, ?it/s]"
      ]
     },
     "metadata": {},
     "output_type": "display_data"
    },
    {
     "name": "stderr",
     "output_type": "stream",
     "text": [
      "Mixed Adversarial Training:  94%|█████████▎| 74/79 [02:22<00:09,  1.92s/it, loss=1.55]"
     ]
    },
    {
     "data": {
      "application/vnd.jupyter.widget-view+json": {
       "model_id": "76ca32a8c13d41f4ae244e7885a154e1",
       "version_major": 2,
       "version_minor": 0
      },
      "text/plain": [
       "PGD - Batches:   0%|          | 0/4 [00:00<?, ?it/s]"
      ]
     },
     "metadata": {},
     "output_type": "display_data"
    },
    {
     "name": "stderr",
     "output_type": "stream",
     "text": [
      "Mixed Adversarial Training:  95%|█████████▍| 75/79 [02:24<00:07,  1.92s/it, loss=1.71]"
     ]
    },
    {
     "data": {
      "application/vnd.jupyter.widget-view+json": {
       "model_id": "809530b746b64734b3eb9317c9d9074d",
       "version_major": 2,
       "version_minor": 0
      },
      "text/plain": [
       "PGD - Batches:   0%|          | 0/4 [00:00<?, ?it/s]"
      ]
     },
     "metadata": {},
     "output_type": "display_data"
    },
    {
     "name": "stderr",
     "output_type": "stream",
     "text": [
      "Mixed Adversarial Training:  96%|█████████▌| 76/79 [02:26<00:05,  1.92s/it, loss=1.59]"
     ]
    },
    {
     "data": {
      "application/vnd.jupyter.widget-view+json": {
       "model_id": "864e223098254ffea441a6fd48fe1489",
       "version_major": 2,
       "version_minor": 0
      },
      "text/plain": [
       "PGD - Batches:   0%|          | 0/4 [00:00<?, ?it/s]"
      ]
     },
     "metadata": {},
     "output_type": "display_data"
    },
    {
     "name": "stderr",
     "output_type": "stream",
     "text": [
      "Mixed Adversarial Training:  97%|█████████▋| 77/79 [02:27<00:03,  1.91s/it, loss=1.64]"
     ]
    },
    {
     "data": {
      "application/vnd.jupyter.widget-view+json": {
       "model_id": "e978542299ad4524ad6c4e83b8889a4d",
       "version_major": 2,
       "version_minor": 0
      },
      "text/plain": [
       "PGD - Batches:   0%|          | 0/4 [00:00<?, ?it/s]"
      ]
     },
     "metadata": {},
     "output_type": "display_data"
    },
    {
     "name": "stderr",
     "output_type": "stream",
     "text": [
      "Mixed Adversarial Training:  99%|█████████▊| 78/79 [02:29<00:01,  1.94s/it, loss=1.66]"
     ]
    },
    {
     "data": {
      "application/vnd.jupyter.widget-view+json": {
       "model_id": "45bd1ce8c52d4ba8bfa45767a9362934",
       "version_major": 2,
       "version_minor": 0
      },
      "text/plain": [
       "PGD - Batches:   0%|          | 0/1 [00:00<?, ?it/s]"
      ]
     },
     "metadata": {},
     "output_type": "display_data"
    },
    {
     "name": "stderr",
     "output_type": "stream",
     "text": [
      "Mixed Adversarial Training: 100%|██████████| 79/79 [02:30<00:00,  1.90s/it, loss=1.64]\n"
     ]
    },
    {
     "name": "stdout",
     "output_type": "stream",
     "text": [
      "✅ Epoch 2 complete — Avg loss: 1.7740\n",
      "\n",
      "🌪 Epoch 3/5\n"
     ]
    },
    {
     "name": "stderr",
     "output_type": "stream",
     "text": [
      "\r",
      "Mixed Adversarial Training:   0%|          | 0/79 [00:00<?, ?it/s]"
     ]
    },
    {
     "data": {
      "application/vnd.jupyter.widget-view+json": {
       "model_id": "577888f59aa0435287b475dd810ba019",
       "version_major": 2,
       "version_minor": 0
      },
      "text/plain": [
       "PGD - Batches:   0%|          | 0/4 [00:00<?, ?it/s]"
      ]
     },
     "metadata": {},
     "output_type": "display_data"
    },
    {
     "name": "stderr",
     "output_type": "stream",
     "text": [
      "Mixed Adversarial Training:   1%|▏         | 1/79 [00:01<02:33,  1.97s/it, loss=1.63]"
     ]
    },
    {
     "data": {
      "application/vnd.jupyter.widget-view+json": {
       "model_id": "51e1e5265d6a4b708bc0518a9cab5727",
       "version_major": 2,
       "version_minor": 0
      },
      "text/plain": [
       "PGD - Batches:   0%|          | 0/4 [00:00<?, ?it/s]"
      ]
     },
     "metadata": {},
     "output_type": "display_data"
    },
    {
     "name": "stderr",
     "output_type": "stream",
     "text": [
      "Mixed Adversarial Training:   3%|▎         | 2/79 [00:03<02:28,  1.93s/it, loss=1.59]"
     ]
    },
    {
     "data": {
      "application/vnd.jupyter.widget-view+json": {
       "model_id": "69cdd00016ae4bf4b7f5cfa574bffa09",
       "version_major": 2,
       "version_minor": 0
      },
      "text/plain": [
       "PGD - Batches:   0%|          | 0/4 [00:00<?, ?it/s]"
      ]
     },
     "metadata": {},
     "output_type": "display_data"
    },
    {
     "name": "stderr",
     "output_type": "stream",
     "text": [
      "Mixed Adversarial Training:   4%|▍         | 3/79 [00:05<02:26,  1.92s/it, loss=1.59]"
     ]
    },
    {
     "data": {
      "application/vnd.jupyter.widget-view+json": {
       "model_id": "4b3c5328453c474d9b41dfe88914e004",
       "version_major": 2,
       "version_minor": 0
      },
      "text/plain": [
       "PGD - Batches:   0%|          | 0/4 [00:00<?, ?it/s]"
      ]
     },
     "metadata": {},
     "output_type": "display_data"
    },
    {
     "name": "stderr",
     "output_type": "stream",
     "text": [
      "Mixed Adversarial Training:   5%|▌         | 4/79 [00:07<02:23,  1.92s/it, loss=1.62]"
     ]
    },
    {
     "data": {
      "application/vnd.jupyter.widget-view+json": {
       "model_id": "da54ad111674425c89adc09eb258455e",
       "version_major": 2,
       "version_minor": 0
      },
      "text/plain": [
       "PGD - Batches:   0%|          | 0/4 [00:00<?, ?it/s]"
      ]
     },
     "metadata": {},
     "output_type": "display_data"
    },
    {
     "name": "stderr",
     "output_type": "stream",
     "text": [
      "Mixed Adversarial Training:   6%|▋         | 5/79 [00:09<02:21,  1.91s/it, loss=1.55]"
     ]
    },
    {
     "data": {
      "application/vnd.jupyter.widget-view+json": {
       "model_id": "2221731f72a64a7b8b3159b19dff7928",
       "version_major": 2,
       "version_minor": 0
      },
      "text/plain": [
       "PGD - Batches:   0%|          | 0/4 [00:00<?, ?it/s]"
      ]
     },
     "metadata": {},
     "output_type": "display_data"
    },
    {
     "name": "stderr",
     "output_type": "stream",
     "text": [
      "Mixed Adversarial Training:   8%|▊         | 6/79 [00:11<02:20,  1.92s/it, loss=1.55]"
     ]
    },
    {
     "data": {
      "application/vnd.jupyter.widget-view+json": {
       "model_id": "b517a5e700f4401fb378e8d9050de0aa",
       "version_major": 2,
       "version_minor": 0
      },
      "text/plain": [
       "PGD - Batches:   0%|          | 0/4 [00:00<?, ?it/s]"
      ]
     },
     "metadata": {},
     "output_type": "display_data"
    },
    {
     "name": "stderr",
     "output_type": "stream",
     "text": [
      "Mixed Adversarial Training:   9%|▉         | 7/79 [00:13<02:19,  1.94s/it, loss=1.53]"
     ]
    },
    {
     "data": {
      "application/vnd.jupyter.widget-view+json": {
       "model_id": "faeeb5cfc3f447f68aef272333d411d0",
       "version_major": 2,
       "version_minor": 0
      },
      "text/plain": [
       "PGD - Batches:   0%|          | 0/4 [00:00<?, ?it/s]"
      ]
     },
     "metadata": {},
     "output_type": "display_data"
    },
    {
     "name": "stderr",
     "output_type": "stream",
     "text": [
      "Mixed Adversarial Training:  10%|█         | 8/79 [00:15<02:17,  1.93s/it, loss=1.55]"
     ]
    },
    {
     "data": {
      "application/vnd.jupyter.widget-view+json": {
       "model_id": "1a5c861f7e5741b4af8e9b3373480af4",
       "version_major": 2,
       "version_minor": 0
      },
      "text/plain": [
       "PGD - Batches:   0%|          | 0/4 [00:00<?, ?it/s]"
      ]
     },
     "metadata": {},
     "output_type": "display_data"
    },
    {
     "name": "stderr",
     "output_type": "stream",
     "text": [
      "Mixed Adversarial Training:  11%|█▏        | 9/79 [00:17<02:14,  1.93s/it, loss=1.42]"
     ]
    },
    {
     "data": {
      "application/vnd.jupyter.widget-view+json": {
       "model_id": "67a79a5db2dd4e09955d423fe25d95f8",
       "version_major": 2,
       "version_minor": 0
      },
      "text/plain": [
       "PGD - Batches:   0%|          | 0/4 [00:00<?, ?it/s]"
      ]
     },
     "metadata": {},
     "output_type": "display_data"
    },
    {
     "name": "stderr",
     "output_type": "stream",
     "text": [
      "Mixed Adversarial Training:  13%|█▎        | 10/79 [00:19<02:12,  1.92s/it, loss=1.58]"
     ]
    },
    {
     "data": {
      "application/vnd.jupyter.widget-view+json": {
       "model_id": "a619c485c74a46c599d2685cebe0380b",
       "version_major": 2,
       "version_minor": 0
      },
      "text/plain": [
       "PGD - Batches:   0%|          | 0/4 [00:00<?, ?it/s]"
      ]
     },
     "metadata": {},
     "output_type": "display_data"
    },
    {
     "name": "stderr",
     "output_type": "stream",
     "text": [
      "Mixed Adversarial Training:  14%|█▍        | 11/79 [00:21<02:10,  1.91s/it, loss=1.56]"
     ]
    },
    {
     "data": {
      "application/vnd.jupyter.widget-view+json": {
       "model_id": "40d0037a1cc146c7867b630f3b014293",
       "version_major": 2,
       "version_minor": 0
      },
      "text/plain": [
       "PGD - Batches:   0%|          | 0/4 [00:00<?, ?it/s]"
      ]
     },
     "metadata": {},
     "output_type": "display_data"
    },
    {
     "name": "stderr",
     "output_type": "stream",
     "text": [
      "Mixed Adversarial Training:  15%|█▌        | 12/79 [00:23<02:08,  1.91s/it, loss=1.45]"
     ]
    },
    {
     "data": {
      "application/vnd.jupyter.widget-view+json": {
       "model_id": "5bf4e92b07ff4697847da802312df472",
       "version_major": 2,
       "version_minor": 0
      },
      "text/plain": [
       "PGD - Batches:   0%|          | 0/4 [00:00<?, ?it/s]"
      ]
     },
     "metadata": {},
     "output_type": "display_data"
    },
    {
     "name": "stderr",
     "output_type": "stream",
     "text": [
      "Mixed Adversarial Training:  16%|█▋        | 13/79 [00:25<02:07,  1.93s/it, loss=1.61]"
     ]
    },
    {
     "data": {
      "application/vnd.jupyter.widget-view+json": {
       "model_id": "75dcb7530d074959b897b82268157237",
       "version_major": 2,
       "version_minor": 0
      },
      "text/plain": [
       "PGD - Batches:   0%|          | 0/4 [00:00<?, ?it/s]"
      ]
     },
     "metadata": {},
     "output_type": "display_data"
    },
    {
     "name": "stderr",
     "output_type": "stream",
     "text": [
      "Mixed Adversarial Training:  18%|█▊        | 14/79 [00:27<02:06,  1.95s/it, loss=1.68]"
     ]
    },
    {
     "data": {
      "application/vnd.jupyter.widget-view+json": {
       "model_id": "12b28e46900d4986a9ec714515e187cb",
       "version_major": 2,
       "version_minor": 0
      },
      "text/plain": [
       "PGD - Batches:   0%|          | 0/4 [00:00<?, ?it/s]"
      ]
     },
     "metadata": {},
     "output_type": "display_data"
    },
    {
     "name": "stderr",
     "output_type": "stream",
     "text": [
      "Mixed Adversarial Training:  19%|█▉        | 15/79 [00:28<02:03,  1.94s/it, loss=1.59]"
     ]
    },
    {
     "data": {
      "application/vnd.jupyter.widget-view+json": {
       "model_id": "21f5ac6afae641d9b21ad3415029dab9",
       "version_major": 2,
       "version_minor": 0
      },
      "text/plain": [
       "PGD - Batches:   0%|          | 0/4 [00:00<?, ?it/s]"
      ]
     },
     "metadata": {},
     "output_type": "display_data"
    },
    {
     "name": "stderr",
     "output_type": "stream",
     "text": [
      "Mixed Adversarial Training:  20%|██        | 16/79 [00:30<02:01,  1.93s/it, loss=1.45]"
     ]
    },
    {
     "data": {
      "application/vnd.jupyter.widget-view+json": {
       "model_id": "13879685bea346848d675cb0e6c06795",
       "version_major": 2,
       "version_minor": 0
      },
      "text/plain": [
       "PGD - Batches:   0%|          | 0/4 [00:00<?, ?it/s]"
      ]
     },
     "metadata": {},
     "output_type": "display_data"
    },
    {
     "name": "stderr",
     "output_type": "stream",
     "text": [
      "Mixed Adversarial Training:  22%|██▏       | 17/79 [00:32<01:59,  1.92s/it, loss=1.41]"
     ]
    },
    {
     "data": {
      "application/vnd.jupyter.widget-view+json": {
       "model_id": "abf3e74f1c614b47bc909e3891749d11",
       "version_major": 2,
       "version_minor": 0
      },
      "text/plain": [
       "PGD - Batches:   0%|          | 0/4 [00:00<?, ?it/s]"
      ]
     },
     "metadata": {},
     "output_type": "display_data"
    },
    {
     "name": "stderr",
     "output_type": "stream",
     "text": [
      "Mixed Adversarial Training:  23%|██▎       | 18/79 [00:34<01:56,  1.92s/it, loss=1.49]"
     ]
    },
    {
     "data": {
      "application/vnd.jupyter.widget-view+json": {
       "model_id": "ab3637580fba4f62a160fb77d03b5b0d",
       "version_major": 2,
       "version_minor": 0
      },
      "text/plain": [
       "PGD - Batches:   0%|          | 0/4 [00:00<?, ?it/s]"
      ]
     },
     "metadata": {},
     "output_type": "display_data"
    },
    {
     "name": "stderr",
     "output_type": "stream",
     "text": [
      "Mixed Adversarial Training:  24%|██▍       | 19/79 [00:36<01:54,  1.92s/it, loss=1.46]"
     ]
    },
    {
     "data": {
      "application/vnd.jupyter.widget-view+json": {
       "model_id": "46638b4bd0984f5eacb40b879e94350b",
       "version_major": 2,
       "version_minor": 0
      },
      "text/plain": [
       "PGD - Batches:   0%|          | 0/4 [00:00<?, ?it/s]"
      ]
     },
     "metadata": {},
     "output_type": "display_data"
    },
    {
     "name": "stderr",
     "output_type": "stream",
     "text": [
      "Mixed Adversarial Training:  25%|██▌       | 20/79 [00:38<01:54,  1.93s/it, loss=1.51]"
     ]
    },
    {
     "data": {
      "application/vnd.jupyter.widget-view+json": {
       "model_id": "2cb7ac963f7f4913bf34c27eaf5a5c04",
       "version_major": 2,
       "version_minor": 0
      },
      "text/plain": [
       "PGD - Batches:   0%|          | 0/4 [00:00<?, ?it/s]"
      ]
     },
     "metadata": {},
     "output_type": "display_data"
    },
    {
     "name": "stderr",
     "output_type": "stream",
     "text": [
      "Mixed Adversarial Training:  27%|██▋       | 21/79 [00:40<01:52,  1.94s/it, loss=1.58]"
     ]
    },
    {
     "data": {
      "application/vnd.jupyter.widget-view+json": {
       "model_id": "b4b9ac87067146998867e884850e8859",
       "version_major": 2,
       "version_minor": 0
      },
      "text/plain": [
       "PGD - Batches:   0%|          | 0/4 [00:00<?, ?it/s]"
      ]
     },
     "metadata": {},
     "output_type": "display_data"
    },
    {
     "name": "stderr",
     "output_type": "stream",
     "text": [
      "Mixed Adversarial Training:  28%|██▊       | 22/79 [00:42<01:50,  1.93s/it, loss=1.75]"
     ]
    },
    {
     "data": {
      "application/vnd.jupyter.widget-view+json": {
       "model_id": "fee5218b75f24765b5dfa2b8b61f312c",
       "version_major": 2,
       "version_minor": 0
      },
      "text/plain": [
       "PGD - Batches:   0%|          | 0/4 [00:00<?, ?it/s]"
      ]
     },
     "metadata": {},
     "output_type": "display_data"
    },
    {
     "name": "stderr",
     "output_type": "stream",
     "text": [
      "Mixed Adversarial Training:  29%|██▉       | 23/79 [00:44<01:47,  1.92s/it, loss=1.41]"
     ]
    },
    {
     "data": {
      "application/vnd.jupyter.widget-view+json": {
       "model_id": "058f81ad11c44225bb11e67832ba24f4",
       "version_major": 2,
       "version_minor": 0
      },
      "text/plain": [
       "PGD - Batches:   0%|          | 0/4 [00:00<?, ?it/s]"
      ]
     },
     "metadata": {},
     "output_type": "display_data"
    },
    {
     "name": "stderr",
     "output_type": "stream",
     "text": [
      "Mixed Adversarial Training:  30%|███       | 24/79 [00:46<01:45,  1.92s/it, loss=1.45]"
     ]
    },
    {
     "data": {
      "application/vnd.jupyter.widget-view+json": {
       "model_id": "cbc45625a0a443009e9a65873d605621",
       "version_major": 2,
       "version_minor": 0
      },
      "text/plain": [
       "PGD - Batches:   0%|          | 0/4 [00:00<?, ?it/s]"
      ]
     },
     "metadata": {},
     "output_type": "display_data"
    },
    {
     "name": "stderr",
     "output_type": "stream",
     "text": [
      "Mixed Adversarial Training:  32%|███▏      | 25/79 [00:48<01:43,  1.92s/it, loss=1.46]"
     ]
    },
    {
     "data": {
      "application/vnd.jupyter.widget-view+json": {
       "model_id": "82e02f33f63f4484ab3910f2845e4c22",
       "version_major": 2,
       "version_minor": 0
      },
      "text/plain": [
       "PGD - Batches:   0%|          | 0/4 [00:00<?, ?it/s]"
      ]
     },
     "metadata": {},
     "output_type": "display_data"
    },
    {
     "name": "stderr",
     "output_type": "stream",
     "text": [
      "Mixed Adversarial Training:  33%|███▎      | 26/79 [00:50<01:41,  1.92s/it, loss=1.51]"
     ]
    },
    {
     "data": {
      "application/vnd.jupyter.widget-view+json": {
       "model_id": "f0603367a6474210a51f9617ef645ced",
       "version_major": 2,
       "version_minor": 0
      },
      "text/plain": [
       "PGD - Batches:   0%|          | 0/4 [00:00<?, ?it/s]"
      ]
     },
     "metadata": {},
     "output_type": "display_data"
    },
    {
     "name": "stderr",
     "output_type": "stream",
     "text": [
      "Mixed Adversarial Training:  34%|███▍      | 27/79 [00:52<01:40,  1.94s/it, loss=1.34]"
     ]
    },
    {
     "data": {
      "application/vnd.jupyter.widget-view+json": {
       "model_id": "f6220f6933454a9088efa15ee8d8405f",
       "version_major": 2,
       "version_minor": 0
      },
      "text/plain": [
       "PGD - Batches:   0%|          | 0/4 [00:00<?, ?it/s]"
      ]
     },
     "metadata": {},
     "output_type": "display_data"
    },
    {
     "name": "stderr",
     "output_type": "stream",
     "text": [
      "Mixed Adversarial Training:  35%|███▌      | 28/79 [00:53<01:38,  1.93s/it, loss=1.6]"
     ]
    },
    {
     "data": {
      "application/vnd.jupyter.widget-view+json": {
       "model_id": "8c0bbbcfb35f45d186f7405c8d40030b",
       "version_major": 2,
       "version_minor": 0
      },
      "text/plain": [
       "PGD - Batches:   0%|          | 0/4 [00:00<?, ?it/s]"
      ]
     },
     "metadata": {},
     "output_type": "display_data"
    },
    {
     "name": "stderr",
     "output_type": "stream",
     "text": [
      "Mixed Adversarial Training:  37%|███▋      | 29/79 [00:55<01:36,  1.92s/it, loss=1.4]"
     ]
    },
    {
     "data": {
      "application/vnd.jupyter.widget-view+json": {
       "model_id": "9fbdfde268c5443381f782de67d35116",
       "version_major": 2,
       "version_minor": 0
      },
      "text/plain": [
       "PGD - Batches:   0%|          | 0/4 [00:00<?, ?it/s]"
      ]
     },
     "metadata": {},
     "output_type": "display_data"
    },
    {
     "name": "stderr",
     "output_type": "stream",
     "text": [
      "Mixed Adversarial Training:  38%|███▊      | 30/79 [00:58<01:38,  2.00s/it, loss=1.36]"
     ]
    },
    {
     "data": {
      "application/vnd.jupyter.widget-view+json": {
       "model_id": "1da88784fcad45c8a55db59cc5bb19fb",
       "version_major": 2,
       "version_minor": 0
      },
      "text/plain": [
       "PGD - Batches:   0%|          | 0/4 [00:00<?, ?it/s]"
      ]
     },
     "metadata": {},
     "output_type": "display_data"
    },
    {
     "name": "stderr",
     "output_type": "stream",
     "text": [
      "Mixed Adversarial Training:  39%|███▉      | 31/79 [00:59<01:34,  1.97s/it, loss=1.27]"
     ]
    },
    {
     "data": {
      "application/vnd.jupyter.widget-view+json": {
       "model_id": "06b6b023abff43fa8c950b54094322d7",
       "version_major": 2,
       "version_minor": 0
      },
      "text/plain": [
       "PGD - Batches:   0%|          | 0/4 [00:00<?, ?it/s]"
      ]
     },
     "metadata": {},
     "output_type": "display_data"
    },
    {
     "name": "stderr",
     "output_type": "stream",
     "text": [
      "Mixed Adversarial Training:  41%|████      | 32/79 [01:01<01:31,  1.95s/it, loss=1.63]"
     ]
    },
    {
     "data": {
      "application/vnd.jupyter.widget-view+json": {
       "model_id": "3861ec3c347c49deadeeb63c5e1d228b",
       "version_major": 2,
       "version_minor": 0
      },
      "text/plain": [
       "PGD - Batches:   0%|          | 0/4 [00:00<?, ?it/s]"
      ]
     },
     "metadata": {},
     "output_type": "display_data"
    },
    {
     "name": "stderr",
     "output_type": "stream",
     "text": [
      "Mixed Adversarial Training:  42%|████▏     | 33/79 [01:03<01:30,  1.96s/it, loss=1.51]"
     ]
    },
    {
     "data": {
      "application/vnd.jupyter.widget-view+json": {
       "model_id": "09d1392e483f41018210ccc2e68eee6c",
       "version_major": 2,
       "version_minor": 0
      },
      "text/plain": [
       "PGD - Batches:   0%|          | 0/4 [00:00<?, ?it/s]"
      ]
     },
     "metadata": {},
     "output_type": "display_data"
    },
    {
     "name": "stderr",
     "output_type": "stream",
     "text": [
      "Mixed Adversarial Training:  43%|████▎     | 34/79 [01:05<01:28,  1.97s/it, loss=1.54]"
     ]
    },
    {
     "data": {
      "application/vnd.jupyter.widget-view+json": {
       "model_id": "aecb438331fe4bd9b16e6aa5ba2573f1",
       "version_major": 2,
       "version_minor": 0
      },
      "text/plain": [
       "PGD - Batches:   0%|          | 0/4 [00:00<?, ?it/s]"
      ]
     },
     "metadata": {},
     "output_type": "display_data"
    },
    {
     "name": "stderr",
     "output_type": "stream",
     "text": [
      "Mixed Adversarial Training:  44%|████▍     | 35/79 [01:07<01:25,  1.95s/it, loss=1.57]"
     ]
    },
    {
     "data": {
      "application/vnd.jupyter.widget-view+json": {
       "model_id": "3f3c4f58b53741e6beecb49cc139b99d",
       "version_major": 2,
       "version_minor": 0
      },
      "text/plain": [
       "PGD - Batches:   0%|          | 0/4 [00:00<?, ?it/s]"
      ]
     },
     "metadata": {},
     "output_type": "display_data"
    },
    {
     "name": "stderr",
     "output_type": "stream",
     "text": [
      "Mixed Adversarial Training:  46%|████▌     | 36/79 [01:09<01:23,  1.94s/it, loss=1.48]"
     ]
    },
    {
     "data": {
      "application/vnd.jupyter.widget-view+json": {
       "model_id": "5895c4f020e14134a6c41ebda4752421",
       "version_major": 2,
       "version_minor": 0
      },
      "text/plain": [
       "PGD - Batches:   0%|          | 0/4 [00:00<?, ?it/s]"
      ]
     },
     "metadata": {},
     "output_type": "display_data"
    },
    {
     "name": "stderr",
     "output_type": "stream",
     "text": [
      "Mixed Adversarial Training:  47%|████▋     | 37/79 [01:11<01:20,  1.93s/it, loss=1.52]"
     ]
    },
    {
     "data": {
      "application/vnd.jupyter.widget-view+json": {
       "model_id": "881b1a04611c4d49a2b87874b3b8e4bb",
       "version_major": 2,
       "version_minor": 0
      },
      "text/plain": [
       "PGD - Batches:   0%|          | 0/4 [00:00<?, ?it/s]"
      ]
     },
     "metadata": {},
     "output_type": "display_data"
    },
    {
     "name": "stderr",
     "output_type": "stream",
     "text": [
      "Mixed Adversarial Training:  48%|████▊     | 38/79 [01:13<01:18,  1.92s/it, loss=1.54]"
     ]
    },
    {
     "data": {
      "application/vnd.jupyter.widget-view+json": {
       "model_id": "2a4852a91a274ab2837692f3eb745f5d",
       "version_major": 2,
       "version_minor": 0
      },
      "text/plain": [
       "PGD - Batches:   0%|          | 0/4 [00:00<?, ?it/s]"
      ]
     },
     "metadata": {},
     "output_type": "display_data"
    },
    {
     "name": "stderr",
     "output_type": "stream",
     "text": [
      "Mixed Adversarial Training:  49%|████▉     | 39/79 [01:15<01:16,  1.92s/it, loss=1.4]"
     ]
    },
    {
     "data": {
      "application/vnd.jupyter.widget-view+json": {
       "model_id": "daa153c051b143aebfa6af75759aff59",
       "version_major": 2,
       "version_minor": 0
      },
      "text/plain": [
       "PGD - Batches:   0%|          | 0/4 [00:00<?, ?it/s]"
      ]
     },
     "metadata": {},
     "output_type": "display_data"
    },
    {
     "name": "stderr",
     "output_type": "stream",
     "text": [
      "Mixed Adversarial Training:  51%|█████     | 40/79 [01:17<01:15,  1.94s/it, loss=1.48]"
     ]
    },
    {
     "data": {
      "application/vnd.jupyter.widget-view+json": {
       "model_id": "746988da2ecd495398ae8b5e046a73fb",
       "version_major": 2,
       "version_minor": 0
      },
      "text/plain": [
       "PGD - Batches:   0%|          | 0/4 [00:00<?, ?it/s]"
      ]
     },
     "metadata": {},
     "output_type": "display_data"
    },
    {
     "name": "stderr",
     "output_type": "stream",
     "text": [
      "Mixed Adversarial Training:  52%|█████▏    | 41/79 [01:19<01:13,  1.94s/it, loss=1.37]"
     ]
    },
    {
     "data": {
      "application/vnd.jupyter.widget-view+json": {
       "model_id": "1ffd9a97656841b5a68ea8bb01ff25d8",
       "version_major": 2,
       "version_minor": 0
      },
      "text/plain": [
       "PGD - Batches:   0%|          | 0/4 [00:00<?, ?it/s]"
      ]
     },
     "metadata": {},
     "output_type": "display_data"
    },
    {
     "name": "stderr",
     "output_type": "stream",
     "text": [
      "Mixed Adversarial Training:  53%|█████▎    | 42/79 [01:21<01:11,  1.92s/it, loss=1.49]"
     ]
    },
    {
     "data": {
      "application/vnd.jupyter.widget-view+json": {
       "model_id": "007f57adc14244bbad27c6a57d5de5c5",
       "version_major": 2,
       "version_minor": 0
      },
      "text/plain": [
       "PGD - Batches:   0%|          | 0/4 [00:00<?, ?it/s]"
      ]
     },
     "metadata": {},
     "output_type": "display_data"
    },
    {
     "name": "stderr",
     "output_type": "stream",
     "text": [
      "Mixed Adversarial Training:  54%|█████▍    | 43/79 [01:23<01:09,  1.92s/it, loss=1.55]"
     ]
    },
    {
     "data": {
      "application/vnd.jupyter.widget-view+json": {
       "model_id": "b865669b70ad4894ae14c21398fbf6dc",
       "version_major": 2,
       "version_minor": 0
      },
      "text/plain": [
       "PGD - Batches:   0%|          | 0/4 [00:00<?, ?it/s]"
      ]
     },
     "metadata": {},
     "output_type": "display_data"
    },
    {
     "name": "stderr",
     "output_type": "stream",
     "text": [
      "Mixed Adversarial Training:  56%|█████▌    | 44/79 [01:24<01:06,  1.91s/it, loss=1.4]"
     ]
    },
    {
     "data": {
      "application/vnd.jupyter.widget-view+json": {
       "model_id": "7ee5b48c6a17459680ed75704eb3ad0e",
       "version_major": 2,
       "version_minor": 0
      },
      "text/plain": [
       "PGD - Batches:   0%|          | 0/4 [00:00<?, ?it/s]"
      ]
     },
     "metadata": {},
     "output_type": "display_data"
    },
    {
     "name": "stderr",
     "output_type": "stream",
     "text": [
      "Mixed Adversarial Training:  57%|█████▋    | 45/79 [01:26<01:05,  1.91s/it, loss=1.38]"
     ]
    },
    {
     "data": {
      "application/vnd.jupyter.widget-view+json": {
       "model_id": "524727d575d94cb7a0d5c38917c6aff3",
       "version_major": 2,
       "version_minor": 0
      },
      "text/plain": [
       "PGD - Batches:   0%|          | 0/4 [00:00<?, ?it/s]"
      ]
     },
     "metadata": {},
     "output_type": "display_data"
    },
    {
     "name": "stderr",
     "output_type": "stream",
     "text": [
      "Mixed Adversarial Training:  58%|█████▊    | 46/79 [01:28<01:03,  1.92s/it, loss=1.35]"
     ]
    },
    {
     "data": {
      "application/vnd.jupyter.widget-view+json": {
       "model_id": "98e44ca8f24041d78c099cec51d3b6e8",
       "version_major": 2,
       "version_minor": 0
      },
      "text/plain": [
       "PGD - Batches:   0%|          | 0/4 [00:00<?, ?it/s]"
      ]
     },
     "metadata": {},
     "output_type": "display_data"
    },
    {
     "name": "stderr",
     "output_type": "stream",
     "text": [
      "Mixed Adversarial Training:  59%|█████▉    | 47/79 [01:30<01:01,  1.94s/it, loss=1.28]"
     ]
    },
    {
     "data": {
      "application/vnd.jupyter.widget-view+json": {
       "model_id": "a5cf401eac9649c483f64c30de071b4e",
       "version_major": 2,
       "version_minor": 0
      },
      "text/plain": [
       "PGD - Batches:   0%|          | 0/4 [00:00<?, ?it/s]"
      ]
     },
     "metadata": {},
     "output_type": "display_data"
    },
    {
     "name": "stderr",
     "output_type": "stream",
     "text": [
      "Mixed Adversarial Training:  61%|██████    | 48/79 [01:32<00:59,  1.93s/it, loss=1.57]"
     ]
    },
    {
     "data": {
      "application/vnd.jupyter.widget-view+json": {
       "model_id": "35755169c570462e852fc29f5ec92dad",
       "version_major": 2,
       "version_minor": 0
      },
      "text/plain": [
       "PGD - Batches:   0%|          | 0/4 [00:00<?, ?it/s]"
      ]
     },
     "metadata": {},
     "output_type": "display_data"
    },
    {
     "name": "stderr",
     "output_type": "stream",
     "text": [
      "Mixed Adversarial Training:  62%|██████▏   | 49/79 [01:34<00:57,  1.92s/it, loss=1.42]"
     ]
    },
    {
     "data": {
      "application/vnd.jupyter.widget-view+json": {
       "model_id": "494aeda8d94c4f23909ae61b1a48b7e2",
       "version_major": 2,
       "version_minor": 0
      },
      "text/plain": [
       "PGD - Batches:   0%|          | 0/4 [00:00<?, ?it/s]"
      ]
     },
     "metadata": {},
     "output_type": "display_data"
    },
    {
     "name": "stderr",
     "output_type": "stream",
     "text": [
      "Mixed Adversarial Training:  63%|██████▎   | 50/79 [01:36<00:55,  1.92s/it, loss=1.39]"
     ]
    },
    {
     "data": {
      "application/vnd.jupyter.widget-view+json": {
       "model_id": "8b4118fad86145e68f6c62df4b816201",
       "version_major": 2,
       "version_minor": 0
      },
      "text/plain": [
       "PGD - Batches:   0%|          | 0/4 [00:00<?, ?it/s]"
      ]
     },
     "metadata": {},
     "output_type": "display_data"
    },
    {
     "name": "stderr",
     "output_type": "stream",
     "text": [
      "Mixed Adversarial Training:  65%|██████▍   | 51/79 [01:38<00:53,  1.92s/it, loss=1.38]"
     ]
    },
    {
     "data": {
      "application/vnd.jupyter.widget-view+json": {
       "model_id": "66ecb838a98c47d89c9fd8d3bc89a95f",
       "version_major": 2,
       "version_minor": 0
      },
      "text/plain": [
       "PGD - Batches:   0%|          | 0/4 [00:00<?, ?it/s]"
      ]
     },
     "metadata": {},
     "output_type": "display_data"
    },
    {
     "name": "stderr",
     "output_type": "stream",
     "text": [
      "Mixed Adversarial Training:  66%|██████▌   | 52/79 [01:40<00:51,  1.92s/it, loss=1.33]"
     ]
    },
    {
     "data": {
      "application/vnd.jupyter.widget-view+json": {
       "model_id": "f7a65255088243109978817b0dabff9e",
       "version_major": 2,
       "version_minor": 0
      },
      "text/plain": [
       "PGD - Batches:   0%|          | 0/4 [00:00<?, ?it/s]"
      ]
     },
     "metadata": {},
     "output_type": "display_data"
    },
    {
     "name": "stderr",
     "output_type": "stream",
     "text": [
      "Mixed Adversarial Training:  67%|██████▋   | 53/79 [01:42<00:50,  1.94s/it, loss=1.55]"
     ]
    },
    {
     "data": {
      "application/vnd.jupyter.widget-view+json": {
       "model_id": "92cf52869a344520903d90a976457a7a",
       "version_major": 2,
       "version_minor": 0
      },
      "text/plain": [
       "PGD - Batches:   0%|          | 0/4 [00:00<?, ?it/s]"
      ]
     },
     "metadata": {},
     "output_type": "display_data"
    },
    {
     "name": "stderr",
     "output_type": "stream",
     "text": [
      "Mixed Adversarial Training:  68%|██████▊   | 54/79 [01:44<00:48,  1.94s/it, loss=1.45]"
     ]
    },
    {
     "data": {
      "application/vnd.jupyter.widget-view+json": {
       "model_id": "a0537e885ecd4bb48c28ce0c35a92919",
       "version_major": 2,
       "version_minor": 0
      },
      "text/plain": [
       "PGD - Batches:   0%|          | 0/4 [00:00<?, ?it/s]"
      ]
     },
     "metadata": {},
     "output_type": "display_data"
    },
    {
     "name": "stderr",
     "output_type": "stream",
     "text": [
      "Mixed Adversarial Training:  70%|██████▉   | 55/79 [01:46<00:46,  1.93s/it, loss=1.51]"
     ]
    },
    {
     "data": {
      "application/vnd.jupyter.widget-view+json": {
       "model_id": "5dc5502c030b4e10ad7551389cdde08b",
       "version_major": 2,
       "version_minor": 0
      },
      "text/plain": [
       "PGD - Batches:   0%|          | 0/4 [00:00<?, ?it/s]"
      ]
     },
     "metadata": {},
     "output_type": "display_data"
    },
    {
     "name": "stderr",
     "output_type": "stream",
     "text": [
      "Mixed Adversarial Training:  71%|███████   | 56/79 [01:48<00:44,  1.92s/it, loss=1.35]"
     ]
    },
    {
     "data": {
      "application/vnd.jupyter.widget-view+json": {
       "model_id": "0e9cc7ef9cb2405cb551c511a83445e9",
       "version_major": 2,
       "version_minor": 0
      },
      "text/plain": [
       "PGD - Batches:   0%|          | 0/4 [00:00<?, ?it/s]"
      ]
     },
     "metadata": {},
     "output_type": "display_data"
    },
    {
     "name": "stderr",
     "output_type": "stream",
     "text": [
      "Mixed Adversarial Training:  72%|███████▏  | 57/79 [01:50<00:42,  1.92s/it, loss=1.28]"
     ]
    },
    {
     "data": {
      "application/vnd.jupyter.widget-view+json": {
       "model_id": "0c39f44c08b4470aaf93c9ddd080c15d",
       "version_major": 2,
       "version_minor": 0
      },
      "text/plain": [
       "PGD - Batches:   0%|          | 0/4 [00:00<?, ?it/s]"
      ]
     },
     "metadata": {},
     "output_type": "display_data"
    },
    {
     "name": "stderr",
     "output_type": "stream",
     "text": [
      "Mixed Adversarial Training:  73%|███████▎  | 58/79 [01:51<00:40,  1.92s/it, loss=1.42]"
     ]
    },
    {
     "data": {
      "application/vnd.jupyter.widget-view+json": {
       "model_id": "2932ae9b58a5469e831d848ebdcc48d7",
       "version_major": 2,
       "version_minor": 0
      },
      "text/plain": [
       "PGD - Batches:   0%|          | 0/4 [00:00<?, ?it/s]"
      ]
     },
     "metadata": {},
     "output_type": "display_data"
    },
    {
     "name": "stderr",
     "output_type": "stream",
     "text": [
      "Mixed Adversarial Training:  75%|███████▍  | 59/79 [01:53<00:38,  1.93s/it, loss=1.48]"
     ]
    },
    {
     "data": {
      "application/vnd.jupyter.widget-view+json": {
       "model_id": "64c8c7df71cf4bce9735d452e6921320",
       "version_major": 2,
       "version_minor": 0
      },
      "text/plain": [
       "PGD - Batches:   0%|          | 0/4 [00:00<?, ?it/s]"
      ]
     },
     "metadata": {},
     "output_type": "display_data"
    },
    {
     "name": "stderr",
     "output_type": "stream",
     "text": [
      "Mixed Adversarial Training:  76%|███████▌  | 60/79 [01:55<00:36,  1.94s/it, loss=1.4]"
     ]
    },
    {
     "data": {
      "application/vnd.jupyter.widget-view+json": {
       "model_id": "764aaca6035f42918c1ce977239577c3",
       "version_major": 2,
       "version_minor": 0
      },
      "text/plain": [
       "PGD - Batches:   0%|          | 0/4 [00:00<?, ?it/s]"
      ]
     },
     "metadata": {},
     "output_type": "display_data"
    },
    {
     "name": "stderr",
     "output_type": "stream",
     "text": [
      "Mixed Adversarial Training:  77%|███████▋  | 61/79 [01:57<00:34,  1.93s/it, loss=1.52]"
     ]
    },
    {
     "data": {
      "application/vnd.jupyter.widget-view+json": {
       "model_id": "c1c6bdb3c1b14f5c9590b02afbc63846",
       "version_major": 2,
       "version_minor": 0
      },
      "text/plain": [
       "PGD - Batches:   0%|          | 0/4 [00:00<?, ?it/s]"
      ]
     },
     "metadata": {},
     "output_type": "display_data"
    },
    {
     "name": "stderr",
     "output_type": "stream",
     "text": [
      "Mixed Adversarial Training:  78%|███████▊  | 62/79 [01:59<00:32,  1.93s/it, loss=1.35]"
     ]
    },
    {
     "data": {
      "application/vnd.jupyter.widget-view+json": {
       "model_id": "3a53c43e790c4eddb42e197f21b154da",
       "version_major": 2,
       "version_minor": 0
      },
      "text/plain": [
       "PGD - Batches:   0%|          | 0/4 [00:00<?, ?it/s]"
      ]
     },
     "metadata": {},
     "output_type": "display_data"
    },
    {
     "name": "stderr",
     "output_type": "stream",
     "text": [
      "Mixed Adversarial Training:  80%|███████▉  | 63/79 [02:01<00:30,  1.92s/it, loss=1.48]"
     ]
    },
    {
     "data": {
      "application/vnd.jupyter.widget-view+json": {
       "model_id": "7e1c2aeaf3ee43e0b1fb0d880100c518",
       "version_major": 2,
       "version_minor": 0
      },
      "text/plain": [
       "PGD - Batches:   0%|          | 0/4 [00:00<?, ?it/s]"
      ]
     },
     "metadata": {},
     "output_type": "display_data"
    },
    {
     "name": "stderr",
     "output_type": "stream",
     "text": [
      "Mixed Adversarial Training:  81%|████████  | 64/79 [02:03<00:28,  1.92s/it, loss=1.46]"
     ]
    },
    {
     "data": {
      "application/vnd.jupyter.widget-view+json": {
       "model_id": "a52347351fd748889dcca8f226f2eb86",
       "version_major": 2,
       "version_minor": 0
      },
      "text/plain": [
       "PGD - Batches:   0%|          | 0/4 [00:00<?, ?it/s]"
      ]
     },
     "metadata": {},
     "output_type": "display_data"
    },
    {
     "name": "stderr",
     "output_type": "stream",
     "text": [
      "Mixed Adversarial Training:  82%|████████▏ | 65/79 [02:05<00:26,  1.92s/it, loss=1.38]"
     ]
    },
    {
     "data": {
      "application/vnd.jupyter.widget-view+json": {
       "model_id": "8635b8a9853841169d2324d283b3181a",
       "version_major": 2,
       "version_minor": 0
      },
      "text/plain": [
       "PGD - Batches:   0%|          | 0/4 [00:00<?, ?it/s]"
      ]
     },
     "metadata": {},
     "output_type": "display_data"
    },
    {
     "name": "stderr",
     "output_type": "stream",
     "text": [
      "Mixed Adversarial Training:  84%|████████▎ | 66/79 [02:07<00:25,  1.94s/it, loss=1.47]"
     ]
    },
    {
     "data": {
      "application/vnd.jupyter.widget-view+json": {
       "model_id": "a01bdfa2a58c47bda7c2160b8cef53e1",
       "version_major": 2,
       "version_minor": 0
      },
      "text/plain": [
       "PGD - Batches:   0%|          | 0/4 [00:00<?, ?it/s]"
      ]
     },
     "metadata": {},
     "output_type": "display_data"
    },
    {
     "name": "stderr",
     "output_type": "stream",
     "text": [
      "Mixed Adversarial Training:  85%|████████▍ | 67/79 [02:09<00:23,  1.94s/it, loss=1.36]"
     ]
    },
    {
     "data": {
      "application/vnd.jupyter.widget-view+json": {
       "model_id": "26483cd93a594b2cb911472e5c655e37",
       "version_major": 2,
       "version_minor": 0
      },
      "text/plain": [
       "PGD - Batches:   0%|          | 0/4 [00:00<?, ?it/s]"
      ]
     },
     "metadata": {},
     "output_type": "display_data"
    },
    {
     "name": "stderr",
     "output_type": "stream",
     "text": [
      "Mixed Adversarial Training:  86%|████████▌ | 68/79 [02:11<00:21,  1.93s/it, loss=1.39]"
     ]
    },
    {
     "data": {
      "application/vnd.jupyter.widget-view+json": {
       "model_id": "4ecf8430a8924d82aff4bb58e1c6160b",
       "version_major": 2,
       "version_minor": 0
      },
      "text/plain": [
       "PGD - Batches:   0%|          | 0/4 [00:00<?, ?it/s]"
      ]
     },
     "metadata": {},
     "output_type": "display_data"
    },
    {
     "name": "stderr",
     "output_type": "stream",
     "text": [
      "Mixed Adversarial Training:  87%|████████▋ | 69/79 [02:13<00:19,  1.92s/it, loss=1.59]"
     ]
    },
    {
     "data": {
      "application/vnd.jupyter.widget-view+json": {
       "model_id": "a3b80e41e3264d56a7b41270419d5082",
       "version_major": 2,
       "version_minor": 0
      },
      "text/plain": [
       "PGD - Batches:   0%|          | 0/4 [00:00<?, ?it/s]"
      ]
     },
     "metadata": {},
     "output_type": "display_data"
    },
    {
     "name": "stderr",
     "output_type": "stream",
     "text": [
      "Mixed Adversarial Training:  89%|████████▊ | 70/79 [02:15<00:17,  1.92s/it, loss=1.43]"
     ]
    },
    {
     "data": {
      "application/vnd.jupyter.widget-view+json": {
       "model_id": "b6ece792fed64786a97346c004be6815",
       "version_major": 2,
       "version_minor": 0
      },
      "text/plain": [
       "PGD - Batches:   0%|          | 0/4 [00:00<?, ?it/s]"
      ]
     },
     "metadata": {},
     "output_type": "display_data"
    },
    {
     "name": "stderr",
     "output_type": "stream",
     "text": [
      "Mixed Adversarial Training:  90%|████████▉ | 71/79 [02:17<00:15,  1.92s/it, loss=1.48]"
     ]
    },
    {
     "data": {
      "application/vnd.jupyter.widget-view+json": {
       "model_id": "c96d271206a64c5ba4218e62c7928398",
       "version_major": 2,
       "version_minor": 0
      },
      "text/plain": [
       "PGD - Batches:   0%|          | 0/4 [00:00<?, ?it/s]"
      ]
     },
     "metadata": {},
     "output_type": "display_data"
    },
    {
     "name": "stderr",
     "output_type": "stream",
     "text": [
      "Mixed Adversarial Training:  91%|█████████ | 72/79 [02:18<00:13,  1.93s/it, loss=1.45]"
     ]
    },
    {
     "data": {
      "application/vnd.jupyter.widget-view+json": {
       "model_id": "5c3b8af15ff647d69fb26f945709f941",
       "version_major": 2,
       "version_minor": 0
      },
      "text/plain": [
       "PGD - Batches:   0%|          | 0/4 [00:00<?, ?it/s]"
      ]
     },
     "metadata": {},
     "output_type": "display_data"
    },
    {
     "name": "stderr",
     "output_type": "stream",
     "text": [
      "Mixed Adversarial Training:  92%|█████████▏| 73/79 [02:20<00:11,  1.95s/it, loss=1.21]"
     ]
    },
    {
     "data": {
      "application/vnd.jupyter.widget-view+json": {
       "model_id": "30e1daa1e5304a82b4c9c3d9193a0c11",
       "version_major": 2,
       "version_minor": 0
      },
      "text/plain": [
       "PGD - Batches:   0%|          | 0/4 [00:00<?, ?it/s]"
      ]
     },
     "metadata": {},
     "output_type": "display_data"
    },
    {
     "name": "stderr",
     "output_type": "stream",
     "text": [
      "Mixed Adversarial Training:  94%|█████████▎| 74/79 [02:22<00:09,  1.93s/it, loss=1.35]"
     ]
    },
    {
     "data": {
      "application/vnd.jupyter.widget-view+json": {
       "model_id": "640c2b14fca848f1a2dd23f0fd059a1a",
       "version_major": 2,
       "version_minor": 0
      },
      "text/plain": [
       "PGD - Batches:   0%|          | 0/4 [00:00<?, ?it/s]"
      ]
     },
     "metadata": {},
     "output_type": "display_data"
    },
    {
     "name": "stderr",
     "output_type": "stream",
     "text": [
      "Mixed Adversarial Training:  95%|█████████▍| 75/79 [02:24<00:07,  1.93s/it, loss=1.26]"
     ]
    },
    {
     "data": {
      "application/vnd.jupyter.widget-view+json": {
       "model_id": "d48043f435e34b36a26f50a845e9e596",
       "version_major": 2,
       "version_minor": 0
      },
      "text/plain": [
       "PGD - Batches:   0%|          | 0/4 [00:00<?, ?it/s]"
      ]
     },
     "metadata": {},
     "output_type": "display_data"
    },
    {
     "name": "stderr",
     "output_type": "stream",
     "text": [
      "Mixed Adversarial Training:  96%|█████████▌| 76/79 [02:26<00:05,  1.92s/it, loss=1.31]"
     ]
    },
    {
     "data": {
      "application/vnd.jupyter.widget-view+json": {
       "model_id": "6f5a1b1467b54987b11fa4483bf8bed2",
       "version_major": 2,
       "version_minor": 0
      },
      "text/plain": [
       "PGD - Batches:   0%|          | 0/4 [00:00<?, ?it/s]"
      ]
     },
     "metadata": {},
     "output_type": "display_data"
    },
    {
     "name": "stderr",
     "output_type": "stream",
     "text": [
      "Mixed Adversarial Training:  97%|█████████▋| 77/79 [02:28<00:03,  1.92s/it, loss=1.4]"
     ]
    },
    {
     "data": {
      "application/vnd.jupyter.widget-view+json": {
       "model_id": "0c5dc74f00ee45d8af13f2336393b61c",
       "version_major": 2,
       "version_minor": 0
      },
      "text/plain": [
       "PGD - Batches:   0%|          | 0/4 [00:00<?, ?it/s]"
      ]
     },
     "metadata": {},
     "output_type": "display_data"
    },
    {
     "name": "stderr",
     "output_type": "stream",
     "text": [
      "Mixed Adversarial Training:  99%|█████████▊| 78/79 [02:30<00:01,  1.92s/it, loss=1.26]"
     ]
    },
    {
     "data": {
      "application/vnd.jupyter.widget-view+json": {
       "model_id": "f37028e4cdb04dc080ab709c498285ac",
       "version_major": 2,
       "version_minor": 0
      },
      "text/plain": [
       "PGD - Batches:   0%|          | 0/1 [00:00<?, ?it/s]"
      ]
     },
     "metadata": {},
     "output_type": "display_data"
    },
    {
     "name": "stderr",
     "output_type": "stream",
     "text": [
      "Mixed Adversarial Training: 100%|██████████| 79/79 [02:30<00:00,  1.91s/it, loss=1.57]\n"
     ]
    },
    {
     "name": "stdout",
     "output_type": "stream",
     "text": [
      "✅ Epoch 3 complete — Avg loss: 1.4645\n",
      "\n",
      "🌪 Epoch 4/5\n"
     ]
    },
    {
     "name": "stderr",
     "output_type": "stream",
     "text": [
      "\r",
      "Mixed Adversarial Training:   0%|          | 0/79 [00:00<?, ?it/s]"
     ]
    },
    {
     "data": {
      "application/vnd.jupyter.widget-view+json": {
       "model_id": "e8f808bd669240918714740d52d48c3c",
       "version_major": 2,
       "version_minor": 0
      },
      "text/plain": [
       "PGD - Batches:   0%|          | 0/4 [00:00<?, ?it/s]"
      ]
     },
     "metadata": {},
     "output_type": "display_data"
    },
    {
     "name": "stderr",
     "output_type": "stream",
     "text": [
      "Mixed Adversarial Training:   1%|▏         | 1/79 [00:02<02:36,  2.00s/it, loss=1.32]"
     ]
    },
    {
     "data": {
      "application/vnd.jupyter.widget-view+json": {
       "model_id": "8f334e4697c04c9a91102f614f786669",
       "version_major": 2,
       "version_minor": 0
      },
      "text/plain": [
       "PGD - Batches:   0%|          | 0/4 [00:00<?, ?it/s]"
      ]
     },
     "metadata": {},
     "output_type": "display_data"
    },
    {
     "name": "stderr",
     "output_type": "stream",
     "text": [
      "Mixed Adversarial Training:   3%|▎         | 2/79 [00:03<02:30,  1.95s/it, loss=1.42]"
     ]
    },
    {
     "data": {
      "application/vnd.jupyter.widget-view+json": {
       "model_id": "70568cec7c024c17822c3bb27b981b39",
       "version_major": 2,
       "version_minor": 0
      },
      "text/plain": [
       "PGD - Batches:   0%|          | 0/4 [00:00<?, ?it/s]"
      ]
     },
     "metadata": {},
     "output_type": "display_data"
    },
    {
     "name": "stderr",
     "output_type": "stream",
     "text": [
      "Mixed Adversarial Training:   4%|▍         | 3/79 [00:05<02:27,  1.94s/it, loss=1.35]"
     ]
    },
    {
     "data": {
      "application/vnd.jupyter.widget-view+json": {
       "model_id": "6773eecf75954d8cb297a307eaa894cc",
       "version_major": 2,
       "version_minor": 0
      },
      "text/plain": [
       "PGD - Batches:   0%|          | 0/4 [00:00<?, ?it/s]"
      ]
     },
     "metadata": {},
     "output_type": "display_data"
    },
    {
     "name": "stderr",
     "output_type": "stream",
     "text": [
      "Mixed Adversarial Training:   5%|▌         | 4/79 [00:07<02:24,  1.92s/it, loss=1.52]"
     ]
    },
    {
     "data": {
      "application/vnd.jupyter.widget-view+json": {
       "model_id": "66151f8f9134450d95d825ba5abb56eb",
       "version_major": 2,
       "version_minor": 0
      },
      "text/plain": [
       "PGD - Batches:   0%|          | 0/4 [00:00<?, ?it/s]"
      ]
     },
     "metadata": {},
     "output_type": "display_data"
    },
    {
     "name": "stderr",
     "output_type": "stream",
     "text": [
      "Mixed Adversarial Training:   6%|▋         | 5/79 [00:09<02:22,  1.92s/it, loss=1.41]"
     ]
    },
    {
     "data": {
      "application/vnd.jupyter.widget-view+json": {
       "model_id": "c2caceaed176402d821285829be9b652",
       "version_major": 2,
       "version_minor": 0
      },
      "text/plain": [
       "PGD - Batches:   0%|          | 0/4 [00:00<?, ?it/s]"
      ]
     },
     "metadata": {},
     "output_type": "display_data"
    },
    {
     "name": "stderr",
     "output_type": "stream",
     "text": [
      "Mixed Adversarial Training:   8%|▊         | 6/79 [00:11<02:19,  1.92s/it, loss=1.43]"
     ]
    },
    {
     "data": {
      "application/vnd.jupyter.widget-view+json": {
       "model_id": "8408e6c59dbc4cc384aeeaa5feb3f9c8",
       "version_major": 2,
       "version_minor": 0
      },
      "text/plain": [
       "PGD - Batches:   0%|          | 0/4 [00:00<?, ?it/s]"
      ]
     },
     "metadata": {},
     "output_type": "display_data"
    },
    {
     "name": "stderr",
     "output_type": "stream",
     "text": [
      "Mixed Adversarial Training:   9%|▉         | 7/79 [00:13<02:20,  1.95s/it, loss=1.31]"
     ]
    },
    {
     "data": {
      "application/vnd.jupyter.widget-view+json": {
       "model_id": "7ca6efd747df48109c11993b8b9ca000",
       "version_major": 2,
       "version_minor": 0
      },
      "text/plain": [
       "PGD - Batches:   0%|          | 0/4 [00:00<?, ?it/s]"
      ]
     },
     "metadata": {},
     "output_type": "display_data"
    },
    {
     "name": "stderr",
     "output_type": "stream",
     "text": [
      "Mixed Adversarial Training:  10%|█         | 8/79 [00:15<02:19,  1.96s/it, loss=1.46]"
     ]
    },
    {
     "data": {
      "application/vnd.jupyter.widget-view+json": {
       "model_id": "46f34a263a5d4e78a11fd6c7a4d47367",
       "version_major": 2,
       "version_minor": 0
      },
      "text/plain": [
       "PGD - Batches:   0%|          | 0/4 [00:00<?, ?it/s]"
      ]
     },
     "metadata": {},
     "output_type": "display_data"
    },
    {
     "name": "stderr",
     "output_type": "stream",
     "text": [
      "Mixed Adversarial Training:  11%|█▏        | 9/79 [00:17<02:16,  1.95s/it, loss=1.42]"
     ]
    },
    {
     "data": {
      "application/vnd.jupyter.widget-view+json": {
       "model_id": "3e686754b170404f8b0a25385670e4ea",
       "version_major": 2,
       "version_minor": 0
      },
      "text/plain": [
       "PGD - Batches:   0%|          | 0/4 [00:00<?, ?it/s]"
      ]
     },
     "metadata": {},
     "output_type": "display_data"
    },
    {
     "name": "stderr",
     "output_type": "stream",
     "text": [
      "Mixed Adversarial Training:  13%|█▎        | 10/79 [00:19<02:13,  1.94s/it, loss=1.52]"
     ]
    },
    {
     "data": {
      "application/vnd.jupyter.widget-view+json": {
       "model_id": "ce509c29ad454d9385856a97e75f15b5",
       "version_major": 2,
       "version_minor": 0
      },
      "text/plain": [
       "PGD - Batches:   0%|          | 0/4 [00:00<?, ?it/s]"
      ]
     },
     "metadata": {},
     "output_type": "display_data"
    },
    {
     "name": "stderr",
     "output_type": "stream",
     "text": [
      "Mixed Adversarial Training:  14%|█▍        | 11/79 [00:21<02:11,  1.93s/it, loss=1.34]"
     ]
    },
    {
     "data": {
      "application/vnd.jupyter.widget-view+json": {
       "model_id": "f6730dd379c04f0f98b8677f9e6c5d49",
       "version_major": 2,
       "version_minor": 0
      },
      "text/plain": [
       "PGD - Batches:   0%|          | 0/4 [00:00<?, ?it/s]"
      ]
     },
     "metadata": {},
     "output_type": "display_data"
    },
    {
     "name": "stderr",
     "output_type": "stream",
     "text": [
      "Mixed Adversarial Training:  15%|█▌        | 12/79 [00:23<02:08,  1.92s/it, loss=1.48]"
     ]
    },
    {
     "data": {
      "application/vnd.jupyter.widget-view+json": {
       "model_id": "07d7a7745fff457a88872307f41b8812",
       "version_major": 2,
       "version_minor": 0
      },
      "text/plain": [
       "PGD - Batches:   0%|          | 0/4 [00:00<?, ?it/s]"
      ]
     },
     "metadata": {},
     "output_type": "display_data"
    },
    {
     "name": "stderr",
     "output_type": "stream",
     "text": [
      "Mixed Adversarial Training:  16%|█▋        | 13/79 [00:25<02:07,  1.93s/it, loss=1.41]"
     ]
    },
    {
     "data": {
      "application/vnd.jupyter.widget-view+json": {
       "model_id": "8152615ca02247c5904e09d3f0cc3dad",
       "version_major": 2,
       "version_minor": 0
      },
      "text/plain": [
       "PGD - Batches:   0%|          | 0/4 [00:00<?, ?it/s]"
      ]
     },
     "metadata": {},
     "output_type": "display_data"
    },
    {
     "name": "stderr",
     "output_type": "stream",
     "text": [
      "Mixed Adversarial Training:  18%|█▊        | 14/79 [00:27<02:06,  1.95s/it, loss=1.49]"
     ]
    },
    {
     "data": {
      "application/vnd.jupyter.widget-view+json": {
       "model_id": "28e7969c9a5f48c5be2dffe7ad68651f",
       "version_major": 2,
       "version_minor": 0
      },
      "text/plain": [
       "PGD - Batches:   0%|          | 0/4 [00:00<?, ?it/s]"
      ]
     },
     "metadata": {},
     "output_type": "display_data"
    },
    {
     "name": "stderr",
     "output_type": "stream",
     "text": [
      "Mixed Adversarial Training:  19%|█▉        | 15/79 [00:29<02:03,  1.94s/it, loss=1.37]"
     ]
    },
    {
     "data": {
      "application/vnd.jupyter.widget-view+json": {
       "model_id": "db3bd6936b454b5496b076db80f2e2e6",
       "version_major": 2,
       "version_minor": 0
      },
      "text/plain": [
       "PGD - Batches:   0%|          | 0/4 [00:00<?, ?it/s]"
      ]
     },
     "metadata": {},
     "output_type": "display_data"
    },
    {
     "name": "stderr",
     "output_type": "stream",
     "text": [
      "Mixed Adversarial Training:  20%|██        | 16/79 [00:30<02:01,  1.93s/it, loss=1.27]"
     ]
    },
    {
     "data": {
      "application/vnd.jupyter.widget-view+json": {
       "model_id": "6510505cbb024c719d8f0a39bbdc3a06",
       "version_major": 2,
       "version_minor": 0
      },
      "text/plain": [
       "PGD - Batches:   0%|          | 0/4 [00:00<?, ?it/s]"
      ]
     },
     "metadata": {},
     "output_type": "display_data"
    },
    {
     "name": "stderr",
     "output_type": "stream",
     "text": [
      "Mixed Adversarial Training:  22%|██▏       | 17/79 [00:32<01:59,  1.92s/it, loss=1.41]"
     ]
    },
    {
     "data": {
      "application/vnd.jupyter.widget-view+json": {
       "model_id": "eeba92731cc24fa7be2e0b07736190b8",
       "version_major": 2,
       "version_minor": 0
      },
      "text/plain": [
       "PGD - Batches:   0%|          | 0/4 [00:00<?, ?it/s]"
      ]
     },
     "metadata": {},
     "output_type": "display_data"
    },
    {
     "name": "stderr",
     "output_type": "stream",
     "text": [
      "Mixed Adversarial Training:  23%|██▎       | 18/79 [00:34<01:56,  1.92s/it, loss=1.28]"
     ]
    },
    {
     "data": {
      "application/vnd.jupyter.widget-view+json": {
       "model_id": "df48746dd8364d54b7c6e7ac8a417c38",
       "version_major": 2,
       "version_minor": 0
      },
      "text/plain": [
       "PGD - Batches:   0%|          | 0/4 [00:00<?, ?it/s]"
      ]
     },
     "metadata": {},
     "output_type": "display_data"
    },
    {
     "name": "stderr",
     "output_type": "stream",
     "text": [
      "Mixed Adversarial Training:  24%|██▍       | 19/79 [00:36<01:55,  1.92s/it, loss=1.32]"
     ]
    },
    {
     "data": {
      "application/vnd.jupyter.widget-view+json": {
       "model_id": "c5e2d902409e44ba859687e3aab03335",
       "version_major": 2,
       "version_minor": 0
      },
      "text/plain": [
       "PGD - Batches:   0%|          | 0/4 [00:00<?, ?it/s]"
      ]
     },
     "metadata": {},
     "output_type": "display_data"
    },
    {
     "name": "stderr",
     "output_type": "stream",
     "text": [
      "Mixed Adversarial Training:  25%|██▌       | 20/79 [00:38<01:54,  1.94s/it, loss=1.36]"
     ]
    },
    {
     "data": {
      "application/vnd.jupyter.widget-view+json": {
       "model_id": "5cb37e458dac4c8aa5706abbe32a4b8a",
       "version_major": 2,
       "version_minor": 0
      },
      "text/plain": [
       "PGD - Batches:   0%|          | 0/4 [00:00<?, ?it/s]"
      ]
     },
     "metadata": {},
     "output_type": "display_data"
    },
    {
     "name": "stderr",
     "output_type": "stream",
     "text": [
      "Mixed Adversarial Training:  27%|██▋       | 21/79 [00:40<01:53,  1.95s/it, loss=1.35]"
     ]
    },
    {
     "data": {
      "application/vnd.jupyter.widget-view+json": {
       "model_id": "92198fc9664c471fb35e8ed11fe592fe",
       "version_major": 2,
       "version_minor": 0
      },
      "text/plain": [
       "PGD - Batches:   0%|          | 0/4 [00:00<?, ?it/s]"
      ]
     },
     "metadata": {},
     "output_type": "display_data"
    },
    {
     "name": "stderr",
     "output_type": "stream",
     "text": [
      "Mixed Adversarial Training:  28%|██▊       | 22/79 [00:42<01:50,  1.95s/it, loss=1.44]"
     ]
    },
    {
     "data": {
      "application/vnd.jupyter.widget-view+json": {
       "model_id": "3dbae6e0cd1a4c55b581a024ebd10f84",
       "version_major": 2,
       "version_minor": 0
      },
      "text/plain": [
       "PGD - Batches:   0%|          | 0/4 [00:00<?, ?it/s]"
      ]
     },
     "metadata": {},
     "output_type": "display_data"
    },
    {
     "name": "stderr",
     "output_type": "stream",
     "text": [
      "Mixed Adversarial Training:  29%|██▉       | 23/79 [00:44<01:48,  1.94s/it, loss=1.48]"
     ]
    },
    {
     "data": {
      "application/vnd.jupyter.widget-view+json": {
       "model_id": "0a0f4b8f8f294ab080d8425310cf0a65",
       "version_major": 2,
       "version_minor": 0
      },
      "text/plain": [
       "PGD - Batches:   0%|          | 0/4 [00:00<?, ?it/s]"
      ]
     },
     "metadata": {},
     "output_type": "display_data"
    },
    {
     "name": "stderr",
     "output_type": "stream",
     "text": [
      "Mixed Adversarial Training:  30%|███       | 24/79 [00:46<01:46,  1.93s/it, loss=1.38]"
     ]
    },
    {
     "data": {
      "application/vnd.jupyter.widget-view+json": {
       "model_id": "34e0883267af42949c1b72f1b29ea9e4",
       "version_major": 2,
       "version_minor": 0
      },
      "text/plain": [
       "PGD - Batches:   0%|          | 0/4 [00:00<?, ?it/s]"
      ]
     },
     "metadata": {},
     "output_type": "display_data"
    },
    {
     "name": "stderr",
     "output_type": "stream",
     "text": [
      "Mixed Adversarial Training:  32%|███▏      | 25/79 [00:48<01:43,  1.92s/it, loss=1.32]"
     ]
    },
    {
     "data": {
      "application/vnd.jupyter.widget-view+json": {
       "model_id": "912f21ed23cc4776ac9772f589d7084f",
       "version_major": 2,
       "version_minor": 0
      },
      "text/plain": [
       "PGD - Batches:   0%|          | 0/4 [00:00<?, ?it/s]"
      ]
     },
     "metadata": {},
     "output_type": "display_data"
    },
    {
     "name": "stderr",
     "output_type": "stream",
     "text": [
      "Mixed Adversarial Training:  33%|███▎      | 26/79 [00:50<01:41,  1.92s/it, loss=1.31]"
     ]
    },
    {
     "data": {
      "application/vnd.jupyter.widget-view+json": {
       "model_id": "0184c1b40652431a8e0fdf384faf303f",
       "version_major": 2,
       "version_minor": 0
      },
      "text/plain": [
       "PGD - Batches:   0%|          | 0/4 [00:00<?, ?it/s]"
      ]
     },
     "metadata": {},
     "output_type": "display_data"
    },
    {
     "name": "stderr",
     "output_type": "stream",
     "text": [
      "Mixed Adversarial Training:  34%|███▍      | 27/79 [00:52<01:41,  1.95s/it, loss=1.44]"
     ]
    },
    {
     "data": {
      "application/vnd.jupyter.widget-view+json": {
       "model_id": "3aa4970e3b8d44a2af80e4e101f91854",
       "version_major": 2,
       "version_minor": 0
      },
      "text/plain": [
       "PGD - Batches:   0%|          | 0/4 [00:00<?, ?it/s]"
      ]
     },
     "metadata": {},
     "output_type": "display_data"
    },
    {
     "name": "stderr",
     "output_type": "stream",
     "text": [
      "Mixed Adversarial Training:  35%|███▌      | 28/79 [00:54<01:38,  1.94s/it, loss=1.34]"
     ]
    },
    {
     "data": {
      "application/vnd.jupyter.widget-view+json": {
       "model_id": "697d7ca971d54d71af39ca2a4fa9289c",
       "version_major": 2,
       "version_minor": 0
      },
      "text/plain": [
       "PGD - Batches:   0%|          | 0/4 [00:00<?, ?it/s]"
      ]
     },
     "metadata": {},
     "output_type": "display_data"
    },
    {
     "name": "stderr",
     "output_type": "stream",
     "text": [
      "Mixed Adversarial Training:  37%|███▋      | 29/79 [00:56<01:36,  1.93s/it, loss=1.27]"
     ]
    },
    {
     "data": {
      "application/vnd.jupyter.widget-view+json": {
       "model_id": "baaa34093b934a9496c2045ef3c40b27",
       "version_major": 2,
       "version_minor": 0
      },
      "text/plain": [
       "PGD - Batches:   0%|          | 0/4 [00:00<?, ?it/s]"
      ]
     },
     "metadata": {},
     "output_type": "display_data"
    },
    {
     "name": "stderr",
     "output_type": "stream",
     "text": [
      "Mixed Adversarial Training:  38%|███▊      | 30/79 [00:58<01:34,  1.93s/it, loss=1.33]"
     ]
    },
    {
     "data": {
      "application/vnd.jupyter.widget-view+json": {
       "model_id": "ad16fe37386e463a95e0f956715900a5",
       "version_major": 2,
       "version_minor": 0
      },
      "text/plain": [
       "PGD - Batches:   0%|          | 0/4 [00:00<?, ?it/s]"
      ]
     },
     "metadata": {},
     "output_type": "display_data"
    },
    {
     "name": "stderr",
     "output_type": "stream",
     "text": [
      "Mixed Adversarial Training:  39%|███▉      | 31/79 [00:59<01:32,  1.92s/it, loss=1.28]"
     ]
    },
    {
     "data": {
      "application/vnd.jupyter.widget-view+json": {
       "model_id": "807d17ac629b44278101ab5481c522bb",
       "version_major": 2,
       "version_minor": 0
      },
      "text/plain": [
       "PGD - Batches:   0%|          | 0/4 [00:00<?, ?it/s]"
      ]
     },
     "metadata": {},
     "output_type": "display_data"
    },
    {
     "name": "stderr",
     "output_type": "stream",
     "text": [
      "Mixed Adversarial Training:  41%|████      | 32/79 [01:01<01:30,  1.92s/it, loss=1.45]"
     ]
    },
    {
     "data": {
      "application/vnd.jupyter.widget-view+json": {
       "model_id": "556a373f68cc4da4a0f09ee013c250a4",
       "version_major": 2,
       "version_minor": 0
      },
      "text/plain": [
       "PGD - Batches:   0%|          | 0/4 [00:00<?, ?it/s]"
      ]
     },
     "metadata": {},
     "output_type": "display_data"
    },
    {
     "name": "stderr",
     "output_type": "stream",
     "text": [
      "Mixed Adversarial Training:  42%|████▏     | 33/79 [01:03<01:29,  1.94s/it, loss=1.38]"
     ]
    },
    {
     "data": {
      "application/vnd.jupyter.widget-view+json": {
       "model_id": "04e48302d2a7433593a0eb367361f153",
       "version_major": 2,
       "version_minor": 0
      },
      "text/plain": [
       "PGD - Batches:   0%|          | 0/4 [00:00<?, ?it/s]"
      ]
     },
     "metadata": {},
     "output_type": "display_data"
    },
    {
     "name": "stderr",
     "output_type": "stream",
     "text": [
      "Mixed Adversarial Training:  43%|████▎     | 34/79 [01:05<01:27,  1.95s/it, loss=1.26]"
     ]
    },
    {
     "data": {
      "application/vnd.jupyter.widget-view+json": {
       "model_id": "7ec3bf8be5f7461cb7a0231e3b854784",
       "version_major": 2,
       "version_minor": 0
      },
      "text/plain": [
       "PGD - Batches:   0%|          | 0/4 [00:00<?, ?it/s]"
      ]
     },
     "metadata": {},
     "output_type": "display_data"
    },
    {
     "name": "stderr",
     "output_type": "stream",
     "text": [
      "Mixed Adversarial Training:  44%|████▍     | 35/79 [01:07<01:25,  1.94s/it, loss=1.67]"
     ]
    },
    {
     "data": {
      "application/vnd.jupyter.widget-view+json": {
       "model_id": "283209feae5a49268ddcf5646710da69",
       "version_major": 2,
       "version_minor": 0
      },
      "text/plain": [
       "PGD - Batches:   0%|          | 0/4 [00:00<?, ?it/s]"
      ]
     },
     "metadata": {},
     "output_type": "display_data"
    },
    {
     "name": "stderr",
     "output_type": "stream",
     "text": [
      "Mixed Adversarial Training:  46%|████▌     | 36/79 [01:09<01:23,  1.93s/it, loss=1.51]"
     ]
    },
    {
     "data": {
      "application/vnd.jupyter.widget-view+json": {
       "model_id": "6f7ac82dcb9b49eebd4dca131f7f0e27",
       "version_major": 2,
       "version_minor": 0
      },
      "text/plain": [
       "PGD - Batches:   0%|          | 0/4 [00:00<?, ?it/s]"
      ]
     },
     "metadata": {},
     "output_type": "display_data"
    },
    {
     "name": "stderr",
     "output_type": "stream",
     "text": [
      "Mixed Adversarial Training:  47%|████▋     | 37/79 [01:11<01:20,  1.93s/it, loss=1.21]"
     ]
    },
    {
     "data": {
      "application/vnd.jupyter.widget-view+json": {
       "model_id": "981ceca3603a4ee4aeb9f3cc2a3cab75",
       "version_major": 2,
       "version_minor": 0
      },
      "text/plain": [
       "PGD - Batches:   0%|          | 0/4 [00:00<?, ?it/s]"
      ]
     },
     "metadata": {},
     "output_type": "display_data"
    },
    {
     "name": "stderr",
     "output_type": "stream",
     "text": [
      "Mixed Adversarial Training:  48%|████▊     | 38/79 [01:13<01:18,  1.92s/it, loss=1.42]"
     ]
    },
    {
     "data": {
      "application/vnd.jupyter.widget-view+json": {
       "model_id": "f2999c0c177a49b083a6aacefa292ac1",
       "version_major": 2,
       "version_minor": 0
      },
      "text/plain": [
       "PGD - Batches:   0%|          | 0/4 [00:00<?, ?it/s]"
      ]
     },
     "metadata": {},
     "output_type": "display_data"
    },
    {
     "name": "stderr",
     "output_type": "stream",
     "text": [
      "Mixed Adversarial Training:  49%|████▉     | 39/79 [01:15<01:17,  1.93s/it, loss=1.18]"
     ]
    },
    {
     "data": {
      "application/vnd.jupyter.widget-view+json": {
       "model_id": "6cc92607233a4bd4a2e73e03ae2dc6db",
       "version_major": 2,
       "version_minor": 0
      },
      "text/plain": [
       "PGD - Batches:   0%|          | 0/4 [00:00<?, ?it/s]"
      ]
     },
     "metadata": {},
     "output_type": "display_data"
    },
    {
     "name": "stderr",
     "output_type": "stream",
     "text": [
      "Mixed Adversarial Training:  51%|█████     | 40/79 [01:17<01:16,  1.95s/it, loss=1.29]"
     ]
    },
    {
     "data": {
      "application/vnd.jupyter.widget-view+json": {
       "model_id": "4e5205a938534581a061b9083a4f9e5e",
       "version_major": 2,
       "version_minor": 0
      },
      "text/plain": [
       "PGD - Batches:   0%|          | 0/4 [00:00<?, ?it/s]"
      ]
     },
     "metadata": {},
     "output_type": "display_data"
    },
    {
     "name": "stderr",
     "output_type": "stream",
     "text": [
      "Mixed Adversarial Training:  52%|█████▏    | 41/79 [01:19<01:13,  1.94s/it, loss=1.34]"
     ]
    },
    {
     "data": {
      "application/vnd.jupyter.widget-view+json": {
       "model_id": "e212b4330e454b658c78e1966c13f819",
       "version_major": 2,
       "version_minor": 0
      },
      "text/plain": [
       "PGD - Batches:   0%|          | 0/4 [00:00<?, ?it/s]"
      ]
     },
     "metadata": {},
     "output_type": "display_data"
    },
    {
     "name": "stderr",
     "output_type": "stream",
     "text": [
      "Mixed Adversarial Training:  53%|█████▎    | 42/79 [01:21<01:11,  1.93s/it, loss=1.29]"
     ]
    },
    {
     "data": {
      "application/vnd.jupyter.widget-view+json": {
       "model_id": "b6b0c5861e1a4213b9df4eed8690ee74",
       "version_major": 2,
       "version_minor": 0
      },
      "text/plain": [
       "PGD - Batches:   0%|          | 0/4 [00:00<?, ?it/s]"
      ]
     },
     "metadata": {},
     "output_type": "display_data"
    },
    {
     "name": "stderr",
     "output_type": "stream",
     "text": [
      "Mixed Adversarial Training:  54%|█████▍    | 43/79 [01:23<01:09,  1.92s/it, loss=1.41]"
     ]
    },
    {
     "data": {
      "application/vnd.jupyter.widget-view+json": {
       "model_id": "83d73672066e45a0b3160c1199ef8f5b",
       "version_major": 2,
       "version_minor": 0
      },
      "text/plain": [
       "PGD - Batches:   0%|          | 0/4 [00:00<?, ?it/s]"
      ]
     },
     "metadata": {},
     "output_type": "display_data"
    },
    {
     "name": "stderr",
     "output_type": "stream",
     "text": [
      "Mixed Adversarial Training:  56%|█████▌    | 44/79 [01:25<01:07,  1.92s/it, loss=1.22]"
     ]
    },
    {
     "data": {
      "application/vnd.jupyter.widget-view+json": {
       "model_id": "c2cf97872d1f4b6883c2ea8a278fdd1e",
       "version_major": 2,
       "version_minor": 0
      },
      "text/plain": [
       "PGD - Batches:   0%|          | 0/4 [00:00<?, ?it/s]"
      ]
     },
     "metadata": {},
     "output_type": "display_data"
    },
    {
     "name": "stderr",
     "output_type": "stream",
     "text": [
      "Mixed Adversarial Training:  57%|█████▋    | 45/79 [01:26<01:05,  1.92s/it, loss=1.31]"
     ]
    },
    {
     "data": {
      "application/vnd.jupyter.widget-view+json": {
       "model_id": "4aea000de6614c4789b08435bb2f8105",
       "version_major": 2,
       "version_minor": 0
      },
      "text/plain": [
       "PGD - Batches:   0%|          | 0/4 [00:00<?, ?it/s]"
      ]
     },
     "metadata": {},
     "output_type": "display_data"
    },
    {
     "name": "stderr",
     "output_type": "stream",
     "text": [
      "Mixed Adversarial Training:  58%|█████▊    | 46/79 [01:28<01:03,  1.93s/it, loss=1.38]"
     ]
    },
    {
     "data": {
      "application/vnd.jupyter.widget-view+json": {
       "model_id": "e0aabe6d7fbb492391ee90a5a3b1dc65",
       "version_major": 2,
       "version_minor": 0
      },
      "text/plain": [
       "PGD - Batches:   0%|          | 0/4 [00:00<?, ?it/s]"
      ]
     },
     "metadata": {},
     "output_type": "display_data"
    },
    {
     "name": "stderr",
     "output_type": "stream",
     "text": [
      "Mixed Adversarial Training:  59%|█████▉    | 47/79 [01:30<01:02,  1.94s/it, loss=1.19]"
     ]
    },
    {
     "data": {
      "application/vnd.jupyter.widget-view+json": {
       "model_id": "872292500aed4bc8b7d1d2c91116728e",
       "version_major": 2,
       "version_minor": 0
      },
      "text/plain": [
       "PGD - Batches:   0%|          | 0/4 [00:00<?, ?it/s]"
      ]
     },
     "metadata": {},
     "output_type": "display_data"
    },
    {
     "name": "stderr",
     "output_type": "stream",
     "text": [
      "Mixed Adversarial Training:  61%|██████    | 48/79 [01:32<01:00,  1.94s/it, loss=1.17]"
     ]
    },
    {
     "data": {
      "application/vnd.jupyter.widget-view+json": {
       "model_id": "7f022eed846f4ce9ae5633f12b5bd2fc",
       "version_major": 2,
       "version_minor": 0
      },
      "text/plain": [
       "PGD - Batches:   0%|          | 0/4 [00:00<?, ?it/s]"
      ]
     },
     "metadata": {},
     "output_type": "display_data"
    },
    {
     "name": "stderr",
     "output_type": "stream",
     "text": [
      "Mixed Adversarial Training:  62%|██████▏   | 49/79 [01:34<00:57,  1.93s/it, loss=1.2]"
     ]
    },
    {
     "data": {
      "application/vnd.jupyter.widget-view+json": {
       "model_id": "bd3b1527bddd4d8691f203885ab00e3d",
       "version_major": 2,
       "version_minor": 0
      },
      "text/plain": [
       "PGD - Batches:   0%|          | 0/4 [00:00<?, ?it/s]"
      ]
     },
     "metadata": {},
     "output_type": "display_data"
    },
    {
     "name": "stderr",
     "output_type": "stream",
     "text": [
      "Mixed Adversarial Training:  63%|██████▎   | 50/79 [01:36<00:55,  1.92s/it, loss=1.24]"
     ]
    },
    {
     "data": {
      "application/vnd.jupyter.widget-view+json": {
       "model_id": "9543e18dd32e474288d2eb5237bc320b",
       "version_major": 2,
       "version_minor": 0
      },
      "text/plain": [
       "PGD - Batches:   0%|          | 0/4 [00:00<?, ?it/s]"
      ]
     },
     "metadata": {},
     "output_type": "display_data"
    },
    {
     "name": "stderr",
     "output_type": "stream",
     "text": [
      "Mixed Adversarial Training:  65%|██████▍   | 51/79 [01:38<00:53,  1.92s/it, loss=1.35]"
     ]
    },
    {
     "data": {
      "application/vnd.jupyter.widget-view+json": {
       "model_id": "886c6b15fd404be8a915205a4097f645",
       "version_major": 2,
       "version_minor": 0
      },
      "text/plain": [
       "PGD - Batches:   0%|          | 0/4 [00:00<?, ?it/s]"
      ]
     },
     "metadata": {},
     "output_type": "display_data"
    },
    {
     "name": "stderr",
     "output_type": "stream",
     "text": [
      "Mixed Adversarial Training:  66%|██████▌   | 52/79 [01:40<00:52,  1.93s/it, loss=1.36]"
     ]
    },
    {
     "data": {
      "application/vnd.jupyter.widget-view+json": {
       "model_id": "5e457bcf0cd04a95abc239a88d123949",
       "version_major": 2,
       "version_minor": 0
      },
      "text/plain": [
       "PGD - Batches:   0%|          | 0/4 [00:00<?, ?it/s]"
      ]
     },
     "metadata": {},
     "output_type": "display_data"
    },
    {
     "name": "stderr",
     "output_type": "stream",
     "text": [
      "Mixed Adversarial Training:  67%|██████▋   | 53/79 [01:42<00:50,  1.95s/it, loss=1.22]"
     ]
    },
    {
     "data": {
      "application/vnd.jupyter.widget-view+json": {
       "model_id": "b1a963b0e8ea479fa55ba9b5b1fbb14b",
       "version_major": 2,
       "version_minor": 0
      },
      "text/plain": [
       "PGD - Batches:   0%|          | 0/4 [00:00<?, ?it/s]"
      ]
     },
     "metadata": {},
     "output_type": "display_data"
    },
    {
     "name": "stderr",
     "output_type": "stream",
     "text": [
      "Mixed Adversarial Training:  68%|██████▊   | 54/79 [01:44<00:48,  1.94s/it, loss=1.34]"
     ]
    },
    {
     "data": {
      "application/vnd.jupyter.widget-view+json": {
       "model_id": "3f804b1c0f02408abaef4b29b9eccdec",
       "version_major": 2,
       "version_minor": 0
      },
      "text/plain": [
       "PGD - Batches:   0%|          | 0/4 [00:00<?, ?it/s]"
      ]
     },
     "metadata": {},
     "output_type": "display_data"
    },
    {
     "name": "stderr",
     "output_type": "stream",
     "text": [
      "Mixed Adversarial Training:  70%|██████▉   | 55/79 [01:46<00:46,  1.93s/it, loss=1.46]"
     ]
    },
    {
     "data": {
      "application/vnd.jupyter.widget-view+json": {
       "model_id": "51343d66ebe14292ad49e44ff68c8ae5",
       "version_major": 2,
       "version_minor": 0
      },
      "text/plain": [
       "PGD - Batches:   0%|          | 0/4 [00:00<?, ?it/s]"
      ]
     },
     "metadata": {},
     "output_type": "display_data"
    },
    {
     "name": "stderr",
     "output_type": "stream",
     "text": [
      "Mixed Adversarial Training:  71%|███████   | 56/79 [01:48<00:44,  1.92s/it, loss=1.24]"
     ]
    },
    {
     "data": {
      "application/vnd.jupyter.widget-view+json": {
       "model_id": "70e861ce26fc49b8808ada57c47bc7e9",
       "version_major": 2,
       "version_minor": 0
      },
      "text/plain": [
       "PGD - Batches:   0%|          | 0/4 [00:00<?, ?it/s]"
      ]
     },
     "metadata": {},
     "output_type": "display_data"
    },
    {
     "name": "stderr",
     "output_type": "stream",
     "text": [
      "Mixed Adversarial Training:  72%|███████▏  | 57/79 [01:50<00:42,  1.92s/it, loss=1.39]"
     ]
    },
    {
     "data": {
      "application/vnd.jupyter.widget-view+json": {
       "model_id": "2ca25adb9d0047e3a5997063dbf29ed9",
       "version_major": 2,
       "version_minor": 0
      },
      "text/plain": [
       "PGD - Batches:   0%|          | 0/4 [00:00<?, ?it/s]"
      ]
     },
     "metadata": {},
     "output_type": "display_data"
    },
    {
     "name": "stderr",
     "output_type": "stream",
     "text": [
      "Mixed Adversarial Training:  73%|███████▎  | 58/79 [01:52<00:40,  1.92s/it, loss=1.16]"
     ]
    },
    {
     "data": {
      "application/vnd.jupyter.widget-view+json": {
       "model_id": "976e81d72b98423d8c161004ee174bc9",
       "version_major": 2,
       "version_minor": 0
      },
      "text/plain": [
       "PGD - Batches:   0%|          | 0/4 [00:00<?, ?it/s]"
      ]
     },
     "metadata": {},
     "output_type": "display_data"
    },
    {
     "name": "stderr",
     "output_type": "stream",
     "text": [
      "Mixed Adversarial Training:  75%|███████▍  | 59/79 [01:54<00:38,  1.93s/it, loss=1.44]"
     ]
    },
    {
     "data": {
      "application/vnd.jupyter.widget-view+json": {
       "model_id": "b837966cc9ac4320b796bca373984396",
       "version_major": 2,
       "version_minor": 0
      },
      "text/plain": [
       "PGD - Batches:   0%|          | 0/4 [00:00<?, ?it/s]"
      ]
     },
     "metadata": {},
     "output_type": "display_data"
    },
    {
     "name": "stderr",
     "output_type": "stream",
     "text": [
      "Mixed Adversarial Training:  76%|███████▌  | 60/79 [01:55<00:36,  1.95s/it, loss=1.25]"
     ]
    },
    {
     "data": {
      "application/vnd.jupyter.widget-view+json": {
       "model_id": "7e3475fee09d40ee96afeda20e7d9aab",
       "version_major": 2,
       "version_minor": 0
      },
      "text/plain": [
       "PGD - Batches:   0%|          | 0/4 [00:00<?, ?it/s]"
      ]
     },
     "metadata": {},
     "output_type": "display_data"
    },
    {
     "name": "stderr",
     "output_type": "stream",
     "text": [
      "Mixed Adversarial Training:  77%|███████▋  | 61/79 [01:57<00:34,  1.93s/it, loss=1.34]"
     ]
    },
    {
     "data": {
      "application/vnd.jupyter.widget-view+json": {
       "model_id": "183589d6b9d84b6a975647627fd6ec71",
       "version_major": 2,
       "version_minor": 0
      },
      "text/plain": [
       "PGD - Batches:   0%|          | 0/4 [00:00<?, ?it/s]"
      ]
     },
     "metadata": {},
     "output_type": "display_data"
    },
    {
     "name": "stderr",
     "output_type": "stream",
     "text": [
      "Mixed Adversarial Training:  78%|███████▊  | 62/79 [01:59<00:32,  1.92s/it, loss=1.34]"
     ]
    },
    {
     "data": {
      "application/vnd.jupyter.widget-view+json": {
       "model_id": "49ccdca39e584eef80206330dbc5fe60",
       "version_major": 2,
       "version_minor": 0
      },
      "text/plain": [
       "PGD - Batches:   0%|          | 0/4 [00:00<?, ?it/s]"
      ]
     },
     "metadata": {},
     "output_type": "display_data"
    },
    {
     "name": "stderr",
     "output_type": "stream",
     "text": [
      "Mixed Adversarial Training:  80%|███████▉  | 63/79 [02:01<00:30,  1.92s/it, loss=1.22]"
     ]
    },
    {
     "data": {
      "application/vnd.jupyter.widget-view+json": {
       "model_id": "26897df7e9174dab8db3af9f98db1182",
       "version_major": 2,
       "version_minor": 0
      },
      "text/plain": [
       "PGD - Batches:   0%|          | 0/4 [00:00<?, ?it/s]"
      ]
     },
     "metadata": {},
     "output_type": "display_data"
    },
    {
     "name": "stderr",
     "output_type": "stream",
     "text": [
      "Mixed Adversarial Training:  81%|████████  | 64/79 [02:03<00:28,  1.92s/it, loss=1.21]"
     ]
    },
    {
     "data": {
      "application/vnd.jupyter.widget-view+json": {
       "model_id": "6a123f5340654f408176d78f3df0856d",
       "version_major": 2,
       "version_minor": 0
      },
      "text/plain": [
       "PGD - Batches:   0%|          | 0/4 [00:00<?, ?it/s]"
      ]
     },
     "metadata": {},
     "output_type": "display_data"
    },
    {
     "name": "stderr",
     "output_type": "stream",
     "text": [
      "Mixed Adversarial Training:  82%|████████▏ | 65/79 [02:05<00:26,  1.92s/it, loss=1.34]"
     ]
    },
    {
     "data": {
      "application/vnd.jupyter.widget-view+json": {
       "model_id": "331717dfb7c9477aae66ab89ad752ad2",
       "version_major": 2,
       "version_minor": 0
      },
      "text/plain": [
       "PGD - Batches:   0%|          | 0/4 [00:00<?, ?it/s]"
      ]
     },
     "metadata": {},
     "output_type": "display_data"
    },
    {
     "name": "stderr",
     "output_type": "stream",
     "text": [
      "Mixed Adversarial Training:  84%|████████▎ | 66/79 [02:07<00:25,  1.94s/it, loss=1.64]"
     ]
    },
    {
     "data": {
      "application/vnd.jupyter.widget-view+json": {
       "model_id": "70e3d44820f441ca902d1bdd4ee1354b",
       "version_major": 2,
       "version_minor": 0
      },
      "text/plain": [
       "PGD - Batches:   0%|          | 0/4 [00:00<?, ?it/s]"
      ]
     },
     "metadata": {},
     "output_type": "display_data"
    },
    {
     "name": "stderr",
     "output_type": "stream",
     "text": [
      "Mixed Adversarial Training:  85%|████████▍ | 67/79 [02:09<00:23,  1.94s/it, loss=1.27]"
     ]
    },
    {
     "data": {
      "application/vnd.jupyter.widget-view+json": {
       "model_id": "0a74483f2d4649faae98cf2f92db1a50",
       "version_major": 2,
       "version_minor": 0
      },
      "text/plain": [
       "PGD - Batches:   0%|          | 0/4 [00:00<?, ?it/s]"
      ]
     },
     "metadata": {},
     "output_type": "display_data"
    },
    {
     "name": "stderr",
     "output_type": "stream",
     "text": [
      "Mixed Adversarial Training:  86%|████████▌ | 68/79 [02:11<00:21,  1.93s/it, loss=1.23]"
     ]
    },
    {
     "data": {
      "application/vnd.jupyter.widget-view+json": {
       "model_id": "baf081e2219547349dea27ed11de460b",
       "version_major": 2,
       "version_minor": 0
      },
      "text/plain": [
       "PGD - Batches:   0%|          | 0/4 [00:00<?, ?it/s]"
      ]
     },
     "metadata": {},
     "output_type": "display_data"
    },
    {
     "name": "stderr",
     "output_type": "stream",
     "text": [
      "Mixed Adversarial Training:  87%|████████▋ | 69/79 [02:13<00:19,  1.92s/it, loss=1.32]"
     ]
    },
    {
     "data": {
      "application/vnd.jupyter.widget-view+json": {
       "model_id": "6edbc16c1fea43e58aff6d0ce0bcd34b",
       "version_major": 2,
       "version_minor": 0
      },
      "text/plain": [
       "PGD - Batches:   0%|          | 0/4 [00:00<?, ?it/s]"
      ]
     },
     "metadata": {},
     "output_type": "display_data"
    },
    {
     "name": "stderr",
     "output_type": "stream",
     "text": [
      "Mixed Adversarial Training:  89%|████████▊ | 70/79 [02:15<00:17,  1.92s/it, loss=1.25]"
     ]
    },
    {
     "data": {
      "application/vnd.jupyter.widget-view+json": {
       "model_id": "e8addbd9f9e340bcb256af64931c2fdd",
       "version_major": 2,
       "version_minor": 0
      },
      "text/plain": [
       "PGD - Batches:   0%|          | 0/4 [00:00<?, ?it/s]"
      ]
     },
     "metadata": {},
     "output_type": "display_data"
    },
    {
     "name": "stderr",
     "output_type": "stream",
     "text": [
      "Mixed Adversarial Training:  90%|████████▉ | 71/79 [02:17<00:15,  1.92s/it, loss=1.38]"
     ]
    },
    {
     "data": {
      "application/vnd.jupyter.widget-view+json": {
       "model_id": "80ec52c4d9684745bde0eda56587aa16",
       "version_major": 2,
       "version_minor": 0
      },
      "text/plain": [
       "PGD - Batches:   0%|          | 0/4 [00:00<?, ?it/s]"
      ]
     },
     "metadata": {},
     "output_type": "display_data"
    },
    {
     "name": "stderr",
     "output_type": "stream",
     "text": [
      "Mixed Adversarial Training:  91%|█████████ | 72/79 [02:19<00:13,  1.93s/it, loss=1.29]"
     ]
    },
    {
     "data": {
      "application/vnd.jupyter.widget-view+json": {
       "model_id": "4c16999176b94029a3bb0fe232a02cb6",
       "version_major": 2,
       "version_minor": 0
      },
      "text/plain": [
       "PGD - Batches:   0%|          | 0/4 [00:00<?, ?it/s]"
      ]
     },
     "metadata": {},
     "output_type": "display_data"
    },
    {
     "name": "stderr",
     "output_type": "stream",
     "text": [
      "Mixed Adversarial Training:  92%|█████████▏| 73/79 [02:21<00:11,  1.94s/it, loss=1.21]"
     ]
    },
    {
     "data": {
      "application/vnd.jupyter.widget-view+json": {
       "model_id": "e471cdc5a6fc4299990eb0b3d587c149",
       "version_major": 2,
       "version_minor": 0
      },
      "text/plain": [
       "PGD - Batches:   0%|          | 0/4 [00:00<?, ?it/s]"
      ]
     },
     "metadata": {},
     "output_type": "display_data"
    },
    {
     "name": "stderr",
     "output_type": "stream",
     "text": [
      "Mixed Adversarial Training:  94%|█████████▎| 74/79 [02:22<00:09,  1.93s/it, loss=1.26]"
     ]
    },
    {
     "data": {
      "application/vnd.jupyter.widget-view+json": {
       "model_id": "b89da14793b0424b840ffee74a783995",
       "version_major": 2,
       "version_minor": 0
      },
      "text/plain": [
       "PGD - Batches:   0%|          | 0/4 [00:00<?, ?it/s]"
      ]
     },
     "metadata": {},
     "output_type": "display_data"
    },
    {
     "name": "stderr",
     "output_type": "stream",
     "text": [
      "Mixed Adversarial Training:  95%|█████████▍| 75/79 [02:24<00:07,  1.93s/it, loss=1.38]"
     ]
    },
    {
     "data": {
      "application/vnd.jupyter.widget-view+json": {
       "model_id": "471601780da2439c8b52a5f5defdb19b",
       "version_major": 2,
       "version_minor": 0
      },
      "text/plain": [
       "PGD - Batches:   0%|          | 0/4 [00:00<?, ?it/s]"
      ]
     },
     "metadata": {},
     "output_type": "display_data"
    },
    {
     "name": "stderr",
     "output_type": "stream",
     "text": [
      "Mixed Adversarial Training:  96%|█████████▌| 76/79 [02:26<00:05,  1.93s/it, loss=1.16]"
     ]
    },
    {
     "data": {
      "application/vnd.jupyter.widget-view+json": {
       "model_id": "ff107443bf404ea1978ed724c9617c36",
       "version_major": 2,
       "version_minor": 0
      },
      "text/plain": [
       "PGD - Batches:   0%|          | 0/4 [00:00<?, ?it/s]"
      ]
     },
     "metadata": {},
     "output_type": "display_data"
    },
    {
     "name": "stderr",
     "output_type": "stream",
     "text": [
      "Mixed Adversarial Training:  97%|█████████▋| 77/79 [02:28<00:03,  1.92s/it, loss=1.04]"
     ]
    },
    {
     "data": {
      "application/vnd.jupyter.widget-view+json": {
       "model_id": "75bbb22af4114a538eae6c80027c13cf",
       "version_major": 2,
       "version_minor": 0
      },
      "text/plain": [
       "PGD - Batches:   0%|          | 0/4 [00:00<?, ?it/s]"
      ]
     },
     "metadata": {},
     "output_type": "display_data"
    },
    {
     "name": "stderr",
     "output_type": "stream",
     "text": [
      "Mixed Adversarial Training:  99%|█████████▊| 78/79 [02:30<00:01,  1.93s/it, loss=1.23]"
     ]
    },
    {
     "data": {
      "application/vnd.jupyter.widget-view+json": {
       "model_id": "1638ddbae9314b5888ff3a3feb8c3fa4",
       "version_major": 2,
       "version_minor": 0
      },
      "text/plain": [
       "PGD - Batches:   0%|          | 0/1 [00:00<?, ?it/s]"
      ]
     },
     "metadata": {},
     "output_type": "display_data"
    },
    {
     "name": "stderr",
     "output_type": "stream",
     "text": [
      "Mixed Adversarial Training: 100%|██████████| 79/79 [02:31<00:00,  1.91s/it, loss=1.32]\n"
     ]
    },
    {
     "name": "stdout",
     "output_type": "stream",
     "text": [
      "✅ Epoch 4 complete — Avg loss: 1.3361\n",
      "\n",
      "🌪 Epoch 5/5\n"
     ]
    },
    {
     "name": "stderr",
     "output_type": "stream",
     "text": [
      "\r",
      "Mixed Adversarial Training:   0%|          | 0/79 [00:00<?, ?it/s]"
     ]
    },
    {
     "data": {
      "application/vnd.jupyter.widget-view+json": {
       "model_id": "29b55e740b6f4927b8b47d094feb849a",
       "version_major": 2,
       "version_minor": 0
      },
      "text/plain": [
       "PGD - Batches:   0%|          | 0/4 [00:00<?, ?it/s]"
      ]
     },
     "metadata": {},
     "output_type": "display_data"
    },
    {
     "name": "stderr",
     "output_type": "stream",
     "text": [
      "Mixed Adversarial Training:   1%|▏         | 1/79 [00:01<02:35,  1.99s/it, loss=1.2]"
     ]
    },
    {
     "data": {
      "application/vnd.jupyter.widget-view+json": {
       "model_id": "8cd960981eb14a3897c50cbfd3f1d5aa",
       "version_major": 2,
       "version_minor": 0
      },
      "text/plain": [
       "PGD - Batches:   0%|          | 0/4 [00:00<?, ?it/s]"
      ]
     },
     "metadata": {},
     "output_type": "display_data"
    },
    {
     "name": "stderr",
     "output_type": "stream",
     "text": [
      "Mixed Adversarial Training:   3%|▎         | 2/79 [00:03<02:30,  1.95s/it, loss=1.3]"
     ]
    },
    {
     "data": {
      "application/vnd.jupyter.widget-view+json": {
       "model_id": "51fb5ca75f6d4f6584c13c9cf3967090",
       "version_major": 2,
       "version_minor": 0
      },
      "text/plain": [
       "PGD - Batches:   0%|          | 0/4 [00:00<?, ?it/s]"
      ]
     },
     "metadata": {},
     "output_type": "display_data"
    },
    {
     "name": "stderr",
     "output_type": "stream",
     "text": [
      "Mixed Adversarial Training:   4%|▍         | 3/79 [00:05<02:27,  1.94s/it, loss=1.34]"
     ]
    },
    {
     "data": {
      "application/vnd.jupyter.widget-view+json": {
       "model_id": "cdd5fc0109ca43f7a776dfef8df3c843",
       "version_major": 2,
       "version_minor": 0
      },
      "text/plain": [
       "PGD - Batches:   0%|          | 0/4 [00:00<?, ?it/s]"
      ]
     },
     "metadata": {},
     "output_type": "display_data"
    },
    {
     "name": "stderr",
     "output_type": "stream",
     "text": [
      "Mixed Adversarial Training:   5%|▌         | 4/79 [00:07<02:24,  1.93s/it, loss=1.08]"
     ]
    },
    {
     "data": {
      "application/vnd.jupyter.widget-view+json": {
       "model_id": "944d6c6030404bcf9fcfaf3d6625ed2d",
       "version_major": 2,
       "version_minor": 0
      },
      "text/plain": [
       "PGD - Batches:   0%|          | 0/4 [00:00<?, ?it/s]"
      ]
     },
     "metadata": {},
     "output_type": "display_data"
    },
    {
     "name": "stderr",
     "output_type": "stream",
     "text": [
      "Mixed Adversarial Training:   6%|▋         | 5/79 [00:09<02:21,  1.92s/it, loss=1.33]"
     ]
    },
    {
     "data": {
      "application/vnd.jupyter.widget-view+json": {
       "model_id": "cf074987690c45dc9e0bca36041bc746",
       "version_major": 2,
       "version_minor": 0
      },
      "text/plain": [
       "PGD - Batches:   0%|          | 0/4 [00:00<?, ?it/s]"
      ]
     },
     "metadata": {},
     "output_type": "display_data"
    },
    {
     "name": "stderr",
     "output_type": "stream",
     "text": [
      "Mixed Adversarial Training:   8%|▊         | 6/79 [00:11<02:19,  1.91s/it, loss=1.35]"
     ]
    },
    {
     "data": {
      "application/vnd.jupyter.widget-view+json": {
       "model_id": "0d59d53038214e7481e8599d772e8214",
       "version_major": 2,
       "version_minor": 0
      },
      "text/plain": [
       "PGD - Batches:   0%|          | 0/4 [00:00<?, ?it/s]"
      ]
     },
     "metadata": {},
     "output_type": "display_data"
    },
    {
     "name": "stderr",
     "output_type": "stream",
     "text": [
      "Mixed Adversarial Training:   9%|▉         | 7/79 [00:13<02:18,  1.93s/it, loss=1.3]"
     ]
    },
    {
     "data": {
      "application/vnd.jupyter.widget-view+json": {
       "model_id": "d9b28c700ed64c869c3c5d31428bc649",
       "version_major": 2,
       "version_minor": 0
      },
      "text/plain": [
       "PGD - Batches:   0%|          | 0/4 [00:00<?, ?it/s]"
      ]
     },
     "metadata": {},
     "output_type": "display_data"
    },
    {
     "name": "stderr",
     "output_type": "stream",
     "text": [
      "Mixed Adversarial Training:  10%|█         | 8/79 [00:15<02:18,  1.95s/it, loss=1.21]"
     ]
    },
    {
     "data": {
      "application/vnd.jupyter.widget-view+json": {
       "model_id": "7ea496402c0a4cbaa6515800dec774fd",
       "version_major": 2,
       "version_minor": 0
      },
      "text/plain": [
       "PGD - Batches:   0%|          | 0/4 [00:00<?, ?it/s]"
      ]
     },
     "metadata": {},
     "output_type": "display_data"
    },
    {
     "name": "stderr",
     "output_type": "stream",
     "text": [
      "Mixed Adversarial Training:  11%|█▏        | 9/79 [00:17<02:15,  1.94s/it, loss=1.17]"
     ]
    },
    {
     "data": {
      "application/vnd.jupyter.widget-view+json": {
       "model_id": "bba8053eb47842c091c0e8bde0e63d09",
       "version_major": 2,
       "version_minor": 0
      },
      "text/plain": [
       "PGD - Batches:   0%|          | 0/4 [00:00<?, ?it/s]"
      ]
     },
     "metadata": {},
     "output_type": "display_data"
    },
    {
     "name": "stderr",
     "output_type": "stream",
     "text": [
      "Mixed Adversarial Training:  13%|█▎        | 10/79 [00:19<02:12,  1.93s/it, loss=1.32]"
     ]
    },
    {
     "data": {
      "application/vnd.jupyter.widget-view+json": {
       "model_id": "6b969db1806342578569ff3ca8001382",
       "version_major": 2,
       "version_minor": 0
      },
      "text/plain": [
       "PGD - Batches:   0%|          | 0/4 [00:00<?, ?it/s]"
      ]
     },
     "metadata": {},
     "output_type": "display_data"
    },
    {
     "name": "stderr",
     "output_type": "stream",
     "text": [
      "Mixed Adversarial Training:  14%|█▍        | 11/79 [00:21<02:10,  1.92s/it, loss=1.29]"
     ]
    },
    {
     "data": {
      "application/vnd.jupyter.widget-view+json": {
       "model_id": "336747746e4842a396c9c701bdf608e0",
       "version_major": 2,
       "version_minor": 0
      },
      "text/plain": [
       "PGD - Batches:   0%|          | 0/4 [00:00<?, ?it/s]"
      ]
     },
     "metadata": {},
     "output_type": "display_data"
    },
    {
     "name": "stderr",
     "output_type": "stream",
     "text": [
      "Mixed Adversarial Training:  15%|█▌        | 12/79 [00:23<02:08,  1.91s/it, loss=1.21]"
     ]
    },
    {
     "data": {
      "application/vnd.jupyter.widget-view+json": {
       "model_id": "dc2e4c5c7c06416398a1af7e337dfcdf",
       "version_major": 2,
       "version_minor": 0
      },
      "text/plain": [
       "PGD - Batches:   0%|          | 0/4 [00:00<?, ?it/s]"
      ]
     },
     "metadata": {},
     "output_type": "display_data"
    },
    {
     "name": "stderr",
     "output_type": "stream",
     "text": [
      "Mixed Adversarial Training:  16%|█▋        | 13/79 [00:25<02:06,  1.92s/it, loss=1.35]"
     ]
    },
    {
     "data": {
      "application/vnd.jupyter.widget-view+json": {
       "model_id": "77846478d1524816a74886cded1ae553",
       "version_major": 2,
       "version_minor": 0
      },
      "text/plain": [
       "PGD - Batches:   0%|          | 0/4 [00:00<?, ?it/s]"
      ]
     },
     "metadata": {},
     "output_type": "display_data"
    },
    {
     "name": "stderr",
     "output_type": "stream",
     "text": [
      "Mixed Adversarial Training:  18%|█▊        | 14/79 [00:27<02:06,  1.94s/it, loss=1.36]"
     ]
    },
    {
     "data": {
      "application/vnd.jupyter.widget-view+json": {
       "model_id": "3cdeed0fbeed4ba090c1035cf2224db4",
       "version_major": 2,
       "version_minor": 0
      },
      "text/plain": [
       "PGD - Batches:   0%|          | 0/4 [00:00<?, ?it/s]"
      ]
     },
     "metadata": {},
     "output_type": "display_data"
    },
    {
     "name": "stderr",
     "output_type": "stream",
     "text": [
      "Mixed Adversarial Training:  19%|█▉        | 15/79 [00:28<02:03,  1.93s/it, loss=1.46]"
     ]
    },
    {
     "data": {
      "application/vnd.jupyter.widget-view+json": {
       "model_id": "781823b2d76b4876a0146ea9fdb2aef8",
       "version_major": 2,
       "version_minor": 0
      },
      "text/plain": [
       "PGD - Batches:   0%|          | 0/4 [00:00<?, ?it/s]"
      ]
     },
     "metadata": {},
     "output_type": "display_data"
    },
    {
     "name": "stderr",
     "output_type": "stream",
     "text": [
      "Mixed Adversarial Training:  20%|██        | 16/79 [00:30<02:01,  1.93s/it, loss=1.16]"
     ]
    },
    {
     "data": {
      "application/vnd.jupyter.widget-view+json": {
       "model_id": "ad2db336e0194fe382c5226d9c9ca29a",
       "version_major": 2,
       "version_minor": 0
      },
      "text/plain": [
       "PGD - Batches:   0%|          | 0/4 [00:00<?, ?it/s]"
      ]
     },
     "metadata": {},
     "output_type": "display_data"
    },
    {
     "name": "stderr",
     "output_type": "stream",
     "text": [
      "Mixed Adversarial Training:  22%|██▏       | 17/79 [00:32<01:59,  1.92s/it, loss=1.34]"
     ]
    },
    {
     "data": {
      "application/vnd.jupyter.widget-view+json": {
       "model_id": "a5104f7a5cf647898d6f15b4668352ed",
       "version_major": 2,
       "version_minor": 0
      },
      "text/plain": [
       "PGD - Batches:   0%|          | 0/4 [00:00<?, ?it/s]"
      ]
     },
     "metadata": {},
     "output_type": "display_data"
    },
    {
     "name": "stderr",
     "output_type": "stream",
     "text": [
      "Mixed Adversarial Training:  23%|██▎       | 18/79 [00:34<01:57,  1.92s/it, loss=1.33]"
     ]
    },
    {
     "data": {
      "application/vnd.jupyter.widget-view+json": {
       "model_id": "5a7b273762704f519a3469d09919de17",
       "version_major": 2,
       "version_minor": 0
      },
      "text/plain": [
       "PGD - Batches:   0%|          | 0/4 [00:00<?, ?it/s]"
      ]
     },
     "metadata": {},
     "output_type": "display_data"
    },
    {
     "name": "stderr",
     "output_type": "stream",
     "text": [
      "Mixed Adversarial Training:  24%|██▍       | 19/79 [00:36<01:55,  1.92s/it, loss=1.22]"
     ]
    },
    {
     "data": {
      "application/vnd.jupyter.widget-view+json": {
       "model_id": "8ffdb8bd8c5b44a0aeb298239bbcecc8",
       "version_major": 2,
       "version_minor": 0
      },
      "text/plain": [
       "PGD - Batches:   0%|          | 0/4 [00:00<?, ?it/s]"
      ]
     },
     "metadata": {},
     "output_type": "display_data"
    },
    {
     "name": "stderr",
     "output_type": "stream",
     "text": [
      "Mixed Adversarial Training:  25%|██▌       | 20/79 [00:38<01:54,  1.93s/it, loss=1.22]"
     ]
    },
    {
     "data": {
      "application/vnd.jupyter.widget-view+json": {
       "model_id": "4dbb35a58c3b49a7b00916b47be262f4",
       "version_major": 2,
       "version_minor": 0
      },
      "text/plain": [
       "PGD - Batches:   0%|          | 0/4 [00:00<?, ?it/s]"
      ]
     },
     "metadata": {},
     "output_type": "display_data"
    },
    {
     "name": "stderr",
     "output_type": "stream",
     "text": [
      "Mixed Adversarial Training:  27%|██▋       | 21/79 [00:40<01:53,  1.95s/it, loss=1.22]"
     ]
    },
    {
     "data": {
      "application/vnd.jupyter.widget-view+json": {
       "model_id": "693d1efd561846b1a111c269991f48fb",
       "version_major": 2,
       "version_minor": 0
      },
      "text/plain": [
       "PGD - Batches:   0%|          | 0/4 [00:00<?, ?it/s]"
      ]
     },
     "metadata": {},
     "output_type": "display_data"
    },
    {
     "name": "stderr",
     "output_type": "stream",
     "text": [
      "Mixed Adversarial Training:  28%|██▊       | 22/79 [00:42<01:50,  1.94s/it, loss=1.24]"
     ]
    },
    {
     "data": {
      "application/vnd.jupyter.widget-view+json": {
       "model_id": "a93579c72009434291e79d4efd45ecc7",
       "version_major": 2,
       "version_minor": 0
      },
      "text/plain": [
       "PGD - Batches:   0%|          | 0/4 [00:00<?, ?it/s]"
      ]
     },
     "metadata": {},
     "output_type": "display_data"
    },
    {
     "name": "stderr",
     "output_type": "stream",
     "text": [
      "Mixed Adversarial Training:  29%|██▉       | 23/79 [00:44<01:48,  1.93s/it, loss=1.4]"
     ]
    },
    {
     "data": {
      "application/vnd.jupyter.widget-view+json": {
       "model_id": "18b774d69a7447e4b0aa4d31c6547aaa",
       "version_major": 2,
       "version_minor": 0
      },
      "text/plain": [
       "PGD - Batches:   0%|          | 0/4 [00:00<?, ?it/s]"
      ]
     },
     "metadata": {},
     "output_type": "display_data"
    },
    {
     "name": "stderr",
     "output_type": "stream",
     "text": [
      "Mixed Adversarial Training:  30%|███       | 24/79 [00:46<01:45,  1.93s/it, loss=1.18]"
     ]
    },
    {
     "data": {
      "application/vnd.jupyter.widget-view+json": {
       "model_id": "6a13aa90824f41759f9df9fd44b51477",
       "version_major": 2,
       "version_minor": 0
      },
      "text/plain": [
       "PGD - Batches:   0%|          | 0/4 [00:00<?, ?it/s]"
      ]
     },
     "metadata": {},
     "output_type": "display_data"
    },
    {
     "name": "stderr",
     "output_type": "stream",
     "text": [
      "Mixed Adversarial Training:  32%|███▏      | 25/79 [00:48<01:43,  1.92s/it, loss=1.21]"
     ]
    },
    {
     "data": {
      "application/vnd.jupyter.widget-view+json": {
       "model_id": "f2b8696f628e4ca486131109db50cfb6",
       "version_major": 2,
       "version_minor": 0
      },
      "text/plain": [
       "PGD - Batches:   0%|          | 0/4 [00:00<?, ?it/s]"
      ]
     },
     "metadata": {},
     "output_type": "display_data"
    },
    {
     "name": "stderr",
     "output_type": "stream",
     "text": [
      "Mixed Adversarial Training:  33%|███▎      | 26/79 [00:50<01:41,  1.92s/it, loss=1.26]"
     ]
    },
    {
     "data": {
      "application/vnd.jupyter.widget-view+json": {
       "model_id": "ef9905836d3e422e8a0fa61d92222747",
       "version_major": 2,
       "version_minor": 0
      },
      "text/plain": [
       "PGD - Batches:   0%|          | 0/4 [00:00<?, ?it/s]"
      ]
     },
     "metadata": {},
     "output_type": "display_data"
    },
    {
     "name": "stderr",
     "output_type": "stream",
     "text": [
      "Mixed Adversarial Training:  34%|███▍      | 27/79 [00:52<01:41,  1.94s/it, loss=1.17]"
     ]
    },
    {
     "data": {
      "application/vnd.jupyter.widget-view+json": {
       "model_id": "c394f1dce19f4e36a6f7824cb3a57e23",
       "version_major": 2,
       "version_minor": 0
      },
      "text/plain": [
       "PGD - Batches:   0%|          | 0/4 [00:00<?, ?it/s]"
      ]
     },
     "metadata": {},
     "output_type": "display_data"
    },
    {
     "name": "stderr",
     "output_type": "stream",
     "text": [
      "Mixed Adversarial Training:  35%|███▌      | 28/79 [00:54<01:38,  1.93s/it, loss=1.32]"
     ]
    },
    {
     "data": {
      "application/vnd.jupyter.widget-view+json": {
       "model_id": "f766aef289a042cd886c6698ed582c79",
       "version_major": 2,
       "version_minor": 0
      },
      "text/plain": [
       "PGD - Batches:   0%|          | 0/4 [00:00<?, ?it/s]"
      ]
     },
     "metadata": {},
     "output_type": "display_data"
    },
    {
     "name": "stderr",
     "output_type": "stream",
     "text": [
      "Mixed Adversarial Training:  37%|███▋      | 29/79 [00:55<01:36,  1.93s/it, loss=1.23]"
     ]
    },
    {
     "data": {
      "application/vnd.jupyter.widget-view+json": {
       "model_id": "084fc1433389455db108bd9d1a0f09e2",
       "version_major": 2,
       "version_minor": 0
      },
      "text/plain": [
       "PGD - Batches:   0%|          | 0/4 [00:00<?, ?it/s]"
      ]
     },
     "metadata": {},
     "output_type": "display_data"
    },
    {
     "name": "stderr",
     "output_type": "stream",
     "text": [
      "Mixed Adversarial Training:  38%|███▊      | 30/79 [00:57<01:34,  1.92s/it, loss=1.1]"
     ]
    },
    {
     "data": {
      "application/vnd.jupyter.widget-view+json": {
       "model_id": "a2f5ff00b4504b049461c6e994f45495",
       "version_major": 2,
       "version_minor": 0
      },
      "text/plain": [
       "PGD - Batches:   0%|          | 0/4 [00:00<?, ?it/s]"
      ]
     },
     "metadata": {},
     "output_type": "display_data"
    },
    {
     "name": "stderr",
     "output_type": "stream",
     "text": [
      "Mixed Adversarial Training:  39%|███▉      | 31/79 [00:59<01:31,  1.92s/it, loss=1.09]"
     ]
    },
    {
     "data": {
      "application/vnd.jupyter.widget-view+json": {
       "model_id": "b6361728898745b89234b6fa0680e0a0",
       "version_major": 2,
       "version_minor": 0
      },
      "text/plain": [
       "PGD - Batches:   0%|          | 0/4 [00:00<?, ?it/s]"
      ]
     },
     "metadata": {},
     "output_type": "display_data"
    },
    {
     "name": "stderr",
     "output_type": "stream",
     "text": [
      "Mixed Adversarial Training:  41%|████      | 32/79 [01:01<01:29,  1.91s/it, loss=1.07]"
     ]
    },
    {
     "data": {
      "application/vnd.jupyter.widget-view+json": {
       "model_id": "97741b8751de4e7f8cca18fa2768ce8a",
       "version_major": 2,
       "version_minor": 0
      },
      "text/plain": [
       "PGD - Batches:   0%|          | 0/4 [00:00<?, ?it/s]"
      ]
     },
     "metadata": {},
     "output_type": "display_data"
    },
    {
     "name": "stderr",
     "output_type": "stream",
     "text": [
      "Mixed Adversarial Training:  42%|████▏     | 33/79 [01:03<01:28,  1.93s/it, loss=1.15]"
     ]
    },
    {
     "data": {
      "application/vnd.jupyter.widget-view+json": {
       "model_id": "353090b57e4b4ed58bed9c72d8697519",
       "version_major": 2,
       "version_minor": 0
      },
      "text/plain": [
       "PGD - Batches:   0%|          | 0/4 [00:00<?, ?it/s]"
      ]
     },
     "metadata": {},
     "output_type": "display_data"
    },
    {
     "name": "stderr",
     "output_type": "stream",
     "text": [
      "Mixed Adversarial Training:  43%|████▎     | 34/79 [01:05<01:27,  1.95s/it, loss=1.33]"
     ]
    },
    {
     "data": {
      "application/vnd.jupyter.widget-view+json": {
       "model_id": "a09b4839cdd14d5394689722d7454d8d",
       "version_major": 2,
       "version_minor": 0
      },
      "text/plain": [
       "PGD - Batches:   0%|          | 0/4 [00:00<?, ?it/s]"
      ]
     },
     "metadata": {},
     "output_type": "display_data"
    },
    {
     "name": "stderr",
     "output_type": "stream",
     "text": [
      "Mixed Adversarial Training:  44%|████▍     | 35/79 [01:07<01:25,  1.94s/it, loss=1.27]"
     ]
    },
    {
     "data": {
      "application/vnd.jupyter.widget-view+json": {
       "model_id": "ffc71c45b48b42da99c07c5bc4fa4dc5",
       "version_major": 2,
       "version_minor": 0
      },
      "text/plain": [
       "PGD - Batches:   0%|          | 0/4 [00:00<?, ?it/s]"
      ]
     },
     "metadata": {},
     "output_type": "display_data"
    },
    {
     "name": "stderr",
     "output_type": "stream",
     "text": [
      "Mixed Adversarial Training:  46%|████▌     | 36/79 [01:09<01:23,  1.93s/it, loss=1.33]"
     ]
    },
    {
     "data": {
      "application/vnd.jupyter.widget-view+json": {
       "model_id": "e4763b7baf664538a1b6e8d1abc78376",
       "version_major": 2,
       "version_minor": 0
      },
      "text/plain": [
       "PGD - Batches:   0%|          | 0/4 [00:00<?, ?it/s]"
      ]
     },
     "metadata": {},
     "output_type": "display_data"
    },
    {
     "name": "stderr",
     "output_type": "stream",
     "text": [
      "Mixed Adversarial Training:  47%|████▋     | 37/79 [01:11<01:21,  1.93s/it, loss=1.16]"
     ]
    },
    {
     "data": {
      "application/vnd.jupyter.widget-view+json": {
       "model_id": "18b4699a2b8a477cb71e469c67d56418",
       "version_major": 2,
       "version_minor": 0
      },
      "text/plain": [
       "PGD - Batches:   0%|          | 0/4 [00:00<?, ?it/s]"
      ]
     },
     "metadata": {},
     "output_type": "display_data"
    },
    {
     "name": "stderr",
     "output_type": "stream",
     "text": [
      "Mixed Adversarial Training:  48%|████▊     | 38/79 [01:13<01:19,  1.94s/it, loss=1.33]"
     ]
    },
    {
     "data": {
      "application/vnd.jupyter.widget-view+json": {
       "model_id": "a3bf2525fbcf448486267c38d88cda56",
       "version_major": 2,
       "version_minor": 0
      },
      "text/plain": [
       "PGD - Batches:   0%|          | 0/4 [00:00<?, ?it/s]"
      ]
     },
     "metadata": {},
     "output_type": "display_data"
    },
    {
     "name": "stderr",
     "output_type": "stream",
     "text": [
      "Mixed Adversarial Training:  49%|████▉     | 39/79 [01:15<01:17,  1.94s/it, loss=1.28]"
     ]
    },
    {
     "data": {
      "application/vnd.jupyter.widget-view+json": {
       "model_id": "6ac7119966904d12ada6d8ac34da3d03",
       "version_major": 2,
       "version_minor": 0
      },
      "text/plain": [
       "PGD - Batches:   0%|          | 0/4 [00:00<?, ?it/s]"
      ]
     },
     "metadata": {},
     "output_type": "display_data"
    },
    {
     "name": "stderr",
     "output_type": "stream",
     "text": [
      "Mixed Adversarial Training:  51%|█████     | 40/79 [01:17<01:16,  1.96s/it, loss=1.1]"
     ]
    },
    {
     "data": {
      "application/vnd.jupyter.widget-view+json": {
       "model_id": "5d5d244bf782433f9c4a374384cd3130",
       "version_major": 2,
       "version_minor": 0
      },
      "text/plain": [
       "PGD - Batches:   0%|          | 0/4 [00:00<?, ?it/s]"
      ]
     },
     "metadata": {},
     "output_type": "display_data"
    },
    {
     "name": "stderr",
     "output_type": "stream",
     "text": [
      "Mixed Adversarial Training:  52%|█████▏    | 41/79 [01:19<01:14,  1.95s/it, loss=1.1]"
     ]
    },
    {
     "data": {
      "application/vnd.jupyter.widget-view+json": {
       "model_id": "837f1a420a2c4d62b3786265d47de263",
       "version_major": 2,
       "version_minor": 0
      },
      "text/plain": [
       "PGD - Batches:   0%|          | 0/4 [00:00<?, ?it/s]"
      ]
     },
     "metadata": {},
     "output_type": "display_data"
    },
    {
     "name": "stderr",
     "output_type": "stream",
     "text": [
      "Mixed Adversarial Training:  53%|█████▎    | 42/79 [01:21<01:11,  1.94s/it, loss=1.12]"
     ]
    },
    {
     "data": {
      "application/vnd.jupyter.widget-view+json": {
       "model_id": "9ee03779fb434031bc5347f4c68f8e70",
       "version_major": 2,
       "version_minor": 0
      },
      "text/plain": [
       "PGD - Batches:   0%|          | 0/4 [00:00<?, ?it/s]"
      ]
     },
     "metadata": {},
     "output_type": "display_data"
    },
    {
     "name": "stderr",
     "output_type": "stream",
     "text": [
      "Mixed Adversarial Training:  54%|█████▍    | 43/79 [01:23<01:09,  1.93s/it, loss=1.22]"
     ]
    },
    {
     "data": {
      "application/vnd.jupyter.widget-view+json": {
       "model_id": "f9c941a6857648809462216b64de0a94",
       "version_major": 2,
       "version_minor": 0
      },
      "text/plain": [
       "PGD - Batches:   0%|          | 0/4 [00:00<?, ?it/s]"
      ]
     },
     "metadata": {},
     "output_type": "display_data"
    },
    {
     "name": "stderr",
     "output_type": "stream",
     "text": [
      "Mixed Adversarial Training:  56%|█████▌    | 44/79 [01:24<01:07,  1.92s/it, loss=1.2]"
     ]
    },
    {
     "data": {
      "application/vnd.jupyter.widget-view+json": {
       "model_id": "8b6c9a76200a4870a639c07b531e0584",
       "version_major": 2,
       "version_minor": 0
      },
      "text/plain": [
       "PGD - Batches:   0%|          | 0/4 [00:00<?, ?it/s]"
      ]
     },
     "metadata": {},
     "output_type": "display_data"
    },
    {
     "name": "stderr",
     "output_type": "stream",
     "text": [
      "Mixed Adversarial Training:  57%|█████▋    | 45/79 [01:26<01:05,  1.92s/it, loss=1.11]"
     ]
    },
    {
     "data": {
      "application/vnd.jupyter.widget-view+json": {
       "model_id": "ee5039acecb14e4fa677981151fc22cf",
       "version_major": 2,
       "version_minor": 0
      },
      "text/plain": [
       "PGD - Batches:   0%|          | 0/4 [00:00<?, ?it/s]"
      ]
     },
     "metadata": {},
     "output_type": "display_data"
    },
    {
     "name": "stderr",
     "output_type": "stream",
     "text": [
      "Mixed Adversarial Training:  58%|█████▊    | 46/79 [01:28<01:03,  1.94s/it, loss=1.18]"
     ]
    },
    {
     "data": {
      "application/vnd.jupyter.widget-view+json": {
       "model_id": "01e05de94621415f9fe93d77b89cfd77",
       "version_major": 2,
       "version_minor": 0
      },
      "text/plain": [
       "PGD - Batches:   0%|          | 0/4 [00:00<?, ?it/s]"
      ]
     },
     "metadata": {},
     "output_type": "display_data"
    },
    {
     "name": "stderr",
     "output_type": "stream",
     "text": [
      "Mixed Adversarial Training:  59%|█████▉    | 47/79 [01:30<01:02,  1.95s/it, loss=1.23]"
     ]
    },
    {
     "data": {
      "application/vnd.jupyter.widget-view+json": {
       "model_id": "273b05f55c374b4c8f7d5397e8efa5bf",
       "version_major": 2,
       "version_minor": 0
      },
      "text/plain": [
       "PGD - Batches:   0%|          | 0/4 [00:00<?, ?it/s]"
      ]
     },
     "metadata": {},
     "output_type": "display_data"
    },
    {
     "name": "stderr",
     "output_type": "stream",
     "text": [
      "Mixed Adversarial Training:  61%|██████    | 48/79 [01:32<01:00,  1.94s/it, loss=1.19]"
     ]
    },
    {
     "data": {
      "application/vnd.jupyter.widget-view+json": {
       "model_id": "0180d517e2e24265bf147d0d09f649d8",
       "version_major": 2,
       "version_minor": 0
      },
      "text/plain": [
       "PGD - Batches:   0%|          | 0/4 [00:00<?, ?it/s]"
      ]
     },
     "metadata": {},
     "output_type": "display_data"
    },
    {
     "name": "stderr",
     "output_type": "stream",
     "text": [
      "Mixed Adversarial Training:  62%|██████▏   | 49/79 [01:34<00:57,  1.93s/it, loss=1.18]"
     ]
    },
    {
     "data": {
      "application/vnd.jupyter.widget-view+json": {
       "model_id": "b15c21480704478ea1ebf8451a03391b",
       "version_major": 2,
       "version_minor": 0
      },
      "text/plain": [
       "PGD - Batches:   0%|          | 0/4 [00:00<?, ?it/s]"
      ]
     },
     "metadata": {},
     "output_type": "display_data"
    },
    {
     "name": "stderr",
     "output_type": "stream",
     "text": [
      "Mixed Adversarial Training:  63%|██████▎   | 50/79 [01:36<00:55,  1.93s/it, loss=1.34]"
     ]
    },
    {
     "data": {
      "application/vnd.jupyter.widget-view+json": {
       "model_id": "5bedaecff81d4db4860ffb80a969442f",
       "version_major": 2,
       "version_minor": 0
      },
      "text/plain": [
       "PGD - Batches:   0%|          | 0/4 [00:00<?, ?it/s]"
      ]
     },
     "metadata": {},
     "output_type": "display_data"
    },
    {
     "name": "stderr",
     "output_type": "stream",
     "text": [
      "Mixed Adversarial Training:  65%|██████▍   | 51/79 [01:38<00:53,  1.93s/it, loss=1.23]"
     ]
    },
    {
     "data": {
      "application/vnd.jupyter.widget-view+json": {
       "model_id": "afbc0b7437fc46aba0f464d0e856daa5",
       "version_major": 2,
       "version_minor": 0
      },
      "text/plain": [
       "PGD - Batches:   0%|          | 0/4 [00:00<?, ?it/s]"
      ]
     },
     "metadata": {},
     "output_type": "display_data"
    },
    {
     "name": "stderr",
     "output_type": "stream",
     "text": [
      "Mixed Adversarial Training:  66%|██████▌   | 52/79 [01:40<00:52,  1.93s/it, loss=1.11]"
     ]
    },
    {
     "data": {
      "application/vnd.jupyter.widget-view+json": {
       "model_id": "86165640d7fe4671a234a72992638dfa",
       "version_major": 2,
       "version_minor": 0
      },
      "text/plain": [
       "PGD - Batches:   0%|          | 0/4 [00:00<?, ?it/s]"
      ]
     },
     "metadata": {},
     "output_type": "display_data"
    },
    {
     "name": "stderr",
     "output_type": "stream",
     "text": [
      "Mixed Adversarial Training:  67%|██████▋   | 53/79 [01:42<00:50,  1.96s/it, loss=1.23]"
     ]
    },
    {
     "data": {
      "application/vnd.jupyter.widget-view+json": {
       "model_id": "552edb3a9d484d49868c1331af147063",
       "version_major": 2,
       "version_minor": 0
      },
      "text/plain": [
       "PGD - Batches:   0%|          | 0/4 [00:00<?, ?it/s]"
      ]
     },
     "metadata": {},
     "output_type": "display_data"
    },
    {
     "name": "stderr",
     "output_type": "stream",
     "text": [
      "Mixed Adversarial Training:  68%|██████▊   | 54/79 [01:44<00:48,  1.95s/it, loss=1.27]"
     ]
    },
    {
     "data": {
      "application/vnd.jupyter.widget-view+json": {
       "model_id": "ad8e84214fff411fa85bdef7603309e8",
       "version_major": 2,
       "version_minor": 0
      },
      "text/plain": [
       "PGD - Batches:   0%|          | 0/4 [00:00<?, ?it/s]"
      ]
     },
     "metadata": {},
     "output_type": "display_data"
    },
    {
     "name": "stderr",
     "output_type": "stream",
     "text": [
      "Mixed Adversarial Training:  70%|██████▉   | 55/79 [01:46<00:46,  1.94s/it, loss=1.25]"
     ]
    },
    {
     "data": {
      "application/vnd.jupyter.widget-view+json": {
       "model_id": "a21163dbe1ec4885a35d1ab3b8023676",
       "version_major": 2,
       "version_minor": 0
      },
      "text/plain": [
       "PGD - Batches:   0%|          | 0/4 [00:00<?, ?it/s]"
      ]
     },
     "metadata": {},
     "output_type": "display_data"
    },
    {
     "name": "stderr",
     "output_type": "stream",
     "text": [
      "Mixed Adversarial Training:  71%|███████   | 56/79 [01:48<00:44,  1.93s/it, loss=1.34]"
     ]
    },
    {
     "data": {
      "application/vnd.jupyter.widget-view+json": {
       "model_id": "b88bee5744574baba4c4cc192720a2cc",
       "version_major": 2,
       "version_minor": 0
      },
      "text/plain": [
       "PGD - Batches:   0%|          | 0/4 [00:00<?, ?it/s]"
      ]
     },
     "metadata": {},
     "output_type": "display_data"
    },
    {
     "name": "stderr",
     "output_type": "stream",
     "text": [
      "Mixed Adversarial Training:  72%|███████▏  | 57/79 [01:50<00:42,  1.92s/it, loss=1.26]"
     ]
    },
    {
     "data": {
      "application/vnd.jupyter.widget-view+json": {
       "model_id": "e058403978d3426a905146de153e5bdc",
       "version_major": 2,
       "version_minor": 0
      },
      "text/plain": [
       "PGD - Batches:   0%|          | 0/4 [00:00<?, ?it/s]"
      ]
     },
     "metadata": {},
     "output_type": "display_data"
    },
    {
     "name": "stderr",
     "output_type": "stream",
     "text": [
      "Mixed Adversarial Training:  73%|███████▎  | 58/79 [01:52<00:40,  1.92s/it, loss=1.12]"
     ]
    },
    {
     "data": {
      "application/vnd.jupyter.widget-view+json": {
       "model_id": "da54492a6e5a4c04b1a14354248562ca",
       "version_major": 2,
       "version_minor": 0
      },
      "text/plain": [
       "PGD - Batches:   0%|          | 0/4 [00:00<?, ?it/s]"
      ]
     },
     "metadata": {},
     "output_type": "display_data"
    },
    {
     "name": "stderr",
     "output_type": "stream",
     "text": [
      "Mixed Adversarial Training:  75%|███████▍  | 59/79 [01:54<00:38,  1.93s/it, loss=1.03]"
     ]
    },
    {
     "data": {
      "application/vnd.jupyter.widget-view+json": {
       "model_id": "b330909cf54c4fcdbd248d097e2d0f1c",
       "version_major": 2,
       "version_minor": 0
      },
      "text/plain": [
       "PGD - Batches:   0%|          | 0/4 [00:00<?, ?it/s]"
      ]
     },
     "metadata": {},
     "output_type": "display_data"
    },
    {
     "name": "stderr",
     "output_type": "stream",
     "text": [
      "Mixed Adversarial Training:  76%|███████▌  | 60/79 [01:56<00:37,  1.95s/it, loss=1.31]"
     ]
    },
    {
     "data": {
      "application/vnd.jupyter.widget-view+json": {
       "model_id": "c2ebcf289b824fb8ab2f701756453f27",
       "version_major": 2,
       "version_minor": 0
      },
      "text/plain": [
       "PGD - Batches:   0%|          | 0/4 [00:00<?, ?it/s]"
      ]
     },
     "metadata": {},
     "output_type": "display_data"
    },
    {
     "name": "stderr",
     "output_type": "stream",
     "text": [
      "Mixed Adversarial Training:  77%|███████▋  | 61/79 [01:57<00:34,  1.93s/it, loss=1.38]"
     ]
    },
    {
     "data": {
      "application/vnd.jupyter.widget-view+json": {
       "model_id": "d0321d78170a4b00b45ca59c9541da85",
       "version_major": 2,
       "version_minor": 0
      },
      "text/plain": [
       "PGD - Batches:   0%|          | 0/4 [00:00<?, ?it/s]"
      ]
     },
     "metadata": {},
     "output_type": "display_data"
    },
    {
     "name": "stderr",
     "output_type": "stream",
     "text": [
      "Mixed Adversarial Training:  78%|███████▊  | 62/79 [01:59<00:32,  1.93s/it, loss=1.18]"
     ]
    },
    {
     "data": {
      "application/vnd.jupyter.widget-view+json": {
       "model_id": "ec114ccb61e04eb1806883bb38396249",
       "version_major": 2,
       "version_minor": 0
      },
      "text/plain": [
       "PGD - Batches:   0%|          | 0/4 [00:00<?, ?it/s]"
      ]
     },
     "metadata": {},
     "output_type": "display_data"
    },
    {
     "name": "stderr",
     "output_type": "stream",
     "text": [
      "Mixed Adversarial Training:  80%|███████▉  | 63/79 [02:01<00:30,  1.92s/it, loss=1.23]"
     ]
    },
    {
     "data": {
      "application/vnd.jupyter.widget-view+json": {
       "model_id": "d5170fe425d943628b9ab864a2d5ace4",
       "version_major": 2,
       "version_minor": 0
      },
      "text/plain": [
       "PGD - Batches:   0%|          | 0/4 [00:00<?, ?it/s]"
      ]
     },
     "metadata": {},
     "output_type": "display_data"
    },
    {
     "name": "stderr",
     "output_type": "stream",
     "text": [
      "Mixed Adversarial Training:  81%|████████  | 64/79 [02:03<00:28,  1.92s/it, loss=1.09]"
     ]
    },
    {
     "data": {
      "application/vnd.jupyter.widget-view+json": {
       "model_id": "efef6a18925849098278567a1b26f4d7",
       "version_major": 2,
       "version_minor": 0
      },
      "text/plain": [
       "PGD - Batches:   0%|          | 0/4 [00:00<?, ?it/s]"
      ]
     },
     "metadata": {},
     "output_type": "display_data"
    },
    {
     "name": "stderr",
     "output_type": "stream",
     "text": [
      "Mixed Adversarial Training:  82%|████████▏ | 65/79 [02:05<00:26,  1.92s/it, loss=1.14]"
     ]
    },
    {
     "data": {
      "application/vnd.jupyter.widget-view+json": {
       "model_id": "baf9b7123867403c877b0f7ca25b87af",
       "version_major": 2,
       "version_minor": 0
      },
      "text/plain": [
       "PGD - Batches:   0%|          | 0/4 [00:00<?, ?it/s]"
      ]
     },
     "metadata": {},
     "output_type": "display_data"
    },
    {
     "name": "stderr",
     "output_type": "stream",
     "text": [
      "Mixed Adversarial Training:  84%|████████▎ | 66/79 [02:07<00:25,  1.95s/it, loss=1.21]"
     ]
    },
    {
     "data": {
      "application/vnd.jupyter.widget-view+json": {
       "model_id": "696eab90fb2542f08244bf146ddc4c6a",
       "version_major": 2,
       "version_minor": 0
      },
      "text/plain": [
       "PGD - Batches:   0%|          | 0/4 [00:00<?, ?it/s]"
      ]
     },
     "metadata": {},
     "output_type": "display_data"
    },
    {
     "name": "stderr",
     "output_type": "stream",
     "text": [
      "Mixed Adversarial Training:  85%|████████▍ | 67/79 [02:09<00:23,  1.94s/it, loss=1.29]"
     ]
    },
    {
     "data": {
      "application/vnd.jupyter.widget-view+json": {
       "model_id": "cfa2a203cfe842c48494c1f7d4d26864",
       "version_major": 2,
       "version_minor": 0
      },
      "text/plain": [
       "PGD - Batches:   0%|          | 0/4 [00:00<?, ?it/s]"
      ]
     },
     "metadata": {},
     "output_type": "display_data"
    },
    {
     "name": "stderr",
     "output_type": "stream",
     "text": [
      "Mixed Adversarial Training:  86%|████████▌ | 68/79 [02:11<00:21,  1.93s/it, loss=1.16]"
     ]
    },
    {
     "data": {
      "application/vnd.jupyter.widget-view+json": {
       "model_id": "ac01032086bb4bb4a12ff81721383b22",
       "version_major": 2,
       "version_minor": 0
      },
      "text/plain": [
       "PGD - Batches:   0%|          | 0/4 [00:00<?, ?it/s]"
      ]
     },
     "metadata": {},
     "output_type": "display_data"
    },
    {
     "name": "stderr",
     "output_type": "stream",
     "text": [
      "Mixed Adversarial Training:  87%|████████▋ | 69/79 [02:13<00:19,  1.93s/it, loss=1.15]"
     ]
    },
    {
     "data": {
      "application/vnd.jupyter.widget-view+json": {
       "model_id": "3f48da49df014e4d9fc5ad6fddd286af",
       "version_major": 2,
       "version_minor": 0
      },
      "text/plain": [
       "PGD - Batches:   0%|          | 0/4 [00:00<?, ?it/s]"
      ]
     },
     "metadata": {},
     "output_type": "display_data"
    },
    {
     "name": "stderr",
     "output_type": "stream",
     "text": [
      "Mixed Adversarial Training:  89%|████████▊ | 70/79 [02:15<00:17,  1.92s/it, loss=1.22]"
     ]
    },
    {
     "data": {
      "application/vnd.jupyter.widget-view+json": {
       "model_id": "d08d662dbe0b4b19a5518d325ed3478a",
       "version_major": 2,
       "version_minor": 0
      },
      "text/plain": [
       "PGD - Batches:   0%|          | 0/4 [00:00<?, ?it/s]"
      ]
     },
     "metadata": {},
     "output_type": "display_data"
    },
    {
     "name": "stderr",
     "output_type": "stream",
     "text": [
      "Mixed Adversarial Training:  90%|████████▉ | 71/79 [02:17<00:15,  1.92s/it, loss=1.07]"
     ]
    },
    {
     "data": {
      "application/vnd.jupyter.widget-view+json": {
       "model_id": "7ffad022889c444c99525259f73d9875",
       "version_major": 2,
       "version_minor": 0
      },
      "text/plain": [
       "PGD - Batches:   0%|          | 0/4 [00:00<?, ?it/s]"
      ]
     },
     "metadata": {},
     "output_type": "display_data"
    },
    {
     "name": "stderr",
     "output_type": "stream",
     "text": [
      "Mixed Adversarial Training:  91%|█████████ | 72/79 [02:19<00:13,  1.93s/it, loss=1.21]"
     ]
    },
    {
     "data": {
      "application/vnd.jupyter.widget-view+json": {
       "model_id": "8b0c226fa18b4d0c81010ad480ee71e9",
       "version_major": 2,
       "version_minor": 0
      },
      "text/plain": [
       "PGD - Batches:   0%|          | 0/4 [00:00<?, ?it/s]"
      ]
     },
     "metadata": {},
     "output_type": "display_data"
    },
    {
     "name": "stderr",
     "output_type": "stream",
     "text": [
      "Mixed Adversarial Training:  92%|█████████▏| 73/79 [02:21<00:11,  1.94s/it, loss=1.17]"
     ]
    },
    {
     "data": {
      "application/vnd.jupyter.widget-view+json": {
       "model_id": "6e7b94b168c14798ae78882eb7ccda44",
       "version_major": 2,
       "version_minor": 0
      },
      "text/plain": [
       "PGD - Batches:   0%|          | 0/4 [00:00<?, ?it/s]"
      ]
     },
     "metadata": {},
     "output_type": "display_data"
    },
    {
     "name": "stderr",
     "output_type": "stream",
     "text": [
      "Mixed Adversarial Training:  94%|█████████▎| 74/79 [02:22<00:09,  1.93s/it, loss=1.26]"
     ]
    },
    {
     "data": {
      "application/vnd.jupyter.widget-view+json": {
       "model_id": "d5f4cb7a8aa94f55b074eabbeeba0549",
       "version_major": 2,
       "version_minor": 0
      },
      "text/plain": [
       "PGD - Batches:   0%|          | 0/4 [00:00<?, ?it/s]"
      ]
     },
     "metadata": {},
     "output_type": "display_data"
    },
    {
     "name": "stderr",
     "output_type": "stream",
     "text": [
      "Mixed Adversarial Training:  95%|█████████▍| 75/79 [02:24<00:07,  1.92s/it, loss=1.23]"
     ]
    },
    {
     "data": {
      "application/vnd.jupyter.widget-view+json": {
       "model_id": "44203b141c514403809db21b28eeceb0",
       "version_major": 2,
       "version_minor": 0
      },
      "text/plain": [
       "PGD - Batches:   0%|          | 0/4 [00:00<?, ?it/s]"
      ]
     },
     "metadata": {},
     "output_type": "display_data"
    },
    {
     "name": "stderr",
     "output_type": "stream",
     "text": [
      "Mixed Adversarial Training:  96%|█████████▌| 76/79 [02:26<00:05,  1.92s/it, loss=1.37]"
     ]
    },
    {
     "data": {
      "application/vnd.jupyter.widget-view+json": {
       "model_id": "dd76aed41b3d4acc92323b1142d69973",
       "version_major": 2,
       "version_minor": 0
      },
      "text/plain": [
       "PGD - Batches:   0%|          | 0/4 [00:00<?, ?it/s]"
      ]
     },
     "metadata": {},
     "output_type": "display_data"
    },
    {
     "name": "stderr",
     "output_type": "stream",
     "text": [
      "Mixed Adversarial Training:  97%|█████████▋| 77/79 [02:28<00:03,  1.93s/it, loss=1.12]"
     ]
    },
    {
     "data": {
      "application/vnd.jupyter.widget-view+json": {
       "model_id": "542f0570cd284aa2b297d0aa603b42cb",
       "version_major": 2,
       "version_minor": 0
      },
      "text/plain": [
       "PGD - Batches:   0%|          | 0/4 [00:00<?, ?it/s]"
      ]
     },
     "metadata": {},
     "output_type": "display_data"
    },
    {
     "name": "stderr",
     "output_type": "stream",
     "text": [
      "Mixed Adversarial Training:  99%|█████████▊| 78/79 [02:30<00:01,  1.92s/it, loss=1.22]"
     ]
    },
    {
     "data": {
      "application/vnd.jupyter.widget-view+json": {
       "model_id": "b4a43f6690124c309393bb0c32e3cf43",
       "version_major": 2,
       "version_minor": 0
      },
      "text/plain": [
       "PGD - Batches:   0%|          | 0/1 [00:00<?, ?it/s]"
      ]
     },
     "metadata": {},
     "output_type": "display_data"
    },
    {
     "name": "stderr",
     "output_type": "stream",
     "text": [
      "Mixed Adversarial Training: 100%|██████████| 79/79 [02:31<00:00,  1.91s/it, loss=1.53]"
     ]
    },
    {
     "name": "stdout",
     "output_type": "stream",
     "text": [
      "✅ Epoch 5 complete — Avg loss: 1.2303\n"
     ]
    },
    {
     "name": "stderr",
     "output_type": "stream",
     "text": [
      "\n"
     ]
    }
   ],
   "source": [
    "criterion = nn.CrossEntropyLoss()\n",
    "optimizer = optim.Adam(model.parameters(), lr=1e-3)\n",
    "\n",
    "classifier = PyTorchClassifier(\n",
    "    model=model,\n",
    "    loss=criterion,\n",
    "    optimizer=optimizer,\n",
    "    input_shape=(3, 32, 32),\n",
    "    nb_classes=10,\n",
    "    clip_values=(0.0, 1.0),\n",
    "    device_type='gpu' if torch.cuda.is_available() else 'cpu'\n",
    ")\n",
    "\n",
    "fgsm = FastGradientMethod(estimator=classifier, eps=0.03)\n",
    "pgd = ProjectedGradientDescent(estimator=classifier, eps=0.03, max_iter=10)\n",
    "\n",
    "# Обучение на смеси атак ===\n",
    "epochs = 5\n",
    "for epoch in range(epochs):\n",
    "    model.train()\n",
    "    total_loss = 0\n",
    "    print(f\"\\n🌪 Epoch {epoch + 1}/{epochs}\")\n",
    "    progress_bar = tqdm(train_loader, desc=\"Mixed Adversarial Training\")\n",
    "\n",
    "    for images, labels in progress_bar:\n",
    "        images, labels = images.to(device), labels.to(device)\n",
    "\n",
    "        model.eval()\n",
    "        fgsm_adv = fgsm.generate(x=images.detach().cpu().numpy())\n",
    "        pgd_adv = pgd.generate(x=images.detach().cpu().numpy())\n",
    "\n",
    "        fgsm_adv = torch.tensor(fgsm_adv).to(device).float()\n",
    "        pgd_adv = torch.tensor(pgd_adv).to(device).float()\n",
    "        model.train()\n",
    "\n",
    "        # Объединяем clean + FGSM + PGD\n",
    "        mixed_images = torch.cat([images, fgsm_adv, pgd_adv])\n",
    "        mixed_labels = torch.cat([labels, labels, labels])\n",
    "\n",
    "        optimizer.zero_grad()\n",
    "        outputs = model(mixed_images)\n",
    "        loss = criterion(outputs, mixed_labels)\n",
    "        loss.backward()\n",
    "        optimizer.step()\n",
    "\n",
    "        total_loss += loss.item()\n",
    "        progress_bar.set_postfix(loss=loss.item())\n",
    "\n",
    "    print(f\"✅ Epoch {epoch + 1} complete — Avg loss: {total_loss / len(train_loader):.4f}\")"
   ]
  },
  {
   "cell_type": "markdown",
   "metadata": {
    "id": "zz_X4IB_f5UQ"
   },
   "source": [
    "Accuracy evaluation on clean + FGSM + PGD:"
   ]
  },
  {
   "cell_type": "code",
   "execution_count": null,
   "metadata": {
    "colab": {
     "base_uri": "https://localhost:8080/",
     "height": 72,
     "referenced_widgets": [
      "807a355d25d64f6186330e6c8b44f137",
      "410a5466de7f4b01a3ad28feeb894ef9",
      "b5a4cd99d7fa4af39cd619e2cb4b5536",
      "3075223ea4f8412683aac06cdfd749c0",
      "2327d8d88b3e4524801827bb8ba9a579",
      "983477be743645fc8a11f7fbc6725d87",
      "c1d856de98ac444aae96930a417ebc94",
      "e181d29961f24b6fa72623acf61b37ca",
      "a3b9836a7c13417287cfa9023dea1de4",
      "3dc452e1ccb54ff2995eadbf05d14949",
      "fe9df05ad64f487ea67af4ecd0ee9699",
      "7c2a7cefe7af4639a6b84217b8fd75b2",
      "923767dac683448baad8f1bf28ec9c02",
      "8f201d83957f47b4b74d5b38033e3d82",
      "2b32310776f1405787895c5aa1d85a0c",
      "7bfb87e0d04f4582bd45de271b5dfd99",
      "3dd243498eb14e04847921226ce598d0",
      "59b59bc064d741c79ee3b7a31aa12721",
      "9f94f96a8bcd492fbdea2e97adb881a8",
      "158187a8b3ff430c87486f666a101d3b",
      "36dc4db2f5d04ac88c83f984dd748969",
      "b44e9759ecd5470bbb647118a1e66116",
      "bb905c4c3c6944b3a99a676521bef9b7",
      "b8d300d455d6482e86d1b3a963253593",
      "1c8f3f0cd7e64f498c62a8c205ec54bf",
      "860300bcb0194b53935819a8fbab6509",
      "100c6843d3ac455c8db931a03240d7f4",
      "3fdeba1143fa4343b95e5e14402ce7b2",
      "a935e3bf0e8840a1b1c5144f27e10048",
      "50d2a871405341a48d119dac57106d14",
      "d338750edbda47358c3c514a8f498524",
      "b4f1860cfeae41389e72c98f0ebf805d",
      "95ba07e1283545049272367740117104",
      "9909a85fa2134ea488b2fdfe39911cb2",
      "55dde96870db43898ceb1b268cfbd41a",
      "a9ef44ce5cbf4695aa67d51e2c12cdbb",
      "1ad19292504d4c96b93d2cafa89d1f88",
      "689863a1105f44df9fb10d3d93c4bbb5",
      "f309a12526794a339dd13a84d43c35a4",
      "a61ad3f00af6488db45ddd68679c1de1",
      "7d4a74e3c17546269b034794b906a1bf",
      "05e7a19344a9404db737febb685dc68d",
      "03bd93f5e27b475ca6bfe0e9623de3b0",
      "b96ac865152d424f8883a9b2f3e4c443",
      "f779e00ca94c4e10b3fe164ffc1386c1",
      "dcf06f040f08485eab5368a862582ff9",
      "5c27b63caff140c39d1a88094615c2d5",
      "3512a9f332754f81bcebe6bb2b1c2f7a",
      "a0288ef3a0a547998b500a8042730427",
      "1651dba71a034f2f9d5318f19b9e5157",
      "d2bbdacfc34445cfaf71f5bbf3cbbfc2",
      "c831654e46044021bf0eab4abc2fc662",
      "29b47c81716649c78e3cd68cd7512b94",
      "0bcc82cfd03e4941aafa3c8d3c9ec334",
      "c2edd75de9784c64b6cacf0510175a61",
      "a6e02e9709394928a8bddcb3bb45e7b7",
      "2cc5a8b529454b08942da5ca5fdbd8e5",
      "a680165dffaf42278e8332c73ff9fabb",
      "581cb916fa4e46c49b0c2c1b20c5c999",
      "348eae6ebcb142a4b984a6741e9521b3",
      "01e75199afdb4befa233f3aa5a91572e",
      "9b6aba17bc0f4fd9813357b3b9f379c0",
      "2a9bdb2a037b40c3908efd48ce3076d7",
      "9701ddd781194335957c10290a54512d",
      "7663243168ba450ab8434b0c2490da3d",
      "b337f0d2c6ef4986bebaafe0a54fafb8",
      "ace0077f9aeb4c39b04bb6ac7efa6946",
      "4e7cbd25d3c94d3e9d455fa6e1d70fa1",
      "9f571fef414b4b708142f8d6e9f21670",
      "0c82d017067d4146ae23e163484dfebb",
      "4258e14a7b0e4b8aab3b952d37c44029",
      "2d4e1422a1d14cb8b7e867c25311f737",
      "a9b749a816c641c19a0cfa99bf4a53c9",
      "51d975742f0e4f62ab3b29adb631986b",
      "bf2271efb0bc4b1eb88075447216126e",
      "efd9c873f58748dab61f78f460907f73",
      "cdbc3c95d300470ba71f0f0b6a41ba92",
      "cfd5407436134a32bb957f309d2a12e6",
      "05dae310d41d49b8842efabe0bc2262e",
      "6a2cd9d2faa84c9789fe2eff9fc79afb",
      "67f9649b3cc5494f88a45de7681b83d6",
      "0dd729ff0957432282fe0fac56c980f9",
      "6b0f406b46e04da48a9134a55c741bfc",
      "17fee56958864cbc9e231f3f3d4f7027",
      "7eb1247b5091413e99a61ee17c8f03e2",
      "adf027a79eb44e0fa86ca5c659642ef1",
      "90a5eaebc87c4edd8a1b68da544c80b6",
      "145d4954e3354c31a25b4c5c3b3c7dec",
      "b4c32bfa87a74777b6d1ae5f95702b24",
      "660710d695d14381855f919bd885b42c",
      "a8f1ae9f0a804d8aa581fb20f197cb8f",
      "1d644b63b3be4033951a667e7ebb8855",
      "ca8be04569f143b4a1bf84d809dff20f",
      "3ace3deadefa41528854ba14bc542806",
      "7e213234e30d4002a8cc634f3b725e26",
      "83cad6f0cf164f269445a0ce0c9132af",
      "2110daf91ca54593bd0f884c4e62372b",
      "881ec5ad4fc84d479ee00bf3fa9f76d3",
      "603818e88d164fc689d8099982f8b7bf",
      "9bdb0883bb58426a9fca2eac525b7b4a",
      "009563e05de34cf899c9c2703d6996e3",
      "8177ae9f12924f63944c08a791cecbc5",
      "9bc2c6b0fc0241cf8c08405e31803b8d",
      "569ff920faa04697aa08e45d5c894f1e",
      "7d8500d99833425ab9516c4b4d819814",
      "b907a090324643248f6c86520312bf72",
      "b579ec9eb5fd40eab1b43ac8ddb8b5d3",
      "690c588cc0524e28999531a3798105b5",
      "56855c37baec4c068f889bf4f7514e17",
      "adc547d669c8415a9ee66ea2437db76f",
      "dafc1fc0531f491e9814b34b380c4383",
      "c9f25dc6701e445c97a4909657a5e89c",
      "8953b06b7c574b099b397985e6cda565",
      "7c43160d57474100a8f68b92fefdcc47",
      "ab1ed4c9936b43a6977cb8434af6b64c",
      "c3fed4c2c7e1461e8146a0bf903b56b9",
      "63547afe92054243a876a8adda47073b",
      "56841329b61a4bef943401106c7704c0",
      "feb4fa49d8154c8f984f62d6d0d80016",
      "f167872d87de425b8f62773b931bbb89",
      "3a76423e01a8467dacf9cb838743b220",
      "a86f6af8083b4e42b12d5f705ab35d2e",
      "c42c9140a53240629e69cae5fb45a1fe",
      "917347b2050642d2b2c2b71be5971e3c",
      "5205b64cc03c40238d066550f82854c4",
      "757cab32a48a4c7c8eab3841df5caeeb",
      "58eb0a3c03d7455fb8803de41532ed2d",
      "50e5a594bd644a91a4834c1017ad3d11",
      "8d123553a5ae4aaf9dc8b1833f0b2a12",
      "f2da2d026d434509939a64b94c0faf93",
      "cb721cf7f2034d8488662f555c2edca7",
      "2836b9ec37da4b138ec1996ca7b30765",
      "5ce264adc624484ba45f148e9d6b288b",
      "4317bf49e4ee46ff898514b13f662983",
      "c73599dcdc5d495885170c425dcf9e30",
      "1907a92a59f8410fb5803c37540e9de8",
      "8f7c50da8008472180ad8735b52623cf",
      "1cc944ca5d644ba1b8d5eceee0b9db6d",
      "9b7b0371722f4b37bb39c8801ff0f2df",
      "a40634b6b83c441ba26ca46b24b3ba47",
      "ef8fed1c7a0c45b69ccef3bc2a865c2d",
      "b25091b39d974a58a9b7f1cec87e483d",
      "2079235573c7497ca3a373a4e13f7b7f",
      "b244019567044b6ab8d899009dbce0dc",
      "df352efc7c804578b04e07d801c3d02e",
      "e47b9aa353f646d2b6091b716cf1b459",
      "00a23be4706b46c6a433445dca2840c4",
      "53b78e39447748178e31f08f06748c43",
      "2fb6cab1ec144097983e706afc92d1d1",
      "365b99e207e04c2f88080b371c287e31",
      "9029a24a602843f79a1031b25f8345d2",
      "e99ec03bc0b248c3ab0ea2eeedbea71e",
      "e8d2c65cad3b41fcbfbdd13be864d7bd",
      "8ebef8f0ab9d486db2250ae4c012e47d",
      "fec688230e86413eb0ace739ecb308b6",
      "f170e64d51fd430aaa113548efe7f45d",
      "b20f61d03326402b9604ac71b6e51416",
      "2a00cbb36f5e4c09a3657add846055f7",
      "7ab5b37dee7a44eab11a27d2cfa8ab77",
      "783ba562cdc3479ca167fdfe9a122a62",
      "1032d7cbb6e641188602451f99e4e893",
      "f24e0aeff81c44fc971b0747643c9c55",
      "84991bbf3713471a85151a5ff5e75221",
      "7bf4d29f39e64cae88fc3b79148b54aa",
      "e90fa7c2c1584fbd94d00121fca24964",
      "18918537d4fb4ec7b83554b8d7c8ff17",
      "1ab04a6e690847de9a601e33cea4925a",
      "06c7834c1f2e48ef9c116b52a2aa4ae4",
      "eb62588d924a4c9e9bf87895c9a60005",
      "dc368e69551a4d1487e2dd1bcf9867f8",
      "d78998ba439a40f6a8b2379e130c1d59",
      "55f694d4a3ff4c68a81f352fad27c292",
      "c8940882805e47f28276be0c2106a6e9",
      "355a7be5e57147ce990708ef3be17e98",
      "cfd347e0d82e4013a746aa05b57adf69",
      "efe57621fb814068aa36d5736e51554a",
      "6d6437be9fb04dfcaefb12b5908bf217",
      "ac4348014f8d4513b5c2e12a9fbecb1b",
      "12219d5f459e4fdaa2db718a9c9be824",
      "1e4877cce3bc4215a12814ce96b4016b",
      "c0c1fe32841f41178f7e8a3171b31d85",
      "5282de8cdd064bf887e1a1e777a58cad",
      "f98553e7d37745fea24b3377edd48e44",
      "6fe8792248e14ff38e6063868dcc950d",
      "196c21f784f94f9ba9f4f90f0243b7aa",
      "087cb207f5f247b1b955c92977c3a5a1",
      "9bef6bff01754eba80517654461b81e4",
      "8685c1c0226f4e6e897c19840a094cc8",
      "f4613aa83d074c7aab2508b90eae7107",
      "843892d61a644e07b81a657d95a673b5",
      "e13d1358e78d46e1b7fdc7ae8410194f",
      "afae7eb806374adba6aec2b54ec3ebd4",
      "12aea73254234368a280ca546d776079",
      "9c905ebca3c04422993ccd9f7f360ca4",
      "40af723a84ec46b78c2d89307e7654d3",
      "00be38a8c82c4113b6d15c8ccace170e",
      "2e2ec2f0f862492dbcdfafd31a7ab32c",
      "bb98ae39b496463fa42e8e776fc30004",
      "a5d2ef92bccf4c3eba7eb8b818a36fbe",
      "b31d26926b574b81ace44590e9407655",
      "8b8b3d928f2f4fa4a4f4c1ff2e0d2342",
      "7aa2c6c696614bcaba9d291d5ed022f1",
      "d8853946c8c0483a8e1ffb1837e72c4c",
      "e3fe2d62f8c14d8ab9ef7e469b60ed05",
      "b49253888ebd491f97941d06c2885b51",
      "5b65b4bc35574a92bbfcd3a8b069e815",
      "31202a1eab394ac48578548fff8222aa",
      "eb2b8ce1640f4e9d9c90fe91f092fe8c",
      "eb1cd8107c5e42c2946b7d86a1d80760",
      "37dc75ec86cd4a9980c761c91987f51c",
      "c6bea36c4d0a4839958d79c38c73423f",
      "b510c97e0acb4ae295dc10358f24e917",
      "d4bd45edbaae460a8e4a648fb2d79501",
      "07c87171149a4c179fd3282dc0d5d265",
      "51ae56d1008a4b30a30b2b123282b4e1",
      "381e2186f9904175be77d05da8d4f266",
      "be7717629e744fe9bfbb57c78ed3531f",
      "26b4194b26a7445d9194ce32b19d141e",
      "ccfa4a3cd3bc432b912b821978763d51",
      "2f1494e55ddb4a8ca03e144d98cfb996",
      "10acff4fce454c24bb68ae746e219280",
      "2d1545f09e1341a486ae8b925da331cc",
      "307b1589222a46caa6db844df420ec18",
      "90c8df3f464d477da9b7c792770d9c0d",
      "476222ed537b400385df6bcbc766c2fa",
      "487523f0d4404c808aaa86d6a8ad0790",
      "eaffefd359a14fed9404e648069fb17d",
      "48673052d60e4a9cac8e03ef565a17b4",
      "594bfeffed4b42c7b11a905eda313172",
      "e8c7d39671ff455ebb93125d0f7fa6a1",
      "2923b6a698c6446c82ffb2677ae1ecec",
      "01321538ba1b4f36bb1b5284c9fd4550",
      "7c81e991d9a244a5b18d4c489a315c83",
      "bff03db4298d4a5ba0f669a3e56e3546",
      "eb267870d12b40c08ae7089814a8da52",
      "91414950ef36460dad684de6121dfe19",
      "e3886bf1c91247c2924443803882cdef",
      "e4d55a9647a7423cbda3a6016342ca5f",
      "175f83c7a9434991887363f4f8535a8b",
      "d63d7ee8315343e3ae04fc0db6cf6e83",
      "1efec2cdac694836859f542ea9a295f7",
      "3b81b2f3d12446da9dacd8e81b88da1e",
      "dbfa0b608745413999606a89ec6d165b",
      "6782ffea8f3944808f25d1de3099853c",
      "15ea255411994b97a21d0a3886c02f25",
      "bcbc7c656c634081ac1a12e7878f785a",
      "c58ce0a6aa2844e6a35587be9d6d03b5",
      "b4c82b8408be4f648606d2550007bbfa",
      "c5ae4f6fe69b45cabf49dbb411b16b02",
      "5012cc5f4b3b457a9c95b77cc2857063",
      "0c68f002d12e45828f4f05b08fb919e4",
      "ae9d10266f9849d19c2e345026c03981",
      "0b9dbda7eadf4eef907c220aed12e448",
      "4408e4faa0734fb097fbc5ec779a1f04",
      "6dd2b836810840e79b4b4ec534bde391",
      "52fd563f3e5844a590be9b421f1fce53",
      "89dce341e02947e592d36044f153c6b0",
      "41fe4bf14d384309bba842e467006ef2",
      "898ea7a29e8944a7b4e5a014685edf8c",
      "97300f9ae5ca4cd2862d4cbf1a1d8db0",
      "ffcf9ac7a5a64375b308adc9a7f97a58",
      "28a33cffb9674ccbae2b774c71514de5",
      "dbc99a16c40a4a0690aa34231c986892",
      "308db806c93944969d137e3f7e00355c",
      "8f1e5d7089534d2987e673a8dd3214d5",
      "e5bce34502824910803b9a65a5076ce1",
      "7b0ebb2e0d8d4aa9a4d4186e87a7a5f6",
      "037db2bd777c45c7996560d30165adb5",
      "5aa1b64a331245599a74e15e5986e211",
      "7c5e2590e8d44a7b8f24b54dfb0cf615",
      "43fa62d799b148bd9685c72313f588cb",
      "af9d1beec3954e6690d3b373a160c6df",
      "eb99f7231ccb47a8bf5994d70aa962e5",
      "cae056baeb194b878fd3472c90cda962",
      "33d452d8248e46f8bc84d01b84de098f",
      "fb33794b8ef84c8598ca8f07fcaf10f4",
      "c8e4f4c17f20431f9fdf88ee921fe893",
      "ccb40bdd61014c0b99aca208e9d3647c",
      "9d8f0923393e464a89f5363e70609089",
      "fe6ffe8eef504dd18e31839ff5e9d577",
      "5cbe3bfe840e44df8f348f53f8860691",
      "14beeb84b0814f2cb30452ba690c82cd",
      "541d08b11f41475e940471c3f5663292",
      "9e0fcf6496504775b921a42900cb0e17",
      "5a8acd11f3224868877c464e1813ce6c",
      "874878e641484a308fdb0546aab77847",
      "e50703ed79374206b2e139252562536e",
      "8678740fb38642b59e5c182c61fd93fa",
      "3a15fac6f437443b9e6102099c889eed",
      "5d5800b8682b42549e62c581d4d874fd",
      "2826bcecd6d645f0a873b640bb9e9365",
      "e783895ef37a487e881a97255e840f8b",
      "e1205dc5f8e6426db4cb3750ba1c26ce",
      "ef522206601d4d86a251412bd341cf14",
      "8b85c056e2214a31b9af940ba5165eb2",
      "e30304dd2d8e40d7b29d54b7af5b0dc4",
      "935a812b47a442b0b0e07b9cab514aea",
      "cab1a4468a494719bb7c4de59ff7bb4f",
      "90de7da4251c4b75b7b8d4e1227438d0",
      "23d70fe6018942c28b69c9d7e04a1937",
      "a5162ef256f34006b4c01227cf64ca4a",
      "ef08546b73b34fe0a36b6c4acdf72034",
      "54d2658aa379414389d93fbab5e617fb",
      "de446aaa4adf40e584d544c7e12184d5",
      "fb5349813d7d44869c6b152887de7428",
      "ec405ab5b4574e82aecf1c64de8b3346",
      "246e98c46eed466a996d2cada77ed732",
      "c9de2a86a19345d6a88e313e775dac6a",
      "50266aad9e5440e4b209a156225e4697",
      "86ca9833b6e74dbcb90031d559607295",
      "cbbb805222314fe6a469f8dc534e1213",
      "d506a26b6a3c42899dd132c1f616fbda",
      "b6a973e2cfe24e2f83243f1c32671690",
      "2ba9403518c9422cb71e9e71bd3ee477",
      "864182a4fcad42609dcfb10ebbdb0abc",
      "601ac79e673d4e34a50d9141c87a1773",
      "824caed07c1b46d9bca848289397355b",
      "bc97b2768e32487dad99b2618dcd2bc6",
      "def3686c9895439f85dd768d5edffdde",
      "36c3e723b951437b921d9152e93b6fa8",
      "dd93993076d4463d8180b2a95d2d5ee4",
      "0d7d128253604af7930c1b308b3c824d",
      "99583265c3674c95b9416620e6b4e814",
      "8ecb0f5c8bad47f68dd980a66a1cef5c",
      "8b904e0c305647f6a5844a369343e446",
      "cd27431f15f74818b6084eae04862dac",
      "2a3261a12dab4216b69107785c130dce",
      "9b67e20abd574575b5e090e269940066",
      "490f65e749ab4caabdd4403798e5ae2b",
      "5918c992d4f64516a046a5f3d2ebdbaa",
      "ec343b1abec647bf9c1f582334bb1d37",
      "9e04b2e85a1e45039b93bdd62c1ce67c",
      "37f5f2fe0b3241a39987dd698d585ae2",
      "a1fa74591d0d473da24348261f9a3363",
      "28a31a576dac4105955cce38be7af7a0",
      "f5bc662da0ee4f00b358f34ed093cc07",
      "e5385ceb111340dab0d90094b1df3093",
      "a3efa7cbeb5a4a26b1dd4760238643c1",
      "bd99923766aa4dfe95bc0e45b076950a",
      "b408a43e8e934848b992c80f6106a1ef",
      "1d99367606cb4c28a22710473f87c3d7",
      "634d1318fa5c42378617ebd0ef16260a",
      "874086da0a174aad9b464dc38271de4f",
      "b246fa1035e346b49b485b750051c8a7",
      "5c5085ece8664670b7a2ec602b5117d3",
      "d33339faf513425f9bafe57f1a2a178c",
      "ef9758030d654f998c1c35a568483f94",
      "bed71a3210fe48e894d924cbe926f417",
      "fe867ad59fdc4d73b033a8cdb581a891",
      "d7fe92517eac4049901d02eac4867c7a",
      "ed5ac195f6674e2d9ecb3872cba72236",
      "dc13d9a25bae4446a896bc9bd0955a70",
      "cbbe3742af2a4c7aad42961dfe79fe33",
      "f75a0581115543deb61db0d8125c1e6a",
      "4f0cb6a0f33e4b54969a6cf784440eaa",
      "3d03dc6814744f98b3780a039881427a",
      "9ce1f8307d294cafb815b35fe296eaeb",
      "521202870cd941f1add51945c1dd129b",
      "23aa8bb07bf84a2dac5cca003165a5f0",
      "0e5dab9d9fef40f98cb9d1203945ef85",
      "96961f55c7cc4bcd8f339d3303bb4e8c",
      "40e9c42a771644368bd52c3e23e81723",
      "a2d58bd91bbe4039aef530f306c2f6d9",
      "cdfc55babe8247818ec3bd3b6f30b71b",
      "a9ae8c66cc234a0592bde5c550bc59dd",
      "77a8fed44b0b471faf21e27b0836de23",
      "5670aa2e846d44de82fd2aff2279641a",
      "3e6b3189afaf42099570874c9c15fdb5",
      "dfa8c7c0c5a44fb18319444beb180f8b",
      "2859743fd67a4ece98c9eb9ddecf00b5",
      "2e25073d27dc4259bd5a3b25cb3f8704",
      "adefcd6d12d54a61b9e2fc52dc62331e",
      "95a65d5865e843d5a8dfdcc362315636",
      "e934cbedab0e44399b0ad67c58894783",
      "e9488460657d4586a6779fe04d3e81a2",
      "28a044718661438593e4fb6cc6b24bc6",
      "1053c210208247d69574211afe4af04d",
      "77804147ae5f451db5389f4c9d174ed9",
      "6eac9e12be54450caed1effdabc769a7",
      "b0faf360c8dc409cb002ea0dbfd2232b",
      "7470e15c60a6483e8f51b95ea209970d",
      "cf15ec233ad64f84942bfad8f24f999e",
      "206d0c9dc11b44b18b103e49e5a99b38",
      "32c47d427d8042b9acb86eafc964b7c5",
      "2b8c6bb251064948925957bce7e4de56",
      "e79cc0f02e2e479280e3ab9dc82cef52",
      "3512f599fdbc4448af1d32ccd5de45f8",
      "6c30f968d84841ae85ffc0eaed93ccdc",
      "d98ea944b41c49f4b8749fe90529dbba",
      "449f0c4adcde4d5d86377b88a9798189",
      "f87e3add03a843dc90ed06dcb52af341",
      "3746a103759844fa84123cb492dc1952",
      "80add6abc8664ae1a605caca1d57dde7",
      "acbe9df774154d5887637376ae3f9694",
      "91a5166a82a04309869b283bb17e0e39",
      "f379d6abfd0048de896fa7cbb50c3309",
      "0609f19eae434440ab99d62bc3345b17",
      "d77ec4d33f3c4c5d95f59cb70222546b",
      "a1a40b0017a24bcabe63c2ff09d97c55",
      "de55cb337e3c46c3827d057f39f77562",
      "74a9c06e663c4c228213d4aee8de4eb1",
      "d383eb82b5b24f429e2eac0284a75992",
      "a495f52ec1c842b1a54513ec600bf9b0",
      "b346b03b258f40deb0eaaa40761c9af1",
      "4f267ddff55140248752078359d02ba9",
      "c38e017b694848359a146d75d91d44d4",
      "60986c939e34432aa805eb448fcd06ae",
      "c6739d208bae4d719a9c6c709a49fd2f",
      "41c92a26f1c74ab8bd14cc5ceae1a63a",
      "0a0746d2d07f48c4b619347d40378bfb",
      "8a5abb9d7707416291cbec81acba763e",
      "ae211e866a3b42029bf117a2e1abb5d8",
      "b8278b4c936e4b8e8875f655cf30649e",
      "1a8124ec362740b4a6051788dc2d3ea5",
      "391a67ed8e21488684180c63f0cbe9b9",
      "cb69b69c43a5415780373483df41ee89",
      "7667e721ec1941069a03a71ee708f6e5",
      "c0873152ffcb438eaf339ea6058444eb",
      "eac486437cb748a296ead0d867c79409",
      "36306c2d55c84ef8822ffefc873f7399",
      "1e811415053e4e119519230588396d2f",
      "8bc156d52d114aeea3246ff980e39d14",
      "ea68348e50f74736b0aa95da40487b97",
      "baf6799ac3014f83ae72ee32333995f4",
      "4d81e1dc573044bd9f7d016b18b39624",
      "791fa6d589d04d888e396f92c555b8e3",
      "1bb572dd9d484e2d8081f2cd3b7d4d09",
      "d8a38072818744e5a7cce879d06b54cc",
      "f328f6ce996e41eb8c4ba1a9d6392bdc",
      "f592716124444140942c1647fe11ad3b",
      "12e7c75f701a474c91a67ad3614eb3d2",
      "cf71cf6561944a279777a990413b21c0",
      "c044ca8224f447f19853d4a9cd1045b2",
      "969e984588894e9e941f6cc185a5d9f6",
      "1fdc6ae7d6774356aaa6e7df0294e9b8",
      "b65e33e587bd448c8ec0bf11fc89950f",
      "2f68de0df1b44741850b1468fac5bdc3",
      "6fa2b0e331d841a1870caab0b0ef9283",
      "abe0eb8350344d29b5dd12bce3d5c79c",
      "b61422e91c5549e99e3aadddc7896dad",
      "05893160eb594ea2b8356d2ada8e4313",
      "d6f3a3da71004f178770ec1a3bfb8d0d",
      "bf0499b3190b47ea82345870ae2e5400",
      "4d8c2ddfbe684862865a9f9aabf54930",
      "5fe13b9eac924e828e85154fec5bfafe",
      "ab7f75c3c0c94866b4e3430a2f6664d3",
      "4ea21e0fc2024243b0faf03c131af7d9",
      "7433e1da71ee4b23b817cedf00e6bb26",
      "a684aa934d0d4411885a355c1e5ca9b4",
      "1de8764b6a3140a5bde4e5ac0a124222",
      "371b1cf580b8440fa9350ff7eceb7e65",
      "e58305b35ffb4c78a21d222a311cd327",
      "09c650756a9f4159bbc717a781825a3f",
      "05bdaad1855e4f82bcbe529c0a08fd04",
      "72b9a1bd8060478da7e59f80def8a5fd",
      "4f4a4f7d65ad4df7b4b126a4f9bfba3a",
      "239c4db37ff841ee8cd73da1154385af",
      "f962479cdf3d49499ca15d862dccf679",
      "65b7295b247b470fb97b8c0ad23865a7",
      "d862f8740eab4a0b8703b6b43a91aaac",
      "3dcc7eb9276542de9a2fd3900ebd7fdc",
      "933f5c7e5d02444086b967808c656b99",
      "25e1b2dd584c4920bfdd3769a812e2cc",
      "9819de7d7d604bcbb2a60e5e13aa09a5",
      "95f63bc31e2a4590a21c798dbe649a7b",
      "7a31f3462d5f4e69b35f32af2af58047",
      "12e643e63bb040a1ba88112d9a8cc446",
      "e59932a9176749dc86942004137aaa3e",
      "650efb6e3150462397e7adcb99f27034",
      "bd4e3292172c47c8a1cc6fb8b70dce9a",
      "7e3de2ec1d2b4a3eaec6b8e5b86b4ea5",
      "1afedb044f0646c5af2002ccea25bde4",
      "62581434c2e44e378cb0bb82e7fc403f",
      "ee1afd25214f4da38e05fb8ef75b1371",
      "8d3c924aaca745c495c762bc60592625",
      "4773cdfca2db489fae0045bf136bb4b0",
      "3c9015df010c4f21bda5f559a999bf33",
      "34050022d57644078a3fe0074b387e99",
      "4eee42310251496f877e4848edaf0c34",
      "3175f01ddd1c4c869970c1e9d4ec1dd3",
      "8cc5d332d99a428fb8467894ffe82099",
      "d2ab753734a841f69b08d97ef593b34b",
      "d68ad6d8d77b49eeaa0f569ebe7fd4fe",
      "d2a0b260ebf24f07888d1ff078c8b428",
      "e544b8079ecf465ba1bc41224f4833e2",
      "5790bf9e5d974709a2aa80470e61f2f9",
      "e4cf73b228784722a5dde412b288e50d",
      "4beb58b16d8f4d698e0cbcbcd825cb15",
      "c6dbebef5bcd4908a28a04556d07d579",
      "9e3e00149a2b429387485f3e75f018be",
      "10254603900444f08f43661bdbfc0e1b",
      "9b9bb938b3d648dc856dda9a5991ed6b",
      "a80dcd59617340369a49666a834512fc",
      "864733a7e77b45039705276823c40a61",
      "9623dd6d7915403c86b5f92385ada7ab",
      "501f686d48914b99913843bd3220ea2a",
      "1a8263a830384fb5957e09a9e71ebd75",
      "b4669bdf5d2741d09a7baa0d24b81ae3",
      "76f559b6423e42768061ef44cc999526",
      "f613bd0cbb9346c0ba898e79bfea1fa9",
      "bc9e76071a79451887f1e6ecb2743c2a",
      "3a004f6b1f2942e4b4ea36eddab866c4",
      "bb5be482a6604fb5908639493d762587",
      "6432a5d204834798986c1f9c1d78d923",
      "0c8e9d4a861b4d1c81d809917475d336",
      "b1e6be9046aa4c789bf1efb7c2007125",
      "a6e8209b8f4b41c2bbad7725cf4f30cf",
      "a7bbc3867f2948ff880e60ab3d3de74b",
      "5f497f09476b42ef9288db86c293b860",
      "03c8d14e4b7445d38693954d6cc604bc",
      "35cbb49495214a08b4163eaedb38e84c",
      "4c647d2c333f45d487f582c3ccb40aa9",
      "f38a5f9808d74699be2764f0cfa69caa",
      "7488235c83074e22b96ccfe7f5872704",
      "299ed058a123415680a5ffdcdf57a997",
      "e5c6d723d33e49c0b9b1fda9faa7ef7d",
      "5deb5984a8684040ac264ffba9c4cdfb",
      "8a747dc3e83d48819fdaa2681f883716",
      "6b59df691e61431c84c110e249512e3d",
      "b38aedea39704b8eab984d4ef0f28039",
      "f08cacdda11443f184743f5d1eacb710",
      "d1c338eb299e47a59396861b5398fd8b",
      "389c39b4aece45108415fdfecef1d2d3",
      "ce2077c7cd5e4c08b99df9293090b4e7",
      "67b76d194a4f451697eb1791dec77528",
      "fc0de4a687584fa186ece157351a69d7",
      "4d63b4f711ed4627a7997b4964ee8fe3",
      "5c81b9cbcbaa4d17a99591690356b030",
      "705cb30be55f4bac94db07ff0a3769f6",
      "eea941dcbbc44f9998362e17c149240b",
      "a8fe09013a504c5a8c9726ca434cb342",
      "8d5a5979d3414fed96b5a562efeb9aae",
      "2c699e088d724b2bb04b648d9caec872",
      "9316cedc12984bbeaef72a504449178a",
      "788fc59024e345bc92657dc72674d74d",
      "cec4da45d217432c8dd5a946f6f6e027",
      "4be237b27bc54c19b8bd87e9b0c22e12",
      "22dbc1e25ac0473da4e7b4558daab3b6",
      "39add72a410c468a822e52ed232b631c",
      "0265ae7a08b742c8b0c56a9ff11e514e",
      "7092568830bf45bba59f4db6b49cdfdd",
      "92188e086c154e9abab0ef846aa72780",
      "aed2521fae6c485f8042075345c03cf7",
      "b143ad49e1d84ab184059fcabcdcafff",
      "b31db41e0011438daee7684520f6e6d7",
      "0c10f3e1c76e443e972546c47eefb486",
      "0a7583e464a446339a8cc00d7ad6b581",
      "7379f11b18134c09861daea957bdf01e",
      "0fcaf12e61d149fa8e19b7dbd48f47ea",
      "ba5f0ba83e8c4f48b11c2c1266e87ee6",
      "31d9f0ad02ef4dc1991fb3e9620e8a17",
      "cccb7a1f8a1b4ec1858ed9428931c0c2",
      "5a7a4af7bcf641849a3b8f4b63aecc9a",
      "214c5ada59bd4b5ab5297c7c8eb997b4",
      "01832db301c1423c8c39be4e176ca13f",
      "813fb53d1e5f4a0292cbc97779e57434",
      "ffbe3778a34942128ab874395ce9e049",
      "53bd51edf5d54a0bba289ef5035a81e2",
      "5503fd4e192b477d9e4c41f7961502cf",
      "b20549751aa147518b84d78936efa64d",
      "e1d0330d3dbf4ac784ac667d6455d834",
      "d98cb86cda1d47c7972d4cf0a73ffbdc",
      "57f06a2d48c84cacad5800aea988b1b3",
      "b45cb540f6f74e0b9ec5515d40cfb6a6",
      "8a343b65aa2b4d048388beddad4db342",
      "4d9fa49c830d4f1eb48058809bd901be",
      "d98376b1692f4d5a87e36a9cbaa0bcbd",
      "ec35ebc6dd214f10aed6b4bf9e90788d",
      "e239ab1b6c524081af533d8e2f9520fd",
      "8065d228f8414524b71ef1953a3ee8c0",
      "d026b919c3224304b0a305d734cd4544",
      "545a4c314e094b849665f96ba106e523",
      "2bff64de56f041768326c7ef15d7c9da",
      "b3241aa7324a4fd3a19c8a6962b4f7be",
      "db94bc8712314bc78ee68a99505fb861",
      "71ab1d30124c4b5ea5dc5499c3219ebf",
      "ee9a248267364ce5bf2a7c1101fcc673",
      "1796c187459f4e94808006d95c20a91c",
      "74bbfbfdbe344469ac3b6246039841e8",
      "1153d08171544a1586c8711ad280ff0b",
      "62ca694c34014cef8c026f91ccabd92b",
      "94aa9e217758444ba1f6580e615a7cc3",
      "0c99fe7b421b4b359c221b3a2667181d",
      "3ed51dc858c84935b9750bac9a0ec12a",
      "424d6e43751f4ffb8ca26c189b4e6693",
      "19c17607344f41c8b81b48315080abfc",
      "5e993fec7155474fbeb86b34a8c81c37",
      "506fbb244cfa4eada36088ae74f707dd",
      "f6a1c2511c6a440e99b1462cfc82cb98",
      "6e33c4b053d747dd8c2b79d9a8f67c7a",
      "0f3fc0ffdd984f3d950d787ddf828c6b",
      "294e01f0de054529a7ef2f67dd53a717",
      "9673d55329984873a1b3c55fda74bd29",
      "df5563c2f3d442e6908eec4051c8254b",
      "bdf75719f5c14a5ca255b0f995dc4e05",
      "a0badbdf1e5e43cda46907966a1c1879",
      "ecb948715d36458e8dc2fd1859baa410",
      "f32b0e9878684f14b9adee6e659f3c11",
      "fa0317592eab469ba7a029148253089f",
      "5d433c2f59a141ba8166f2354542b479",
      "03589ebf5fda4fc086f02c81457995f4",
      "f9865a94d33f41c88e8773630603af7a",
      "bf4dbc005d23477fa2529b6fe577aec6",
      "60c181724a5d4f088b25cff160cf5631",
      "52f2224764494bb49701ac5739b61d2c",
      "2b886bc8fd9f42728d2870f0b58346db",
      "79ebb96f3c004a0fbc04ff233f5a86a0",
      "b3ff748f61ce407e82c3f99f2de1ad3d",
      "bcf41ae4845743e28c3ecbd7109b3a84",
      "ea086426bfc94727951a4f97499dda3c",
      "2fa4a11d5069470d8703938a620b2278",
      "f1b65896d8ad4102af763cf8ed75f448",
      "856113f142984f83a9e3ba957432c1c1",
      "5462c8a3b6514ad6bf7628f8f096f8b4",
      "9a1184d2face469fb6db1a8c65666604",
      "d16af157f72041db9c7c013162477a2f",
      "351d6f9cc77a4cd581acd40e0e0c8a72",
      "7ec4d6b66cfa40e093b2b004cd3347a0",
      "df144c42743a43f18440738d3212fdd4",
      "ede63d4306e34565837f387a37a0b0e6",
      "883f5edfd7ec4cbd8283fc9b40b52acc",
      "df5576df9a5e4b4d90825e3f44027f8d",
      "e9ead96d811246e0b84a7fb6a0289735",
      "a22b3f7ee3b64e06b13c017f90590f4f",
      "02a054f0c7484f208d27f61aaf51fe38",
      "9607268fe0224cc5b934b985a68cb8a4",
      "bfca71b418aa478cb2031c2accdfc810",
      "6d292a3348534f3dbc4ee6f22c53c193",
      "a56e5123f54e44d5a5a80e521b29a0bc",
      "fda6cf9a68ab49c099d86773d73e45b5",
      "e812838c2e044362b10c57b9499cca50",
      "2badb8cfdb3d40fbb7810fb57877e93a",
      "240fe111027f43a58a269577e85ebc8d",
      "37947b7de3fe497f9e68af5830061c8b",
      "27bd3b48dc284de39c6a709cfc2684cf",
      "75d6269be0c949958e75918d87ddc916",
      "707c2edc893149ba9842d19e39d14475",
      "b44dbb1613be4e2c95a0700cc1ad5e74",
      "25a6f6bb5555410aa4916e7c93e81703",
      "3952a8933542444dbc01224cd42fc57a",
      "d36aaed0e47d463bbf4b8e3dc20ce584",
      "01a5f7dc081243c9a0ed822979fc2394",
      "caa8465dc4a5458b995214f8ee4accbf",
      "f775f7a739b846e7a82a4881d15d9bbd",
      "f88426d10b1e493f9ecf41ebb527ffce",
      "497179d1eb8240448ba16204212c4387",
      "ebee2ef723ee4fa697f3a6d61a391f01",
      "988b963f568940db9105fa27a70a650c",
      "7e0722e6321a4fd1a66430ba0615bd4b",
      "e8f38eea6d5f4e698d6d4c0e337b68bf",
      "aacaa22309cc40dcba3a3cbc3158116b",
      "60c06b03779245e3b1ccd7acc2ee59f6",
      "08fafbf8954043e786a6fb226cb762d9",
      "deb9f7ab1e484da9bf2334221d37d0b7",
      "f39f1c083a4142f9945796598306fa2e",
      "b56c990022684bfe8d4c10194119c359",
      "6d9c48882b8242c3baea9310d6ef1916",
      "53433b5fbbc4472190b0955837239641",
      "a26e322ffd0f4fa1a20770bc93d004c4",
      "896ac78f633a4890917d7bb61e8bbd3a",
      "cf0c0ae32f5341a08379f68e7f6a23d9",
      "4ed3d5e956ce41b3a6ca701420c471ec",
      "c2bc9f66543b4b9892d7d19bb921bf5c",
      "b70b948705364c3f8a5f589d38aa4752",
      "bb069e255fd3489692952b578482fb1b",
      "00483dc91b294e5d90f725bc09e9b2db",
      "2f1f5f447d6a409da4ddf93a7146f02a",
      "c0e3d76a6d5c47edb5babbbf9f0cf77a",
      "28988a10a65242f194ab55765b221930",
      "ba5792fd4425414ab655bef34fb1d3af",
      "33b0927c50ef4251aca28e59d8ebe024",
      "9de0b0eb4f26486e8d44d4c4ed5a3e67",
      "641cf7c64692440abe6be3ebc89e76e2",
      "57ea6a94bb654edaa112d4bb02d5aa01",
      "981e89c6a1a040508735d07270e033e5",
      "d456cdb85fbe487d8915baa9dcaefd03",
      "4ec0819b209f4e1c8be55b5c24b8a865",
      "f2b7587967624aa4867a38f900a2fb96",
      "da2154bf95dc4b5cba83d8178618d38d",
      "82df781c59a84e3db6db76f8ef8ffb23",
      "1a2250c21ec841f2b11ba8634b1afd2f",
      "369b8e7473d34fada4f2f5eb7ae58c34",
      "f41ef09b7807405cac0574d74ec4b50b",
      "b38a9e3b9700463cbf373f5018c074b1",
      "31072b1ffc37481f8abe1ae9b7ca1ba5",
      "01b44c566048406086d59de6630794f6",
      "05451558925b484f89825459e53e76eb",
      "954db4bfb5fd4456b4f81078405d5220",
      "ca022ad9f324496b8e39e848c9442bda",
      "65ad9b5b34a146cdbfd74fa5325513f7",
      "99ab8ca85d5d4315b539fbcb0a7e5732",
      "4e031bb12d974b2d8fe9c403f0673018",
      "ad71bed5d9344bba8f614ba5b6e684a1",
      "d3100b0ec86a470c970de441ed866d41",
      "08d4e0b3207347bcbfe7870572f45869",
      "88c4b77b982648a180b95ea663077a07",
      "94d8ba45f9a2454e862e0648304f6cc2",
      "b850fc03885145ada70089db895ce6ff",
      "d7ca46a9adc3410fae886aa80812b014",
      "2ffd8cdb7a414e89a2f40755a1e36cc1",
      "66987680aace4538b8b717337d396e7b",
      "acd5b80639444d648738e8f1f8b52317",
      "5b498dd4cf6f43dea4548c6dc1e3c573",
      "cb172d87f8d54d26b03c65f64a098d6f",
      "f58fbf04175d45abac99253acc5f2cba",
      "fb223265ff874a2499e9611f21fab8f7",
      "db154983244144a295f5cf69d8abf360",
      "df597496d6a64d63a696607ce057910d",
      "e79c79a1d70943f1b35c9f13e56da2a9",
      "325070683f34451383347c13b25a1585",
      "c554a789ac3847e2b580d5191adaa17c",
      "7c2162fc906047499d96ecc1876e624d",
      "1c6ac7d21d884e07a57278f82cc84e38",
      "d4cfecbd80504261863fe341f0b35a61",
      "e12014b8febb4645bd3fe490ae3ef13f",
      "cd12f6ea52a3494389e0b15984f77d21",
      "f986353c0dbb46c2ada55640639561f6",
      "e956c32362ef4bc3b202fbf7c2607b03",
      "b5b063e2fe6c4b52bfc39187b74acf93",
      "1006c5a8c05c42439888506d7feffaef",
      "77580d82a0b14b24ae77043b2a57471b",
      "8d486507f225416bb86a5a2b0a8fecea",
      "d6163da670ff491a8ea8708383b524c6",
      "3a8f15d9dfd84887a2a8593645aa6a8f",
      "1d1922e23c1d41509e972ba71dd4a757",
      "334c7f828d104dcd8f938850087f9e7f",
      "8df8ee1c96814f76a887540baca8f95b",
      "51654d1f8cb344168ebc94445741f797",
      "3986e02b5ddc42d990f19d26d5aed146",
      "a210cae2b6a149639aa87edfe87d8818",
      "58a545487c2b4219a6925b9e8743ebcb",
      "2d9d4a6068494fd796dd83777d790140",
      "ba89cc5f55ba4a40a7400949a5522d44",
      "87ab58e032d24dfcbc5545edb63fc00f",
      "1881f8b5edec45c3b8128fa6d355d8e6",
      "a4802e7fc7c34f3c81078462e91e66bf",
      "103f746cd26d4b49918de519d8d17f51",
      "12f5956a205b4b088e3dca8301d1f608",
      "a69f55d4aa984f1fa5adfae5c6f8ba0a",
      "96c07da4d248473d9fd3b617a94d17d3",
      "4f4d6b929fe141d19ef2e903d7aa13a0",
      "f50081a711fe41c5aa8be41477432330",
      "9fd65fd2a47f46dea527a14c846be3df",
      "e1c44e4ddd7e46ab976cb70d2624310b",
      "8b32960963684678bb07bf00366e65df",
      "58203e15454d4f12becd1126b69ba988",
      "643a17cff8db4d40bd85b1126f408548",
      "6a6f27d806924b2a88ac555087168e22",
      "aa807b5376a14e5989456a149a8742ed",
      "baaef45e311647918a09ba6aaa66ba10",
      "33ae37b08a5c490a8f28a35f2c2e4cd1",
      "58d9c7ed91534ccb93f0cf0371b7104d",
      "67129f1b48204dd1a05a4ec1544c7513",
      "fee7b68c101b4fd08722a9ea3957d933",
      "76434983cd594418918b477c1626a5b5",
      "d1b80fed726c49fa9f9ee217ce83a904",
      "8b5975be11734d60a515a78a2bc5ad3a",
      "33e1093c5de7478ba26f1ea596c9c1f2",
      "ad52e02d65d4476b957b3cc92a7d461d",
      "938cd67b6b584fccbd67b8b64dcf1573",
      "fea9380b9d2c48578dcb7d8e89bebb2f",
      "889377121c024aa6b4cee5af200a08d1",
      "480daf1de4cc423b9160499a785c0f9d",
      "82a23f8eeec94bbfac5942f95b3eae46",
      "c8716c5eca294b20ae536f80fcbeb033",
      "4b389fd2acb14bbca03bf960b1450d86",
      "65921768c218446fbf2d20709420ad82",
      "c0514ff3ae07469480ebe11662b701ca",
      "a1e52f7e32b446ca91dab42b93c95c94",
      "86a06a660d4e44278ec08b4c567575d8",
      "f6f12b97799944dc98ca243363b8ccc2",
      "dd7240c378c64280b77346b15b2b41f2",
      "b0b3f6a0e9e3460b8e6d469f65ca2ed5",
      "97df3c43889340b2b25fe4348f4e720e",
      "a0ae8f3ab92e4dc1aa321e7488728ff8",
      "87854f5c32aa48c7b4b014a53f7f7a4f",
      "4f630453e47d46148142a750095e73f0",
      "d4c13c26013d4641b252e178bd68757f",
      "5c099dbf30724e31b8b5784c58429646",
      "e6a8b109b7fe41feb58b5e7b6a786661",
      "0374693466a74b51a7a225819c7977c6",
      "cd20fcd7747e4be1a36d3c2aa9233ff8",
      "5b4bd354c91a4019b645e4b6b3c42c8b",
      "c05ac25e3d0942c2a177233387c4f19b",
      "380aee47508848e5a51a98240e4808d9",
      "06f7c46edfa84e278a185964da28d849",
      "b171b6365c864ee0b8ae58732ea22aac",
      "5681a220205c4280800a66fe2b6a3575",
      "daa86b8cc91140a38290f99c084414e8",
      "c38685f276f24954975c14207447fba3",
      "0a758c8452cf4dca8038e2e8605ee105",
      "4be8b9b7822f454dad52c9b32fb061e8",
      "a5299dc7d4dd463db6a1fda9445b21af",
      "fdaab90bfb19401092185f40ad96d530",
      "e9e79c18bca24ddd8db55a7fb222b8bc",
      "3f520c143986448aa5af43b3d80fa5dd",
      "3b2354b7b10e482ca73f875b042861cb",
      "dd6e06421d9140ab80f6b6ebd1e7ec00",
      "b8ff435792e34ec5be6eb5e1e6e85ad2",
      "efda2e4efc344cb0b41ae4b176cc0018",
      "cbcb397ae4f24f3f88ee999794e29269",
      "07cb67b06e894f059f57a1e53e10b268",
      "21012dd17d564da6b9b104946e3c791f",
      "8f5d73ecf9444c249396b34c19358146",
      "b9ce51e327c4465ea30387d862ad71e9",
      "33c7eea1428d498cbaddad2e92b0c425",
      "a00517cab6434003a244d0b90ed1fcc4",
      "5d4d7aa341664e56a356c78b30112231",
      "c882bf77209848a4a79eb28ebe054641",
      "154a16c4f854487da81466255b7bd1eb",
      "b2fd2e8c88b14d4aa3cc86a7dbbe09b2",
      "4f41bf98bbcc440b936ad54260e97867",
      "ba1f0e655b9b4e3b85570e52cf27fe95",
      "b607c94c066e464c9063615b991ef7da",
      "dd35632aed644843a75e0c8fb01d039f",
      "59fb4f8f0e6f4e47bf32b69cfda5a153",
      "ba4011fb3fc04a0ab4d004e9edc11719",
      "ec0655bdad18485eab4b7b17a7e927ae",
      "f94c03814e6242b8a26401285d25b38c",
      "46bcd10a7c4d4844b32ddf9fee33a012",
      "b31c7b6d926d4b46b7f398e70ac8b8af",
      "b4db5a28821a4205bf267343aa27aecf",
      "259c25b7bbfb41a792f79fd547106d8b",
      "f21a4551343c49edb0f798cceac25acb",
      "54194db297ea411bb1545cb2728cb35f",
      "b8da19f8f5dd4f5182798bbc62fb2307",
      "1843c147ba9a4654a764c51ce690e401",
      "326effbfeefe4729bd005a9f405b1e9d",
      "44bdb3e29755482dbd494b17485b3df1",
      "0f92f904e2fb4fb0b361b42546ff00c0",
      "1b7a6544c10a476aab9d886d7804f4c7",
      "a88b3d3c8d864f589aafb0cded31f520",
      "21ba3d8177da46cba031eacd6a0a03f6",
      "e019438136a24648a0773a5b9e447f14",
      "65ecb73048464005a09f629108674675",
      "b4591e5cb2e14d5a8a6627cb8b0a19bd",
      "3a3d24c29922492cb995d22ebc23423b",
      "011e80e620e84011b91be3786dafcca7",
      "b9eff90fb5f04dad821d44225caec1ac",
      "78bcdc4d3cec4293b76198f2e4713ea2",
      "c6e343a9f68d44deab9bfb886a8e9bb6",
      "8d8a5b90c3e1476abd187196209184fb",
      "384a4398f9804b1eb5d6292935f26336",
      "bef955b3d0f64ea5ba685157cbc1120d",
      "cc15de2605ad4c1b90f9d26a556bb4bd",
      "4e4bf2846a884616aa6f364f3c5ce9f9",
      "e0fecfb8280540c38dbb6606f8e24a20",
      "9545dd43704f4b88bf4d499a7855e158",
      "d6365e8fb2ff400f923390b322cc55e1",
      "182032b5887443e1970fef019804b460",
      "9cfe07ff0289490aacbd7b6b576bd816",
      "318305ab889144508332ab90d0c6d802",
      "fdfa0f8c0a374bc89d52f4b01b776d0a",
      "ae7e99176921481ca76e9c565f796f1d",
      "432420b58d3a4f50a5d9d2a119160432",
      "5a4460fe147c4ef1ac830c5d9629019c",
      "527a719eaea243fa81261096c6a53563",
      "ba9418d7ad0445ec852d3e387e6695be",
      "504df115daa14d73aaff4c04a0576252",
      "8e547c7ec07d452a8f923b8d16dfecfe",
      "f9118c25de3d4665b856a5b4508255ad",
      "425b54848d7d4ac581b75c27d6fef9f7",
      "2c84df925aaf40138f45bdaff770b308",
      "06e4c49179994c5e94f72bb84b6364df",
      "9d34505451b849d0a1ea289adfd8aa06",
      "a25f57991c3542288087e65bf2725bb1",
      "430adb9e18b743e091c0cecf12d3afb7",
      "b45b98ce3e3e4fa1b2cf5010ec6ae265",
      "afe714cb8f154267af7c81561772e7ec",
      "623e4f07569040129bae3fcbe271de6e",
      "88f0b09e95204c96a02a471edf82c383",
      "5c0061ca69e94ee9b24ee0670b2ac4ab",
      "d2c35bd644fe4cf598a506e1a0a4e635",
      "be6ce25f996b4a00a9eb7e13680e670b",
      "1302295c6a694dc19ff61c95f98d6fe6",
      "de912f9a83db480a9e39d4dc33db3744",
      "193543ad39fa463487d740e0e45b88dc",
      "db15d2b2494f4592a5abce83327be0b4",
      "a876bd3f244a4bde9bb7157dc5ab3e10",
      "921543da60ac43d585f74decffa7ba40",
      "c5095cb0ffe545fd997a7ce832e81632",
      "79ce57c85afd4a40a17e3a67ee91d3c7",
      "cecd14f7722348bdb7266b04a8b5f070",
      "0190f59f380242cd9553baf1d2637573",
      "cee23c536b7b4151a01d7c8d0ae3ad67",
      "832d2794e57b4bf088c904dbb50c971c",
      "8ba86af11d53465383eea363135d6f0c",
      "a81cdbd5a2b64a4d88a3432bb6a80988",
      "25ed5db9f4834cd8bf3b81ee776e6592",
      "f52a82c8172c4d26b047e51cbd88ddd0",
      "7fa06ec3a6d142e7b4890a934c356866",
      "6b5b934c26494ff2abb99bf74b244d63",
      "c6568ea3268342e2942f4981c04b3020",
      "d2d2556afb684b058b9cd1419332b398",
      "dc7925978c4d422485a764e6aafc2b84",
      "970a2fcb7aa04cdbbc4dc286c572fd98",
      "d993f752658e4bd1973aef81a93e94bb",
      "2b0dd2d4db864102b9104ae59285b8c1",
      "b70e60d375734773898b78edd51e34ad",
      "60c90960526e489daabad1e2b70d6bc6",
      "8e5190d49edd49e0b2df4a0564f372b1",
      "451b36b0d8904efd8ca617ad12765ef0",
      "53a850b54cc44cd4a720c2ffd031b789",
      "c7c2ada3a7fe4a80b6f72f957bade25e",
      "ee10a8882ef3468ab6412fdf94dee9b7",
      "39fbde130daf471b948bd547e4018bad",
      "e452b89467824c92aa225e2bd7353953",
      "74dd9d04405546b380cf7c8ca64cacf8",
      "dcd16ae1114249b5aea820a28be7724a",
      "d1f6d6ab6663465f9b598bc42caec71c",
      "30e7da8b852a46349f647eb2def49276",
      "a9090c8a19994051baad8939fd3fc217",
      "6ed9df374ca143e6a2b7df73129176cd",
      "51890538b2264614b4760a394daa622b",
      "7ba10ac44dac450ab97ea02cc4484c0c",
      "c277cf3da30f44a98be9c4926807840b",
      "9cf851d2edb24375abb90a9aaf96f935",
      "2b25a4b31d0b4199825db31cc3baf50a",
      "d046b8d1f7a44d71aa03e899778001e1",
      "b132d619c054438589ab2ec7d2f66ebe",
      "9ce0ef98ec7b419fae6b20e922989e58",
      "623bf87d55994ee9925af4971f5f8a98",
      "c0bb47cfbb4f4451928b41d563caf348",
      "06e032bec2fc48cda58ece1c3e852079",
      "9d56448b89d244e0883b3451dcea1d06",
      "0172debf314348dd80d5450eb2502837",
      "c1977f9f45b04e5c88f891b5f8c7b8eb",
      "86170ba5e62b4e898d0f2ddb7b758075",
      "2c610f10736142d297427fc8d470331b",
      "860395c640da4d50838cff39c1641bc2",
      "56daddf38a6c4bcd89ccb67602acb0f2",
      "6e2fdf2c495f444fa20948fd3069ade3",
      "a6959e8c1053494ca4a2e33997f47cf9",
      "3b75e4f9249d43bdbe1e1fba6409ca47",
      "b3bb678cabf34c7fbbde576025e65bae",
      "935a5bcfa8864a2baf5fc4eaeca2bbb1",
      "10142596d8ee466880ff0f20a4ae63c7",
      "4b824e9bd5384b298bf39957b0e5ca3c",
      "a0d87a307ce649079a3ec6e2f813e15b",
      "4d01618db2d1475280920098fd4f5fad",
      "cf42c604c58647ac87e41e5f4d0d5e4c",
      "85088561b1cc420eb8cc4e45ae748aea",
      "3ce10585ee5a4b17adea362306614d3d",
      "555d11478bca46bd984dff1394db704d",
      "af0ca7c22ed7429290b87796b5fa1865",
      "f5bb049e6da2491a83b1d9e4d43994ab",
      "6f7a17bde6504d0dbe64eccf4baa331e",
      "afb73c179ba94c18824a5199f6cd3557",
      "e67474061f7d4bfb97da3ad0f77c5081",
      "f818f5a55dd143b7baefa687cbeaa63d",
      "d7caf73db39a48ad88d55db5826bb4a0",
      "fbce6b71247e440493b8109d2d834976",
      "919aa41b588e492198aba2fb652c2939",
      "b7e9893f947242e481a32b0097f676ee",
      "998be0a5da674dc4a9af8fcb51a5fc29",
      "e2b93ad5cde94cd591e2e9ad2bb0b9f7",
      "2fed52b06d0642c2a2c081d3e93de6ec",
      "eed1186cea994edf84e9a97e98911112",
      "3b6828d897df495d9d40bc5855dfa9a2",
      "b9a1c57b0a5b491391782551c5d6062a",
      "640e71e552d5408395bf72b6ca13b3d4",
      "dfb9996afa464fb5ac69673136ca1c41",
      "badc151ad0994dcc88f200d472019b34",
      "b65e2f7aaad9401bbee0b41311ab6ef8",
      "bc348f436a5f44e99b9cb14f65233a7e",
      "0819d37285f84d859ba432e9ed7fb111",
      "ea7ae8317f0646529723ef73e74ebf64",
      "e030c38e58824d60a08d16f232b959c3",
      "3d3e453085764507a562aa9ea51ab7a5",
      "c9a3ed26154f49139a9bdddd645416ca",
      "f3400c7da14845529a10aaad68d26785",
      "887293207d9143fea6aed64a0500279a",
      "a45e302db4864f9dab572839bc86b82d",
      "54c375392d5241cdb67688b844eeacd7",
      "8107112028ad4c04871b12488d885d38",
      "3c9683b5a92a4264aa188b9fafb93c51",
      "a1dea12100e547c5b39c666fa38c930a",
      "292d28033f804d30a940a459596df23e",
      "e86ae06c54ed47c9943e65796eb1b0be",
      "52af901d6bc64a1c8c67c56aa15f6943",
      "4c54b55d7d7e4bb6945ce3ad6e1e1475",
      "456825eb21be4d0c8b5eec04814cb17f",
      "d103006bd121495f86b40ab6d23c3e88",
      "50ec994701df4ac28817fc2977316692",
      "cb55747f4f424cfe89fb9b8439f86475",
      "813a65ae363d43e78369892a7f612356",
      "b7432a66d6d446cda503f17a81e1a439",
      "90c232dfc1bc4a08aef095954b6323ec",
      "9b9ace9672364c3eb348f7a354308a18",
      "b94f6270448b4598a3cd42642c0393aa",
      "19c49a243a0b47f28f4ab29cd51e771a",
      "ed5a37d29ad14404b622f8fa31be9d7b",
      "589c5b86ce7c450daa9b315919bb13d5",
      "dfd4a36f36c84c62bee8d504f329879e",
      "e9b126e36fbc4925a1e98592d51bf4ef",
      "276baea5b4904e3aa725d826d248d53f",
      "942fc8d59ed148618b97709432f3231f",
      "8efab8afd76e411caa6380970c19950f",
      "15047010c36e4203809e151c921340ea",
      "c805d272c28d4aa48d0ed5c32ae42dec",
      "4e60c38c44a74cb8bcaa3ac64993304a",
      "0199e30ef3044f7aa0ea03e939ba40ee",
      "f17c702e50eb4abcbda38836eb79102c",
      "97f27f5ab59a4455a02b8dbbd5d98d61",
      "9a68a6f8edd3493cbd3ca10b2c1621a2",
      "38251bbbff96429d8185c11940d97e7a",
      "3431a91e5f4b4a28be98e1a17efbac40",
      "532251b826ec4e77b22a475f4b18c630",
      "4dd745b9f74b440883394ccd7ac43c56",
      "a37c59c8aca34444a5df8ffad80c0397",
      "86b829eeea9141e7816d11fcf6205031",
      "a8a47d6f72ff4f2f82e713d6041de1d6",
      "d605a1a7ad154102aa4040b0aa96fdd8",
      "a878b72e031b431dbffcbf92c4270c96",
      "ba3db3addf1e4a01be4d68b6ff391b4f",
      "339bc145ef064dc5995a87b69417d8f7",
      "2ed151580170481f9f4dcbf984b09655",
      "dacfe235d9df414697f2ddeafe700532",
      "a2a017153f5f450f95ecf28f5893c416",
      "b6849add27034255825b423a2cbb9d1c",
      "0d8a742acbe14164b8fffc3be85c4394",
      "0425ef941d174779b7cdf07eccc4c17f",
      "f0d14ae230994a9cb45701c229d1478d",
      "5fae111a50d24d708992989a4bbfe301",
      "8b6783cdeb5d49e385372e905ab1dd52",
      "88cd1cf9bcbf45588babcda898b0e0d6",
      "2fb7048f33ba489d9588c2f221813018",
      "544b31cc21724f88b2ff919cd7da0513",
      "928516c281d841c48bd8eee9f9206fe9",
      "0d361972331a48bc9a949aea76af0a77",
      "2c3a231d96f8482bb3d6a8309c16bcfa",
      "a65ebb88a60144b488795b0f475bd57a",
      "d75a3893dec341e385a4b098bac18608",
      "6edf95d127ad48dcb8bd173746106fb6",
      "3eb4fece340145cdb5d894a2e9bba85e",
      "5ea84ad26b1041cb901b955d3314e914",
      "bba3424efc1b457fb6497a277661b83d",
      "3d11e385623f4454bd3e098b8565385a",
      "a705695442934df196b0d9074caa35d6",
      "291b6a80e46c48acb117d8996688f179",
      "bdf30ff341f645439e52e00a3f173c10",
      "5bf2f50e447b4ed1a5a95f9233321314",
      "413a1bce2733492fa959370aab2f969a",
      "e6ff6048e3784dbd9c9400a1ee56155d",
      "299130ef685644428f1e756ec7d9977d",
      "ba383a431b0e4e779fe1b8593992fec7",
      "4c4c050b84144b3f890c51cc7f434da3",
      "caf800bf35a94c0b8a2f58f63bf5c296",
      "dafb5ecd4956444f8e9dde53269e79d7",
      "6435eb79f5d44643ba011943979b399f",
      "a65001b1a424458bb7809cf84586d825",
      "e13545ebe8a340e8812292250ec0e326",
      "de05500be5214a35982b26846db1189f",
      "3172674c45504df3bc72294a7262a87c",
      "5538bfb6347c49ebac8c42e5f3f6805f",
      "799096a556b7466d88bc802ab42da9aa",
      "3cce907e4ddb4f0289ae844b92141b5f",
      "327799cfd0314c5a8106a76b0593b740",
      "f74c978754d8430980d3ebb4b7f200c1",
      "8948b89956ff497d876d4c56a266b15e",
      "8aa738c0371b423bb8d29edb5a706dca",
      "2a8fe43386a948eebae16511e08e8cba",
      "66ec4cdd87db4bf0bba9ce6f1cf7b58c",
      "93aa8e3c04a84fd48a5fcbf955185785",
      "482acc004b4841e09c2d28741779922c",
      "613acb8b17b945ab83b0d2e9bf6aa3d6",
      "c512971723284e679cd72945f5ea39f6",
      "7d1439f3e1884581bee2c745d3bb1f6c",
      "1f285d1a506a4373818930f4d3198786",
      "856a1b36876f423c931f747265c8c2b6",
      "d290cd5f180740188db22fa73457e676",
      "cc6e9c4300754e148f39b400777527e3",
      "642e2d03c02c4cfb825486519745a839",
      "7c89295d014c43949eb1d53d6fa2cf1b",
      "dbaf156d9daf4d34989ff613a2699eb7",
      "5d39227e271a44b7b4f1bb7110d7fda9",
      "d7feb7f3b8664ea39981872d69ff03bf",
      "ffe034d71c5442d9a675ff706ed0cfce",
      "f55017bd24144e3bb6791f0bd1e18996",
      "44a711d1e7474f35b61a3f86658b7924",
      "73ad90bc5e33493db37ab1e511e7fe99",
      "d575575234874ddc8e53c683d7e124d2",
      "b543c0e4878943e883f961274d818534",
      "01c7a346ebdc4fb98f7150fb5ff2432b",
      "774f5ddc5a084fa49b16a992f2800a55",
      "7494bc532714463b83bea2a5cc62857e",
      "140048acf02c40e9ab5c7199aabb47c9",
      "20675f8b090648ffac5a0fe2ca5931b7",
      "350f4809f54c4d8fa3e2fc2bae406227",
      "8c22e121d7a94788a76f561d5a6543f5",
      "dc115663321640909b2cbe7b80c8c47f",
      "12601540547d412a88153060c29bd0ed",
      "2479a758d8bb426d917dbbb5681d3169",
      "939c954b0656423baf3ab388a817fa5a",
      "a6afd177eeea4de7a05cf9b747b164a3",
      "f95d9e29e57241bcb5bbc4c70da764eb",
      "f2c98b0d717e476f9da2ce2f5c258d22",
      "fcd9a6315be946adab17889c634a3982",
      "bd206b9ddc7b4dbf96891ad0c8f185d8",
      "c48c1e88f8f143ab9101c844bb993eb3",
      "04691379d0a842c98fb38a8dce585012",
      "7551d4f2eff34b249556fb7ee444656f",
      "a8fd6045945c49eabeaf4b348e931d7f",
      "c89f3db8a9c748958c77f49461ee369e",
      "06b0cadbbe2c44b59f74c8bc09ca78d2",
      "95da49576e0b48a9ac59568a984f231e",
      "a3c1a07bf2164dc1a67eea4f770b248b",
      "5dfc897568c14ed6a9a590f9634dee78",
      "6e2b79047d7a4e13832bd52c3a9193f1",
      "7fbad37d22fb408eb5e65fa3cc16fb94",
      "df009cd455e94b7e9f40e74b5a5a03c7",
      "c288e699e2df448dbcb839064ebc74fe",
      "c5259cf1c726433a80dcf51f0808ec64",
      "e77f249dd7b846339c87990a90e46335",
      "47952f6d258e433c96c5b8bda6ddcdbc",
      "74b65160d20c4851a634ff191d4eb5df",
      "7953b636ef174296ab3b5f437ccb24bd",
      "84a1a172e1044c398c1c1500ca4ae8c3",
      "5ed9f7fba7a847329e5e3f94bb0c4ba7",
      "84b5f45261bc4f4193c4be3a0e248ebb",
      "2fbc84aef56e400ea1606e662c53fc35",
      "086d3e259b88415986631b86d81a88dd"
     ]
    },
    "id": "wO15Nm5MeuQU",
    "outputId": "89f49fdd-4dea-492a-e036-712b340d1ede"
   },
   "outputs": [
    {
     "name": "stdout",
     "output_type": "stream",
     "text": [
      "🎯 Accuracy on clean test set: 75.06%\n",
      "⚠️ Accuracy under FGSM attack: 41.10%\n"
     ]
    },
    {
     "data": {
      "application/vnd.jupyter.widget-view+json": {
       "model_id": "807a355d25d64f6186330e6c8b44f137",
       "version_major": 2,
       "version_minor": 0
      },
      "text/plain": [
       "PGD - Batches:   0%|          | 0/8 [00:00<?, ?it/s]"
      ]
     },
     "metadata": {},
     "output_type": "display_data"
    },
    {
     "data": {
      "application/vnd.jupyter.widget-view+json": {
       "model_id": "7c2a7cefe7af4639a6b84217b8fd75b2",
       "version_major": 2,
       "version_minor": 0
      },
      "text/plain": [
       "PGD - Batches:   0%|          | 0/8 [00:00<?, ?it/s]"
      ]
     },
     "metadata": {},
     "output_type": "display_data"
    },
    {
     "data": {
      "application/vnd.jupyter.widget-view+json": {
       "model_id": "bb905c4c3c6944b3a99a676521bef9b7",
       "version_major": 2,
       "version_minor": 0
      },
      "text/plain": [
       "PGD - Batches:   0%|          | 0/8 [00:00<?, ?it/s]"
      ]
     },
     "metadata": {},
     "output_type": "display_data"
    },
    {
     "data": {
      "application/vnd.jupyter.widget-view+json": {
       "model_id": "9909a85fa2134ea488b2fdfe39911cb2",
       "version_major": 2,
       "version_minor": 0
      },
      "text/plain": [
       "PGD - Batches:   0%|          | 0/8 [00:00<?, ?it/s]"
      ]
     },
     "metadata": {},
     "output_type": "display_data"
    },
    {
     "data": {
      "application/vnd.jupyter.widget-view+json": {
       "model_id": "f779e00ca94c4e10b3fe164ffc1386c1",
       "version_major": 2,
       "version_minor": 0
      },
      "text/plain": [
       "PGD - Batches:   0%|          | 0/8 [00:00<?, ?it/s]"
      ]
     },
     "metadata": {},
     "output_type": "display_data"
    },
    {
     "data": {
      "application/vnd.jupyter.widget-view+json": {
       "model_id": "a6e02e9709394928a8bddcb3bb45e7b7",
       "version_major": 2,
       "version_minor": 0
      },
      "text/plain": [
       "PGD - Batches:   0%|          | 0/8 [00:00<?, ?it/s]"
      ]
     },
     "metadata": {},
     "output_type": "display_data"
    },
    {
     "data": {
      "application/vnd.jupyter.widget-view+json": {
       "model_id": "ace0077f9aeb4c39b04bb6ac7efa6946",
       "version_major": 2,
       "version_minor": 0
      },
      "text/plain": [
       "PGD - Batches:   0%|          | 0/8 [00:00<?, ?it/s]"
      ]
     },
     "metadata": {},
     "output_type": "display_data"
    },
    {
     "data": {
      "application/vnd.jupyter.widget-view+json": {
       "model_id": "cfd5407436134a32bb957f309d2a12e6",
       "version_major": 2,
       "version_minor": 0
      },
      "text/plain": [
       "PGD - Batches:   0%|          | 0/8 [00:00<?, ?it/s]"
      ]
     },
     "metadata": {},
     "output_type": "display_data"
    },
    {
     "data": {
      "application/vnd.jupyter.widget-view+json": {
       "model_id": "b4c32bfa87a74777b6d1ae5f95702b24",
       "version_major": 2,
       "version_minor": 0
      },
      "text/plain": [
       "PGD - Batches:   0%|          | 0/8 [00:00<?, ?it/s]"
      ]
     },
     "metadata": {},
     "output_type": "display_data"
    },
    {
     "data": {
      "application/vnd.jupyter.widget-view+json": {
       "model_id": "9bdb0883bb58426a9fca2eac525b7b4a",
       "version_major": 2,
       "version_minor": 0
      },
      "text/plain": [
       "PGD - Batches:   0%|          | 0/8 [00:00<?, ?it/s]"
      ]
     },
     "metadata": {},
     "output_type": "display_data"
    },
    {
     "data": {
      "application/vnd.jupyter.widget-view+json": {
       "model_id": "dafc1fc0531f491e9814b34b380c4383",
       "version_major": 2,
       "version_minor": 0
      },
      "text/plain": [
       "PGD - Batches:   0%|          | 0/8 [00:00<?, ?it/s]"
      ]
     },
     "metadata": {},
     "output_type": "display_data"
    },
    {
     "data": {
      "application/vnd.jupyter.widget-view+json": {
       "model_id": "a86f6af8083b4e42b12d5f705ab35d2e",
       "version_major": 2,
       "version_minor": 0
      },
      "text/plain": [
       "PGD - Batches:   0%|          | 0/8 [00:00<?, ?it/s]"
      ]
     },
     "metadata": {},
     "output_type": "display_data"
    },
    {
     "data": {
      "application/vnd.jupyter.widget-view+json": {
       "model_id": "5ce264adc624484ba45f148e9d6b288b",
       "version_major": 2,
       "version_minor": 0
      },
      "text/plain": [
       "PGD - Batches:   0%|          | 0/8 [00:00<?, ?it/s]"
      ]
     },
     "metadata": {},
     "output_type": "display_data"
    },
    {
     "data": {
      "application/vnd.jupyter.widget-view+json": {
       "model_id": "b244019567044b6ab8d899009dbce0dc",
       "version_major": 2,
       "version_minor": 0
      },
      "text/plain": [
       "PGD - Batches:   0%|          | 0/8 [00:00<?, ?it/s]"
      ]
     },
     "metadata": {},
     "output_type": "display_data"
    },
    {
     "data": {
      "application/vnd.jupyter.widget-view+json": {
       "model_id": "fec688230e86413eb0ace739ecb308b6",
       "version_major": 2,
       "version_minor": 0
      },
      "text/plain": [
       "PGD - Batches:   0%|          | 0/8 [00:00<?, ?it/s]"
      ]
     },
     "metadata": {},
     "output_type": "display_data"
    },
    {
     "data": {
      "application/vnd.jupyter.widget-view+json": {
       "model_id": "18918537d4fb4ec7b83554b8d7c8ff17",
       "version_major": 2,
       "version_minor": 0
      },
      "text/plain": [
       "PGD - Batches:   0%|          | 0/8 [00:00<?, ?it/s]"
      ]
     },
     "metadata": {},
     "output_type": "display_data"
    },
    {
     "data": {
      "application/vnd.jupyter.widget-view+json": {
       "model_id": "6d6437be9fb04dfcaefb12b5908bf217",
       "version_major": 2,
       "version_minor": 0
      },
      "text/plain": [
       "PGD - Batches:   0%|          | 0/8 [00:00<?, ?it/s]"
      ]
     },
     "metadata": {},
     "output_type": "display_data"
    },
    {
     "data": {
      "application/vnd.jupyter.widget-view+json": {
       "model_id": "8685c1c0226f4e6e897c19840a094cc8",
       "version_major": 2,
       "version_minor": 0
      },
      "text/plain": [
       "PGD - Batches:   0%|          | 0/8 [00:00<?, ?it/s]"
      ]
     },
     "metadata": {},
     "output_type": "display_data"
    },
    {
     "data": {
      "application/vnd.jupyter.widget-view+json": {
       "model_id": "a5d2ef92bccf4c3eba7eb8b818a36fbe",
       "version_major": 2,
       "version_minor": 0
      },
      "text/plain": [
       "PGD - Batches:   0%|          | 0/8 [00:00<?, ?it/s]"
      ]
     },
     "metadata": {},
     "output_type": "display_data"
    },
    {
     "data": {
      "application/vnd.jupyter.widget-view+json": {
       "model_id": "37dc75ec86cd4a9980c761c91987f51c",
       "version_major": 2,
       "version_minor": 0
      },
      "text/plain": [
       "PGD - Batches:   0%|          | 0/8 [00:00<?, ?it/s]"
      ]
     },
     "metadata": {},
     "output_type": "display_data"
    },
    {
     "data": {
      "application/vnd.jupyter.widget-view+json": {
       "model_id": "10acff4fce454c24bb68ae746e219280",
       "version_major": 2,
       "version_minor": 0
      },
      "text/plain": [
       "PGD - Batches:   0%|          | 0/8 [00:00<?, ?it/s]"
      ]
     },
     "metadata": {},
     "output_type": "display_data"
    },
    {
     "data": {
      "application/vnd.jupyter.widget-view+json": {
       "model_id": "01321538ba1b4f36bb1b5284c9fd4550",
       "version_major": 2,
       "version_minor": 0
      },
      "text/plain": [
       "PGD - Batches:   0%|          | 0/8 [00:00<?, ?it/s]"
      ]
     },
     "metadata": {},
     "output_type": "display_data"
    },
    {
     "data": {
      "application/vnd.jupyter.widget-view+json": {
       "model_id": "dbfa0b608745413999606a89ec6d165b",
       "version_major": 2,
       "version_minor": 0
      },
      "text/plain": [
       "PGD - Batches:   0%|          | 0/8 [00:00<?, ?it/s]"
      ]
     },
     "metadata": {},
     "output_type": "display_data"
    },
    {
     "data": {
      "application/vnd.jupyter.widget-view+json": {
       "model_id": "4408e4faa0734fb097fbc5ec779a1f04",
       "version_major": 2,
       "version_minor": 0
      },
      "text/plain": [
       "PGD - Batches:   0%|          | 0/8 [00:00<?, ?it/s]"
      ]
     },
     "metadata": {},
     "output_type": "display_data"
    },
    {
     "data": {
      "application/vnd.jupyter.widget-view+json": {
       "model_id": "8f1e5d7089534d2987e673a8dd3214d5",
       "version_major": 2,
       "version_minor": 0
      },
      "text/plain": [
       "PGD - Batches:   0%|          | 0/8 [00:00<?, ?it/s]"
      ]
     },
     "metadata": {},
     "output_type": "display_data"
    },
    {
     "data": {
      "application/vnd.jupyter.widget-view+json": {
       "model_id": "fb33794b8ef84c8598ca8f07fcaf10f4",
       "version_major": 2,
       "version_minor": 0
      },
      "text/plain": [
       "PGD - Batches:   0%|          | 0/8 [00:00<?, ?it/s]"
      ]
     },
     "metadata": {},
     "output_type": "display_data"
    },
    {
     "data": {
      "application/vnd.jupyter.widget-view+json": {
       "model_id": "e50703ed79374206b2e139252562536e",
       "version_major": 2,
       "version_minor": 0
      },
      "text/plain": [
       "PGD - Batches:   0%|          | 0/8 [00:00<?, ?it/s]"
      ]
     },
     "metadata": {},
     "output_type": "display_data"
    },
    {
     "data": {
      "application/vnd.jupyter.widget-view+json": {
       "model_id": "cab1a4468a494719bb7c4de59ff7bb4f",
       "version_major": 2,
       "version_minor": 0
      },
      "text/plain": [
       "PGD - Batches:   0%|          | 0/8 [00:00<?, ?it/s]"
      ]
     },
     "metadata": {},
     "output_type": "display_data"
    },
    {
     "data": {
      "application/vnd.jupyter.widget-view+json": {
       "model_id": "50266aad9e5440e4b209a156225e4697",
       "version_major": 2,
       "version_minor": 0
      },
      "text/plain": [
       "PGD - Batches:   0%|          | 0/8 [00:00<?, ?it/s]"
      ]
     },
     "metadata": {},
     "output_type": "display_data"
    },
    {
     "data": {
      "application/vnd.jupyter.widget-view+json": {
       "model_id": "36c3e723b951437b921d9152e93b6fa8",
       "version_major": 2,
       "version_minor": 0
      },
      "text/plain": [
       "PGD - Batches:   0%|          | 0/8 [00:00<?, ?it/s]"
      ]
     },
     "metadata": {},
     "output_type": "display_data"
    },
    {
     "data": {
      "application/vnd.jupyter.widget-view+json": {
       "model_id": "ec343b1abec647bf9c1f582334bb1d37",
       "version_major": 2,
       "version_minor": 0
      },
      "text/plain": [
       "PGD - Batches:   0%|          | 0/8 [00:00<?, ?it/s]"
      ]
     },
     "metadata": {},
     "output_type": "display_data"
    },
    {
     "data": {
      "application/vnd.jupyter.widget-view+json": {
       "model_id": "634d1318fa5c42378617ebd0ef16260a",
       "version_major": 2,
       "version_minor": 0
      },
      "text/plain": [
       "PGD - Batches:   0%|          | 0/8 [00:00<?, ?it/s]"
      ]
     },
     "metadata": {},
     "output_type": "display_data"
    },
    {
     "data": {
      "application/vnd.jupyter.widget-view+json": {
       "model_id": "cbbe3742af2a4c7aad42961dfe79fe33",
       "version_major": 2,
       "version_minor": 0
      },
      "text/plain": [
       "PGD - Batches:   0%|          | 0/8 [00:00<?, ?it/s]"
      ]
     },
     "metadata": {},
     "output_type": "display_data"
    },
    {
     "data": {
      "application/vnd.jupyter.widget-view+json": {
       "model_id": "cdfc55babe8247818ec3bd3b6f30b71b",
       "version_major": 2,
       "version_minor": 0
      },
      "text/plain": [
       "PGD - Batches:   0%|          | 0/8 [00:00<?, ?it/s]"
      ]
     },
     "metadata": {},
     "output_type": "display_data"
    },
    {
     "data": {
      "application/vnd.jupyter.widget-view+json": {
       "model_id": "e9488460657d4586a6779fe04d3e81a2",
       "version_major": 2,
       "version_minor": 0
      },
      "text/plain": [
       "PGD - Batches:   0%|          | 0/8 [00:00<?, ?it/s]"
      ]
     },
     "metadata": {},
     "output_type": "display_data"
    },
    {
     "data": {
      "application/vnd.jupyter.widget-view+json": {
       "model_id": "e79cc0f02e2e479280e3ab9dc82cef52",
       "version_major": 2,
       "version_minor": 0
      },
      "text/plain": [
       "PGD - Batches:   0%|          | 0/8 [00:00<?, ?it/s]"
      ]
     },
     "metadata": {},
     "output_type": "display_data"
    },
    {
     "data": {
      "application/vnd.jupyter.widget-view+json": {
       "model_id": "0609f19eae434440ab99d62bc3345b17",
       "version_major": 2,
       "version_minor": 0
      },
      "text/plain": [
       "PGD - Batches:   0%|          | 0/8 [00:00<?, ?it/s]"
      ]
     },
     "metadata": {},
     "output_type": "display_data"
    },
    {
     "data": {
      "application/vnd.jupyter.widget-view+json": {
       "model_id": "c6739d208bae4d719a9c6c709a49fd2f",
       "version_major": 2,
       "version_minor": 0
      },
      "text/plain": [
       "PGD - Batches:   0%|          | 0/8 [00:00<?, ?it/s]"
      ]
     },
     "metadata": {},
     "output_type": "display_data"
    },
    {
     "data": {
      "application/vnd.jupyter.widget-view+json": {
       "model_id": "eac486437cb748a296ead0d867c79409",
       "version_major": 2,
       "version_minor": 0
      },
      "text/plain": [
       "PGD - Batches:   0%|          | 0/8 [00:00<?, ?it/s]"
      ]
     },
     "metadata": {},
     "output_type": "display_data"
    },
    {
     "data": {
      "application/vnd.jupyter.widget-view+json": {
       "model_id": "f592716124444140942c1647fe11ad3b",
       "version_major": 2,
       "version_minor": 0
      },
      "text/plain": [
       "PGD - Batches:   0%|          | 0/8 [00:00<?, ?it/s]"
      ]
     },
     "metadata": {},
     "output_type": "display_data"
    },
    {
     "data": {
      "application/vnd.jupyter.widget-view+json": {
       "model_id": "05893160eb594ea2b8356d2ada8e4313",
       "version_major": 2,
       "version_minor": 0
      },
      "text/plain": [
       "PGD - Batches:   0%|          | 0/8 [00:00<?, ?it/s]"
      ]
     },
     "metadata": {},
     "output_type": "display_data"
    },
    {
     "data": {
      "application/vnd.jupyter.widget-view+json": {
       "model_id": "e58305b35ffb4c78a21d222a311cd327",
       "version_major": 2,
       "version_minor": 0
      },
      "text/plain": [
       "PGD - Batches:   0%|          | 0/8 [00:00<?, ?it/s]"
      ]
     },
     "metadata": {},
     "output_type": "display_data"
    },
    {
     "data": {
      "application/vnd.jupyter.widget-view+json": {
       "model_id": "25e1b2dd584c4920bfdd3769a812e2cc",
       "version_major": 2,
       "version_minor": 0
      },
      "text/plain": [
       "PGD - Batches:   0%|          | 0/8 [00:00<?, ?it/s]"
      ]
     },
     "metadata": {},
     "output_type": "display_data"
    },
    {
     "data": {
      "application/vnd.jupyter.widget-view+json": {
       "model_id": "ee1afd25214f4da38e05fb8ef75b1371",
       "version_major": 2,
       "version_minor": 0
      },
      "text/plain": [
       "PGD - Batches:   0%|          | 0/8 [00:00<?, ?it/s]"
      ]
     },
     "metadata": {},
     "output_type": "display_data"
    },
    {
     "data": {
      "application/vnd.jupyter.widget-view+json": {
       "model_id": "e544b8079ecf465ba1bc41224f4833e2",
       "version_major": 2,
       "version_minor": 0
      },
      "text/plain": [
       "PGD - Batches:   0%|          | 0/8 [00:00<?, ?it/s]"
      ]
     },
     "metadata": {},
     "output_type": "display_data"
    },
    {
     "data": {
      "application/vnd.jupyter.widget-view+json": {
       "model_id": "501f686d48914b99913843bd3220ea2a",
       "version_major": 2,
       "version_minor": 0
      },
      "text/plain": [
       "PGD - Batches:   0%|          | 0/8 [00:00<?, ?it/s]"
      ]
     },
     "metadata": {},
     "output_type": "display_data"
    },
    {
     "data": {
      "application/vnd.jupyter.widget-view+json": {
       "model_id": "a6e8209b8f4b41c2bbad7725cf4f30cf",
       "version_major": 2,
       "version_minor": 0
      },
      "text/plain": [
       "PGD - Batches:   0%|          | 0/8 [00:00<?, ?it/s]"
      ]
     },
     "metadata": {},
     "output_type": "display_data"
    },
    {
     "data": {
      "application/vnd.jupyter.widget-view+json": {
       "model_id": "8a747dc3e83d48819fdaa2681f883716",
       "version_major": 2,
       "version_minor": 0
      },
      "text/plain": [
       "PGD - Batches:   0%|          | 0/8 [00:00<?, ?it/s]"
      ]
     },
     "metadata": {},
     "output_type": "display_data"
    },
    {
     "data": {
      "application/vnd.jupyter.widget-view+json": {
       "model_id": "705cb30be55f4bac94db07ff0a3769f6",
       "version_major": 2,
       "version_minor": 0
      },
      "text/plain": [
       "PGD - Batches:   0%|          | 0/8 [00:00<?, ?it/s]"
      ]
     },
     "metadata": {},
     "output_type": "display_data"
    },
    {
     "data": {
      "application/vnd.jupyter.widget-view+json": {
       "model_id": "0265ae7a08b742c8b0c56a9ff11e514e",
       "version_major": 2,
       "version_minor": 0
      },
      "text/plain": [
       "PGD - Batches:   0%|          | 0/8 [00:00<?, ?it/s]"
      ]
     },
     "metadata": {},
     "output_type": "display_data"
    },
    {
     "data": {
      "application/vnd.jupyter.widget-view+json": {
       "model_id": "31d9f0ad02ef4dc1991fb3e9620e8a17",
       "version_major": 2,
       "version_minor": 0
      },
      "text/plain": [
       "PGD - Batches:   0%|          | 0/8 [00:00<?, ?it/s]"
      ]
     },
     "metadata": {},
     "output_type": "display_data"
    },
    {
     "data": {
      "application/vnd.jupyter.widget-view+json": {
       "model_id": "d98cb86cda1d47c7972d4cf0a73ffbdc",
       "version_major": 2,
       "version_minor": 0
      },
      "text/plain": [
       "PGD - Batches:   0%|          | 0/8 [00:00<?, ?it/s]"
      ]
     },
     "metadata": {},
     "output_type": "display_data"
    },
    {
     "data": {
      "application/vnd.jupyter.widget-view+json": {
       "model_id": "2bff64de56f041768326c7ef15d7c9da",
       "version_major": 2,
       "version_minor": 0
      },
      "text/plain": [
       "PGD - Batches:   0%|          | 0/8 [00:00<?, ?it/s]"
      ]
     },
     "metadata": {},
     "output_type": "display_data"
    },
    {
     "data": {
      "application/vnd.jupyter.widget-view+json": {
       "model_id": "3ed51dc858c84935b9750bac9a0ec12a",
       "version_major": 2,
       "version_minor": 0
      },
      "text/plain": [
       "PGD - Batches:   0%|          | 0/8 [00:00<?, ?it/s]"
      ]
     },
     "metadata": {},
     "output_type": "display_data"
    },
    {
     "data": {
      "application/vnd.jupyter.widget-view+json": {
       "model_id": "bdf75719f5c14a5ca255b0f995dc4e05",
       "version_major": 2,
       "version_minor": 0
      },
      "text/plain": [
       "PGD - Batches:   0%|          | 0/8 [00:00<?, ?it/s]"
      ]
     },
     "metadata": {},
     "output_type": "display_data"
    },
    {
     "data": {
      "application/vnd.jupyter.widget-view+json": {
       "model_id": "2b886bc8fd9f42728d2870f0b58346db",
       "version_major": 2,
       "version_minor": 0
      },
      "text/plain": [
       "PGD - Batches:   0%|          | 0/8 [00:00<?, ?it/s]"
      ]
     },
     "metadata": {},
     "output_type": "display_data"
    },
    {
     "data": {
      "application/vnd.jupyter.widget-view+json": {
       "model_id": "351d6f9cc77a4cd581acd40e0e0c8a72",
       "version_major": 2,
       "version_minor": 0
      },
      "text/plain": [
       "PGD - Batches:   0%|          | 0/8 [00:00<?, ?it/s]"
      ]
     },
     "metadata": {},
     "output_type": "display_data"
    },
    {
     "data": {
      "application/vnd.jupyter.widget-view+json": {
       "model_id": "6d292a3348534f3dbc4ee6f22c53c193",
       "version_major": 2,
       "version_minor": 0
      },
      "text/plain": [
       "PGD - Batches:   0%|          | 0/8 [00:00<?, ?it/s]"
      ]
     },
     "metadata": {},
     "output_type": "display_data"
    },
    {
     "data": {
      "application/vnd.jupyter.widget-view+json": {
       "model_id": "25a6f6bb5555410aa4916e7c93e81703",
       "version_major": 2,
       "version_minor": 0
      },
      "text/plain": [
       "PGD - Batches:   0%|          | 0/8 [00:00<?, ?it/s]"
      ]
     },
     "metadata": {},
     "output_type": "display_data"
    },
    {
     "data": {
      "application/vnd.jupyter.widget-view+json": {
       "model_id": "e8f38eea6d5f4e698d6d4c0e337b68bf",
       "version_major": 2,
       "version_minor": 0
      },
      "text/plain": [
       "PGD - Batches:   0%|          | 0/8 [00:00<?, ?it/s]"
      ]
     },
     "metadata": {},
     "output_type": "display_data"
    },
    {
     "data": {
      "application/vnd.jupyter.widget-view+json": {
       "model_id": "cf0c0ae32f5341a08379f68e7f6a23d9",
       "version_major": 2,
       "version_minor": 0
      },
      "text/plain": [
       "PGD - Batches:   0%|          | 0/8 [00:00<?, ?it/s]"
      ]
     },
     "metadata": {},
     "output_type": "display_data"
    },
    {
     "data": {
      "application/vnd.jupyter.widget-view+json": {
       "model_id": "9de0b0eb4f26486e8d44d4c4ed5a3e67",
       "version_major": 2,
       "version_minor": 0
      },
      "text/plain": [
       "PGD - Batches:   0%|          | 0/8 [00:00<?, ?it/s]"
      ]
     },
     "metadata": {},
     "output_type": "display_data"
    },
    {
     "data": {
      "application/vnd.jupyter.widget-view+json": {
       "model_id": "f41ef09b7807405cac0574d74ec4b50b",
       "version_major": 2,
       "version_minor": 0
      },
      "text/plain": [
       "PGD - Batches:   0%|          | 0/8 [00:00<?, ?it/s]"
      ]
     },
     "metadata": {},
     "output_type": "display_data"
    },
    {
     "data": {
      "application/vnd.jupyter.widget-view+json": {
       "model_id": "d3100b0ec86a470c970de441ed866d41",
       "version_major": 2,
       "version_minor": 0
      },
      "text/plain": [
       "PGD - Batches:   0%|          | 0/8 [00:00<?, ?it/s]"
      ]
     },
     "metadata": {},
     "output_type": "display_data"
    },
    {
     "data": {
      "application/vnd.jupyter.widget-view+json": {
       "model_id": "f58fbf04175d45abac99253acc5f2cba",
       "version_major": 2,
       "version_minor": 0
      },
      "text/plain": [
       "PGD - Batches:   0%|          | 0/8 [00:00<?, ?it/s]"
      ]
     },
     "metadata": {},
     "output_type": "display_data"
    },
    {
     "data": {
      "application/vnd.jupyter.widget-view+json": {
       "model_id": "cd12f6ea52a3494389e0b15984f77d21",
       "version_major": 2,
       "version_minor": 0
      },
      "text/plain": [
       "PGD - Batches:   0%|          | 0/8 [00:00<?, ?it/s]"
      ]
     },
     "metadata": {},
     "output_type": "display_data"
    },
    {
     "data": {
      "application/vnd.jupyter.widget-view+json": {
       "model_id": "8df8ee1c96814f76a887540baca8f95b",
       "version_major": 2,
       "version_minor": 0
      },
      "text/plain": [
       "PGD - Batches:   0%|          | 0/8 [00:00<?, ?it/s]"
      ]
     },
     "metadata": {},
     "output_type": "display_data"
    },
    {
     "data": {
      "application/vnd.jupyter.widget-view+json": {
       "model_id": "12f5956a205b4b088e3dca8301d1f608",
       "version_major": 2,
       "version_minor": 0
      },
      "text/plain": [
       "PGD - Batches:   0%|          | 0/8 [00:00<?, ?it/s]"
      ]
     },
     "metadata": {},
     "output_type": "display_data"
    },
    {
     "data": {
      "application/vnd.jupyter.widget-view+json": {
       "model_id": "aa807b5376a14e5989456a149a8742ed",
       "version_major": 2,
       "version_minor": 0
      },
      "text/plain": [
       "PGD - Batches:   0%|          | 0/8 [00:00<?, ?it/s]"
      ]
     },
     "metadata": {},
     "output_type": "display_data"
    },
    {
     "data": {
      "application/vnd.jupyter.widget-view+json": {
       "model_id": "938cd67b6b584fccbd67b8b64dcf1573",
       "version_major": 2,
       "version_minor": 0
      },
      "text/plain": [
       "PGD - Batches:   0%|          | 0/8 [00:00<?, ?it/s]"
      ]
     },
     "metadata": {},
     "output_type": "display_data"
    },
    {
     "data": {
      "application/vnd.jupyter.widget-view+json": {
       "model_id": "f6f12b97799944dc98ca243363b8ccc2",
       "version_major": 2,
       "version_minor": 0
      },
      "text/plain": [
       "PGD - Batches:   0%|          | 0/8 [00:00<?, ?it/s]"
      ]
     },
     "metadata": {},
     "output_type": "display_data"
    },
    {
     "data": {
      "application/vnd.jupyter.widget-view+json": {
       "model_id": "cd20fcd7747e4be1a36d3c2aa9233ff8",
       "version_major": 2,
       "version_minor": 0
      },
      "text/plain": [
       "PGD - Batches:   0%|          | 0/8 [00:00<?, ?it/s]"
      ]
     },
     "metadata": {},
     "output_type": "display_data"
    },
    {
     "data": {
      "application/vnd.jupyter.widget-view+json": {
       "model_id": "a5299dc7d4dd463db6a1fda9445b21af",
       "version_major": 2,
       "version_minor": 0
      },
      "text/plain": [
       "PGD - Batches:   0%|          | 0/8 [00:00<?, ?it/s]"
      ]
     },
     "metadata": {},
     "output_type": "display_data"
    },
    {
     "data": {
      "application/vnd.jupyter.widget-view+json": {
       "model_id": "8f5d73ecf9444c249396b34c19358146",
       "version_major": 2,
       "version_minor": 0
      },
      "text/plain": [
       "PGD - Batches:   0%|          | 0/8 [00:00<?, ?it/s]"
      ]
     },
     "metadata": {},
     "output_type": "display_data"
    },
    {
     "data": {
      "application/vnd.jupyter.widget-view+json": {
       "model_id": "dd35632aed644843a75e0c8fb01d039f",
       "version_major": 2,
       "version_minor": 0
      },
      "text/plain": [
       "PGD - Batches:   0%|          | 0/8 [00:00<?, ?it/s]"
      ]
     },
     "metadata": {},
     "output_type": "display_data"
    },
    {
     "data": {
      "application/vnd.jupyter.widget-view+json": {
       "model_id": "b8da19f8f5dd4f5182798bbc62fb2307",
       "version_major": 2,
       "version_minor": 0
      },
      "text/plain": [
       "PGD - Batches:   0%|          | 0/8 [00:00<?, ?it/s]"
      ]
     },
     "metadata": {},
     "output_type": "display_data"
    },
    {
     "data": {
      "application/vnd.jupyter.widget-view+json": {
       "model_id": "3a3d24c29922492cb995d22ebc23423b",
       "version_major": 2,
       "version_minor": 0
      },
      "text/plain": [
       "PGD - Batches:   0%|          | 0/8 [00:00<?, ?it/s]"
      ]
     },
     "metadata": {},
     "output_type": "display_data"
    },
    {
     "data": {
      "application/vnd.jupyter.widget-view+json": {
       "model_id": "9545dd43704f4b88bf4d499a7855e158",
       "version_major": 2,
       "version_minor": 0
      },
      "text/plain": [
       "PGD - Batches:   0%|          | 0/8 [00:00<?, ?it/s]"
      ]
     },
     "metadata": {},
     "output_type": "display_data"
    },
    {
     "data": {
      "application/vnd.jupyter.widget-view+json": {
       "model_id": "504df115daa14d73aaff4c04a0576252",
       "version_major": 2,
       "version_minor": 0
      },
      "text/plain": [
       "PGD - Batches:   0%|          | 0/8 [00:00<?, ?it/s]"
      ]
     },
     "metadata": {},
     "output_type": "display_data"
    },
    {
     "data": {
      "application/vnd.jupyter.widget-view+json": {
       "model_id": "623e4f07569040129bae3fcbe271de6e",
       "version_major": 2,
       "version_minor": 0
      },
      "text/plain": [
       "PGD - Batches:   0%|          | 0/8 [00:00<?, ?it/s]"
      ]
     },
     "metadata": {},
     "output_type": "display_data"
    },
    {
     "data": {
      "application/vnd.jupyter.widget-view+json": {
       "model_id": "c5095cb0ffe545fd997a7ce832e81632",
       "version_major": 2,
       "version_minor": 0
      },
      "text/plain": [
       "PGD - Batches:   0%|          | 0/8 [00:00<?, ?it/s]"
      ]
     },
     "metadata": {},
     "output_type": "display_data"
    },
    {
     "data": {
      "application/vnd.jupyter.widget-view+json": {
       "model_id": "6b5b934c26494ff2abb99bf74b244d63",
       "version_major": 2,
       "version_minor": 0
      },
      "text/plain": [
       "PGD - Batches:   0%|          | 0/8 [00:00<?, ?it/s]"
      ]
     },
     "metadata": {},
     "output_type": "display_data"
    },
    {
     "data": {
      "application/vnd.jupyter.widget-view+json": {
       "model_id": "53a850b54cc44cd4a720c2ffd031b789",
       "version_major": 2,
       "version_minor": 0
      },
      "text/plain": [
       "PGD - Batches:   0%|          | 0/8 [00:00<?, ?it/s]"
      ]
     },
     "metadata": {},
     "output_type": "display_data"
    },
    {
     "data": {
      "application/vnd.jupyter.widget-view+json": {
       "model_id": "51890538b2264614b4760a394daa622b",
       "version_major": 2,
       "version_minor": 0
      },
      "text/plain": [
       "PGD - Batches:   0%|          | 0/8 [00:00<?, ?it/s]"
      ]
     },
     "metadata": {},
     "output_type": "display_data"
    },
    {
     "data": {
      "application/vnd.jupyter.widget-view+json": {
       "model_id": "9d56448b89d244e0883b3451dcea1d06",
       "version_major": 2,
       "version_minor": 0
      },
      "text/plain": [
       "PGD - Batches:   0%|          | 0/8 [00:00<?, ?it/s]"
      ]
     },
     "metadata": {},
     "output_type": "display_data"
    },
    {
     "data": {
      "application/vnd.jupyter.widget-view+json": {
       "model_id": "935a5bcfa8864a2baf5fc4eaeca2bbb1",
       "version_major": 2,
       "version_minor": 0
      },
      "text/plain": [
       "PGD - Batches:   0%|          | 0/8 [00:00<?, ?it/s]"
      ]
     },
     "metadata": {},
     "output_type": "display_data"
    },
    {
     "data": {
      "application/vnd.jupyter.widget-view+json": {
       "model_id": "6f7a17bde6504d0dbe64eccf4baa331e",
       "version_major": 2,
       "version_minor": 0
      },
      "text/plain": [
       "PGD - Batches:   0%|          | 0/8 [00:00<?, ?it/s]"
      ]
     },
     "metadata": {},
     "output_type": "display_data"
    },
    {
     "data": {
      "application/vnd.jupyter.widget-view+json": {
       "model_id": "eed1186cea994edf84e9a97e98911112",
       "version_major": 2,
       "version_minor": 0
      },
      "text/plain": [
       "PGD - Batches:   0%|          | 0/8 [00:00<?, ?it/s]"
      ]
     },
     "metadata": {},
     "output_type": "display_data"
    },
    {
     "data": {
      "application/vnd.jupyter.widget-view+json": {
       "model_id": "3d3e453085764507a562aa9ea51ab7a5",
       "version_major": 2,
       "version_minor": 0
      },
      "text/plain": [
       "PGD - Batches:   0%|          | 0/8 [00:00<?, ?it/s]"
      ]
     },
     "metadata": {},
     "output_type": "display_data"
    },
    {
     "data": {
      "application/vnd.jupyter.widget-view+json": {
       "model_id": "52af901d6bc64a1c8c67c56aa15f6943",
       "version_major": 2,
       "version_minor": 0
      },
      "text/plain": [
       "PGD - Batches:   0%|          | 0/8 [00:00<?, ?it/s]"
      ]
     },
     "metadata": {},
     "output_type": "display_data"
    },
    {
     "data": {
      "application/vnd.jupyter.widget-view+json": {
       "model_id": "19c49a243a0b47f28f4ab29cd51e771a",
       "version_major": 2,
       "version_minor": 0
      },
      "text/plain": [
       "PGD - Batches:   0%|          | 0/8 [00:00<?, ?it/s]"
      ]
     },
     "metadata": {},
     "output_type": "display_data"
    },
    {
     "data": {
      "application/vnd.jupyter.widget-view+json": {
       "model_id": "0199e30ef3044f7aa0ea03e939ba40ee",
       "version_major": 2,
       "version_minor": 0
      },
      "text/plain": [
       "PGD - Batches:   0%|          | 0/8 [00:00<?, ?it/s]"
      ]
     },
     "metadata": {},
     "output_type": "display_data"
    },
    {
     "data": {
      "application/vnd.jupyter.widget-view+json": {
       "model_id": "d605a1a7ad154102aa4040b0aa96fdd8",
       "version_major": 2,
       "version_minor": 0
      },
      "text/plain": [
       "PGD - Batches:   0%|          | 0/8 [00:00<?, ?it/s]"
      ]
     },
     "metadata": {},
     "output_type": "display_data"
    },
    {
     "data": {
      "application/vnd.jupyter.widget-view+json": {
       "model_id": "5fae111a50d24d708992989a4bbfe301",
       "version_major": 2,
       "version_minor": 0
      },
      "text/plain": [
       "PGD - Batches:   0%|          | 0/8 [00:00<?, ?it/s]"
      ]
     },
     "metadata": {},
     "output_type": "display_data"
    },
    {
     "data": {
      "application/vnd.jupyter.widget-view+json": {
       "model_id": "3eb4fece340145cdb5d894a2e9bba85e",
       "version_major": 2,
       "version_minor": 0
      },
      "text/plain": [
       "PGD - Batches:   0%|          | 0/8 [00:00<?, ?it/s]"
      ]
     },
     "metadata": {},
     "output_type": "display_data"
    },
    {
     "data": {
      "application/vnd.jupyter.widget-view+json": {
       "model_id": "ba383a431b0e4e779fe1b8593992fec7",
       "version_major": 2,
       "version_minor": 0
      },
      "text/plain": [
       "PGD - Batches:   0%|          | 0/8 [00:00<?, ?it/s]"
      ]
     },
     "metadata": {},
     "output_type": "display_data"
    },
    {
     "data": {
      "application/vnd.jupyter.widget-view+json": {
       "model_id": "3cce907e4ddb4f0289ae844b92141b5f",
       "version_major": 2,
       "version_minor": 0
      },
      "text/plain": [
       "PGD - Batches:   0%|          | 0/8 [00:00<?, ?it/s]"
      ]
     },
     "metadata": {},
     "output_type": "display_data"
    },
    {
     "data": {
      "application/vnd.jupyter.widget-view+json": {
       "model_id": "7d1439f3e1884581bee2c745d3bb1f6c",
       "version_major": 2,
       "version_minor": 0
      },
      "text/plain": [
       "PGD - Batches:   0%|          | 0/8 [00:00<?, ?it/s]"
      ]
     },
     "metadata": {},
     "output_type": "display_data"
    },
    {
     "data": {
      "application/vnd.jupyter.widget-view+json": {
       "model_id": "f55017bd24144e3bb6791f0bd1e18996",
       "version_major": 2,
       "version_minor": 0
      },
      "text/plain": [
       "PGD - Batches:   0%|          | 0/8 [00:00<?, ?it/s]"
      ]
     },
     "metadata": {},
     "output_type": "display_data"
    },
    {
     "data": {
      "application/vnd.jupyter.widget-view+json": {
       "model_id": "8c22e121d7a94788a76f561d5a6543f5",
       "version_major": 2,
       "version_minor": 0
      },
      "text/plain": [
       "PGD - Batches:   0%|          | 0/8 [00:00<?, ?it/s]"
      ]
     },
     "metadata": {},
     "output_type": "display_data"
    },
    {
     "data": {
      "application/vnd.jupyter.widget-view+json": {
       "model_id": "04691379d0a842c98fb38a8dce585012",
       "version_major": 2,
       "version_minor": 0
      },
      "text/plain": [
       "PGD - Batches:   0%|          | 0/8 [00:00<?, ?it/s]"
      ]
     },
     "metadata": {},
     "output_type": "display_data"
    },
    {
     "data": {
      "application/vnd.jupyter.widget-view+json": {
       "model_id": "c288e699e2df448dbcb839064ebc74fe",
       "version_major": 2,
       "version_minor": 0
      },
      "text/plain": [
       "PGD - Batches:   0%|          | 0/6 [00:00<?, ?it/s]"
      ]
     },
     "metadata": {},
     "output_type": "display_data"
    },
    {
     "name": "stdout",
     "output_type": "stream",
     "text": [
      "🔥 Accuracy under PGD attack: 31.80%\n"
     ]
    }
   ],
   "source": [
    "from art.attacks.evasion import FastGradientMethod, ProjectedGradientDescent\n",
    "from art.estimators.classification import PyTorchClassifier\n",
    "import torch.nn.functional as F\n",
    "\n",
    "# Убедимся, что модель в режиме инференса\n",
    "model.eval()\n",
    "\n",
    "# 1. Точность на чистых данных\n",
    "correct = 0\n",
    "total = 0\n",
    "\n",
    "with torch.no_grad():\n",
    "    for images, labels in test_loader:\n",
    "        images, labels = images.to(device), labels.to(device)\n",
    "        outputs = model(images)\n",
    "        preds = outputs.argmax(dim=1)\n",
    "        correct += (preds == labels).sum().item()\n",
    "        total += labels.size(0)\n",
    "\n",
    "acc_clean = 100.0 * correct / total\n",
    "print(f\"🎯 Accuracy on clean test set: {acc_clean:.2f}%\")\n",
    "\n",
    "# 2. Генерация adversarial атак (по батчам)\n",
    "def evaluate_adversarial(attack):\n",
    "    correct = 0\n",
    "    total = 0\n",
    "    model.eval()\n",
    "\n",
    "    for images, labels in test_loader:\n",
    "        images, labels = images.to(device), labels.to(device)\n",
    "\n",
    "        # Переводим в numpy и атакуем\n",
    "        adv_images = attack.generate(x=images.detach().cpu().numpy())\n",
    "\n",
    "        # Переводим обратно в тензор\n",
    "        adv_images = torch.tensor(adv_images).to(device).float()\n",
    "\n",
    "        with torch.no_grad():\n",
    "            outputs = model(adv_images)\n",
    "            preds = outputs.argmax(dim=1)\n",
    "            correct += (preds == labels).sum().item()\n",
    "            total += labels.size(0)\n",
    "\n",
    "    return 100.0 * correct / total\n",
    "\n",
    "# 3. FGSM\n",
    "fgsm = FastGradientMethod(estimator=classifier, eps=0.03)\n",
    "acc_fgsm = evaluate_adversarial(fgsm)\n",
    "print(f\"⚠️ Accuracy under FGSM attack: {acc_fgsm:.2f}%\")\n",
    "\n",
    "# 4. PGD\n",
    "pgd = ProjectedGradientDescent(estimator=classifier, eps=0.03, eps_step=0.007, max_iter=40)\n",
    "acc_pgd = evaluate_adversarial(pgd)\n",
    "print(f\"🔥 Accuracy under PGD attack: {acc_pgd:.2f}%\")\n"
   ]
  },
  {
   "cell_type": "markdown",
   "metadata": {
    "id": "3UBGN-Jkq2nL"
   },
   "source": [
    "From the results, we can see that the accuracy has decreased on both normal and attacked images. This may be due to the fact that I trained on a subset of 79 values (instead of the full dataset as in the previous training), with a batch size of 256 (instead of 128). However, training would have taken approximately 5 hours if I had used the full dataset."
   ]
  },
  {
   "cell_type": "markdown",
   "metadata": {
    "id": "K8U8TbSMrX88"
   },
   "source": [
    "It is also worth considering the following factors:\n",
    "\n",
    "During adversarial training, the model learns to be more resistant to attacks, but at the same time, it loses some of its accuracy on regular data.\n",
    "In other words, improving resistance often comes at the cost of reducing pure accuracy.\n",
    "\n",
    "**The complexity of mixed adversarial training**\n",
    "Training on two types of attacks (FGSM and PGD) simultaneously is more challenging and may require more careful selection of hyperparameters (learning rate, epochs, batch size). Otherwise, the model may get confused or retrain on simpler examples."
   ]
  },
  {
   "cell_type": "markdown",
   "metadata": {
    "id": "Mh_qGviStj5d"
   },
   "source": [
    "The task does not specify whether the model should be able to adapt to one or multiple attacks. Therefore, in this case, the resnet18 model, after being trained on a modified dataset, became more resistant to the PGD attack (with an accuracy that increased from 6.59% to 54.61%)."
   ]
  }
 ],
 "metadata": {
  "accelerator": "GPU",
  "colab": {
   "gpuType": "T4",
   "provenance": []
  },
  "kernelspec": {
   "display_name": "Python 3",
   "name": "python3"
  },
  "language_info": {
   "name": "python"
  }
 },
 "nbformat": 4,
 "nbformat_minor": 0
}
